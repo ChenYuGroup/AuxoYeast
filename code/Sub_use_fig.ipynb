{
 "cells": [
  {
   "cell_type": "code",
   "execution_count": 1,
   "metadata": {},
   "outputs": [],
   "source": [
    "import pandas as pd\n",
    "import numpy as np\n",
    "\n",
    "import matplotlib.pyplot as plt\n",
    "import numpy as np\n",
    "import seaborn as sns"
   ]
  },
  {
   "cell_type": "code",
   "execution_count": 4,
   "metadata": {},
   "outputs": [],
   "source": [
    "m830 = pd.read_excel(\"./M_yeastGEM_v8__46__3__46__0_sub_use.xlsx\", engine='openpyxl')\n",
    "m900 = pd.read_excel(\"./yeastGEM_develop_sub_use.xlsx\", engine='openpyxl')\n",
    "dataset = pd.read_table(\"./Biolog_Substrate.tsv\")"
   ]
  },
  {
   "cell_type": "code",
   "execution_count": 5,
   "metadata": {},
   "outputs": [
    {
     "data": {
      "text/html": [
       "<div>\n",
       "<style scoped>\n",
       "    .dataframe tbody tr th:only-of-type {\n",
       "        vertical-align: middle;\n",
       "    }\n",
       "\n",
       "    .dataframe tbody tr th {\n",
       "        vertical-align: top;\n",
       "    }\n",
       "\n",
       "    .dataframe thead th {\n",
       "        text-align: right;\n",
       "    }\n",
       "</style>\n",
       "<table border=\"1\" class=\"dataframe\">\n",
       "  <thead>\n",
       "    <tr style=\"text-align: right;\">\n",
       "      <th></th>\n",
       "      <th>Unnamed: 0</th>\n",
       "      <th>Name_in_Model</th>\n",
       "      <th>id</th>\n",
       "      <th>Substrate_type</th>\n",
       "      <th>Growth_Biolog</th>\n",
       "      <th>Growth_Model</th>\n",
       "    </tr>\n",
       "  </thead>\n",
       "  <tbody>\n",
       "    <tr>\n",
       "      <th>0</th>\n",
       "      <td>0</td>\n",
       "      <td>(S)-lactate</td>\n",
       "      <td>s_0065[m]</td>\n",
       "      <td>C</td>\n",
       "      <td>G</td>\n",
       "      <td>G</td>\n",
       "    </tr>\n",
       "    <tr>\n",
       "      <th>1</th>\n",
       "      <td>1</td>\n",
       "      <td>(S)-malate</td>\n",
       "      <td>s_0069[p]</td>\n",
       "      <td>C</td>\n",
       "      <td>NG</td>\n",
       "      <td>G</td>\n",
       "    </tr>\n",
       "    <tr>\n",
       "      <th>2</th>\n",
       "      <td>2</td>\n",
       "      <td>2'-deoxyadenosine</td>\n",
       "      <td>s_0133[e]</td>\n",
       "      <td>C</td>\n",
       "      <td>NG</td>\n",
       "      <td>G</td>\n",
       "    </tr>\n",
       "  </tbody>\n",
       "</table>\n",
       "</div>"
      ],
      "text/plain": [
       "   Unnamed: 0      Name_in_Model         id Substrate_type Growth_Biolog  \\\n",
       "0           0        (S)-lactate  s_0065[m]              C             G   \n",
       "1           1         (S)-malate  s_0069[p]              C            NG   \n",
       "2           2  2'-deoxyadenosine  s_0133[e]              C            NG   \n",
       "\n",
       "  Growth_Model  \n",
       "0            G  \n",
       "1            G  \n",
       "2            G  "
      ]
     },
     "execution_count": 5,
     "metadata": {},
     "output_type": "execute_result"
    }
   ],
   "source": [
    "m830.head(3)"
   ]
  },
  {
   "cell_type": "code",
   "execution_count": 13,
   "metadata": {},
   "outputs": [],
   "source": [
    "def source(data, s):\n",
    "    new_data = pd.DataFrame(columns=data.columns)\n",
    "    for i in data.index:\n",
    "        if data.loc[i, 'Substrate_type'] == s:\n",
    "            new_data.loc[i, :] = data.loc[i, :]\n",
    "    return new_data\n",
    "\n",
    "\n",
    "def check_growth(data):\n",
    "    c = [data.loc[i, 'Growth_Biolog'] == data.loc[i, 'Growth_Model'] for i in data.index]\n",
    "    return np.sum(c)"
   ]
  },
  {
   "cell_type": "code",
   "execution_count": 15,
   "metadata": {},
   "outputs": [
    {
     "name": "stdout",
     "output_type": "stream",
     "text": [
      "In model m830, true prediction using C is 28\n",
      "In model m830, true prediction using N is 48\n",
      "In model m830, true prediction using P is 20\n",
      "In model m830, true prediction using S is 10\n",
      "In model m900, true prediction using C is 29\n",
      "In model m900, true prediction using N is 49\n",
      "In model m900, true prediction using P is 40\n",
      "In model m900, true prediction using S is 9\n"
     ]
    },
    {
     "data": {
      "image/png": "[encoded data removed]",
      "text/plain": [
       "<Figure size 576x432 with 1 Axes>"
      ]
     },
     "metadata": {
      "needs_background": "light"
     },
     "output_type": "display_data"
    }
   ],
   "source": [
    "cover8 = []\n",
    "cover9 = []\n",
    "true8 = []\n",
    "true9 = []\n",
    "for s in ['C', 'N', 'P', 'S']:\n",
    "    new_data = source(m830, s)\n",
    "    ct = check_growth(new_data)\n",
    "    cover = len(new_data.index)\n",
    "    cover8.append(cover)\n",
    "    true8.append(ct)\n",
    "    print('In model m830, true prediction using {} is {}'.format(s, ct))\n",
    "for s in ['C', 'N', 'P', 'S']:\n",
    "    new_data = source(m900, s)\n",
    "    ct = check_growth(new_data)\n",
    "    cover = len(new_data.index)\n",
    "    cover9.append(cover)\n",
    "    true9.append(ct)\n",
    "    print('In model m900, true prediction using {} is {}'.format(s, ct))\n",
    "c = n = p = s = 0\n",
    "for da in dataset.index:\n",
    "    if dataset.loc[da, 'Substrate_type'] == 'C':\n",
    "        c += 1\n",
    "    elif dataset.loc[da, 'Substrate_type'] == 'N':\n",
    "        n += 1\n",
    "    elif dataset.loc[da, 'Substrate_type'] == 'P':\n",
    "        p += 1\n",
    "    elif dataset.loc[da, 'Substrate_type'] == 'S':\n",
    "        s += 1\n",
    "whole = [c, n, p, s]\n",
    "\n",
    "################################################################、\n",
    "# figure\n",
    "\n",
    "sou = ['C', 'N', 'P', 'S']\n",
    "barWidth = 0.25\n",
    "r1 = np.arange(len(sou))\n",
    "r2 = [x + 1.2*barWidth for x in r1]\n",
    "r3 = [x + barWidth for x in r2]\n",
    "bottom9 = []\n",
    "for i in range(len(true9)):\n",
    "        sum = true9[i] + cover9[i]\n",
    "        bottom9.append(sum)\n",
    "bottom8 = []\n",
    "for i in range(len(true9)):\n",
    "        sum = true8[i] + cover8[i]\n",
    "        bottom8.append(sum)\n",
    "plt.figure(figsize=(8, 6))\n",
    "plt.axes().set_facecolor('white')\n",
    "# plt.bar(r1, true9, width=barWidth, color='#6f9bc6', edgecolor='Black', label='Truly predicted by Yeast 9')\n",
    "# plt.bar(r2, true8, width=barWidth, color='#f3993a', edgecolor='Black', label='Truly predicted by Yeast 8.3')\n",
    "plt.bar(r2, true9, width=barWidth, color='#6f9bc6', edgecolor='Black', label='Truly predicted by Yeast 9')\n",
    "plt.bar(r1, true8, width=barWidth, color='#f3993a', edgecolor='Black', label='Truly predicted by Yeast 8.3')\n",
    "\n",
    "# plt.bar(r1, cover9, width=barWidth, bottom=true9, color='#a4d4b0', edgecolor='white', label='substrates coverd by Yeast9')\n",
    "# plt.bar(r2, cover8, width=barWidth, bottom=true8, color='#f6b683', edgecolor='white', label='substrates coverd by Yeast8')\n",
    "#\n",
    "# plt.bar(r3, whole, width=barWidth, color='#ddedd7', edgecolor='white', label='whole dataset')\n",
    "font2 = {'family': 'Arial',\n",
    "            'weight': 'normal',\n",
    "            'size': 26,\n",
    "            }\n",
    "font3 = {'family': 'Arial',\n",
    "            'weight': 'normal',\n",
    "            'size': 16,\n",
    "            }\n",
    "\n",
    "plt.ylabel('Substrate Number', fontdict=font2)\n",
    "plt.xticks([r + 1.2 *barWidth/2 for r in range(len(sou))],\n",
    "            ['Carbon', 'Nitrogen', 'Phosphorus', 'Sulfur'],\n",
    "            fontproperties='Arial', size=26)\n",
    "plt.yticks(np.arange(0, 55, 10), fontproperties='Arial', size=28)\n",
    "plt.tick_params(top=False, bottom=True, left=True, right=False)\n",
    "plt.legend(prop=font3)\n",
    "plt.tight_layout()\n",
    "plt.savefig('sub_use.tif', dpi=600)\n",
    "plt.show()\n"
   ]
  },
  {
   "cell_type": "code",
   "execution_count": null,
   "metadata": {},
   "outputs": [],
   "source": []
  },
  {
   "cell_type": "code",
   "execution_count": 12,
   "metadata": {},
   "outputs": [
    {
     "name": "stdout",
     "output_type": "stream",
     "text": [
      "^C\n"
     ]
    }
   ],
   "source": [
    "!pip uninstall xlrd"
   ]
  },
  {
   "cell_type": "code",
   "execution_count": null,
   "metadata": {},
   "outputs": [
    {
     "name": "stdout",
     "output_type": "stream",
     "text": [
      "# packages in environment at C:\\Users\\13293\\AppData\\Local\\conda\\conda\\envs\\yeastGEM:\n",
      "#\n",
      "# Name                    Version                   Build  Channel\n",
      "backcall                  0.2.0              pyhd3eb1b0_0  \n",
      "certifi                   2021.5.30        py36haa95532_0  \n",
      "colorama                  0.4.4              pyhd3eb1b0_0  \n",
      "cycler                    0.11.0                    <pip>\n",
      "decorator                 5.1.1              pyhd3eb1b0_0  \n",
      "entrypoints               0.3                      py36_0  \n",
      "et-xmlfile                1.1.0                     <pip>\n",
      "ipykernel                 5.3.4            py36h5ca1d4c_0  \n",
      "ipython                   7.16.1           py36h5ca1d4c_0  \n",
      "ipython_genutils          0.2.0              pyhd3eb1b0_1  \n",
      "jedi                      0.17.0                   py36_0  \n",
      "jupyter_client            7.1.2              pyhd3eb1b0_0  \n",
      "jupyter_core              4.8.1            py36haa95532_0  \n",
      "kiwisolver                1.3.1                     <pip>\n",
      "matplotlib                3.3.4                     <pip>\n",
      "nest-asyncio              1.5.1              pyhd3eb1b0_0  \n",
      "numpy                     1.19.5                    <pip>\n",
      "openpyxl                  3.1.2                     <pip>\n",
      "pandas                    1.1.5                     <pip>\n",
      "parso                     0.8.3              pyhd3eb1b0_0  \n",
      "pickleshare               0.7.5           pyhd3eb1b0_1003  \n",
      "Pillow                    8.4.0                     <pip>\n",
      "pip                       21.2.2           py36haa95532_0  \n",
      "prompt-toolkit            3.0.20             pyhd3eb1b0_0  \n",
      "pygments                  2.11.2             pyhd3eb1b0_0  \n",
      "pyparsing                 3.1.1                     <pip>\n",
      "python                    3.6.13               h3758d61_0  \n",
      "python-dateutil           2.8.2              pyhd3eb1b0_0  \n",
      "python-dateutil           2.9.0.post0               <pip>\n",
      "pytz                      2024.1                    <pip>\n",
      "pywin32                   228              py36hbaba5e8_1  \n",
      "pyzmq                     22.2.1           py36hd77b12b_1  \n",
      "setuptools                58.0.4           py36haa95532_0  \n",
      "six                       1.16.0             pyhd3eb1b0_1  \n",
      "sqlite                    3.41.2               h2bbff1b_0  \n",
      "tornado                   6.1              py36h2bbff1b_0  \n",
      "traitlets                 4.3.3            py36haa95532_0  \n",
      "vc                        14.2                 h21ff451_1  \n",
      "vs2015_runtime            14.27.29016          h5e58377_2  \n",
      "wcwidth                   0.2.5              pyhd3eb1b0_0  \n",
      "wheel                     0.37.1             pyhd3eb1b0_0  \n",
      "wincertstore              0.2              py36h7fe50ca_0  \n",
      "xlrd                      2.0.1                     <pip>\n"
     ]
    }
   ],
   "source": [
    "!conda list"
   ]
  }
 ],
 "metadata": {
  "kernelspec": {
   "display_name": "yeastGEM",
   "language": "python",
   "name": "python3"
  },
  "language_info": {
   "codemirror_mode": {
    "name": "ipython",
    "version": 3
   },
   "file_extension": ".py",
   "mimetype": "text/x-python",
   "name": "python",
   "nbconvert_exporter": "python",
   "pygments_lexer": "ipython3",
   "version": "3.6.13"
  }
 },
 "nbformat": 4,
 "nbformat_minor": 2
}
