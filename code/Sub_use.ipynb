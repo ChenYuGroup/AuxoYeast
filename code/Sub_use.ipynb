{
 "cells": [
  {
   "cell_type": "code",
   "execution_count": 8,
   "metadata": {},
   "outputs": [],
   "source": [
    "import pandas as pd\n",
    "import cobra\n",
    "import logging"
   ]
  },
  {
   "cell_type": "code",
   "execution_count": 9,
   "metadata": {},
   "outputs": [],
   "source": [
    "def change_medium(model, sub_type, sub):\n",
    "    '''\n",
    "        {'r_1714'}; % D-glucose exchange\n",
    "        {'r_1654'}; % ammonium exchange\n",
    "        {'r_2005'}; % phosphate exchange\n",
    "        {'r_2060'}; % phosphate exchange\n",
    "    '''\n",
    "    model_test = model.copy()\n",
    "    medium = model_test.medium\n",
    "    medium[sub.id] = 10.0\n",
    "    if sub_type == 'C':\n",
    "        medium['r_1714'] = 0.0\n",
    "    elif sub_type == 'N':\n",
    "        medium['r_1654'] = 0.0\n",
    "    elif sub_type == 'P':\n",
    "        medium['r_2005'] = 0.0\n",
    "    elif sub_type == 'S':\n",
    "        medium['r_2060'] = 0.0\n",
    "    model_test.medium = medium\n",
    "    return model_test"
   ]
  },
  {
   "cell_type": "code",
   "execution_count": 10,
   "metadata": {},
   "outputs": [],
   "source": [
    "def add_exchange(model, metid):\n",
    "    model_test = model.copy()\n",
    "    try:\n",
    "        rxn = model_test.add_boundary(model_test.metabolites.get_by_id(metid))\n",
    "        logging.info('add {}'.format(rxn.reaction))\n",
    "    except ValueError:\n",
    "        met = model_test.metabolites.get_by_id(metid)\n",
    "        print(metid)\n",
    "        met.compartment = 'e'\n",
    "        model_test.add_metabolites(met)\n",
    "        rxn = model_test.add_boundary(met, type=\"exchange\")\n",
    "        logging.info('add {}'.format(rxn.reaction))\n",
    "    return model_test, rxn"
   ]
  },
  {
   "cell_type": "code",
   "execution_count": 11,
   "metadata": {},
   "outputs": [],
   "source": [
    "def simu(model):\n",
    "    sol = model.optimize()\n",
    "    if sol.objective_value > 1e-6:\n",
    "        gng = 'G'\n",
    "    else:\n",
    "        gng = 'NG'\n",
    "    return gng\n",
    "\n",
    "\n",
    "logging.basicConfig(level=logging.DEBUG, format='%(asctime)s - %(filename)s[line:%(lineno)d] - %(levelname)s: %(message)s')\n",
    "biolog = pd.read_table('./Biolog_Substrate.tsv')"
   ]
  },
  {
   "cell_type": "code",
   "execution_count": 12,
   "metadata": {},
   "outputs": [
    {
     "name": "stderr",
     "output_type": "stream",
     "text": [
      "2024-05-24 15:09:10,074 - model.py[line:209] - INFO: The current solver interface glpk doesn't support setting the optimality tolerance.\n",
      "2024-05-24 15:09:10,093 - sbml.py[line:1672] - DEBUG: Unexpected content format 'Saccharomyces cerevisiae - strain S288C'.\n",
      "2024-05-24 15:09:17,990 - model.py[line:209] - INFO: The current solver interface glpk doesn't support setting the optimality tolerance.\n",
      "2024-05-24 15:09:18,522 - boundary_types.py[line:68] - INFO: Compartment `e` sounds like an external compartment. Using this one without counting boundary reactions.\n",
      "2024-05-24 15:09:18,522 - boundary_types.py[line:68] - INFO: Compartment `e` sounds like an external compartment. Using this one without counting boundary reactions.\n",
      "2024-05-24 15:09:18,522 - 3936220034.py[line:12] - INFO: add s_0065 <=> \n",
      "2024-05-24 15:09:18,537 - model.py[line:209] - INFO: The current solver interface glpk doesn't support setting the optimality tolerance.\n"
     ]
    },
    {
     "name": "stdout",
     "output_type": "stream",
     "text": [
      "s_0065\n"
     ]
    },
    {
     "name": "stderr",
     "output_type": "stream",
     "text": [
      "2024-05-24 15:09:19,056 - boundary_types.py[line:68] - INFO: Compartment `e` sounds like an external compartment. Using this one without counting boundary reactions.\n",
      "2024-05-24 15:09:19,071 - boundary_types.py[line:68] - INFO: Compartment `e` sounds like an external compartment. Using this one without counting boundary reactions.\n",
      "2024-05-24 15:09:19,703 - 3888050103.py[line:20] - INFO: (S)-lactate: G\n",
      "2024-05-24 15:09:19,703 - model.py[line:209] - INFO: The current solver interface glpk doesn't support setting the optimality tolerance.\n",
      "2024-05-24 15:09:20,228 - boundary_types.py[line:68] - INFO: Compartment `e` sounds like an external compartment. Using this one without counting boundary reactions.\n",
      "2024-05-24 15:09:20,234 - boundary_types.py[line:68] - INFO: Compartment `e` sounds like an external compartment. Using this one without counting boundary reactions.\n",
      "2024-05-24 15:09:20,236 - 3936220034.py[line:12] - INFO: add s_0069 <=> \n",
      "2024-05-24 15:09:20,237 - model.py[line:209] - INFO: The current solver interface glpk doesn't support setting the optimality tolerance.\n"
     ]
    },
    {
     "name": "stdout",
     "output_type": "stream",
     "text": [
      "s_0069\n"
     ]
    },
    {
     "name": "stderr",
     "output_type": "stream",
     "text": [
      "2024-05-24 15:09:20,790 - boundary_types.py[line:68] - INFO: Compartment `e` sounds like an external compartment. Using this one without counting boundary reactions.\n",
      "2024-05-24 15:09:20,810 - boundary_types.py[line:68] - INFO: Compartment `e` sounds like an external compartment. Using this one without counting boundary reactions.\n",
      "2024-05-24 15:09:21,391 - 3888050103.py[line:20] - INFO: (S)-malate: G\n",
      "2024-05-24 15:09:21,391 - model.py[line:209] - INFO: The current solver interface glpk doesn't support setting the optimality tolerance.\n",
      "2024-05-24 15:09:21,910 - boundary_types.py[line:68] - INFO: Compartment `e` sounds like an external compartment. Using this one without counting boundary reactions.\n",
      "2024-05-24 15:09:21,910 - 3936220034.py[line:5] - INFO: add s_4161 <=> \n",
      "2024-05-24 15:09:21,910 - model.py[line:209] - INFO: The current solver interface glpk doesn't support setting the optimality tolerance.\n",
      "2024-05-24 15:09:22,391 - boundary_types.py[line:68] - INFO: Compartment `e` sounds like an external compartment. Using this one without counting boundary reactions.\n",
      "2024-05-24 15:09:22,406 - boundary_types.py[line:68] - INFO: Compartment `e` sounds like an external compartment. Using this one without counting boundary reactions.\n",
      "2024-05-24 15:09:22,992 - 3888050103.py[line:20] - INFO: 2',3'-cyclic AMP: G\n",
      "2024-05-24 15:09:22,992 - model.py[line:209] - INFO: The current solver interface glpk doesn't support setting the optimality tolerance.\n",
      "2024-05-24 15:09:23,503 - boundary_types.py[line:68] - INFO: Compartment `e` sounds like an external compartment. Using this one without counting boundary reactions.\n",
      "2024-05-24 15:09:23,509 - 3936220034.py[line:5] - INFO: add s_0133 <=> \n",
      "2024-05-24 15:09:23,510 - model.py[line:209] - INFO: The current solver interface glpk doesn't support setting the optimality tolerance.\n",
      "2024-05-24 15:09:24,023 - boundary_types.py[line:68] - INFO: Compartment `e` sounds like an external compartment. Using this one without counting boundary reactions.\n",
      "2024-05-24 15:09:24,042 - boundary_types.py[line:68] - INFO: Compartment `e` sounds like an external compartment. Using this one without counting boundary reactions.\n",
      "2024-05-24 15:09:24,656 - glpk_interface.py[line:689] - DEBUG: Status undefined. GLPK status code returned by glp_simplex was 10\n",
      "c:\\Users\\13293\\APP\\anaconda\\envs\\yeast9\\lib\\site-packages\\cobra\\util\\solver.py:554: UserWarning: Solver status is 'infeasible'.\n",
      "  warn(f\"Solver status is '{status}'.\", UserWarning)\n",
      "2024-05-24 15:09:24,694 - 3888050103.py[line:20] - INFO: 2'-deoxyadenosine: NG\n",
      "2024-05-24 15:09:24,694 - model.py[line:209] - INFO: The current solver interface glpk doesn't support setting the optimality tolerance.\n",
      "2024-05-24 15:09:25,223 - boundary_types.py[line:68] - INFO: Compartment `e` sounds like an external compartment. Using this one without counting boundary reactions.\n",
      "2024-05-24 15:09:25,223 - 3936220034.py[line:5] - INFO: add s_4165 <=> \n",
      "2024-05-24 15:09:25,223 - model.py[line:209] - INFO: The current solver interface glpk doesn't support setting the optimality tolerance.\n",
      "2024-05-24 15:09:25,726 - boundary_types.py[line:68] - INFO: Compartment `e` sounds like an external compartment. Using this one without counting boundary reactions.\n",
      "2024-05-24 15:09:25,740 - boundary_types.py[line:68] - INFO: Compartment `e` sounds like an external compartment. Using this one without counting boundary reactions.\n",
      "2024-05-24 15:09:26,297 - glpk_interface.py[line:689] - DEBUG: Status undefined. GLPK status code returned by glp_simplex was 10\n",
      "c:\\Users\\13293\\APP\\anaconda\\envs\\yeast9\\lib\\site-packages\\cobra\\util\\solver.py:554: UserWarning: Solver status is 'infeasible'.\n",
      "  warn(f\"Solver status is '{status}'.\", UserWarning)\n",
      "2024-05-24 15:09:26,322 - 3888050103.py[line:20] - INFO: 2-deoxy-D-ribose: NG\n",
      "2024-05-24 15:09:26,322 - model.py[line:209] - INFO: The current solver interface glpk doesn't support setting the optimality tolerance.\n",
      "2024-05-24 15:09:26,839 - boundary_types.py[line:68] - INFO: Compartment `e` sounds like an external compartment. Using this one without counting boundary reactions.\n",
      "2024-05-24 15:09:26,839 - boundary_types.py[line:68] - INFO: Compartment `e` sounds like an external compartment. Using this one without counting boundary reactions.\n",
      "2024-05-24 15:09:26,839 - 3936220034.py[line:12] - INFO: add s_0179 <=> \n",
      "2024-05-24 15:09:26,839 - model.py[line:209] - INFO: The current solver interface glpk doesn't support setting the optimality tolerance.\n"
     ]
    },
    {
     "name": "stdout",
     "output_type": "stream",
     "text": [
      "s_0179\n"
     ]
    },
    {
     "name": "stderr",
     "output_type": "stream",
     "text": [
      "2024-05-24 15:09:29,859 - boundary_types.py[line:68] - INFO: Compartment `e` sounds like an external compartment. Using this one without counting boundary reactions.\n",
      "2024-05-24 15:09:29,874 - boundary_types.py[line:68] - INFO: Compartment `e` sounds like an external compartment. Using this one without counting boundary reactions.\n",
      "2024-05-24 15:09:30,438 - 3888050103.py[line:20] - INFO: 2-oxobutanoate: G\n",
      "2024-05-24 15:09:30,454 - model.py[line:209] - INFO: The current solver interface glpk doesn't support setting the optimality tolerance.\n",
      "2024-05-24 15:09:31,072 - boundary_types.py[line:68] - INFO: Compartment `e` sounds like an external compartment. Using this one without counting boundary reactions.\n",
      "2024-05-24 15:09:31,090 - boundary_types.py[line:68] - INFO: Compartment `e` sounds like an external compartment. Using this one without counting boundary reactions.\n",
      "2024-05-24 15:09:31,093 - 3936220034.py[line:12] - INFO: add s_0184 <=> \n",
      "2024-05-24 15:09:31,093 - model.py[line:209] - INFO: The current solver interface glpk doesn't support setting the optimality tolerance.\n"
     ]
    },
    {
     "name": "stdout",
     "output_type": "stream",
     "text": [
      "s_0184\n"
     ]
    },
    {
     "name": "stderr",
     "output_type": "stream",
     "text": [
      "2024-05-24 15:09:31,773 - boundary_types.py[line:68] - INFO: Compartment `e` sounds like an external compartment. Using this one without counting boundary reactions.\n",
      "2024-05-24 15:09:31,807 - boundary_types.py[line:68] - INFO: Compartment `e` sounds like an external compartment. Using this one without counting boundary reactions.\n",
      "2024-05-24 15:09:32,408 - 3888050103.py[line:20] - INFO: 2-oxoglutarate: G\n",
      "2024-05-24 15:09:32,408 - model.py[line:209] - INFO: The current solver interface glpk doesn't support setting the optimality tolerance.\n",
      "2024-05-24 15:09:32,952 - boundary_types.py[line:68] - INFO: Compartment `e` sounds like an external compartment. Using this one without counting boundary reactions.\n",
      "2024-05-24 15:09:32,953 - 3936220034.py[line:5] - INFO: add s_4141 <=> \n",
      "2024-05-24 15:09:32,955 - model.py[line:209] - INFO: The current solver interface glpk doesn't support setting the optimality tolerance.\n",
      "2024-05-24 15:09:33,510 - boundary_types.py[line:68] - INFO: Compartment `e` sounds like an external compartment. Using this one without counting boundary reactions.\n",
      "2024-05-24 15:09:33,540 - boundary_types.py[line:68] - INFO: Compartment `e` sounds like an external compartment. Using this one without counting boundary reactions.\n",
      "2024-05-24 15:09:34,107 - 3888050103.py[line:20] - INFO: 2-phospho-D-glyceric acid: G\n",
      "2024-05-24 15:09:34,110 - model.py[line:209] - INFO: The current solver interface glpk doesn't support setting the optimality tolerance.\n",
      "2024-05-24 15:09:34,656 - boundary_types.py[line:68] - INFO: Compartment `e` sounds like an external compartment. Using this one without counting boundary reactions.\n",
      "2024-05-24 15:09:34,656 - boundary_types.py[line:68] - INFO: Compartment `e` sounds like an external compartment. Using this one without counting boundary reactions.\n",
      "2024-05-24 15:09:34,656 - 3936220034.py[line:12] - INFO: add s_0192 <=> \n",
      "2024-05-24 15:09:34,672 - model.py[line:209] - INFO: The current solver interface glpk doesn't support setting the optimality tolerance.\n"
     ]
    },
    {
     "name": "stdout",
     "output_type": "stream",
     "text": [
      "s_0192\n"
     ]
    },
    {
     "name": "stderr",
     "output_type": "stream",
     "text": [
      "2024-05-24 15:09:35,343 - boundary_types.py[line:68] - INFO: Compartment `e` sounds like an external compartment. Using this one without counting boundary reactions.\n",
      "2024-05-24 15:09:35,375 - boundary_types.py[line:68] - INFO: Compartment `e` sounds like an external compartment. Using this one without counting boundary reactions.\n",
      "2024-05-24 15:09:35,988 - 3888050103.py[line:20] - INFO: 3',5'-cyclic AMP: G\n",
      "2024-05-24 15:09:35,988 - model.py[line:209] - INFO: The current solver interface glpk doesn't support setting the optimality tolerance.\n",
      "2024-05-24 15:09:36,523 - boundary_types.py[line:68] - INFO: Compartment `e` sounds like an external compartment. Using this one without counting boundary reactions.\n",
      "2024-05-24 15:09:36,523 - boundary_types.py[line:68] - INFO: Compartment `e` sounds like an external compartment. Using this one without counting boundary reactions.\n",
      "2024-05-24 15:09:36,523 - 3936220034.py[line:12] - INFO: add s_0193 <=> \n",
      "2024-05-24 15:09:36,539 - model.py[line:209] - INFO: The current solver interface glpk doesn't support setting the optimality tolerance.\n"
     ]
    },
    {
     "name": "stdout",
     "output_type": "stream",
     "text": [
      "s_0193\n"
     ]
    },
    {
     "name": "stderr",
     "output_type": "stream",
     "text": [
      "2024-05-24 15:09:37,071 - boundary_types.py[line:68] - INFO: Compartment `e` sounds like an external compartment. Using this one without counting boundary reactions.\n",
      "2024-05-24 15:09:37,073 - boundary_types.py[line:68] - INFO: Compartment `e` sounds like an external compartment. Using this one without counting boundary reactions.\n",
      "2024-05-24 15:09:37,636 - 3888050103.py[line:20] - INFO: 3',5'-cyclic CMP: G\n",
      "2024-05-24 15:09:37,636 - model.py[line:209] - INFO: The current solver interface glpk doesn't support setting the optimality tolerance.\n",
      "2024-05-24 15:09:38,156 - boundary_types.py[line:68] - INFO: Compartment `e` sounds like an external compartment. Using this one without counting boundary reactions.\n",
      "2024-05-24 15:09:38,156 - boundary_types.py[line:68] - INFO: Compartment `e` sounds like an external compartment. Using this one without counting boundary reactions.\n",
      "2024-05-24 15:09:38,156 - 3936220034.py[line:12] - INFO: add s_0195 <=> \n",
      "2024-05-24 15:09:38,156 - model.py[line:209] - INFO: The current solver interface glpk doesn't support setting the optimality tolerance.\n"
     ]
    },
    {
     "name": "stdout",
     "output_type": "stream",
     "text": [
      "s_0195\n"
     ]
    },
    {
     "name": "stderr",
     "output_type": "stream",
     "text": [
      "2024-05-24 15:09:38,674 - boundary_types.py[line:68] - INFO: Compartment `e` sounds like an external compartment. Using this one without counting boundary reactions.\n",
      "2024-05-24 15:09:38,689 - boundary_types.py[line:68] - INFO: Compartment `e` sounds like an external compartment. Using this one without counting boundary reactions.\n",
      "2024-05-24 15:09:39,172 - 3888050103.py[line:20] - INFO: 3',5'-cyclic GMP: G\n",
      "2024-05-24 15:09:39,172 - model.py[line:209] - INFO: The current solver interface glpk doesn't support setting the optimality tolerance.\n",
      "2024-05-24 15:09:39,691 - boundary_types.py[line:68] - INFO: Compartment `e` sounds like an external compartment. Using this one without counting boundary reactions.\n",
      "2024-05-24 15:09:39,691 - 3936220034.py[line:5] - INFO: add s_4147 <=> \n",
      "2024-05-24 15:09:39,691 - model.py[line:209] - INFO: The current solver interface glpk doesn't support setting the optimality tolerance.\n",
      "2024-05-24 15:09:40,225 - boundary_types.py[line:68] - INFO: Compartment `e` sounds like an external compartment. Using this one without counting boundary reactions.\n",
      "2024-05-24 15:09:40,240 - boundary_types.py[line:68] - INFO: Compartment `e` sounds like an external compartment. Using this one without counting boundary reactions.\n",
      "2024-05-24 15:09:40,984 - 3888050103.py[line:20] - INFO: 3-phospho-serine: G\n",
      "2024-05-24 15:09:40,990 - model.py[line:209] - INFO: The current solver interface glpk doesn't support setting the optimality tolerance.\n",
      "2024-05-24 15:09:41,505 - boundary_types.py[line:68] - INFO: Compartment `e` sounds like an external compartment. Using this one without counting boundary reactions.\n",
      "2024-05-24 15:09:41,505 - 3936220034.py[line:5] - INFO: add s_4142 <=> \n",
      "2024-05-24 15:09:41,505 - model.py[line:209] - INFO: The current solver interface glpk doesn't support setting the optimality tolerance.\n",
      "2024-05-24 15:09:42,455 - boundary_types.py[line:68] - INFO: Compartment `e` sounds like an external compartment. Using this one without counting boundary reactions.\n",
      "2024-05-24 15:09:42,510 - boundary_types.py[line:68] - INFO: Compartment `e` sounds like an external compartment. Using this one without counting boundary reactions.\n",
      "2024-05-24 15:09:43,707 - 3888050103.py[line:20] - INFO: 3-phosphonato-D-glycerate(3-): G\n",
      "2024-05-24 15:09:43,726 - model.py[line:209] - INFO: The current solver interface glpk doesn't support setting the optimality tolerance.\n",
      "2024-05-24 15:09:44,620 - boundary_types.py[line:68] - INFO: Compartment `e` sounds like an external compartment. Using this one without counting boundary reactions.\n",
      "2024-05-24 15:09:44,620 - boundary_types.py[line:68] - INFO: Compartment `e` sounds like an external compartment. Using this one without counting boundary reactions.\n",
      "2024-05-24 15:09:44,620 - 3936220034.py[line:12] - INFO: add s_0287 <=> \n",
      "2024-05-24 15:09:44,628 - model.py[line:209] - INFO: The current solver interface glpk doesn't support setting the optimality tolerance.\n"
     ]
    },
    {
     "name": "stdout",
     "output_type": "stream",
     "text": [
      "s_0287\n"
     ]
    },
    {
     "name": "stderr",
     "output_type": "stream",
     "text": [
      "2024-05-24 15:09:47,222 - boundary_types.py[line:68] - INFO: Compartment `e` sounds like an external compartment. Using this one without counting boundary reactions.\n",
      "2024-05-24 15:09:47,238 - boundary_types.py[line:68] - INFO: Compartment `e` sounds like an external compartment. Using this one without counting boundary reactions.\n",
      "2024-05-24 15:09:47,820 - glpk_interface.py[line:689] - DEBUG: Status undefined. GLPK status code returned by glp_simplex was 10\n",
      "c:\\Users\\13293\\APP\\anaconda\\envs\\yeast9\\lib\\site-packages\\cobra\\util\\solver.py:554: UserWarning: Solver status is 'infeasible'.\n",
      "  warn(f\"Solver status is '{status}'.\", UserWarning)\n",
      "2024-05-24 15:09:47,851 - 3888050103.py[line:20] - INFO: 4-hydroxybenzoate: NG\n",
      "2024-05-24 15:09:47,852 - model.py[line:209] - INFO: The current solver interface glpk doesn't support setting the optimality tolerance.\n",
      "2024-05-24 15:09:48,388 - boundary_types.py[line:68] - INFO: Compartment `e` sounds like an external compartment. Using this one without counting boundary reactions.\n",
      "2024-05-24 15:09:48,388 - 3936220034.py[line:5] - INFO: add s_4155 <=> \n",
      "2024-05-24 15:09:48,388 - model.py[line:209] - INFO: The current solver interface glpk doesn't support setting the optimality tolerance.\n",
      "2024-05-24 15:09:48,905 - boundary_types.py[line:68] - INFO: Compartment `e` sounds like an external compartment. Using this one without counting boundary reactions.\n",
      "2024-05-24 15:09:48,920 - boundary_types.py[line:68] - INFO: Compartment `e` sounds like an external compartment. Using this one without counting boundary reactions.\n",
      "2024-05-24 15:09:49,420 - 3888050103.py[line:20] - INFO: 6-phospho-D-gluconate: G\n",
      "2024-05-24 15:09:49,436 - model.py[line:209] - INFO: The current solver interface glpk doesn't support setting the optimality tolerance.\n",
      "2024-05-24 15:09:49,983 - boundary_types.py[line:68] - INFO: Compartment `e` sounds like an external compartment. Using this one without counting boundary reactions.\n",
      "2024-05-24 15:09:49,983 - 3936220034.py[line:5] - INFO: add s_0358 <=> \n",
      "2024-05-24 15:09:49,983 - model.py[line:209] - INFO: The current solver interface glpk doesn't support setting the optimality tolerance.\n",
      "2024-05-24 15:09:50,572 - boundary_types.py[line:68] - INFO: Compartment `e` sounds like an external compartment. Using this one without counting boundary reactions.\n",
      "2024-05-24 15:09:50,590 - boundary_types.py[line:68] - INFO: Compartment `e` sounds like an external compartment. Using this one without counting boundary reactions.\n",
      "2024-05-24 15:09:50,787 - 3888050103.py[line:20] - INFO: 9H-xanthine: NG\n",
      "2024-05-24 15:09:50,787 - model.py[line:209] - INFO: The current solver interface glpk doesn't support setting the optimality tolerance.\n",
      "2024-05-24 15:09:51,359 - boundary_types.py[line:68] - INFO: Compartment `e` sounds like an external compartment. Using this one without counting boundary reactions.\n",
      "2024-05-24 15:09:51,359 - boundary_types.py[line:68] - INFO: Compartment `e` sounds like an external compartment. Using this one without counting boundary reactions.\n",
      "2024-05-24 15:09:51,359 - 3936220034.py[line:12] - INFO: add s_0366 <=> \n",
      "2024-05-24 15:09:51,359 - model.py[line:209] - INFO: The current solver interface glpk doesn't support setting the optimality tolerance.\n"
     ]
    },
    {
     "name": "stdout",
     "output_type": "stream",
     "text": [
      "s_0366\n"
     ]
    },
    {
     "name": "stderr",
     "output_type": "stream",
     "text": [
      "2024-05-24 15:09:51,990 - boundary_types.py[line:68] - INFO: Compartment `e` sounds like an external compartment. Using this one without counting boundary reactions.\n",
      "2024-05-24 15:09:52,007 - boundary_types.py[line:68] - INFO: Compartment `e` sounds like an external compartment. Using this one without counting boundary reactions.\n",
      "2024-05-24 15:09:52,726 - 3888050103.py[line:20] - INFO: acetate: G\n",
      "2024-05-24 15:09:52,726 - model.py[line:209] - INFO: The current solver interface glpk doesn't support setting the optimality tolerance.\n",
      "2024-05-24 15:09:53,426 - boundary_types.py[line:68] - INFO: Compartment `e` sounds like an external compartment. Using this one without counting boundary reactions.\n",
      "2024-05-24 15:09:53,426 - boundary_types.py[line:68] - INFO: Compartment `e` sounds like an external compartment. Using this one without counting boundary reactions.\n",
      "2024-05-24 15:09:53,440 - 3936220034.py[line:12] - INFO: add s_0366 <=> \n",
      "2024-05-24 15:09:53,441 - model.py[line:209] - INFO: The current solver interface glpk doesn't support setting the optimality tolerance.\n"
     ]
    },
    {
     "name": "stdout",
     "output_type": "stream",
     "text": [
      "s_0366\n"
     ]
    },
    {
     "name": "stderr",
     "output_type": "stream",
     "text": [
      "2024-05-24 15:09:53,991 - boundary_types.py[line:68] - INFO: Compartment `e` sounds like an external compartment. Using this one without counting boundary reactions.\n",
      "2024-05-24 15:09:54,008 - boundary_types.py[line:68] - INFO: Compartment `e` sounds like an external compartment. Using this one without counting boundary reactions.\n",
      "2024-05-24 15:09:54,575 - 3888050103.py[line:20] - INFO: acetate: G\n",
      "2024-05-24 15:09:54,575 - model.py[line:209] - INFO: The current solver interface glpk doesn't support setting the optimality tolerance.\n",
      "2024-05-24 15:09:55,126 - boundary_types.py[line:68] - INFO: Compartment `e` sounds like an external compartment. Using this one without counting boundary reactions.\n",
      "2024-05-24 15:09:55,126 - boundary_types.py[line:68] - INFO: Compartment `e` sounds like an external compartment. Using this one without counting boundary reactions.\n",
      "2024-05-24 15:09:55,126 - 3936220034.py[line:12] - INFO: add s_0385 <=> \n",
      "2024-05-24 15:09:55,126 - model.py[line:209] - INFO: The current solver interface glpk doesn't support setting the optimality tolerance.\n"
     ]
    },
    {
     "name": "stdout",
     "output_type": "stream",
     "text": [
      "s_0385\n"
     ]
    },
    {
     "name": "stderr",
     "output_type": "stream",
     "text": [
      "2024-05-24 15:09:56,060 - boundary_types.py[line:68] - INFO: Compartment `e` sounds like an external compartment. Using this one without counting boundary reactions.\n",
      "2024-05-24 15:09:56,099 - boundary_types.py[line:68] - INFO: Compartment `e` sounds like an external compartment. Using this one without counting boundary reactions.\n",
      "2024-05-24 15:09:57,078 - 3888050103.py[line:20] - INFO: adenine: G\n",
      "2024-05-24 15:09:57,078 - model.py[line:209] - INFO: The current solver interface glpk doesn't support setting the optimality tolerance.\n",
      "2024-05-24 15:09:58,295 - boundary_types.py[line:68] - INFO: Compartment `e` sounds like an external compartment. Using this one without counting boundary reactions.\n",
      "2024-05-24 15:09:58,307 - 3936220034.py[line:5] - INFO: add s_0387 <=> \n",
      "2024-05-24 15:09:58,309 - model.py[line:209] - INFO: The current solver interface glpk doesn't support setting the optimality tolerance.\n",
      "2024-05-24 15:09:59,007 - boundary_types.py[line:68] - INFO: Compartment `e` sounds like an external compartment. Using this one without counting boundary reactions.\n",
      "2024-05-24 15:09:59,029 - boundary_types.py[line:68] - INFO: Compartment `e` sounds like an external compartment. Using this one without counting boundary reactions.\n",
      "2024-05-24 15:09:59,608 - 3888050103.py[line:20] - INFO: adenosine: G\n",
      "2024-05-24 15:09:59,609 - model.py[line:209] - INFO: The current solver interface glpk doesn't support setting the optimality tolerance.\n",
      "2024-05-24 15:10:00,263 - boundary_types.py[line:68] - INFO: Compartment `e` sounds like an external compartment. Using this one without counting boundary reactions.\n",
      "2024-05-24 15:10:00,266 - 3936220034.py[line:5] - INFO: add s_0387 <=> \n",
      "2024-05-24 15:10:00,268 - model.py[line:209] - INFO: The current solver interface glpk doesn't support setting the optimality tolerance.\n",
      "2024-05-24 15:10:00,933 - boundary_types.py[line:68] - INFO: Compartment `e` sounds like an external compartment. Using this one without counting boundary reactions.\n",
      "2024-05-24 15:10:00,957 - boundary_types.py[line:68] - INFO: Compartment `e` sounds like an external compartment. Using this one without counting boundary reactions.\n",
      "2024-05-24 15:10:01,564 - 3888050103.py[line:20] - INFO: adenosine: G\n",
      "2024-05-24 15:10:01,572 - model.py[line:209] - INFO: The current solver interface glpk doesn't support setting the optimality tolerance.\n",
      "2024-05-24 15:10:02,208 - boundary_types.py[line:68] - INFO: Compartment `e` sounds like an external compartment. Using this one without counting boundary reactions.\n",
      "2024-05-24 15:10:02,209 - 3936220034.py[line:5] - INFO: add s_4162 <=> \n",
      "2024-05-24 15:10:02,211 - model.py[line:209] - INFO: The current solver interface glpk doesn't support setting the optimality tolerance.\n",
      "2024-05-24 15:10:02,899 - boundary_types.py[line:68] - INFO: Compartment `e` sounds like an external compartment. Using this one without counting boundary reactions.\n",
      "2024-05-24 15:10:02,930 - boundary_types.py[line:68] - INFO: Compartment `e` sounds like an external compartment. Using this one without counting boundary reactions.\n",
      "2024-05-24 15:10:03,565 - 3888050103.py[line:20] - INFO: adenosine 2'-phosphate: G\n",
      "2024-05-24 15:10:03,566 - model.py[line:209] - INFO: The current solver interface glpk doesn't support setting the optimality tolerance.\n",
      "2024-05-24 15:10:07,413 - boundary_types.py[line:68] - INFO: Compartment `e` sounds like an external compartment. Using this one without counting boundary reactions.\n",
      "2024-05-24 15:10:07,415 - 3936220034.py[line:5] - INFO: add s_0408 <=> \n",
      "2024-05-24 15:10:07,416 - model.py[line:209] - INFO: The current solver interface glpk doesn't support setting the optimality tolerance.\n",
      "2024-05-24 15:10:08,416 - boundary_types.py[line:68] - INFO: Compartment `e` sounds like an external compartment. Using this one without counting boundary reactions.\n",
      "2024-05-24 15:10:08,446 - boundary_types.py[line:68] - INFO: Compartment `e` sounds like an external compartment. Using this one without counting boundary reactions.\n",
      "2024-05-24 15:10:09,293 - 3888050103.py[line:20] - INFO: allantoin: G\n",
      "2024-05-24 15:10:09,295 - model.py[line:209] - INFO: The current solver interface glpk doesn't support setting the optimality tolerance.\n",
      "2024-05-24 15:10:09,905 - boundary_types.py[line:68] - INFO: Compartment `e` sounds like an external compartment. Using this one without counting boundary reactions.\n",
      "2024-05-24 15:10:09,905 - 3936220034.py[line:5] - INFO: add s_0413 <=> \n",
      "2024-05-24 15:10:09,905 - model.py[line:209] - INFO: The current solver interface glpk doesn't support setting the optimality tolerance.\n",
      "2024-05-24 15:10:10,689 - boundary_types.py[line:68] - INFO: Compartment `e` sounds like an external compartment. Using this one without counting boundary reactions.\n",
      "2024-05-24 15:10:10,723 - boundary_types.py[line:68] - INFO: Compartment `e` sounds like an external compartment. Using this one without counting boundary reactions.\n",
      "2024-05-24 15:10:11,223 - 3888050103.py[line:20] - INFO: alpha-D-glucosamine 6-phosphate: G\n",
      "2024-05-24 15:10:11,223 - model.py[line:209] - INFO: The current solver interface glpk doesn't support setting the optimality tolerance.\n",
      "2024-05-24 15:10:11,739 - boundary_types.py[line:68] - INFO: Compartment `e` sounds like an external compartment. Using this one without counting boundary reactions.\n",
      "2024-05-24 15:10:11,739 - boundary_types.py[line:68] - INFO: Compartment `e` sounds like an external compartment. Using this one without counting boundary reactions.\n",
      "2024-05-24 15:10:11,739 - 3936220034.py[line:12] - INFO: add s_0421 <=> \n",
      "2024-05-24 15:10:11,739 - model.py[line:209] - INFO: The current solver interface glpk doesn't support setting the optimality tolerance.\n"
     ]
    },
    {
     "name": "stdout",
     "output_type": "stream",
     "text": [
      "s_0421\n"
     ]
    },
    {
     "name": "stderr",
     "output_type": "stream",
     "text": [
      "2024-05-24 15:10:12,240 - boundary_types.py[line:68] - INFO: Compartment `e` sounds like an external compartment. Using this one without counting boundary reactions.\n",
      "2024-05-24 15:10:12,257 - boundary_types.py[line:68] - INFO: Compartment `e` sounds like an external compartment. Using this one without counting boundary reactions.\n",
      "2024-05-24 15:10:12,810 - 3888050103.py[line:20] - INFO: ammonium: G\n",
      "2024-05-24 15:10:12,810 - model.py[line:209] - INFO: The current solver interface glpk doesn't support setting the optimality tolerance.\n",
      "2024-05-24 15:10:13,374 - boundary_types.py[line:68] - INFO: Compartment `e` sounds like an external compartment. Using this one without counting boundary reactions.\n",
      "2024-05-24 15:10:13,374 - 3936220034.py[line:5] - INFO: add s_4160 <=> \n",
      "2024-05-24 15:10:13,374 - model.py[line:209] - INFO: The current solver interface glpk doesn't support setting the optimality tolerance.\n",
      "2024-05-24 15:10:14,191 - boundary_types.py[line:68] - INFO: Compartment `e` sounds like an external compartment. Using this one without counting boundary reactions.\n",
      "2024-05-24 15:10:14,222 - boundary_types.py[line:68] - INFO: Compartment `e` sounds like an external compartment. Using this one without counting boundary reactions.\n",
      "2024-05-24 15:10:15,095 - 3888050103.py[line:20] - INFO: AMP: G\n",
      "2024-05-24 15:10:15,105 - model.py[line:209] - INFO: The current solver interface glpk doesn't support setting the optimality tolerance.\n",
      "2024-05-24 15:10:15,977 - boundary_types.py[line:68] - INFO: Compartment `e` sounds like an external compartment. Using this one without counting boundary reactions.\n",
      "2024-05-24 15:10:15,977 - 3936220034.py[line:5] - INFO: add s_4146 <=> \n",
      "2024-05-24 15:10:15,977 - model.py[line:209] - INFO: The current solver interface glpk doesn't support setting the optimality tolerance.\n",
      "2024-05-24 15:10:16,730 - boundary_types.py[line:68] - INFO: Compartment `e` sounds like an external compartment. Using this one without counting boundary reactions.\n",
      "2024-05-24 15:10:16,744 - boundary_types.py[line:68] - INFO: Compartment `e` sounds like an external compartment. Using this one without counting boundary reactions.\n",
      "2024-05-24 15:10:17,227 - 3888050103.py[line:20] - INFO: carbamoyl phosphate: G\n",
      "2024-05-24 15:10:17,227 - model.py[line:209] - INFO: The current solver interface glpk doesn't support setting the optimality tolerance.\n",
      "2024-05-24 15:10:17,774 - boundary_types.py[line:68] - INFO: Compartment `e` sounds like an external compartment. Using this one without counting boundary reactions.\n",
      "2024-05-24 15:10:17,776 - 3936220034.py[line:5] - INFO: add s_4158 <=> \n",
      "2024-05-24 15:10:17,777 - model.py[line:209] - INFO: The current solver interface glpk doesn't support setting the optimality tolerance.\n",
      "2024-05-24 15:10:18,654 - boundary_types.py[line:68] - INFO: Compartment `e` sounds like an external compartment. Using this one without counting boundary reactions.\n",
      "2024-05-24 15:10:18,671 - boundary_types.py[line:68] - INFO: Compartment `e` sounds like an external compartment. Using this one without counting boundary reactions.\n",
      "2024-05-24 15:10:19,146 - 3888050103.py[line:20] - INFO: choline phosphate: G\n",
      "2024-05-24 15:10:19,146 - model.py[line:209] - INFO: The current solver interface glpk doesn't support setting the optimality tolerance.\n",
      "2024-05-24 15:10:19,629 - boundary_types.py[line:68] - INFO: Compartment `e` sounds like an external compartment. Using this one without counting boundary reactions.\n",
      "2024-05-24 15:10:19,629 - boundary_types.py[line:68] - INFO: Compartment `e` sounds like an external compartment. Using this one without counting boundary reactions.\n",
      "2024-05-24 15:10:19,637 - 3936220034.py[line:12] - INFO: add s_0525 <=> \n",
      "2024-05-24 15:10:19,638 - model.py[line:209] - INFO: The current solver interface glpk doesn't support setting the optimality tolerance.\n"
     ]
    },
    {
     "name": "stdout",
     "output_type": "stream",
     "text": [
      "s_0525\n"
     ]
    },
    {
     "name": "stderr",
     "output_type": "stream",
     "text": [
      "2024-05-24 15:10:20,130 - boundary_types.py[line:68] - INFO: Compartment `e` sounds like an external compartment. Using this one without counting boundary reactions.\n",
      "2024-05-24 15:10:20,146 - boundary_types.py[line:68] - INFO: Compartment `e` sounds like an external compartment. Using this one without counting boundary reactions.\n",
      "2024-05-24 15:10:20,754 - 3888050103.py[line:20] - INFO: citrate: G\n",
      "2024-05-24 15:10:20,755 - model.py[line:209] - INFO: The current solver interface glpk doesn't support setting the optimality tolerance.\n",
      "2024-05-24 15:10:21,238 - boundary_types.py[line:68] - INFO: Compartment `e` sounds like an external compartment. Using this one without counting boundary reactions.\n",
      "2024-05-24 15:10:21,240 - 3936220034.py[line:5] - INFO: add s_4163 <=> \n",
      "2024-05-24 15:10:21,241 - model.py[line:209] - INFO: The current solver interface glpk doesn't support setting the optimality tolerance.\n",
      "2024-05-24 15:10:21,731 - boundary_types.py[line:68] - INFO: Compartment `e` sounds like an external compartment. Using this one without counting boundary reactions.\n",
      "2024-05-24 15:10:21,753 - boundary_types.py[line:68] - INFO: Compartment `e` sounds like an external compartment. Using this one without counting boundary reactions.\n",
      "2024-05-24 15:10:22,348 - 3888050103.py[line:20] - INFO: CMP: G\n",
      "2024-05-24 15:10:22,354 - model.py[line:209] - INFO: The current solver interface glpk doesn't support setting the optimality tolerance.\n",
      "2024-05-24 15:10:25,434 - boundary_types.py[line:68] - INFO: Compartment `e` sounds like an external compartment. Using this one without counting boundary reactions.\n",
      "2024-05-24 15:10:25,438 - 3936220034.py[line:5] - INFO: add s_0544 <=> \n",
      "2024-05-24 15:10:25,439 - model.py[line:209] - INFO: The current solver interface glpk doesn't support setting the optimality tolerance.\n",
      "2024-05-24 15:10:25,962 - boundary_types.py[line:68] - INFO: Compartment `e` sounds like an external compartment. Using this one without counting boundary reactions.\n",
      "2024-05-24 15:10:25,980 - boundary_types.py[line:68] - INFO: Compartment `e` sounds like an external compartment. Using this one without counting boundary reactions.\n",
      "2024-05-24 15:10:26,543 - 3888050103.py[line:20] - INFO: cytidine: G\n",
      "2024-05-24 15:10:26,544 - model.py[line:209] - INFO: The current solver interface glpk doesn't support setting the optimality tolerance.\n",
      "2024-05-24 15:10:27,101 - boundary_types.py[line:68] - INFO: Compartment `e` sounds like an external compartment. Using this one without counting boundary reactions.\n",
      "2024-05-24 15:10:27,104 - 3936220034.py[line:5] - INFO: add s_0546 <=> \n",
      "2024-05-24 15:10:27,105 - model.py[line:209] - INFO: The current solver interface glpk doesn't support setting the optimality tolerance.\n",
      "2024-05-24 15:10:27,656 - boundary_types.py[line:68] - INFO: Compartment `e` sounds like an external compartment. Using this one without counting boundary reactions.\n",
      "2024-05-24 15:10:27,674 - boundary_types.py[line:68] - INFO: Compartment `e` sounds like an external compartment. Using this one without counting boundary reactions.\n",
      "2024-05-24 15:10:28,296 - 3888050103.py[line:20] - INFO: cytosine: G\n",
      "2024-05-24 15:10:28,297 - model.py[line:209] - INFO: The current solver interface glpk doesn't support setting the optimality tolerance.\n",
      "2024-05-24 15:10:28,859 - boundary_types.py[line:68] - INFO: Compartment `e` sounds like an external compartment. Using this one without counting boundary reactions.\n",
      "2024-05-24 15:10:28,861 - 3936220034.py[line:5] - INFO: add s_0549 <=> \n",
      "2024-05-24 15:10:28,862 - model.py[line:209] - INFO: The current solver interface glpk doesn't support setting the optimality tolerance.\n",
      "2024-05-24 15:10:29,413 - boundary_types.py[line:68] - INFO: Compartment `e` sounds like an external compartment. Using this one without counting boundary reactions.\n",
      "2024-05-24 15:10:29,430 - boundary_types.py[line:68] - INFO: Compartment `e` sounds like an external compartment. Using this one without counting boundary reactions.\n",
      "2024-05-24 15:10:29,971 - 3888050103.py[line:20] - INFO: D-arabinose: G\n",
      "2024-05-24 15:10:29,986 - model.py[line:209] - INFO: The current solver interface glpk doesn't support setting the optimality tolerance.\n",
      "2024-05-24 15:10:30,538 - boundary_types.py[line:68] - INFO: Compartment `e` sounds like an external compartment. Using this one without counting boundary reactions.\n",
      "2024-05-24 15:10:30,555 - boundary_types.py[line:68] - INFO: Compartment `e` sounds like an external compartment. Using this one without counting boundary reactions.\n",
      "2024-05-24 15:10:30,555 - 3936220034.py[line:12] - INFO: add s_3779 <=> \n",
      "2024-05-24 15:10:30,555 - model.py[line:209] - INFO: The current solver interface glpk doesn't support setting the optimality tolerance.\n"
     ]
    },
    {
     "name": "stdout",
     "output_type": "stream",
     "text": [
      "s_3779\n"
     ]
    },
    {
     "name": "stderr",
     "output_type": "stream",
     "text": [
      "2024-05-24 15:10:31,072 - boundary_types.py[line:68] - INFO: Compartment `e` sounds like an external compartment. Using this one without counting boundary reactions.\n",
      "2024-05-24 15:10:31,092 - boundary_types.py[line:68] - INFO: Compartment `e` sounds like an external compartment. Using this one without counting boundary reactions.\n",
      "2024-05-24 15:10:31,571 - 3888050103.py[line:20] - INFO: D-fructose: G\n",
      "2024-05-24 15:10:31,572 - model.py[line:209] - INFO: The current solver interface glpk doesn't support setting the optimality tolerance.\n",
      "2024-05-24 15:10:32,123 - boundary_types.py[line:68] - INFO: Compartment `e` sounds like an external compartment. Using this one without counting boundary reactions.\n",
      "2024-05-24 15:10:32,123 - boundary_types.py[line:68] - INFO: Compartment `e` sounds like an external compartment. Using this one without counting boundary reactions.\n",
      "2024-05-24 15:10:32,123 - 3936220034.py[line:12] - INFO: add s_0557 <=> \n",
      "2024-05-24 15:10:32,138 - model.py[line:209] - INFO: The current solver interface glpk doesn't support setting the optimality tolerance.\n"
     ]
    },
    {
     "name": "stdout",
     "output_type": "stream",
     "text": [
      "s_0557\n"
     ]
    },
    {
     "name": "stderr",
     "output_type": "stream",
     "text": [
      "2024-05-24 15:10:32,694 - boundary_types.py[line:68] - INFO: Compartment `e` sounds like an external compartment. Using this one without counting boundary reactions.\n",
      "2024-05-24 15:10:32,707 - boundary_types.py[line:68] - INFO: Compartment `e` sounds like an external compartment. Using this one without counting boundary reactions.\n",
      "2024-05-24 15:10:33,257 - 3888050103.py[line:20] - INFO: D-fructose 6-phosphate: G\n",
      "2024-05-24 15:10:33,257 - model.py[line:209] - INFO: The current solver interface glpk doesn't support setting the optimality tolerance.\n",
      "2024-05-24 15:10:33,774 - boundary_types.py[line:68] - INFO: Compartment `e` sounds like an external compartment. Using this one without counting boundary reactions.\n",
      "2024-05-24 15:10:33,774 - boundary_types.py[line:68] - INFO: Compartment `e` sounds like an external compartment. Using this one without counting boundary reactions.\n",
      "2024-05-24 15:10:33,774 - 3936220034.py[line:12] - INFO: add s_3780 <=> \n",
      "2024-05-24 15:10:33,774 - model.py[line:209] - INFO: The current solver interface glpk doesn't support setting the optimality tolerance.\n"
     ]
    },
    {
     "name": "stdout",
     "output_type": "stream",
     "text": [
      "s_3780\n"
     ]
    },
    {
     "name": "stderr",
     "output_type": "stream",
     "text": [
      "2024-05-24 15:10:34,325 - boundary_types.py[line:68] - INFO: Compartment `e` sounds like an external compartment. Using this one without counting boundary reactions.\n",
      "2024-05-24 15:10:34,344 - boundary_types.py[line:68] - INFO: Compartment `e` sounds like an external compartment. Using this one without counting boundary reactions.\n",
      "2024-05-24 15:10:34,937 - 3888050103.py[line:20] - INFO: D-galactose: G\n",
      "2024-05-24 15:10:34,939 - model.py[line:209] - INFO: The current solver interface glpk doesn't support setting the optimality tolerance.\n",
      "2024-05-24 15:10:35,471 - boundary_types.py[line:68] - INFO: Compartment `e` sounds like an external compartment. Using this one without counting boundary reactions.\n",
      "2024-05-24 15:10:35,473 - 3936220034.py[line:5] - INFO: add s_0560 <=> \n",
      "2024-05-24 15:10:35,475 - model.py[line:209] - INFO: The current solver interface glpk doesn't support setting the optimality tolerance.\n",
      "2024-05-24 15:10:36,043 - boundary_types.py[line:68] - INFO: Compartment `e` sounds like an external compartment. Using this one without counting boundary reactions.\n",
      "2024-05-24 15:10:36,061 - boundary_types.py[line:68] - INFO: Compartment `e` sounds like an external compartment. Using this one without counting boundary reactions.\n",
      "2024-05-24 15:10:36,677 - glpk_interface.py[line:689] - DEBUG: Status undefined. GLPK status code returned by glp_simplex was 10\n",
      "c:\\Users\\13293\\APP\\anaconda\\envs\\yeast9\\lib\\site-packages\\cobra\\util\\solver.py:554: UserWarning: Solver status is 'infeasible'.\n",
      "  warn(f\"Solver status is '{status}'.\", UserWarning)\n",
      "2024-05-24 15:10:36,714 - 3888050103.py[line:20] - INFO: D-galacturonate: NG\n",
      "2024-05-24 15:10:36,714 - model.py[line:209] - INFO: The current solver interface glpk doesn't support setting the optimality tolerance.\n",
      "2024-05-24 15:10:37,239 - boundary_types.py[line:68] - INFO: Compartment `e` sounds like an external compartment. Using this one without counting boundary reactions.\n",
      "2024-05-24 15:10:37,240 - 3936220034.py[line:5] - INFO: add s_0562 <=> \n",
      "2024-05-24 15:10:37,242 - model.py[line:209] - INFO: The current solver interface glpk doesn't support setting the optimality tolerance.\n",
      "2024-05-24 15:10:37,794 - boundary_types.py[line:68] - INFO: Compartment `e` sounds like an external compartment. Using this one without counting boundary reactions.\n",
      "2024-05-24 15:10:37,811 - boundary_types.py[line:68] - INFO: Compartment `e` sounds like an external compartment. Using this one without counting boundary reactions.\n",
      "2024-05-24 15:10:38,357 - 3888050103.py[line:20] - INFO: D-glucitol: G\n",
      "2024-05-24 15:10:38,358 - model.py[line:209] - INFO: The current solver interface glpk doesn't support setting the optimality tolerance.\n",
      "2024-05-24 15:10:41,189 - boundary_types.py[line:68] - INFO: Compartment `e` sounds like an external compartment. Using this one without counting boundary reactions.\n",
      "2024-05-24 15:10:41,194 - boundary_types.py[line:68] - INFO: Compartment `e` sounds like an external compartment. Using this one without counting boundary reactions.\n",
      "2024-05-24 15:10:41,196 - 3936220034.py[line:12] - INFO: add s_3772 <=> \n",
      "2024-05-24 15:10:41,197 - model.py[line:209] - INFO: The current solver interface glpk doesn't support setting the optimality tolerance.\n"
     ]
    },
    {
     "name": "stdout",
     "output_type": "stream",
     "text": [
      "s_3772\n"
     ]
    },
    {
     "name": "stderr",
     "output_type": "stream",
     "text": [
      "2024-05-24 15:10:41,736 - boundary_types.py[line:68] - INFO: Compartment `e` sounds like an external compartment. Using this one without counting boundary reactions.\n",
      "2024-05-24 15:10:41,760 - boundary_types.py[line:68] - INFO: Compartment `e` sounds like an external compartment. Using this one without counting boundary reactions.\n",
      "2024-05-24 15:10:42,358 - glpk_interface.py[line:689] - DEBUG: Status undefined. GLPK status code returned by glp_simplex was 10\n",
      "c:\\Users\\13293\\APP\\anaconda\\envs\\yeast9\\lib\\site-packages\\cobra\\util\\solver.py:554: UserWarning: Solver status is 'infeasible'.\n",
      "  warn(f\"Solver status is '{status}'.\", UserWarning)\n",
      "2024-05-24 15:10:42,386 - 3888050103.py[line:20] - INFO: D-glucose: NG\n",
      "2024-05-24 15:10:42,389 - model.py[line:209] - INFO: The current solver interface glpk doesn't support setting the optimality tolerance.\n",
      "2024-05-24 15:10:42,904 - boundary_types.py[line:68] - INFO: Compartment `e` sounds like an external compartment. Using this one without counting boundary reactions.\n",
      "2024-05-24 15:10:42,906 - 3936220034.py[line:5] - INFO: add s_4145 <=> \n",
      "2024-05-24 15:10:42,907 - model.py[line:209] - INFO: The current solver interface glpk doesn't support setting the optimality tolerance.\n",
      "2024-05-24 15:10:43,421 - boundary_types.py[line:68] - INFO: Compartment `e` sounds like an external compartment. Using this one without counting boundary reactions.\n",
      "2024-05-24 15:10:43,439 - boundary_types.py[line:68] - INFO: Compartment `e` sounds like an external compartment. Using this one without counting boundary reactions.\n",
      "2024-05-24 15:10:43,938 - 3888050103.py[line:20] - INFO: D-glucose 1-phosphate: G\n",
      "2024-05-24 15:10:43,940 - model.py[line:209] - INFO: The current solver interface glpk doesn't support setting the optimality tolerance.\n",
      "2024-05-24 15:10:44,461 - boundary_types.py[line:68] - INFO: Compartment `e` sounds like an external compartment. Using this one without counting boundary reactions.\n",
      "2024-05-24 15:10:44,462 - 3936220034.py[line:5] - INFO: add s_4145 <=> \n",
      "2024-05-24 15:10:44,463 - model.py[line:209] - INFO: The current solver interface glpk doesn't support setting the optimality tolerance.\n",
      "2024-05-24 15:10:44,996 - boundary_types.py[line:68] - INFO: Compartment `e` sounds like an external compartment. Using this one without counting boundary reactions.\n",
      "2024-05-24 15:10:45,015 - boundary_types.py[line:68] - INFO: Compartment `e` sounds like an external compartment. Using this one without counting boundary reactions.\n",
      "2024-05-24 15:10:45,526 - 3888050103.py[line:20] - INFO: D-glucose 1-phosphate: G\n",
      "2024-05-24 15:10:45,527 - model.py[line:209] - INFO: The current solver interface glpk doesn't support setting the optimality tolerance.\n",
      "2024-05-24 15:10:46,057 - boundary_types.py[line:68] - INFO: Compartment `e` sounds like an external compartment. Using this one without counting boundary reactions.\n",
      "2024-05-24 15:10:46,058 - 3936220034.py[line:5] - INFO: add s_4150 <=> \n",
      "2024-05-24 15:10:46,059 - model.py[line:209] - INFO: The current solver interface glpk doesn't support setting the optimality tolerance.\n",
      "2024-05-24 15:10:46,605 - boundary_types.py[line:68] - INFO: Compartment `e` sounds like an external compartment. Using this one without counting boundary reactions.\n",
      "2024-05-24 15:10:46,623 - boundary_types.py[line:68] - INFO: Compartment `e` sounds like an external compartment. Using this one without counting boundary reactions.\n",
      "2024-05-24 15:10:47,177 - 3888050103.py[line:20] - INFO: D-glucose 6-phosphate: G\n",
      "2024-05-24 15:10:47,178 - model.py[line:209] - INFO: The current solver interface glpk doesn't support setting the optimality tolerance.\n",
      "2024-05-24 15:10:47,857 - boundary_types.py[line:68] - INFO: Compartment `e` sounds like an external compartment. Using this one without counting boundary reactions.\n",
      "2024-05-24 15:10:47,859 - 3936220034.py[line:5] - INFO: add s_4150 <=> \n",
      "2024-05-24 15:10:47,861 - model.py[line:209] - INFO: The current solver interface glpk doesn't support setting the optimality tolerance.\n",
      "2024-05-24 15:10:48,720 - boundary_types.py[line:68] - INFO: Compartment `e` sounds like an external compartment. Using this one without counting boundary reactions.\n",
      "2024-05-24 15:10:48,740 - boundary_types.py[line:68] - INFO: Compartment `e` sounds like an external compartment. Using this one without counting boundary reactions.\n",
      "2024-05-24 15:10:49,286 - 3888050103.py[line:20] - INFO: D-glucose 6-phosphate: G\n",
      "2024-05-24 15:10:49,286 - model.py[line:209] - INFO: The current solver interface glpk doesn't support setting the optimality tolerance.\n",
      "2024-05-24 15:10:49,861 - boundary_types.py[line:68] - INFO: Compartment `e` sounds like an external compartment. Using this one without counting boundary reactions.\n",
      "2024-05-24 15:10:49,868 - boundary_types.py[line:68] - INFO: Compartment `e` sounds like an external compartment. Using this one without counting boundary reactions.\n",
      "2024-05-24 15:10:49,872 - 3936220034.py[line:12] - INFO: add s_3933 <=> \n",
      "2024-05-24 15:10:49,872 - model.py[line:209] - INFO: The current solver interface glpk doesn't support setting the optimality tolerance.\n"
     ]
    },
    {
     "name": "stdout",
     "output_type": "stream",
     "text": [
      "s_3933\n"
     ]
    },
    {
     "name": "stderr",
     "output_type": "stream",
     "text": [
      "2024-05-24 15:10:50,436 - boundary_types.py[line:68] - INFO: Compartment `e` sounds like an external compartment. Using this one without counting boundary reactions.\n",
      "2024-05-24 15:10:50,453 - boundary_types.py[line:68] - INFO: Compartment `e` sounds like an external compartment. Using this one without counting boundary reactions.\n",
      "2024-05-24 15:10:51,072 - glpk_interface.py[line:689] - DEBUG: Status undefined. GLPK status code returned by glp_simplex was 10\n",
      "c:\\Users\\13293\\APP\\anaconda\\envs\\yeast9\\lib\\site-packages\\cobra\\util\\solver.py:554: UserWarning: Solver status is 'infeasible'.\n",
      "  warn(f\"Solver status is '{status}'.\", UserWarning)\n",
      "2024-05-24 15:10:51,126 - 3888050103.py[line:20] - INFO: D-mannose: NG\n",
      "2024-05-24 15:10:51,126 - model.py[line:209] - INFO: The current solver interface glpk doesn't support setting the optimality tolerance.\n",
      "2024-05-24 15:10:51,856 - boundary_types.py[line:68] - INFO: Compartment `e` sounds like an external compartment. Using this one without counting boundary reactions.\n",
      "2024-05-24 15:10:51,856 - 3936220034.py[line:5] - INFO: add s_4156 <=> \n",
      "2024-05-24 15:10:51,856 - model.py[line:209] - INFO: The current solver interface glpk doesn't support setting the optimality tolerance.\n",
      "2024-05-24 15:10:52,372 - boundary_types.py[line:68] - INFO: Compartment `e` sounds like an external compartment. Using this one without counting boundary reactions.\n",
      "2024-05-24 15:10:52,388 - boundary_types.py[line:68] - INFO: Compartment `e` sounds like an external compartment. Using this one without counting boundary reactions.\n",
      "2024-05-24 15:10:52,840 - 3888050103.py[line:20] - INFO: D-mannose 1-phosphate: G\n",
      "2024-05-24 15:10:52,840 - model.py[line:209] - INFO: The current solver interface glpk doesn't support setting the optimality tolerance.\n",
      "2024-05-24 15:10:53,373 - boundary_types.py[line:68] - INFO: Compartment `e` sounds like an external compartment. Using this one without counting boundary reactions.\n",
      "2024-05-24 15:10:53,373 - 3936220034.py[line:5] - INFO: add s_4153 <=> \n",
      "2024-05-24 15:10:53,373 - model.py[line:209] - INFO: The current solver interface glpk doesn't support setting the optimality tolerance.\n",
      "2024-05-24 15:10:53,888 - boundary_types.py[line:68] - INFO: Compartment `e` sounds like an external compartment. Using this one without counting boundary reactions.\n",
      "2024-05-24 15:10:53,909 - boundary_types.py[line:68] - INFO: Compartment `e` sounds like an external compartment. Using this one without counting boundary reactions.\n",
      "2024-05-24 15:10:54,491 - 3888050103.py[line:20] - INFO: D-mannose 6-phosphate: G\n",
      "2024-05-24 15:10:54,491 - model.py[line:209] - INFO: The current solver interface glpk doesn't support setting the optimality tolerance.\n",
      "2024-05-24 15:10:55,022 - boundary_types.py[line:68] - INFO: Compartment `e` sounds like an external compartment. Using this one without counting boundary reactions.\n",
      "2024-05-24 15:10:55,023 - 3936220034.py[line:5] - INFO: add s_0576 <=> \n",
      "2024-05-24 15:10:55,026 - model.py[line:209] - INFO: The current solver interface glpk doesn't support setting the optimality tolerance.\n",
      "2024-05-24 15:10:57,810 - boundary_types.py[line:68] - INFO: Compartment `e` sounds like an external compartment. Using this one without counting boundary reactions.\n",
      "2024-05-24 15:10:57,838 - boundary_types.py[line:68] - INFO: Compartment `e` sounds like an external compartment. Using this one without counting boundary reactions.\n",
      "2024-05-24 15:10:58,380 - 3888050103.py[line:20] - INFO: D-ribose: G\n",
      "2024-05-24 15:10:58,380 - model.py[line:209] - INFO: The current solver interface glpk doesn't support setting the optimality tolerance.\n",
      "2024-05-24 15:10:58,927 - boundary_types.py[line:68] - INFO: Compartment `e` sounds like an external compartment. Using this one without counting boundary reactions.\n",
      "2024-05-24 15:10:58,937 - 3936220034.py[line:5] - INFO: add s_0579 <=> \n",
      "2024-05-24 15:10:58,938 - model.py[line:209] - INFO: The current solver interface glpk doesn't support setting the optimality tolerance.\n",
      "2024-05-24 15:10:59,450 - boundary_types.py[line:68] - INFO: Compartment `e` sounds like an external compartment. Using this one without counting boundary reactions.\n",
      "2024-05-24 15:10:59,462 - boundary_types.py[line:68] - INFO: Compartment `e` sounds like an external compartment. Using this one without counting boundary reactions.\n",
      "2024-05-24 15:11:00,229 - 3888050103.py[line:20] - INFO: D-xylose: G\n",
      "2024-05-24 15:11:00,229 - model.py[line:209] - INFO: The current solver interface glpk doesn't support setting the optimality tolerance.\n",
      "2024-05-24 15:11:01,040 - boundary_types.py[line:68] - INFO: Compartment `e` sounds like an external compartment. Using this one without counting boundary reactions.\n",
      "2024-05-24 15:11:01,048 - boundary_types.py[line:68] - INFO: Compartment `e` sounds like an external compartment. Using this one without counting boundary reactions.\n",
      "2024-05-24 15:11:01,053 - 3936220034.py[line:12] - INFO: add s_0600 <=> \n",
      "2024-05-24 15:11:01,054 - model.py[line:209] - INFO: The current solver interface glpk doesn't support setting the optimality tolerance.\n"
     ]
    },
    {
     "name": "stdout",
     "output_type": "stream",
     "text": [
      "s_0600\n"
     ]
    },
    {
     "name": "stderr",
     "output_type": "stream",
     "text": [
      "2024-05-24 15:11:01,786 - boundary_types.py[line:68] - INFO: Compartment `e` sounds like an external compartment. Using this one without counting boundary reactions.\n",
      "2024-05-24 15:11:01,797 - boundary_types.py[line:68] - INFO: Compartment `e` sounds like an external compartment. Using this one without counting boundary reactions.\n",
      "2024-05-24 15:11:02,403 - 3888050103.py[line:20] - INFO: decanoate: G\n",
      "2024-05-24 15:11:02,404 - model.py[line:209] - INFO: The current solver interface glpk doesn't support setting the optimality tolerance.\n",
      "2024-05-24 15:11:02,898 - boundary_types.py[line:68] - INFO: Compartment `e` sounds like an external compartment. Using this one without counting boundary reactions.\n",
      "2024-05-24 15:11:02,903 - 3936220034.py[line:5] - INFO: add s_4157 <=> \n",
      "2024-05-24 15:11:02,904 - model.py[line:209] - INFO: The current solver interface glpk doesn't support setting the optimality tolerance.\n",
      "2024-05-24 15:11:03,443 - boundary_types.py[line:68] - INFO: Compartment `e` sounds like an external compartment. Using this one without counting boundary reactions.\n",
      "2024-05-24 15:11:03,461 - boundary_types.py[line:68] - INFO: Compartment `e` sounds like an external compartment. Using this one without counting boundary reactions.\n",
      "2024-05-24 15:11:03,950 - 3888050103.py[line:20] - INFO: diphosphate: G\n",
      "2024-05-24 15:11:03,952 - model.py[line:209] - INFO: The current solver interface glpk doesn't support setting the optimality tolerance.\n",
      "2024-05-24 15:11:04,500 - boundary_types.py[line:68] - INFO: Compartment `e` sounds like an external compartment. Using this one without counting boundary reactions.\n",
      "2024-05-24 15:11:04,507 - boundary_types.py[line:68] - INFO: Compartment `e` sounds like an external compartment. Using this one without counting boundary reactions.\n",
      "2024-05-24 15:11:04,509 - 3936220034.py[line:12] - INFO: add s_0682 <=> \n",
      "2024-05-24 15:11:04,510 - model.py[line:209] - INFO: The current solver interface glpk doesn't support setting the optimality tolerance.\n"
     ]
    },
    {
     "name": "stdout",
     "output_type": "stream",
     "text": [
      "s_0682\n"
     ]
    },
    {
     "name": "stderr",
     "output_type": "stream",
     "text": [
      "2024-05-24 15:11:05,080 - boundary_types.py[line:68] - INFO: Compartment `e` sounds like an external compartment. Using this one without counting boundary reactions.\n",
      "2024-05-24 15:11:05,097 - boundary_types.py[line:68] - INFO: Compartment `e` sounds like an external compartment. Using this one without counting boundary reactions.\n",
      "2024-05-24 15:11:05,706 - 3888050103.py[line:20] - INFO: ethanol: G\n",
      "2024-05-24 15:11:05,708 - model.py[line:209] - INFO: The current solver interface glpk doesn't support setting the optimality tolerance.\n",
      "2024-05-24 15:11:06,263 - boundary_types.py[line:68] - INFO: Compartment `e` sounds like an external compartment. Using this one without counting boundary reactions.\n",
      "2024-05-24 15:11:06,265 - 3936220034.py[line:5] - INFO: add s_0684 <=> \n",
      "2024-05-24 15:11:06,266 - model.py[line:209] - INFO: The current solver interface glpk doesn't support setting the optimality tolerance.\n",
      "2024-05-24 15:11:06,797 - boundary_types.py[line:68] - INFO: Compartment `e` sounds like an external compartment. Using this one without counting boundary reactions.\n",
      "2024-05-24 15:11:06,815 - boundary_types.py[line:68] - INFO: Compartment `e` sounds like an external compartment. Using this one without counting boundary reactions.\n",
      "2024-05-24 15:11:07,373 - glpk_interface.py[line:689] - DEBUG: Status undefined. GLPK status code returned by glp_simplex was 10\n",
      "c:\\Users\\13293\\APP\\anaconda\\envs\\yeast9\\lib\\site-packages\\cobra\\util\\solver.py:554: UserWarning: Solver status is 'infeasible'.\n",
      "  warn(f\"Solver status is '{status}'.\", UserWarning)\n",
      "2024-05-24 15:11:07,396 - 3888050103.py[line:20] - INFO: ethanolamine: NG\n",
      "2024-05-24 15:11:07,398 - model.py[line:209] - INFO: The current solver interface glpk doesn't support setting the optimality tolerance.\n",
      "2024-05-24 15:11:07,917 - boundary_types.py[line:68] - INFO: Compartment `e` sounds like an external compartment. Using this one without counting boundary reactions.\n",
      "2024-05-24 15:11:07,932 - 3936220034.py[line:5] - INFO: add s_0684 <=> \n",
      "2024-05-24 15:11:07,932 - model.py[line:209] - INFO: The current solver interface glpk doesn't support setting the optimality tolerance.\n",
      "2024-05-24 15:11:08,453 - boundary_types.py[line:68] - INFO: Compartment `e` sounds like an external compartment. Using this one without counting boundary reactions.\n",
      "2024-05-24 15:11:08,470 - boundary_types.py[line:68] - INFO: Compartment `e` sounds like an external compartment. Using this one without counting boundary reactions.\n",
      "2024-05-24 15:11:08,669 - 3888050103.py[line:20] - INFO: ethanolamine: NG\n",
      "2024-05-24 15:11:08,669 - model.py[line:209] - INFO: The current solver interface glpk doesn't support setting the optimality tolerance.\n",
      "2024-05-24 15:11:09,237 - boundary_types.py[line:68] - INFO: Compartment `e` sounds like an external compartment. Using this one without counting boundary reactions.\n",
      "2024-05-24 15:11:09,237 - boundary_types.py[line:68] - INFO: Compartment `e` sounds like an external compartment. Using this one without counting boundary reactions.\n",
      "2024-05-24 15:11:09,237 - 3936220034.py[line:12] - INFO: add s_0724 <=> \n",
      "2024-05-24 15:11:09,237 - model.py[line:209] - INFO: The current solver interface glpk doesn't support setting the optimality tolerance.\n"
     ]
    },
    {
     "name": "stdout",
     "output_type": "stream",
     "text": [
      "s_0724\n"
     ]
    },
    {
     "name": "stderr",
     "output_type": "stream",
     "text": [
      "2024-05-24 15:11:09,787 - boundary_types.py[line:68] - INFO: Compartment `e` sounds like an external compartment. Using this one without counting boundary reactions.\n",
      "2024-05-24 15:11:09,807 - boundary_types.py[line:68] - INFO: Compartment `e` sounds like an external compartment. Using this one without counting boundary reactions.\n",
      "2024-05-24 15:11:10,369 - 3888050103.py[line:20] - INFO: formate: G\n",
      "2024-05-24 15:11:10,372 - model.py[line:209] - INFO: The current solver interface glpk doesn't support setting the optimality tolerance.\n",
      "2024-05-24 15:11:10,907 - boundary_types.py[line:68] - INFO: Compartment `e` sounds like an external compartment. Using this one without counting boundary reactions.\n",
      "2024-05-24 15:11:10,921 - boundary_types.py[line:68] - INFO: Compartment `e` sounds like an external compartment. Using this one without counting boundary reactions.\n",
      "2024-05-24 15:11:10,921 - 3936220034.py[line:12] - INFO: add s_0727 <=> \n",
      "2024-05-24 15:11:10,921 - model.py[line:209] - INFO: The current solver interface glpk doesn't support setting the optimality tolerance.\n"
     ]
    },
    {
     "name": "stdout",
     "output_type": "stream",
     "text": [
      "s_0727\n"
     ]
    },
    {
     "name": "stderr",
     "output_type": "stream",
     "text": [
      "2024-05-24 15:11:13,973 - boundary_types.py[line:68] - INFO: Compartment `e` sounds like an external compartment. Using this one without counting boundary reactions.\n",
      "2024-05-24 15:11:13,993 - boundary_types.py[line:68] - INFO: Compartment `e` sounds like an external compartment. Using this one without counting boundary reactions.\n",
      "2024-05-24 15:11:14,624 - 3888050103.py[line:20] - INFO: fumarate: G\n",
      "2024-05-24 15:11:14,624 - model.py[line:209] - INFO: The current solver interface glpk doesn't support setting the optimality tolerance.\n",
      "2024-05-24 15:11:15,186 - boundary_types.py[line:68] - INFO: Compartment `e` sounds like an external compartment. Using this one without counting boundary reactions.\n",
      "2024-05-24 15:11:15,192 - boundary_types.py[line:68] - INFO: Compartment `e` sounds like an external compartment. Using this one without counting boundary reactions.\n",
      "2024-05-24 15:11:15,192 - 3936220034.py[line:12] - INFO: add s_0738 <=> \n",
      "2024-05-24 15:11:15,192 - model.py[line:209] - INFO: The current solver interface glpk doesn't support setting the optimality tolerance.\n"
     ]
    },
    {
     "name": "stdout",
     "output_type": "stream",
     "text": [
      "s_0738\n"
     ]
    },
    {
     "name": "stderr",
     "output_type": "stream",
     "text": [
      "2024-05-24 15:11:15,770 - boundary_types.py[line:68] - INFO: Compartment `e` sounds like an external compartment. Using this one without counting boundary reactions.\n",
      "2024-05-24 15:11:15,787 - boundary_types.py[line:68] - INFO: Compartment `e` sounds like an external compartment. Using this one without counting boundary reactions.\n",
      "2024-05-24 15:11:16,359 - 3888050103.py[line:20] - INFO: gamma-aminobutyrate: G\n",
      "2024-05-24 15:11:16,359 - model.py[line:209] - INFO: The current solver interface glpk doesn't support setting the optimality tolerance.\n",
      "2024-05-24 15:11:17,110 - boundary_types.py[line:68] - INFO: Compartment `e` sounds like an external compartment. Using this one without counting boundary reactions.\n",
      "2024-05-24 15:11:17,127 - boundary_types.py[line:68] - INFO: Compartment `e` sounds like an external compartment. Using this one without counting boundary reactions.\n",
      "2024-05-24 15:11:17,127 - 3936220034.py[line:12] - INFO: add s_0738 <=> \n",
      "2024-05-24 15:11:17,127 - model.py[line:209] - INFO: The current solver interface glpk doesn't support setting the optimality tolerance.\n"
     ]
    },
    {
     "name": "stdout",
     "output_type": "stream",
     "text": [
      "s_0738\n"
     ]
    },
    {
     "name": "stderr",
     "output_type": "stream",
     "text": [
      "2024-05-24 15:11:18,077 - boundary_types.py[line:68] - INFO: Compartment `e` sounds like an external compartment. Using this one without counting boundary reactions.\n",
      "2024-05-24 15:11:18,106 - boundary_types.py[line:68] - INFO: Compartment `e` sounds like an external compartment. Using this one without counting boundary reactions.\n",
      "2024-05-24 15:11:18,957 - 3888050103.py[line:20] - INFO: gamma-aminobutyrate: G\n",
      "2024-05-24 15:11:18,959 - model.py[line:209] - INFO: The current solver interface glpk doesn't support setting the optimality tolerance.\n",
      "2024-05-24 15:11:19,903 - boundary_types.py[line:68] - INFO: Compartment `e` sounds like an external compartment. Using this one without counting boundary reactions.\n",
      "2024-05-24 15:11:19,911 - boundary_types.py[line:68] - INFO: Compartment `e` sounds like an external compartment. Using this one without counting boundary reactions.\n",
      "2024-05-24 15:11:19,912 - 3936220034.py[line:12] - INFO: add s_3843 <=> \n",
      "2024-05-24 15:11:19,912 - model.py[line:209] - INFO: The current solver interface glpk doesn't support setting the optimality tolerance.\n"
     ]
    },
    {
     "name": "stdout",
     "output_type": "stream",
     "text": [
      "s_3843\n"
     ]
    },
    {
     "name": "stderr",
     "output_type": "stream",
     "text": [
      "2024-05-24 15:11:20,874 - boundary_types.py[line:68] - INFO: Compartment `e` sounds like an external compartment. Using this one without counting boundary reactions.\n",
      "2024-05-24 15:11:20,909 - boundary_types.py[line:68] - INFO: Compartment `e` sounds like an external compartment. Using this one without counting boundary reactions.\n",
      "2024-05-24 15:11:21,310 - 3888050103.py[line:20] - INFO: glutathione: NG\n",
      "2024-05-24 15:11:21,313 - model.py[line:209] - INFO: The current solver interface glpk doesn't support setting the optimality tolerance.\n",
      "2024-05-24 15:11:22,261 - boundary_types.py[line:68] - INFO: Compartment `e` sounds like an external compartment. Using this one without counting boundary reactions.\n",
      "2024-05-24 15:11:22,271 - boundary_types.py[line:68] - INFO: Compartment `e` sounds like an external compartment. Using this one without counting boundary reactions.\n",
      "2024-05-24 15:11:22,274 - 3936220034.py[line:12] - INFO: add s_3684 <=> \n",
      "2024-05-24 15:11:22,275 - model.py[line:209] - INFO: The current solver interface glpk doesn't support setting the optimality tolerance.\n"
     ]
    },
    {
     "name": "stdout",
     "output_type": "stream",
     "text": [
      "s_3684\n"
     ]
    },
    {
     "name": "stderr",
     "output_type": "stream",
     "text": [
      "2024-05-24 15:11:23,196 - boundary_types.py[line:68] - INFO: Compartment `e` sounds like an external compartment. Using this one without counting boundary reactions.\n",
      "2024-05-24 15:11:23,221 - boundary_types.py[line:68] - INFO: Compartment `e` sounds like an external compartment. Using this one without counting boundary reactions.\n",
      "2024-05-24 15:11:24,087 - 3888050103.py[line:20] - INFO: glycerol: G\n",
      "2024-05-24 15:11:24,089 - model.py[line:209] - INFO: The current solver interface glpk doesn't support setting the optimality tolerance.\n",
      "2024-05-24 15:11:24,856 - boundary_types.py[line:68] - INFO: Compartment `e` sounds like an external compartment. Using this one without counting boundary reactions.\n",
      "2024-05-24 15:11:24,860 - boundary_types.py[line:68] - INFO: Compartment `e` sounds like an external compartment. Using this one without counting boundary reactions.\n",
      "2024-05-24 15:11:24,861 - 3936220034.py[line:12] - INFO: add s_3218 <=> \n",
      "2024-05-24 15:11:24,862 - model.py[line:209] - INFO: The current solver interface glpk doesn't support setting the optimality tolerance.\n"
     ]
    },
    {
     "name": "stdout",
     "output_type": "stream",
     "text": [
      "s_3218\n"
     ]
    },
    {
     "name": "stderr",
     "output_type": "stream",
     "text": [
      "2024-05-24 15:11:25,366 - boundary_types.py[line:68] - INFO: Compartment `e` sounds like an external compartment. Using this one without counting boundary reactions.\n",
      "2024-05-24 15:11:25,383 - boundary_types.py[line:68] - INFO: Compartment `e` sounds like an external compartment. Using this one without counting boundary reactions.\n",
      "2024-05-24 15:11:25,872 - 3888050103.py[line:20] - INFO: glycerol 3-phosphate: G\n",
      "2024-05-24 15:11:25,874 - model.py[line:209] - INFO: The current solver interface glpk doesn't support setting the optimality tolerance.\n",
      "2024-05-24 15:11:26,406 - boundary_types.py[line:68] - INFO: Compartment `e` sounds like an external compartment. Using this one without counting boundary reactions.\n",
      "2024-05-24 15:11:26,408 - 3936220034.py[line:5] - INFO: add s_4167 <=> \n",
      "2024-05-24 15:11:26,409 - model.py[line:209] - INFO: The current solver interface glpk doesn't support setting the optimality tolerance.\n",
      "2024-05-24 15:11:26,956 - boundary_types.py[line:68] - INFO: Compartment `e` sounds like an external compartment. Using this one without counting boundary reactions.\n",
      "2024-05-24 15:11:26,974 - boundary_types.py[line:68] - INFO: Compartment `e` sounds like an external compartment. Using this one without counting boundary reactions.\n",
      "2024-05-24 15:11:27,582 - 3888050103.py[line:20] - INFO: glycerone: G\n",
      "2024-05-24 15:11:27,582 - model.py[line:209] - INFO: The current solver interface glpk doesn't support setting the optimality tolerance.\n",
      "2024-05-24 15:11:28,118 - boundary_types.py[line:68] - INFO: Compartment `e` sounds like an external compartment. Using this one without counting boundary reactions.\n",
      "2024-05-24 15:11:28,118 - boundary_types.py[line:68] - INFO: Compartment `e` sounds like an external compartment. Using this one without counting boundary reactions.\n",
      "2024-05-24 15:11:28,118 - 3936220034.py[line:12] - INFO: add s_0774 <=> \n",
      "2024-05-24 15:11:28,134 - model.py[line:209] - INFO: The current solver interface glpk doesn't support setting the optimality tolerance.\n"
     ]
    },
    {
     "name": "stdout",
     "output_type": "stream",
     "text": [
      "s_0774\n"
     ]
    },
    {
     "name": "stderr",
     "output_type": "stream",
     "text": [
      "2024-05-24 15:11:28,719 - boundary_types.py[line:68] - INFO: Compartment `e` sounds like an external compartment. Using this one without counting boundary reactions.\n",
      "2024-05-24 15:11:28,736 - boundary_types.py[line:68] - INFO: Compartment `e` sounds like an external compartment. Using this one without counting boundary reactions.\n",
      "2024-05-24 15:11:29,387 - 3888050103.py[line:20] - INFO: glycogen: G\n",
      "2024-05-24 15:11:29,387 - model.py[line:209] - INFO: The current solver interface glpk doesn't support setting the optimality tolerance.\n",
      "2024-05-24 15:11:29,955 - boundary_types.py[line:68] - INFO: Compartment `e` sounds like an external compartment. Using this one without counting boundary reactions.\n",
      "2024-05-24 15:11:29,970 - boundary_types.py[line:68] - INFO: Compartment `e` sounds like an external compartment. Using this one without counting boundary reactions.\n",
      "2024-05-24 15:11:29,970 - 3936220034.py[line:12] - INFO: add s_0781 <=> \n",
      "2024-05-24 15:11:29,970 - model.py[line:209] - INFO: The current solver interface glpk doesn't support setting the optimality tolerance.\n"
     ]
    },
    {
     "name": "stdout",
     "output_type": "stream",
     "text": [
      "s_0781\n"
     ]
    },
    {
     "name": "stderr",
     "output_type": "stream",
     "text": [
      "2024-05-24 15:11:30,488 - boundary_types.py[line:68] - INFO: Compartment `e` sounds like an external compartment. Using this one without counting boundary reactions.\n",
      "2024-05-24 15:11:30,504 - boundary_types.py[line:68] - INFO: Compartment `e` sounds like an external compartment. Using this one without counting boundary reactions.\n",
      "2024-05-24 15:11:31,104 - 3888050103.py[line:20] - INFO: glyoxylate: G\n",
      "2024-05-24 15:11:31,119 - model.py[line:209] - INFO: The current solver interface glpk doesn't support setting the optimality tolerance.\n",
      "2024-05-24 15:11:33,923 - boundary_types.py[line:68] - INFO: Compartment `e` sounds like an external compartment. Using this one without counting boundary reactions.\n",
      "2024-05-24 15:11:33,923 - 3936220034.py[line:5] - INFO: add s_4148 <=> \n",
      "2024-05-24 15:11:33,923 - model.py[line:209] - INFO: The current solver interface glpk doesn't support setting the optimality tolerance.\n",
      "2024-05-24 15:11:34,457 - boundary_types.py[line:68] - INFO: Compartment `e` sounds like an external compartment. Using this one without counting boundary reactions.\n",
      "2024-05-24 15:11:34,474 - boundary_types.py[line:68] - INFO: Compartment `e` sounds like an external compartment. Using this one without counting boundary reactions.\n",
      "2024-05-24 15:11:35,025 - 3888050103.py[line:20] - INFO: GMP: G\n",
      "2024-05-24 15:11:35,025 - model.py[line:209] - INFO: The current solver interface glpk doesn't support setting the optimality tolerance.\n",
      "2024-05-24 15:11:35,577 - boundary_types.py[line:68] - INFO: Compartment `e` sounds like an external compartment. Using this one without counting boundary reactions.\n",
      "2024-05-24 15:11:35,586 - boundary_types.py[line:68] - INFO: Compartment `e` sounds like an external compartment. Using this one without counting boundary reactions.\n",
      "2024-05-24 15:11:35,588 - 3936220034.py[line:12] - INFO: add s_0789 <=> \n",
      "2024-05-24 15:11:35,589 - model.py[line:209] - INFO: The current solver interface glpk doesn't support setting the optimality tolerance.\n"
     ]
    },
    {
     "name": "stdout",
     "output_type": "stream",
     "text": [
      "s_0789\n"
     ]
    },
    {
     "name": "stderr",
     "output_type": "stream",
     "text": [
      "2024-05-24 15:11:36,142 - boundary_types.py[line:68] - INFO: Compartment `e` sounds like an external compartment. Using this one without counting boundary reactions.\n",
      "2024-05-24 15:11:36,158 - boundary_types.py[line:68] - INFO: Compartment `e` sounds like an external compartment. Using this one without counting boundary reactions.\n",
      "2024-05-24 15:11:36,742 - 3888050103.py[line:20] - INFO: guanine: G\n",
      "2024-05-24 15:11:36,742 - model.py[line:209] - INFO: The current solver interface glpk doesn't support setting the optimality tolerance.\n",
      "2024-05-24 15:11:37,284 - boundary_types.py[line:68] - INFO: Compartment `e` sounds like an external compartment. Using this one without counting boundary reactions.\n",
      "2024-05-24 15:11:37,289 - boundary_types.py[line:68] - INFO: Compartment `e` sounds like an external compartment. Using this one without counting boundary reactions.\n",
      "2024-05-24 15:11:37,290 - 3936220034.py[line:12] - INFO: add s_0792 <=> \n",
      "2024-05-24 15:11:37,291 - model.py[line:209] - INFO: The current solver interface glpk doesn't support setting the optimality tolerance.\n"
     ]
    },
    {
     "name": "stdout",
     "output_type": "stream",
     "text": [
      "s_0792\n"
     ]
    },
    {
     "name": "stderr",
     "output_type": "stream",
     "text": [
      "2024-05-24 15:11:38,127 - boundary_types.py[line:68] - INFO: Compartment `e` sounds like an external compartment. Using this one without counting boundary reactions.\n",
      "2024-05-24 15:11:38,160 - boundary_types.py[line:68] - INFO: Compartment `e` sounds like an external compartment. Using this one without counting boundary reactions.\n",
      "2024-05-24 15:11:38,477 - 3888050103.py[line:20] - INFO: guanosine: NG\n",
      "2024-05-24 15:11:38,486 - model.py[line:209] - INFO: The current solver interface glpk doesn't support setting the optimality tolerance.\n",
      "2024-05-24 15:11:39,440 - boundary_types.py[line:68] - INFO: Compartment `e` sounds like an external compartment. Using this one without counting boundary reactions.\n",
      "2024-05-24 15:11:39,442 - 3936220034.py[line:5] - INFO: add s_0857 <=> \n",
      "2024-05-24 15:11:39,445 - model.py[line:209] - INFO: The current solver interface glpk doesn't support setting the optimality tolerance.\n",
      "2024-05-24 15:11:40,290 - boundary_types.py[line:68] - INFO: Compartment `e` sounds like an external compartment. Using this one without counting boundary reactions.\n",
      "2024-05-24 15:11:40,310 - boundary_types.py[line:68] - INFO: Compartment `e` sounds like an external compartment. Using this one without counting boundary reactions.\n",
      "2024-05-24 15:11:40,856 - 3888050103.py[line:20] - INFO: inosine: G\n",
      "2024-05-24 15:11:40,858 - model.py[line:209] - INFO: The current solver interface glpk doesn't support setting the optimality tolerance.\n",
      "2024-05-24 15:11:41,392 - boundary_types.py[line:68] - INFO: Compartment `e` sounds like an external compartment. Using this one without counting boundary reactions.\n",
      "2024-05-24 15:11:41,394 - 3936220034.py[line:5] - INFO: add s_0857 <=> \n",
      "2024-05-24 15:11:41,395 - model.py[line:209] - INFO: The current solver interface glpk doesn't support setting the optimality tolerance.\n",
      "2024-05-24 15:11:41,924 - boundary_types.py[line:68] - INFO: Compartment `e` sounds like an external compartment. Using this one without counting boundary reactions.\n",
      "2024-05-24 15:11:41,941 - boundary_types.py[line:68] - INFO: Compartment `e` sounds like an external compartment. Using this one without counting boundary reactions.\n",
      "2024-05-24 15:11:42,127 - 3888050103.py[line:20] - INFO: inosine: NG\n",
      "2024-05-24 15:11:42,129 - model.py[line:209] - INFO: The current solver interface glpk doesn't support setting the optimality tolerance.\n",
      "2024-05-24 15:11:42,653 - boundary_types.py[line:68] - INFO: Compartment `e` sounds like an external compartment. Using this one without counting boundary reactions.\n",
      "2024-05-24 15:11:42,659 - boundary_types.py[line:68] - INFO: Compartment `e` sounds like an external compartment. Using this one without counting boundary reactions.\n",
      "2024-05-24 15:11:42,660 - 3936220034.py[line:12] - INFO: add s_0946 <=> \n",
      "2024-05-24 15:11:42,662 - model.py[line:209] - INFO: The current solver interface glpk doesn't support setting the optimality tolerance.\n"
     ]
    },
    {
     "name": "stdout",
     "output_type": "stream",
     "text": [
      "s_0946\n"
     ]
    },
    {
     "name": "stderr",
     "output_type": "stream",
     "text": [
      "2024-05-24 15:11:43,207 - boundary_types.py[line:68] - INFO: Compartment `e` sounds like an external compartment. Using this one without counting boundary reactions.\n",
      "2024-05-24 15:11:43,225 - boundary_types.py[line:68] - INFO: Compartment `e` sounds like an external compartment. Using this one without counting boundary reactions.\n",
      "2024-05-24 15:11:43,791 - glpk_interface.py[line:689] - DEBUG: Status undefined. GLPK status code returned by glp_simplex was 10\n",
      "c:\\Users\\13293\\APP\\anaconda\\envs\\yeast9\\lib\\site-packages\\cobra\\util\\solver.py:554: UserWarning: Solver status is 'infeasible'.\n",
      "  warn(f\"Solver status is '{status}'.\", UserWarning)\n",
      "2024-05-24 15:11:43,817 - 3888050103.py[line:20] - INFO: itaconate: NG\n",
      "2024-05-24 15:11:43,818 - model.py[line:209] - INFO: The current solver interface glpk doesn't support setting the optimality tolerance.\n",
      "2024-05-24 15:11:44,391 - boundary_types.py[line:68] - INFO: Compartment `e` sounds like an external compartment. Using this one without counting boundary reactions.\n",
      "2024-05-24 15:11:44,396 - boundary_types.py[line:68] - INFO: Compartment `e` sounds like an external compartment. Using this one without counting boundary reactions.\n",
      "2024-05-24 15:11:44,398 - 3936220034.py[line:12] - INFO: add s_3759 <=> \n",
      "2024-05-24 15:11:44,398 - model.py[line:209] - INFO: The current solver interface glpk doesn't support setting the optimality tolerance.\n"
     ]
    },
    {
     "name": "stdout",
     "output_type": "stream",
     "text": [
      "s_3759\n"
     ]
    },
    {
     "name": "stderr",
     "output_type": "stream",
     "text": [
      "2024-05-24 15:11:44,968 - boundary_types.py[line:68] - INFO: Compartment `e` sounds like an external compartment. Using this one without counting boundary reactions.\n",
      "2024-05-24 15:11:44,987 - boundary_types.py[line:68] - INFO: Compartment `e` sounds like an external compartment. Using this one without counting boundary reactions.\n",
      "2024-05-24 15:11:45,787 - 3888050103.py[line:20] - INFO: L-alanine: G\n",
      "2024-05-24 15:11:45,790 - model.py[line:209] - INFO: The current solver interface glpk doesn't support setting the optimality tolerance.\n",
      "2024-05-24 15:11:46,704 - boundary_types.py[line:68] - INFO: Compartment `e` sounds like an external compartment. Using this one without counting boundary reactions.\n",
      "2024-05-24 15:11:46,719 - boundary_types.py[line:68] - INFO: Compartment `e` sounds like an external compartment. Using this one without counting boundary reactions.\n",
      "2024-05-24 15:11:46,719 - 3936220034.py[line:12] - INFO: add s_3759 <=> \n",
      "2024-05-24 15:11:46,731 - model.py[line:209] - INFO: The current solver interface glpk doesn't support setting the optimality tolerance.\n"
     ]
    },
    {
     "name": "stdout",
     "output_type": "stream",
     "text": [
      "s_3759\n"
     ]
    },
    {
     "name": "stderr",
     "output_type": "stream",
     "text": [
      "2024-05-24 15:11:47,672 - boundary_types.py[line:68] - INFO: Compartment `e` sounds like an external compartment. Using this one without counting boundary reactions.\n",
      "2024-05-24 15:11:47,685 - boundary_types.py[line:68] - INFO: Compartment `e` sounds like an external compartment. Using this one without counting boundary reactions.\n",
      "2024-05-24 15:11:48,319 - 3888050103.py[line:20] - INFO: L-alanine: G\n",
      "2024-05-24 15:11:48,319 - model.py[line:209] - INFO: The current solver interface glpk doesn't support setting the optimality tolerance.\n",
      "2024-05-24 15:11:51,270 - boundary_types.py[line:68] - INFO: Compartment `e` sounds like an external compartment. Using this one without counting boundary reactions.\n",
      "2024-05-24 15:11:51,270 - 3936220034.py[line:5] - INFO: add s_0962 <=> \n",
      "2024-05-24 15:11:51,270 - model.py[line:209] - INFO: The current solver interface glpk doesn't support setting the optimality tolerance.\n",
      "2024-05-24 15:11:51,840 - boundary_types.py[line:68] - INFO: Compartment `e` sounds like an external compartment. Using this one without counting boundary reactions.\n",
      "2024-05-24 15:11:51,855 - boundary_types.py[line:68] - INFO: Compartment `e` sounds like an external compartment. Using this one without counting boundary reactions.\n",
      "2024-05-24 15:11:52,607 - 3888050103.py[line:20] - INFO: L-arabinitol: G\n",
      "2024-05-24 15:11:52,607 - model.py[line:209] - INFO: The current solver interface glpk doesn't support setting the optimality tolerance.\n",
      "2024-05-24 15:11:53,155 - boundary_types.py[line:68] - INFO: Compartment `e` sounds like an external compartment. Using this one without counting boundary reactions.\n",
      "2024-05-24 15:11:53,155 - 3936220034.py[line:5] - INFO: add s_0964 <=> \n",
      "2024-05-24 15:11:53,155 - model.py[line:209] - INFO: The current solver interface glpk doesn't support setting the optimality tolerance.\n",
      "2024-05-24 15:11:53,696 - boundary_types.py[line:68] - INFO: Compartment `e` sounds like an external compartment. Using this one without counting boundary reactions.\n",
      "2024-05-24 15:11:53,714 - boundary_types.py[line:68] - INFO: Compartment `e` sounds like an external compartment. Using this one without counting boundary reactions.\n",
      "2024-05-24 15:11:54,255 - 3888050103.py[line:20] - INFO: L-arabinose: G\n",
      "2024-05-24 15:11:54,257 - model.py[line:209] - INFO: The current solver interface glpk doesn't support setting the optimality tolerance.\n",
      "2024-05-24 15:11:54,809 - boundary_types.py[line:68] - INFO: Compartment `e` sounds like an external compartment. Using this one without counting boundary reactions.\n",
      "2024-05-24 15:11:54,809 - boundary_types.py[line:68] - INFO: Compartment `e` sounds like an external compartment. Using this one without counting boundary reactions.\n",
      "2024-05-24 15:11:54,809 - 3936220034.py[line:12] - INFO: add s_0968 <=> \n",
      "2024-05-24 15:11:54,818 - model.py[line:209] - INFO: The current solver interface glpk doesn't support setting the optimality tolerance.\n"
     ]
    },
    {
     "name": "stdout",
     "output_type": "stream",
     "text": [
      "s_0968\n"
     ]
    },
    {
     "name": "stderr",
     "output_type": "stream",
     "text": [
      "2024-05-24 15:11:55,367 - boundary_types.py[line:68] - INFO: Compartment `e` sounds like an external compartment. Using this one without counting boundary reactions.\n",
      "2024-05-24 15:11:55,385 - boundary_types.py[line:68] - INFO: Compartment `e` sounds like an external compartment. Using this one without counting boundary reactions.\n",
      "2024-05-24 15:11:55,958 - 3888050103.py[line:20] - INFO: L-arginine: G\n",
      "2024-05-24 15:11:55,958 - model.py[line:209] - INFO: The current solver interface glpk doesn't support setting the optimality tolerance.\n",
      "2024-05-24 15:11:56,542 - boundary_types.py[line:68] - INFO: Compartment `e` sounds like an external compartment. Using this one without counting boundary reactions.\n",
      "2024-05-24 15:11:56,554 - boundary_types.py[line:68] - INFO: Compartment `e` sounds like an external compartment. Using this one without counting boundary reactions.\n",
      "2024-05-24 15:11:56,556 - 3936220034.py[line:12] - INFO: add s_0968 <=> \n",
      "2024-05-24 15:11:56,557 - model.py[line:209] - INFO: The current solver interface glpk doesn't support setting the optimality tolerance.\n"
     ]
    },
    {
     "name": "stdout",
     "output_type": "stream",
     "text": [
      "s_0968\n"
     ]
    },
    {
     "name": "stderr",
     "output_type": "stream",
     "text": [
      "2024-05-24 15:11:57,134 - boundary_types.py[line:68] - INFO: Compartment `e` sounds like an external compartment. Using this one without counting boundary reactions.\n",
      "2024-05-24 15:11:57,152 - boundary_types.py[line:68] - INFO: Compartment `e` sounds like an external compartment. Using this one without counting boundary reactions.\n",
      "2024-05-24 15:11:57,692 - 3888050103.py[line:20] - INFO: L-arginine: G\n",
      "2024-05-24 15:11:57,692 - model.py[line:209] - INFO: The current solver interface glpk doesn't support setting the optimality tolerance.\n",
      "2024-05-24 15:11:58,246 - boundary_types.py[line:68] - INFO: Compartment `e` sounds like an external compartment. Using this one without counting boundary reactions.\n",
      "2024-05-24 15:11:58,253 - boundary_types.py[line:68] - INFO: Compartment `e` sounds like an external compartment. Using this one without counting boundary reactions.\n",
      "2024-05-24 15:11:58,255 - 3936220034.py[line:12] - INFO: add s_0972 <=> \n",
      "2024-05-24 15:11:58,256 - model.py[line:209] - INFO: The current solver interface glpk doesn't support setting the optimality tolerance.\n"
     ]
    },
    {
     "name": "stdout",
     "output_type": "stream",
     "text": [
      "s_0972\n"
     ]
    },
    {
     "name": "stderr",
     "output_type": "stream",
     "text": [
      "2024-05-24 15:11:58,822 - boundary_types.py[line:68] - INFO: Compartment `e` sounds like an external compartment. Using this one without counting boundary reactions.\n",
      "2024-05-24 15:11:58,840 - boundary_types.py[line:68] - INFO: Compartment `e` sounds like an external compartment. Using this one without counting boundary reactions.\n",
      "2024-05-24 15:11:59,428 - 3888050103.py[line:20] - INFO: L-asparagine: G\n",
      "2024-05-24 15:11:59,428 - model.py[line:209] - INFO: The current solver interface glpk doesn't support setting the optimality tolerance.\n",
      "2024-05-24 15:12:00,012 - boundary_types.py[line:68] - INFO: Compartment `e` sounds like an external compartment. Using this one without counting boundary reactions.\n",
      "2024-05-24 15:12:00,021 - boundary_types.py[line:68] - INFO: Compartment `e` sounds like an external compartment. Using this one without counting boundary reactions.\n",
      "2024-05-24 15:12:00,024 - 3936220034.py[line:12] - INFO: add s_0972 <=> \n",
      "2024-05-24 15:12:00,025 - model.py[line:209] - INFO: The current solver interface glpk doesn't support setting the optimality tolerance.\n"
     ]
    },
    {
     "name": "stdout",
     "output_type": "stream",
     "text": [
      "s_0972\n"
     ]
    },
    {
     "name": "stderr",
     "output_type": "stream",
     "text": [
      "2024-05-24 15:12:00,586 - boundary_types.py[line:68] - INFO: Compartment `e` sounds like an external compartment. Using this one without counting boundary reactions.\n",
      "2024-05-24 15:12:00,605 - boundary_types.py[line:68] - INFO: Compartment `e` sounds like an external compartment. Using this one without counting boundary reactions.\n",
      "2024-05-24 15:12:01,220 - 3888050103.py[line:20] - INFO: L-asparagine: G\n",
      "2024-05-24 15:12:01,221 - model.py[line:209] - INFO: The current solver interface glpk doesn't support setting the optimality tolerance.\n",
      "2024-05-24 15:12:01,783 - boundary_types.py[line:68] - INFO: Compartment `e` sounds like an external compartment. Using this one without counting boundary reactions.\n",
      "2024-05-24 15:12:01,789 - boundary_types.py[line:68] - INFO: Compartment `e` sounds like an external compartment. Using this one without counting boundary reactions.\n",
      "2024-05-24 15:12:01,790 - 3936220034.py[line:12] - INFO: add s_0977 <=> \n",
      "2024-05-24 15:12:01,792 - model.py[line:209] - INFO: The current solver interface glpk doesn't support setting the optimality tolerance.\n"
     ]
    },
    {
     "name": "stdout",
     "output_type": "stream",
     "text": [
      "s_0977\n"
     ]
    },
    {
     "name": "stderr",
     "output_type": "stream",
     "text": [
      "2024-05-24 15:12:02,342 - boundary_types.py[line:68] - INFO: Compartment `e` sounds like an external compartment. Using this one without counting boundary reactions.\n",
      "2024-05-24 15:12:02,361 - boundary_types.py[line:68] - INFO: Compartment `e` sounds like an external compartment. Using this one without counting boundary reactions.\n",
      "2024-05-24 15:12:02,981 - 3888050103.py[line:20] - INFO: L-aspartate: G\n",
      "2024-05-24 15:12:02,983 - model.py[line:209] - INFO: The current solver interface glpk doesn't support setting the optimality tolerance.\n",
      "2024-05-24 15:12:03,540 - boundary_types.py[line:68] - INFO: Compartment `e` sounds like an external compartment. Using this one without counting boundary reactions.\n",
      "2024-05-24 15:12:03,545 - boundary_types.py[line:68] - INFO: Compartment `e` sounds like an external compartment. Using this one without counting boundary reactions.\n",
      "2024-05-24 15:12:03,548 - 3936220034.py[line:12] - INFO: add s_0977 <=> \n",
      "2024-05-24 15:12:03,550 - model.py[line:209] - INFO: The current solver interface glpk doesn't support setting the optimality tolerance.\n"
     ]
    },
    {
     "name": "stdout",
     "output_type": "stream",
     "text": [
      "s_0977\n"
     ]
    },
    {
     "name": "stderr",
     "output_type": "stream",
     "text": [
      "2024-05-24 15:12:04,150 - boundary_types.py[line:68] - INFO: Compartment `e` sounds like an external compartment. Using this one without counting boundary reactions.\n",
      "2024-05-24 15:12:04,170 - boundary_types.py[line:68] - INFO: Compartment `e` sounds like an external compartment. Using this one without counting boundary reactions.\n",
      "2024-05-24 15:12:04,719 - 3888050103.py[line:20] - INFO: L-aspartate: G\n",
      "2024-05-24 15:12:04,720 - model.py[line:209] - INFO: The current solver interface glpk doesn't support setting the optimality tolerance.\n",
      "2024-05-24 15:12:05,295 - boundary_types.py[line:68] - INFO: Compartment `e` sounds like an external compartment. Using this one without counting boundary reactions.\n",
      "2024-05-24 15:12:05,296 - 3936220034.py[line:5] - INFO: add s_4166 <=> \n",
      "2024-05-24 15:12:05,298 - model.py[line:209] - INFO: The current solver interface glpk doesn't support setting the optimality tolerance.\n",
      "2024-05-24 15:12:08,134 - boundary_types.py[line:68] - INFO: Compartment `e` sounds like an external compartment. Using this one without counting boundary reactions.\n",
      "2024-05-24 15:12:08,168 - boundary_types.py[line:68] - INFO: Compartment `e` sounds like an external compartment. Using this one without counting boundary reactions.\n",
      "2024-05-24 15:12:08,736 - 3888050103.py[line:20] - INFO: L-citrulline: G\n",
      "2024-05-24 15:12:08,750 - model.py[line:209] - INFO: The current solver interface glpk doesn't support setting the optimality tolerance.\n",
      "2024-05-24 15:12:09,303 - boundary_types.py[line:68] - INFO: Compartment `e` sounds like an external compartment. Using this one without counting boundary reactions.\n",
      "2024-05-24 15:12:09,319 - boundary_types.py[line:68] - INFO: Compartment `e` sounds like an external compartment. Using this one without counting boundary reactions.\n",
      "2024-05-24 15:12:09,319 - 3936220034.py[line:12] - INFO: add s_3785 <=> \n",
      "2024-05-24 15:12:09,319 - model.py[line:209] - INFO: The current solver interface glpk doesn't support setting the optimality tolerance.\n"
     ]
    },
    {
     "name": "stdout",
     "output_type": "stream",
     "text": [
      "s_3785\n"
     ]
    },
    {
     "name": "stderr",
     "output_type": "stream",
     "text": [
      "2024-05-24 15:12:09,903 - boundary_types.py[line:68] - INFO: Compartment `e` sounds like an external compartment. Using this one without counting boundary reactions.\n",
      "2024-05-24 15:12:09,919 - boundary_types.py[line:68] - INFO: Compartment `e` sounds like an external compartment. Using this one without counting boundary reactions.\n",
      "2024-05-24 15:12:10,520 - 3888050103.py[line:20] - INFO: L-cysteine: G\n",
      "2024-05-24 15:12:10,520 - model.py[line:209] - INFO: The current solver interface glpk doesn't support setting the optimality tolerance.\n",
      "2024-05-24 15:12:11,107 - boundary_types.py[line:68] - INFO: Compartment `e` sounds like an external compartment. Using this one without counting boundary reactions.\n",
      "2024-05-24 15:12:11,112 - boundary_types.py[line:68] - INFO: Compartment `e` sounds like an external compartment. Using this one without counting boundary reactions.\n",
      "2024-05-24 15:12:11,114 - 3936220034.py[line:12] - INFO: add s_3785 <=> \n",
      "2024-05-24 15:12:11,114 - model.py[line:209] - INFO: The current solver interface glpk doesn't support setting the optimality tolerance.\n"
     ]
    },
    {
     "name": "stdout",
     "output_type": "stream",
     "text": [
      "s_3785\n"
     ]
    },
    {
     "name": "stderr",
     "output_type": "stream",
     "text": [
      "2024-05-24 15:12:11,656 - boundary_types.py[line:68] - INFO: Compartment `e` sounds like an external compartment. Using this one without counting boundary reactions.\n",
      "2024-05-24 15:12:11,671 - boundary_types.py[line:68] - INFO: Compartment `e` sounds like an external compartment. Using this one without counting boundary reactions.\n",
      "2024-05-24 15:12:12,305 - 3888050103.py[line:20] - INFO: L-cysteine: G\n",
      "2024-05-24 15:12:12,305 - model.py[line:209] - INFO: The current solver interface glpk doesn't support setting the optimality tolerance.\n",
      "2024-05-24 15:12:13,056 - boundary_types.py[line:68] - INFO: Compartment `e` sounds like an external compartment. Using this one without counting boundary reactions.\n",
      "2024-05-24 15:12:13,056 - boundary_types.py[line:68] - INFO: Compartment `e` sounds like an external compartment. Using this one without counting boundary reactions.\n",
      "2024-05-24 15:12:13,056 - 3936220034.py[line:12] - INFO: add s_3925 <=> \n",
      "2024-05-24 15:12:13,056 - model.py[line:209] - INFO: The current solver interface glpk doesn't support setting the optimality tolerance.\n"
     ]
    },
    {
     "name": "stdout",
     "output_type": "stream",
     "text": [
      "s_3925\n"
     ]
    },
    {
     "name": "stderr",
     "output_type": "stream",
     "text": [
      "2024-05-24 15:12:13,589 - boundary_types.py[line:68] - INFO: Compartment `e` sounds like an external compartment. Using this one without counting boundary reactions.\n",
      "2024-05-24 15:12:13,608 - boundary_types.py[line:68] - INFO: Compartment `e` sounds like an external compartment. Using this one without counting boundary reactions.\n",
      "2024-05-24 15:12:14,192 - 3888050103.py[line:20] - INFO: L-cysteinylglycine: G\n",
      "2024-05-24 15:12:14,192 - model.py[line:209] - INFO: The current solver interface glpk doesn't support setting the optimality tolerance.\n",
      "2024-05-24 15:12:14,719 - boundary_types.py[line:68] - INFO: Compartment `e` sounds like an external compartment. Using this one without counting boundary reactions.\n",
      "2024-05-24 15:12:14,728 - boundary_types.py[line:68] - INFO: Compartment `e` sounds like an external compartment. Using this one without counting boundary reactions.\n",
      "2024-05-24 15:12:14,729 - 3936220034.py[line:12] - INFO: add s_0996 <=> \n",
      "2024-05-24 15:12:14,731 - model.py[line:209] - INFO: The current solver interface glpk doesn't support setting the optimality tolerance.\n"
     ]
    },
    {
     "name": "stdout",
     "output_type": "stream",
     "text": [
      "s_0996\n"
     ]
    },
    {
     "name": "stderr",
     "output_type": "stream",
     "text": [
      "2024-05-24 15:12:15,300 - boundary_types.py[line:68] - INFO: Compartment `e` sounds like an external compartment. Using this one without counting boundary reactions.\n",
      "2024-05-24 15:12:15,319 - boundary_types.py[line:68] - INFO: Compartment `e` sounds like an external compartment. Using this one without counting boundary reactions.\n",
      "2024-05-24 15:12:15,954 - 3888050103.py[line:20] - INFO: L-glutamate: G\n",
      "2024-05-24 15:12:15,955 - model.py[line:209] - INFO: The current solver interface glpk doesn't support setting the optimality tolerance.\n",
      "2024-05-24 15:12:16,539 - boundary_types.py[line:68] - INFO: Compartment `e` sounds like an external compartment. Using this one without counting boundary reactions.\n",
      "2024-05-24 15:12:16,542 - boundary_types.py[line:68] - INFO: Compartment `e` sounds like an external compartment. Using this one without counting boundary reactions.\n",
      "2024-05-24 15:12:16,542 - 3936220034.py[line:12] - INFO: add s_0996 <=> \n",
      "2024-05-24 15:12:16,550 - model.py[line:209] - INFO: The current solver interface glpk doesn't support setting the optimality tolerance.\n"
     ]
    },
    {
     "name": "stdout",
     "output_type": "stream",
     "text": [
      "s_0996\n"
     ]
    },
    {
     "name": "stderr",
     "output_type": "stream",
     "text": [
      "2024-05-24 15:12:17,122 - boundary_types.py[line:68] - INFO: Compartment `e` sounds like an external compartment. Using this one without counting boundary reactions.\n",
      "2024-05-24 15:12:17,138 - boundary_types.py[line:68] - INFO: Compartment `e` sounds like an external compartment. Using this one without counting boundary reactions.\n",
      "2024-05-24 15:12:17,795 - 3888050103.py[line:20] - INFO: L-glutamate: G\n",
      "2024-05-24 15:12:17,795 - model.py[line:209] - INFO: The current solver interface glpk doesn't support setting the optimality tolerance.\n",
      "2024-05-24 15:12:18,301 - boundary_types.py[line:68] - INFO: Compartment `e` sounds like an external compartment. Using this one without counting boundary reactions.\n",
      "2024-05-24 15:12:18,306 - boundary_types.py[line:68] - INFO: Compartment `e` sounds like an external compartment. Using this one without counting boundary reactions.\n",
      "2024-05-24 15:12:18,308 - 3936220034.py[line:12] - INFO: add s_3755 <=> \n",
      "2024-05-24 15:12:18,310 - model.py[line:209] - INFO: The current solver interface glpk doesn't support setting the optimality tolerance.\n"
     ]
    },
    {
     "name": "stdout",
     "output_type": "stream",
     "text": [
      "s_3755\n"
     ]
    },
    {
     "name": "stderr",
     "output_type": "stream",
     "text": [
      "2024-05-24 15:12:18,852 - boundary_types.py[line:68] - INFO: Compartment `e` sounds like an external compartment. Using this one without counting boundary reactions.\n",
      "2024-05-24 15:12:18,870 - boundary_types.py[line:68] - INFO: Compartment `e` sounds like an external compartment. Using this one without counting boundary reactions.\n",
      "2024-05-24 15:12:19,832 - 3888050103.py[line:20] - INFO: L-glutamine: G\n",
      "2024-05-24 15:12:19,833 - model.py[line:209] - INFO: The current solver interface glpk doesn't support setting the optimality tolerance.\n",
      "2024-05-24 15:12:20,328 - boundary_types.py[line:68] - INFO: Compartment `e` sounds like an external compartment. Using this one without counting boundary reactions.\n",
      "2024-05-24 15:12:20,335 - boundary_types.py[line:68] - INFO: Compartment `e` sounds like an external compartment. Using this one without counting boundary reactions.\n",
      "2024-05-24 15:12:20,337 - 3936220034.py[line:12] - INFO: add s_3755 <=> \n",
      "2024-05-24 15:12:20,338 - model.py[line:209] - INFO: The current solver interface glpk doesn't support setting the optimality tolerance.\n"
     ]
    },
    {
     "name": "stdout",
     "output_type": "stream",
     "text": [
      "s_3755\n"
     ]
    },
    {
     "name": "stderr",
     "output_type": "stream",
     "text": [
      "2024-05-24 15:12:20,886 - boundary_types.py[line:68] - INFO: Compartment `e` sounds like an external compartment. Using this one without counting boundary reactions.\n",
      "2024-05-24 15:12:20,904 - boundary_types.py[line:68] - INFO: Compartment `e` sounds like an external compartment. Using this one without counting boundary reactions.\n",
      "2024-05-24 15:12:21,506 - 3888050103.py[line:20] - INFO: L-glutamine: G\n",
      "2024-05-24 15:12:21,508 - model.py[line:209] - INFO: The current solver interface glpk doesn't support setting the optimality tolerance.\n",
      "2024-05-24 15:12:22,059 - boundary_types.py[line:68] - INFO: Compartment `e` sounds like an external compartment. Using this one without counting boundary reactions.\n",
      "2024-05-24 15:12:22,063 - boundary_types.py[line:68] - INFO: Compartment `e` sounds like an external compartment. Using this one without counting boundary reactions.\n",
      "2024-05-24 15:12:22,066 - 3936220034.py[line:12] - INFO: add s_3839 <=> \n",
      "2024-05-24 15:12:22,067 - model.py[line:209] - INFO: The current solver interface glpk doesn't support setting the optimality tolerance.\n"
     ]
    },
    {
     "name": "stdout",
     "output_type": "stream",
     "text": [
      "s_3839\n"
     ]
    },
    {
     "name": "stderr",
     "output_type": "stream",
     "text": [
      "2024-05-24 15:12:24,938 - boundary_types.py[line:68] - INFO: Compartment `e` sounds like an external compartment. Using this one without counting boundary reactions.\n",
      "2024-05-24 15:12:24,955 - boundary_types.py[line:68] - INFO: Compartment `e` sounds like an external compartment. Using this one without counting boundary reactions.\n",
      "2024-05-24 15:12:25,483 - 3888050103.py[line:20] - INFO: L-glycine: G\n",
      "2024-05-24 15:12:25,486 - model.py[line:209] - INFO: The current solver interface glpk doesn't support setting the optimality tolerance.\n",
      "2024-05-24 15:12:26,270 - boundary_types.py[line:68] - INFO: Compartment `e` sounds like an external compartment. Using this one without counting boundary reactions.\n",
      "2024-05-24 15:12:26,270 - boundary_types.py[line:68] - INFO: Compartment `e` sounds like an external compartment. Using this one without counting boundary reactions.\n",
      "2024-05-24 15:12:26,282 - 3936220034.py[line:12] - INFO: add s_3839 <=> \n",
      "2024-05-24 15:12:26,284 - model.py[line:209] - INFO: The current solver interface glpk doesn't support setting the optimality tolerance.\n"
     ]
    },
    {
     "name": "stdout",
     "output_type": "stream",
     "text": [
      "s_3839\n"
     ]
    },
    {
     "name": "stderr",
     "output_type": "stream",
     "text": [
      "2024-05-24 15:12:27,217 - boundary_types.py[line:68] - INFO: Compartment `e` sounds like an external compartment. Using this one without counting boundary reactions.\n",
      "2024-05-24 15:12:27,257 - boundary_types.py[line:68] - INFO: Compartment `e` sounds like an external compartment. Using this one without counting boundary reactions.\n",
      "2024-05-24 15:12:27,985 - 3888050103.py[line:20] - INFO: L-glycine: G\n",
      "2024-05-24 15:12:27,985 - model.py[line:209] - INFO: The current solver interface glpk doesn't support setting the optimality tolerance.\n",
      "2024-05-24 15:12:28,635 - boundary_types.py[line:68] - INFO: Compartment `e` sounds like an external compartment. Using this one without counting boundary reactions.\n",
      "2024-05-24 15:12:28,639 - boundary_types.py[line:68] - INFO: Compartment `e` sounds like an external compartment. Using this one without counting boundary reactions.\n",
      "2024-05-24 15:12:28,639 - 3936220034.py[line:12] - INFO: add s_1009 <=> \n",
      "2024-05-24 15:12:28,639 - model.py[line:209] - INFO: The current solver interface glpk doesn't support setting the optimality tolerance.\n"
     ]
    },
    {
     "name": "stdout",
     "output_type": "stream",
     "text": [
      "s_1009\n"
     ]
    },
    {
     "name": "stderr",
     "output_type": "stream",
     "text": [
      "2024-05-24 15:12:29,204 - boundary_types.py[line:68] - INFO: Compartment `e` sounds like an external compartment. Using this one without counting boundary reactions.\n",
      "2024-05-24 15:12:29,218 - boundary_types.py[line:68] - INFO: Compartment `e` sounds like an external compartment. Using this one without counting boundary reactions.\n",
      "2024-05-24 15:12:29,819 - glpk_interface.py[line:689] - DEBUG: Status undefined. GLPK status code returned by glp_simplex was 10\n",
      "c:\\Users\\13293\\APP\\anaconda\\envs\\yeast9\\lib\\site-packages\\cobra\\util\\solver.py:554: UserWarning: Solver status is 'infeasible'.\n",
      "  warn(f\"Solver status is '{status}'.\", UserWarning)\n",
      "2024-05-24 15:12:29,852 - 3888050103.py[line:20] - INFO: L-histidine: NG\n",
      "2024-05-24 15:12:29,852 - model.py[line:209] - INFO: The current solver interface glpk doesn't support setting the optimality tolerance.\n",
      "2024-05-24 15:12:30,422 - boundary_types.py[line:68] - INFO: Compartment `e` sounds like an external compartment. Using this one without counting boundary reactions.\n",
      "2024-05-24 15:12:30,422 - boundary_types.py[line:68] - INFO: Compartment `e` sounds like an external compartment. Using this one without counting boundary reactions.\n",
      "2024-05-24 15:12:30,422 - 3936220034.py[line:12] - INFO: add s_1009 <=> \n",
      "2024-05-24 15:12:30,432 - model.py[line:209] - INFO: The current solver interface glpk doesn't support setting the optimality tolerance.\n"
     ]
    },
    {
     "name": "stdout",
     "output_type": "stream",
     "text": [
      "s_1009\n"
     ]
    },
    {
     "name": "stderr",
     "output_type": "stream",
     "text": [
      "2024-05-24 15:12:31,000 - boundary_types.py[line:68] - INFO: Compartment `e` sounds like an external compartment. Using this one without counting boundary reactions.\n",
      "2024-05-24 15:12:31,016 - boundary_types.py[line:68] - INFO: Compartment `e` sounds like an external compartment. Using this one without counting boundary reactions.\n",
      "2024-05-24 15:12:31,204 - 3888050103.py[line:20] - INFO: L-histidine: NG\n",
      "2024-05-24 15:12:31,204 - model.py[line:209] - INFO: The current solver interface glpk doesn't support setting the optimality tolerance.\n",
      "2024-05-24 15:12:31,771 - boundary_types.py[line:68] - INFO: Compartment `e` sounds like an external compartment. Using this one without counting boundary reactions.\n",
      "2024-05-24 15:12:31,771 - 3936220034.py[line:5] - INFO: add s_1015 <=> \n",
      "2024-05-24 15:12:31,771 - model.py[line:209] - INFO: The current solver interface glpk doesn't support setting the optimality tolerance.\n",
      "2024-05-24 15:12:32,324 - boundary_types.py[line:68] - INFO: Compartment `e` sounds like an external compartment. Using this one without counting boundary reactions.\n",
      "2024-05-24 15:12:32,349 - boundary_types.py[line:68] - INFO: Compartment `e` sounds like an external compartment. Using this one without counting boundary reactions.\n",
      "2024-05-24 15:12:32,922 - 3888050103.py[line:20] - INFO: L-homoserine: G\n",
      "2024-05-24 15:12:32,933 - model.py[line:209] - INFO: The current solver interface glpk doesn't support setting the optimality tolerance.\n",
      "2024-05-24 15:12:33,484 - boundary_types.py[line:68] - INFO: Compartment `e` sounds like an external compartment. Using this one without counting boundary reactions.\n",
      "2024-05-24 15:12:33,486 - 3936220034.py[line:5] - INFO: add s_1015 <=> \n",
      "2024-05-24 15:12:33,487 - model.py[line:209] - INFO: The current solver interface glpk doesn't support setting the optimality tolerance.\n",
      "2024-05-24 15:12:34,023 - boundary_types.py[line:68] - INFO: Compartment `e` sounds like an external compartment. Using this one without counting boundary reactions.\n",
      "2024-05-24 15:12:34,039 - boundary_types.py[line:68] - INFO: Compartment `e` sounds like an external compartment. Using this one without counting boundary reactions.\n",
      "2024-05-24 15:12:34,654 - 3888050103.py[line:20] - INFO: L-homoserine: G\n",
      "2024-05-24 15:12:34,655 - model.py[line:209] - INFO: The current solver interface glpk doesn't support setting the optimality tolerance.\n",
      "2024-05-24 15:12:35,203 - boundary_types.py[line:68] - INFO: Compartment `e` sounds like an external compartment. Using this one without counting boundary reactions.\n",
      "2024-05-24 15:12:35,209 - boundary_types.py[line:68] - INFO: Compartment `e` sounds like an external compartment. Using this one without counting boundary reactions.\n",
      "2024-05-24 15:12:35,209 - 3936220034.py[line:12] - INFO: add s_1019 <=> \n",
      "2024-05-24 15:12:35,209 - model.py[line:209] - INFO: The current solver interface glpk doesn't support setting the optimality tolerance.\n"
     ]
    },
    {
     "name": "stdout",
     "output_type": "stream",
     "text": [
      "s_1019\n"
     ]
    },
    {
     "name": "stderr",
     "output_type": "stream",
     "text": [
      "2024-05-24 15:12:35,817 - boundary_types.py[line:68] - INFO: Compartment `e` sounds like an external compartment. Using this one without counting boundary reactions.\n",
      "2024-05-24 15:12:35,835 - boundary_types.py[line:68] - INFO: Compartment `e` sounds like an external compartment. Using this one without counting boundary reactions.\n",
      "2024-05-24 15:12:36,324 - 3888050103.py[line:20] - INFO: L-isoleucine: NG\n",
      "2024-05-24 15:12:36,332 - model.py[line:209] - INFO: The current solver interface glpk doesn't support setting the optimality tolerance.\n",
      "2024-05-24 15:12:36,891 - boundary_types.py[line:68] - INFO: Compartment `e` sounds like an external compartment. Using this one without counting boundary reactions.\n",
      "2024-05-24 15:12:36,902 - boundary_types.py[line:68] - INFO: Compartment `e` sounds like an external compartment. Using this one without counting boundary reactions.\n",
      "2024-05-24 15:12:36,904 - 3936220034.py[line:12] - INFO: add s_1019 <=> \n",
      "2024-05-24 15:12:36,905 - model.py[line:209] - INFO: The current solver interface glpk doesn't support setting the optimality tolerance.\n"
     ]
    },
    {
     "name": "stdout",
     "output_type": "stream",
     "text": [
      "s_1019\n"
     ]
    },
    {
     "name": "stderr",
     "output_type": "stream",
     "text": [
      "2024-05-24 15:12:37,440 - boundary_types.py[line:68] - INFO: Compartment `e` sounds like an external compartment. Using this one without counting boundary reactions.\n",
      "2024-05-24 15:12:37,456 - boundary_types.py[line:68] - INFO: Compartment `e` sounds like an external compartment. Using this one without counting boundary reactions.\n",
      "2024-05-24 15:12:38,070 - 3888050103.py[line:20] - INFO: L-isoleucine: G\n",
      "2024-05-24 15:12:38,072 - model.py[line:209] - INFO: The current solver interface glpk doesn't support setting the optimality tolerance.\n",
      "2024-05-24 15:12:38,621 - boundary_types.py[line:68] - INFO: Compartment `e` sounds like an external compartment. Using this one without counting boundary reactions.\n",
      "2024-05-24 15:12:38,627 - boundary_types.py[line:68] - INFO: Compartment `e` sounds like an external compartment. Using this one without counting boundary reactions.\n",
      "2024-05-24 15:12:38,629 - 3936220034.py[line:12] - INFO: add s_1024 <=> \n",
      "2024-05-24 15:12:38,629 - model.py[line:209] - INFO: The current solver interface glpk doesn't support setting the optimality tolerance.\n"
     ]
    },
    {
     "name": "stdout",
     "output_type": "stream",
     "text": [
      "s_1024\n"
     ]
    },
    {
     "name": "stderr",
     "output_type": "stream",
     "text": [
      "2024-05-24 15:12:41,766 - boundary_types.py[line:68] - INFO: Compartment `e` sounds like an external compartment. Using this one without counting boundary reactions.\n",
      "2024-05-24 15:12:41,783 - boundary_types.py[line:68] - INFO: Compartment `e` sounds like an external compartment. Using this one without counting boundary reactions.\n",
      "2024-05-24 15:12:42,146 - 3888050103.py[line:20] - INFO: L-leucine: NG\n",
      "2024-05-24 15:12:42,148 - model.py[line:209] - INFO: The current solver interface glpk doesn't support setting the optimality tolerance.\n",
      "2024-05-24 15:12:42,708 - boundary_types.py[line:68] - INFO: Compartment `e` sounds like an external compartment. Using this one without counting boundary reactions.\n",
      "2024-05-24 15:12:42,716 - boundary_types.py[line:68] - INFO: Compartment `e` sounds like an external compartment. Using this one without counting boundary reactions.\n",
      "2024-05-24 15:12:42,718 - 3936220034.py[line:12] - INFO: add s_1024 <=> \n",
      "2024-05-24 15:12:42,720 - model.py[line:209] - INFO: The current solver interface glpk doesn't support setting the optimality tolerance.\n"
     ]
    },
    {
     "name": "stdout",
     "output_type": "stream",
     "text": [
      "s_1024\n"
     ]
    },
    {
     "name": "stderr",
     "output_type": "stream",
     "text": [
      "2024-05-24 15:12:43,301 - boundary_types.py[line:68] - INFO: Compartment `e` sounds like an external compartment. Using this one without counting boundary reactions.\n",
      "2024-05-24 15:12:43,317 - boundary_types.py[line:68] - INFO: Compartment `e` sounds like an external compartment. Using this one without counting boundary reactions.\n",
      "2024-05-24 15:12:43,872 - 3888050103.py[line:20] - INFO: L-leucine: G\n",
      "2024-05-24 15:12:43,874 - model.py[line:209] - INFO: The current solver interface glpk doesn't support setting the optimality tolerance.\n",
      "2024-05-24 15:12:44,512 - boundary_types.py[line:68] - INFO: Compartment `e` sounds like an external compartment. Using this one without counting boundary reactions.\n",
      "2024-05-24 15:12:44,519 - boundary_types.py[line:68] - INFO: Compartment `e` sounds like an external compartment. Using this one without counting boundary reactions.\n",
      "2024-05-24 15:12:44,521 - 3936220034.py[line:12] - INFO: add s_1028 <=> \n",
      "2024-05-24 15:12:44,522 - model.py[line:209] - INFO: The current solver interface glpk doesn't support setting the optimality tolerance.\n"
     ]
    },
    {
     "name": "stdout",
     "output_type": "stream",
     "text": [
      "s_1028\n"
     ]
    },
    {
     "name": "stderr",
     "output_type": "stream",
     "text": [
      "2024-05-24 15:12:45,067 - boundary_types.py[line:68] - INFO: Compartment `e` sounds like an external compartment. Using this one without counting boundary reactions.\n",
      "2024-05-24 15:12:45,082 - boundary_types.py[line:68] - INFO: Compartment `e` sounds like an external compartment. Using this one without counting boundary reactions.\n",
      "2024-05-24 15:12:45,665 - glpk_interface.py[line:689] - DEBUG: Status undefined. GLPK status code returned by glp_simplex was 10\n",
      "c:\\Users\\13293\\APP\\anaconda\\envs\\yeast9\\lib\\site-packages\\cobra\\util\\solver.py:554: UserWarning: Solver status is 'infeasible'.\n",
      "  warn(f\"Solver status is '{status}'.\", UserWarning)\n",
      "2024-05-24 15:12:45,699 - 3888050103.py[line:20] - INFO: L-lysine: NG\n",
      "2024-05-24 15:12:45,703 - model.py[line:209] - INFO: The current solver interface glpk doesn't support setting the optimality tolerance.\n",
      "2024-05-24 15:12:46,231 - boundary_types.py[line:68] - INFO: Compartment `e` sounds like an external compartment. Using this one without counting boundary reactions.\n",
      "2024-05-24 15:12:46,232 - boundary_types.py[line:68] - INFO: Compartment `e` sounds like an external compartment. Using this one without counting boundary reactions.\n",
      "2024-05-24 15:12:46,232 - 3936220034.py[line:12] - INFO: add s_1028 <=> \n",
      "2024-05-24 15:12:46,232 - model.py[line:209] - INFO: The current solver interface glpk doesn't support setting the optimality tolerance.\n"
     ]
    },
    {
     "name": "stdout",
     "output_type": "stream",
     "text": [
      "s_1028\n"
     ]
    },
    {
     "name": "stderr",
     "output_type": "stream",
     "text": [
      "2024-05-24 15:12:46,803 - boundary_types.py[line:68] - INFO: Compartment `e` sounds like an external compartment. Using this one without counting boundary reactions.\n",
      "2024-05-24 15:12:46,823 - boundary_types.py[line:68] - INFO: Compartment `e` sounds like an external compartment. Using this one without counting boundary reactions.\n",
      "2024-05-24 15:12:47,033 - 3888050103.py[line:20] - INFO: L-lysine: NG\n",
      "2024-05-24 15:12:47,033 - model.py[line:209] - INFO: The current solver interface glpk doesn't support setting the optimality tolerance.\n",
      "2024-05-24 15:12:47,641 - boundary_types.py[line:68] - INFO: Compartment `e` sounds like an external compartment. Using this one without counting boundary reactions.\n",
      "2024-05-24 15:12:47,651 - boundary_types.py[line:68] - INFO: Compartment `e` sounds like an external compartment. Using this one without counting boundary reactions.\n",
      "2024-05-24 15:12:47,651 - 3936220034.py[line:12] - INFO: add s_3758 <=> \n",
      "2024-05-24 15:12:47,651 - model.py[line:209] - INFO: The current solver interface glpk doesn't support setting the optimality tolerance.\n"
     ]
    },
    {
     "name": "stdout",
     "output_type": "stream",
     "text": [
      "s_3758\n"
     ]
    },
    {
     "name": "stderr",
     "output_type": "stream",
     "text": [
      "2024-05-24 15:12:48,267 - boundary_types.py[line:68] - INFO: Compartment `e` sounds like an external compartment. Using this one without counting boundary reactions.\n",
      "2024-05-24 15:12:48,285 - boundary_types.py[line:68] - INFO: Compartment `e` sounds like an external compartment. Using this one without counting boundary reactions.\n",
      "2024-05-24 15:12:48,885 - glpk_interface.py[line:689] - DEBUG: Status undefined. GLPK status code returned by glp_simplex was 10\n",
      "c:\\Users\\13293\\APP\\anaconda\\envs\\yeast9\\lib\\site-packages\\cobra\\util\\solver.py:554: UserWarning: Solver status is 'infeasible'.\n",
      "  warn(f\"Solver status is '{status}'.\", UserWarning)\n",
      "2024-05-24 15:12:48,902 - 3888050103.py[line:20] - INFO: L-methionine: NG\n",
      "2024-05-24 15:12:48,902 - model.py[line:209] - INFO: The current solver interface glpk doesn't support setting the optimality tolerance.\n",
      "2024-05-24 15:12:49,448 - boundary_types.py[line:68] - INFO: Compartment `e` sounds like an external compartment. Using this one without counting boundary reactions.\n",
      "2024-05-24 15:12:49,454 - boundary_types.py[line:68] - INFO: Compartment `e` sounds like an external compartment. Using this one without counting boundary reactions.\n",
      "2024-05-24 15:12:49,454 - 3936220034.py[line:12] - INFO: add s_3758 <=> \n",
      "2024-05-24 15:12:49,454 - model.py[line:209] - INFO: The current solver interface glpk doesn't support setting the optimality tolerance.\n"
     ]
    },
    {
     "name": "stdout",
     "output_type": "stream",
     "text": [
      "s_3758\n"
     ]
    },
    {
     "name": "stderr",
     "output_type": "stream",
     "text": [
      "2024-05-24 15:12:49,986 - boundary_types.py[line:68] - INFO: Compartment `e` sounds like an external compartment. Using this one without counting boundary reactions.\n",
      "2024-05-24 15:12:50,002 - boundary_types.py[line:68] - INFO: Compartment `e` sounds like an external compartment. Using this one without counting boundary reactions.\n",
      "2024-05-24 15:12:50,551 - 3888050103.py[line:20] - INFO: L-methionine: G\n",
      "2024-05-24 15:12:50,553 - model.py[line:209] - INFO: The current solver interface glpk doesn't support setting the optimality tolerance.\n",
      "2024-05-24 15:12:51,087 - boundary_types.py[line:68] - INFO: Compartment `e` sounds like an external compartment. Using this one without counting boundary reactions.\n",
      "2024-05-24 15:12:51,087 - boundary_types.py[line:68] - INFO: Compartment `e` sounds like an external compartment. Using this one without counting boundary reactions.\n",
      "2024-05-24 15:12:51,099 - 3936220034.py[line:12] - INFO: add s_3758 <=> \n",
      "2024-05-24 15:12:51,100 - model.py[line:209] - INFO: The current solver interface glpk doesn't support setting the optimality tolerance.\n"
     ]
    },
    {
     "name": "stdout",
     "output_type": "stream",
     "text": [
      "s_3758\n"
     ]
    },
    {
     "name": "stderr",
     "output_type": "stream",
     "text": [
      "2024-05-24 15:12:51,648 - boundary_types.py[line:68] - INFO: Compartment `e` sounds like an external compartment. Using this one without counting boundary reactions.\n",
      "2024-05-24 15:12:51,664 - boundary_types.py[line:68] - INFO: Compartment `e` sounds like an external compartment. Using this one without counting boundary reactions.\n",
      "2024-05-24 15:12:52,204 - 3888050103.py[line:20] - INFO: L-methionine: G\n",
      "2024-05-24 15:12:52,204 - model.py[line:209] - INFO: The current solver interface glpk doesn't support setting the optimality tolerance.\n",
      "2024-05-24 15:12:52,788 - boundary_types.py[line:68] - INFO: Compartment `e` sounds like an external compartment. Using this one without counting boundary reactions.\n",
      "2024-05-24 15:12:52,800 - boundary_types.py[line:68] - INFO: Compartment `e` sounds like an external compartment. Using this one without counting boundary reactions.\n",
      "2024-05-24 15:12:52,803 - 3936220034.py[line:12] - INFO: add s_1034 <=> \n",
      "2024-05-24 15:12:52,804 - model.py[line:209] - INFO: The current solver interface glpk doesn't support setting the optimality tolerance.\n"
     ]
    },
    {
     "name": "stdout",
     "output_type": "stream",
     "text": [
      "s_1034\n"
     ]
    },
    {
     "name": "stderr",
     "output_type": "stream",
     "text": [
      "2024-05-24 15:12:53,372 - boundary_types.py[line:68] - INFO: Compartment `e` sounds like an external compartment. Using this one without counting boundary reactions.\n",
      "2024-05-24 15:12:53,387 - boundary_types.py[line:68] - INFO: Compartment `e` sounds like an external compartment. Using this one without counting boundary reactions.\n",
      "2024-05-24 15:12:53,905 - glpk_interface.py[line:689] - DEBUG: Status undefined. GLPK status code returned by glp_simplex was 10\n",
      "c:\\Users\\13293\\APP\\anaconda\\envs\\yeast9\\lib\\site-packages\\cobra\\util\\solver.py:554: UserWarning: Solver status is 'infeasible'.\n",
      "  warn(f\"Solver status is '{status}'.\", UserWarning)\n",
      "2024-05-24 15:12:53,934 - 3888050103.py[line:20] - INFO: L-phenylalanine: NG\n",
      "2024-05-24 15:12:53,935 - model.py[line:209] - INFO: The current solver interface glpk doesn't support setting the optimality tolerance.\n",
      "2024-05-24 15:12:54,473 - boundary_types.py[line:68] - INFO: Compartment `e` sounds like an external compartment. Using this one without counting boundary reactions.\n",
      "2024-05-24 15:12:54,486 - boundary_types.py[line:68] - INFO: Compartment `e` sounds like an external compartment. Using this one without counting boundary reactions.\n",
      "2024-05-24 15:12:54,487 - 3936220034.py[line:12] - INFO: add s_1034 <=> \n",
      "2024-05-24 15:12:54,488 - model.py[line:209] - INFO: The current solver interface glpk doesn't support setting the optimality tolerance.\n"
     ]
    },
    {
     "name": "stdout",
     "output_type": "stream",
     "text": [
      "s_1034\n"
     ]
    },
    {
     "name": "stderr",
     "output_type": "stream",
     "text": [
      "2024-05-24 15:12:55,069 - boundary_types.py[line:68] - INFO: Compartment `e` sounds like an external compartment. Using this one without counting boundary reactions.\n",
      "2024-05-24 15:12:55,087 - boundary_types.py[line:68] - INFO: Compartment `e` sounds like an external compartment. Using this one without counting boundary reactions.\n",
      "2024-05-24 15:12:55,283 - 3888050103.py[line:20] - INFO: L-phenylalanine: NG\n",
      "2024-05-24 15:12:55,284 - model.py[line:209] - INFO: The current solver interface glpk doesn't support setting the optimality tolerance.\n",
      "2024-05-24 15:12:58,254 - boundary_types.py[line:68] - INFO: Compartment `e` sounds like an external compartment. Using this one without counting boundary reactions.\n",
      "2024-05-24 15:12:58,260 - boundary_types.py[line:68] - INFO: Compartment `e` sounds like an external compartment. Using this one without counting boundary reactions.\n",
      "2024-05-24 15:12:58,262 - 3936220034.py[line:12] - INFO: add s_1037 <=> \n",
      "2024-05-24 15:12:58,263 - model.py[line:209] - INFO: The current solver interface glpk doesn't support setting the optimality tolerance.\n"
     ]
    },
    {
     "name": "stdout",
     "output_type": "stream",
     "text": [
      "s_1037\n"
     ]
    },
    {
     "name": "stderr",
     "output_type": "stream",
     "text": [
      "2024-05-24 15:12:58,788 - boundary_types.py[line:68] - INFO: Compartment `e` sounds like an external compartment. Using this one without counting boundary reactions.\n",
      "2024-05-24 15:12:58,809 - boundary_types.py[line:68] - INFO: Compartment `e` sounds like an external compartment. Using this one without counting boundary reactions.\n",
      "2024-05-24 15:12:59,650 - 3888050103.py[line:20] - INFO: L-proline: G\n",
      "2024-05-24 15:12:59,652 - model.py[line:209] - INFO: The current solver interface glpk doesn't support setting the optimality tolerance.\n",
      "2024-05-24 15:13:00,573 - boundary_types.py[line:68] - INFO: Compartment `e` sounds like an external compartment. Using this one without counting boundary reactions.\n",
      "2024-05-24 15:13:00,585 - boundary_types.py[line:68] - INFO: Compartment `e` sounds like an external compartment. Using this one without counting boundary reactions.\n",
      "2024-05-24 15:13:00,587 - 3936220034.py[line:12] - INFO: add s_1037 <=> \n",
      "2024-05-24 15:13:00,588 - model.py[line:209] - INFO: The current solver interface glpk doesn't support setting the optimality tolerance.\n"
     ]
    },
    {
     "name": "stdout",
     "output_type": "stream",
     "text": [
      "s_1037\n"
     ]
    },
    {
     "name": "stderr",
     "output_type": "stream",
     "text": [
      "2024-05-24 15:13:01,539 - boundary_types.py[line:68] - INFO: Compartment `e` sounds like an external compartment. Using this one without counting boundary reactions.\n",
      "2024-05-24 15:13:01,566 - boundary_types.py[line:68] - INFO: Compartment `e` sounds like an external compartment. Using this one without counting boundary reactions.\n",
      "2024-05-24 15:13:02,322 - 3888050103.py[line:20] - INFO: L-proline: G\n",
      "2024-05-24 15:13:02,324 - model.py[line:209] - INFO: The current solver interface glpk doesn't support setting the optimality tolerance.\n",
      "2024-05-24 15:13:02,921 - boundary_types.py[line:68] - INFO: Compartment `e` sounds like an external compartment. Using this one without counting boundary reactions.\n",
      "2024-05-24 15:13:02,927 - boundary_types.py[line:68] - INFO: Compartment `e` sounds like an external compartment. Using this one without counting boundary reactions.\n",
      "2024-05-24 15:13:02,928 - 3936220034.py[line:12] - INFO: add s_3107 <=> \n",
      "2024-05-24 15:13:02,931 - model.py[line:209] - INFO: The current solver interface glpk doesn't support setting the optimality tolerance.\n"
     ]
    },
    {
     "name": "stdout",
     "output_type": "stream",
     "text": [
      "s_3107\n"
     ]
    },
    {
     "name": "stderr",
     "output_type": "stream",
     "text": [
      "2024-05-24 15:13:03,511 - boundary_types.py[line:68] - INFO: Compartment `e` sounds like an external compartment. Using this one without counting boundary reactions.\n",
      "2024-05-24 15:13:03,528 - boundary_types.py[line:68] - INFO: Compartment `e` sounds like an external compartment. Using this one without counting boundary reactions.\n",
      "2024-05-24 15:13:04,125 - 3888050103.py[line:20] - INFO: L-serine: G\n",
      "2024-05-24 15:13:04,127 - model.py[line:209] - INFO: The current solver interface glpk doesn't support setting the optimality tolerance.\n",
      "2024-05-24 15:13:04,697 - boundary_types.py[line:68] - INFO: Compartment `e` sounds like an external compartment. Using this one without counting boundary reactions.\n",
      "2024-05-24 15:13:04,698 - boundary_types.py[line:68] - INFO: Compartment `e` sounds like an external compartment. Using this one without counting boundary reactions.\n",
      "2024-05-24 15:13:04,698 - 3936220034.py[line:12] - INFO: add s_3107 <=> \n",
      "2024-05-24 15:13:04,698 - model.py[line:209] - INFO: The current solver interface glpk doesn't support setting the optimality tolerance.\n"
     ]
    },
    {
     "name": "stdout",
     "output_type": "stream",
     "text": [
      "s_3107\n"
     ]
    },
    {
     "name": "stderr",
     "output_type": "stream",
     "text": [
      "2024-05-24 15:13:05,254 - boundary_types.py[line:68] - INFO: Compartment `e` sounds like an external compartment. Using this one without counting boundary reactions.\n",
      "2024-05-24 15:13:05,265 - boundary_types.py[line:68] - INFO: Compartment `e` sounds like an external compartment. Using this one without counting boundary reactions.\n",
      "2024-05-24 15:13:05,882 - 3888050103.py[line:20] - INFO: L-serine: G\n",
      "2024-05-24 15:13:05,882 - model.py[line:209] - INFO: The current solver interface glpk doesn't support setting the optimality tolerance.\n",
      "2024-05-24 15:13:06,399 - boundary_types.py[line:68] - INFO: Compartment `e` sounds like an external compartment. Using this one without counting boundary reactions.\n",
      "2024-05-24 15:13:06,399 - 3936220034.py[line:5] - INFO: add s_1044 <=> \n",
      "2024-05-24 15:13:06,399 - model.py[line:209] - INFO: The current solver interface glpk doesn't support setting the optimality tolerance.\n",
      "2024-05-24 15:13:06,932 - boundary_types.py[line:68] - INFO: Compartment `e` sounds like an external compartment. Using this one without counting boundary reactions.\n",
      "2024-05-24 15:13:06,949 - boundary_types.py[line:68] - INFO: Compartment `e` sounds like an external compartment. Using this one without counting boundary reactions.\n",
      "2024-05-24 15:13:07,537 - glpk_interface.py[line:689] - DEBUG: Status undefined. GLPK status code returned by glp_simplex was 10\n",
      "c:\\Users\\13293\\APP\\anaconda\\envs\\yeast9\\lib\\site-packages\\cobra\\util\\solver.py:554: UserWarning: Solver status is 'infeasible'.\n",
      "  warn(f\"Solver status is '{status}'.\", UserWarning)\n",
      "2024-05-24 15:13:07,567 - 3888050103.py[line:20] - INFO: L-sorbose: NG\n",
      "2024-05-24 15:13:07,567 - model.py[line:209] - INFO: The current solver interface glpk doesn't support setting the optimality tolerance.\n",
      "2024-05-24 15:13:08,117 - boundary_types.py[line:68] - INFO: Compartment `e` sounds like an external compartment. Using this one without counting boundary reactions.\n",
      "2024-05-24 15:13:08,132 - boundary_types.py[line:68] - INFO: Compartment `e` sounds like an external compartment. Using this one without counting boundary reactions.\n",
      "2024-05-24 15:13:08,134 - 3936220034.py[line:12] - INFO: add s_4043 <=> \n",
      "2024-05-24 15:13:08,134 - model.py[line:209] - INFO: The current solver interface glpk doesn't support setting the optimality tolerance.\n"
     ]
    },
    {
     "name": "stdout",
     "output_type": "stream",
     "text": [
      "s_4043\n"
     ]
    },
    {
     "name": "stderr",
     "output_type": "stream",
     "text": [
      "2024-05-24 15:13:08,701 - boundary_types.py[line:68] - INFO: Compartment `e` sounds like an external compartment. Using this one without counting boundary reactions.\n",
      "2024-05-24 15:13:08,718 - boundary_types.py[line:68] - INFO: Compartment `e` sounds like an external compartment. Using this one without counting boundary reactions.\n",
      "2024-05-24 15:13:09,456 - 3888050103.py[line:20] - INFO: L-threonine: G\n",
      "2024-05-24 15:13:09,456 - model.py[line:209] - INFO: The current solver interface glpk doesn't support setting the optimality tolerance.\n",
      "2024-05-24 15:13:09,969 - boundary_types.py[line:68] - INFO: Compartment `e` sounds like an external compartment. Using this one without counting boundary reactions.\n",
      "2024-05-24 15:13:09,984 - boundary_types.py[line:68] - INFO: Compartment `e` sounds like an external compartment. Using this one without counting boundary reactions.\n",
      "2024-05-24 15:13:09,985 - 3936220034.py[line:12] - INFO: add s_4043 <=> \n",
      "2024-05-24 15:13:09,985 - model.py[line:209] - INFO: The current solver interface glpk doesn't support setting the optimality tolerance.\n"
     ]
    },
    {
     "name": "stdout",
     "output_type": "stream",
     "text": [
      "s_4043\n"
     ]
    },
    {
     "name": "stderr",
     "output_type": "stream",
     "text": [
      "2024-05-24 15:13:10,533 - boundary_types.py[line:68] - INFO: Compartment `e` sounds like an external compartment. Using this one without counting boundary reactions.\n",
      "2024-05-24 15:13:10,552 - boundary_types.py[line:68] - INFO: Compartment `e` sounds like an external compartment. Using this one without counting boundary reactions.\n",
      "2024-05-24 15:13:11,199 - 3888050103.py[line:20] - INFO: L-threonine: G\n",
      "2024-05-24 15:13:11,200 - model.py[line:209] - INFO: The current solver interface glpk doesn't support setting the optimality tolerance.\n",
      "2024-05-24 15:13:11,787 - boundary_types.py[line:68] - INFO: Compartment `e` sounds like an external compartment. Using this one without counting boundary reactions.\n",
      "2024-05-24 15:13:11,787 - boundary_types.py[line:68] - INFO: Compartment `e` sounds like an external compartment. Using this one without counting boundary reactions.\n",
      "2024-05-24 15:13:11,799 - 3936220034.py[line:12] - INFO: add s_1050 <=> \n",
      "2024-05-24 15:13:11,800 - model.py[line:209] - INFO: The current solver interface glpk doesn't support setting the optimality tolerance.\n"
     ]
    },
    {
     "name": "stdout",
     "output_type": "stream",
     "text": [
      "s_1050\n"
     ]
    },
    {
     "name": "stderr",
     "output_type": "stream",
     "text": [
      "2024-05-24 15:13:12,404 - boundary_types.py[line:68] - INFO: Compartment `e` sounds like an external compartment. Using this one without counting boundary reactions.\n",
      "2024-05-24 15:13:12,434 - boundary_types.py[line:68] - INFO: Compartment `e` sounds like an external compartment. Using this one without counting boundary reactions.\n",
      "2024-05-24 15:13:12,854 - 3888050103.py[line:20] - INFO: L-tryptophan: NG\n",
      "2024-05-24 15:13:12,854 - model.py[line:209] - INFO: The current solver interface glpk doesn't support setting the optimality tolerance.\n",
      "2024-05-24 15:13:13,436 - boundary_types.py[line:68] - INFO: Compartment `e` sounds like an external compartment. Using this one without counting boundary reactions.\n",
      "2024-05-24 15:13:13,438 - boundary_types.py[line:68] - INFO: Compartment `e` sounds like an external compartment. Using this one without counting boundary reactions.\n",
      "2024-05-24 15:13:13,438 - 3936220034.py[line:12] - INFO: add s_1055 <=> \n",
      "2024-05-24 15:13:13,438 - model.py[line:209] - INFO: The current solver interface glpk doesn't support setting the optimality tolerance.\n"
     ]
    },
    {
     "name": "stdout",
     "output_type": "stream",
     "text": [
      "s_1055\n"
     ]
    },
    {
     "name": "stderr",
     "output_type": "stream",
     "text": [
      "2024-05-24 15:13:16,457 - boundary_types.py[line:68] - INFO: Compartment `e` sounds like an external compartment. Using this one without counting boundary reactions.\n",
      "2024-05-24 15:13:16,483 - boundary_types.py[line:68] - INFO: Compartment `e` sounds like an external compartment. Using this one without counting boundary reactions.\n",
      "2024-05-24 15:13:17,050 - 3888050103.py[line:20] - INFO: L-tyrosine: G\n",
      "2024-05-24 15:13:17,051 - model.py[line:209] - INFO: The current solver interface glpk doesn't support setting the optimality tolerance.\n",
      "2024-05-24 15:13:17,608 - boundary_types.py[line:68] - INFO: Compartment `e` sounds like an external compartment. Using this one without counting boundary reactions.\n",
      "2024-05-24 15:13:17,616 - boundary_types.py[line:68] - INFO: Compartment `e` sounds like an external compartment. Using this one without counting boundary reactions.\n",
      "2024-05-24 15:13:17,617 - 3936220034.py[line:12] - INFO: add s_1058 <=> \n",
      "2024-05-24 15:13:17,619 - model.py[line:209] - INFO: The current solver interface glpk doesn't support setting the optimality tolerance.\n"
     ]
    },
    {
     "name": "stdout",
     "output_type": "stream",
     "text": [
      "s_1058\n"
     ]
    },
    {
     "name": "stderr",
     "output_type": "stream",
     "text": [
      "2024-05-24 15:13:18,235 - boundary_types.py[line:68] - INFO: Compartment `e` sounds like an external compartment. Using this one without counting boundary reactions.\n",
      "2024-05-24 15:13:18,255 - boundary_types.py[line:68] - INFO: Compartment `e` sounds like an external compartment. Using this one without counting boundary reactions.\n",
      "2024-05-24 15:13:18,659 - 3888050103.py[line:20] - INFO: L-valine: NG\n",
      "2024-05-24 15:13:18,659 - model.py[line:209] - INFO: The current solver interface glpk doesn't support setting the optimality tolerance.\n",
      "2024-05-24 15:13:19,222 - boundary_types.py[line:68] - INFO: Compartment `e` sounds like an external compartment. Using this one without counting boundary reactions.\n",
      "2024-05-24 15:13:19,226 - boundary_types.py[line:68] - INFO: Compartment `e` sounds like an external compartment. Using this one without counting boundary reactions.\n",
      "2024-05-24 15:13:19,230 - 3936220034.py[line:12] - INFO: add s_1058 <=> \n",
      "2024-05-24 15:13:19,233 - model.py[line:209] - INFO: The current solver interface glpk doesn't support setting the optimality tolerance.\n"
     ]
    },
    {
     "name": "stdout",
     "output_type": "stream",
     "text": [
      "s_1058\n"
     ]
    },
    {
     "name": "stderr",
     "output_type": "stream",
     "text": [
      "2024-05-24 15:13:19,832 - boundary_types.py[line:68] - INFO: Compartment `e` sounds like an external compartment. Using this one without counting boundary reactions.\n",
      "2024-05-24 15:13:19,850 - boundary_types.py[line:68] - INFO: Compartment `e` sounds like an external compartment. Using this one without counting boundary reactions.\n",
      "2024-05-24 15:13:20,399 - 3888050103.py[line:20] - INFO: L-valine: G\n",
      "2024-05-24 15:13:20,400 - model.py[line:209] - INFO: The current solver interface glpk doesn't support setting the optimality tolerance.\n",
      "2024-05-24 15:13:20,972 - boundary_types.py[line:68] - INFO: Compartment `e` sounds like an external compartment. Using this one without counting boundary reactions.\n",
      "2024-05-24 15:13:20,977 - boundary_types.py[line:68] - INFO: Compartment `e` sounds like an external compartment. Using this one without counting boundary reactions.\n",
      "2024-05-24 15:13:20,982 - 3936220034.py[line:12] - INFO: add s_4175 <=> \n",
      "2024-05-24 15:13:20,983 - model.py[line:209] - INFO: The current solver interface glpk doesn't support setting the optimality tolerance.\n"
     ]
    },
    {
     "name": "stdout",
     "output_type": "stream",
     "text": [
      "s_4175\n"
     ]
    },
    {
     "name": "stderr",
     "output_type": "stream",
     "text": [
      "2024-05-24 15:13:21,555 - boundary_types.py[line:68] - INFO: Compartment `e` sounds like an external compartment. Using this one without counting boundary reactions.\n",
      "2024-05-24 15:13:21,573 - boundary_types.py[line:68] - INFO: Compartment `e` sounds like an external compartment. Using this one without counting boundary reactions.\n",
      "2024-05-24 15:13:21,836 - 3888050103.py[line:20] - INFO: lipoamide: NG\n",
      "2024-05-24 15:13:21,838 - model.py[line:209] - INFO: The current solver interface glpk doesn't support setting the optimality tolerance.\n",
      "2024-05-24 15:13:22,408 - boundary_types.py[line:68] - INFO: Compartment `e` sounds like an external compartment. Using this one without counting boundary reactions.\n",
      "2024-05-24 15:13:22,410 - 3936220034.py[line:5] - INFO: add s_1106 <=> \n",
      "2024-05-24 15:13:22,411 - model.py[line:209] - INFO: The current solver interface glpk doesn't support setting the optimality tolerance.\n",
      "2024-05-24 15:13:22,974 - boundary_types.py[line:68] - INFO: Compartment `e` sounds like an external compartment. Using this one without counting boundary reactions.\n",
      "2024-05-24 15:13:22,992 - boundary_types.py[line:68] - INFO: Compartment `e` sounds like an external compartment. Using this one without counting boundary reactions.\n",
      "2024-05-24 15:13:23,595 - 3888050103.py[line:20] - INFO: maltose: G\n",
      "2024-05-24 15:13:23,595 - model.py[line:209] - INFO: The current solver interface glpk doesn't support setting the optimality tolerance.\n",
      "2024-05-24 15:13:24,184 - boundary_types.py[line:68] - INFO: Compartment `e` sounds like an external compartment. Using this one without counting boundary reactions.\n",
      "2024-05-24 15:13:24,184 - boundary_types.py[line:68] - INFO: Compartment `e` sounds like an external compartment. Using this one without counting boundary reactions.\n",
      "2024-05-24 15:13:24,184 - 3936220034.py[line:12] - INFO: add s_1108 <=> \n",
      "2024-05-24 15:13:24,184 - model.py[line:209] - INFO: The current solver interface glpk doesn't support setting the optimality tolerance.\n"
     ]
    },
    {
     "name": "stdout",
     "output_type": "stream",
     "text": [
      "s_1108\n"
     ]
    },
    {
     "name": "stderr",
     "output_type": "stream",
     "text": [
      "2024-05-24 15:13:24,791 - boundary_types.py[line:68] - INFO: Compartment `e` sounds like an external compartment. Using this one without counting boundary reactions.\n",
      "2024-05-24 15:13:24,797 - boundary_types.py[line:68] - INFO: Compartment `e` sounds like an external compartment. Using this one without counting boundary reactions.\n",
      "2024-05-24 15:13:25,438 - glpk_interface.py[line:689] - DEBUG: Status undefined. GLPK status code returned by glp_simplex was 10\n",
      "c:\\Users\\13293\\APP\\anaconda\\envs\\yeast9\\lib\\site-packages\\cobra\\util\\solver.py:554: UserWarning: Solver status is 'infeasible'.\n",
      "  warn(f\"Solver status is '{status}'.\", UserWarning)\n",
      "2024-05-24 15:13:25,463 - 3888050103.py[line:20] - INFO: mannan: NG\n",
      "2024-05-24 15:13:25,465 - model.py[line:209] - INFO: The current solver interface glpk doesn't support setting the optimality tolerance.\n",
      "2024-05-24 15:13:26,015 - boundary_types.py[line:68] - INFO: Compartment `e` sounds like an external compartment. Using this one without counting boundary reactions.\n",
      "2024-05-24 15:13:26,015 - boundary_types.py[line:68] - INFO: Compartment `e` sounds like an external compartment. Using this one without counting boundary reactions.\n",
      "2024-05-24 15:13:26,032 - 3936220034.py[line:12] - INFO: add s_3117 <=> \n",
      "2024-05-24 15:13:26,035 - model.py[line:209] - INFO: The current solver interface glpk doesn't support setting the optimality tolerance.\n"
     ]
    },
    {
     "name": "stdout",
     "output_type": "stream",
     "text": [
      "s_3117\n"
     ]
    },
    {
     "name": "stderr",
     "output_type": "stream",
     "text": [
      "2024-05-24 15:13:26,996 - boundary_types.py[line:68] - INFO: Compartment `e` sounds like an external compartment. Using this one without counting boundary reactions.\n",
      "2024-05-24 15:13:27,031 - boundary_types.py[line:68] - INFO: Compartment `e` sounds like an external compartment. Using this one without counting boundary reactions.\n",
      "2024-05-24 15:13:27,653 - glpk_interface.py[line:689] - DEBUG: Status undefined. GLPK status code returned by glp_simplex was 10\n",
      "c:\\Users\\13293\\APP\\anaconda\\envs\\yeast9\\lib\\site-packages\\cobra\\util\\solver.py:554: UserWarning: Solver status is 'infeasible'.\n",
      "  warn(f\"Solver status is '{status}'.\", UserWarning)\n",
      "2024-05-24 15:13:27,694 - 3888050103.py[line:20] - INFO: myo-inositol: NG\n",
      "2024-05-24 15:13:27,695 - model.py[line:209] - INFO: The current solver interface glpk doesn't support setting the optimality tolerance.\n",
      "2024-05-24 15:13:28,451 - boundary_types.py[line:68] - INFO: Compartment `e` sounds like an external compartment. Using this one without counting boundary reactions.\n",
      "2024-05-24 15:13:28,451 - 3936220034.py[line:5] - INFO: add s_4149 <=> \n",
      "2024-05-24 15:13:28,464 - model.py[line:209] - INFO: The current solver interface glpk doesn't support setting the optimality tolerance.\n",
      "2024-05-24 15:13:29,061 - boundary_types.py[line:68] - INFO: Compartment `e` sounds like an external compartment. Using this one without counting boundary reactions.\n",
      "2024-05-24 15:13:29,080 - boundary_types.py[line:68] - INFO: Compartment `e` sounds like an external compartment. Using this one without counting boundary reactions.\n",
      "2024-05-24 15:13:29,551 - 3888050103.py[line:20] - INFO: myo-inositol hexakisphosphate: NG\n",
      "2024-05-24 15:13:29,553 - model.py[line:209] - INFO: The current solver interface glpk doesn't support setting the optimality tolerance.\n",
      "2024-05-24 15:13:30,543 - boundary_types.py[line:68] - INFO: Compartment `e` sounds like an external compartment. Using this one without counting boundary reactions.\n",
      "2024-05-24 15:13:30,551 - boundary_types.py[line:68] - INFO: Compartment `e` sounds like an external compartment. Using this one without counting boundary reactions.\n",
      "2024-05-24 15:13:30,556 - 3936220034.py[line:12] - INFO: add s_4173 <=> \n",
      "2024-05-24 15:13:30,558 - model.py[line:209] - INFO: The current solver interface glpk doesn't support setting the optimality tolerance.\n"
     ]
    },
    {
     "name": "stdout",
     "output_type": "stream",
     "text": [
      "s_4173\n"
     ]
    },
    {
     "name": "stderr",
     "output_type": "stream",
     "text": [
      "2024-05-24 15:13:33,429 - boundary_types.py[line:68] - INFO: Compartment `e` sounds like an external compartment. Using this one without counting boundary reactions.\n",
      "2024-05-24 15:13:33,463 - boundary_types.py[line:68] - INFO: Compartment `e` sounds like an external compartment. Using this one without counting boundary reactions.\n",
      "2024-05-24 15:13:34,015 - 3888050103.py[line:20] - INFO: N-acetyl-L-glutamate: G\n",
      "2024-05-24 15:13:34,015 - model.py[line:209] - INFO: The current solver interface glpk doesn't support setting the optimality tolerance.\n",
      "2024-05-24 15:13:34,579 - boundary_types.py[line:68] - INFO: Compartment `e` sounds like an external compartment. Using this one without counting boundary reactions.\n",
      "2024-05-24 15:13:34,579 - boundary_types.py[line:68] - INFO: Compartment `e` sounds like an external compartment. Using this one without counting boundary reactions.\n",
      "2024-05-24 15:13:34,579 - 3936220034.py[line:12] - INFO: add s_4173 <=> \n",
      "2024-05-24 15:13:34,579 - model.py[line:209] - INFO: The current solver interface glpk doesn't support setting the optimality tolerance.\n"
     ]
    },
    {
     "name": "stdout",
     "output_type": "stream",
     "text": [
      "s_4173\n"
     ]
    },
    {
     "name": "stderr",
     "output_type": "stream",
     "text": [
      "2024-05-24 15:13:35,280 - boundary_types.py[line:68] - INFO: Compartment `e` sounds like an external compartment. Using this one without counting boundary reactions.\n",
      "2024-05-24 15:13:35,311 - boundary_types.py[line:68] - INFO: Compartment `e` sounds like an external compartment. Using this one without counting boundary reactions.\n",
      "2024-05-24 15:13:36,305 - 3888050103.py[line:20] - INFO: N-acetyl-L-glutamate: G\n",
      "2024-05-24 15:13:36,314 - model.py[line:209] - INFO: The current solver interface glpk doesn't support setting the optimality tolerance.\n",
      "2024-05-24 15:13:37,027 - boundary_types.py[line:68] - INFO: Compartment `e` sounds like an external compartment. Using this one without counting boundary reactions.\n",
      "2024-05-24 15:13:37,027 - 3936220034.py[line:5] - INFO: add s_4154 <=> \n",
      "2024-05-24 15:13:37,043 - model.py[line:209] - INFO: The current solver interface glpk doesn't support setting the optimality tolerance.\n",
      "2024-05-24 15:13:37,945 - boundary_types.py[line:68] - INFO: Compartment `e` sounds like an external compartment. Using this one without counting boundary reactions.\n",
      "2024-05-24 15:13:37,961 - boundary_types.py[line:68] - INFO: Compartment `e` sounds like an external compartment. Using this one without counting boundary reactions.\n",
      "2024-05-24 15:13:38,461 - 3888050103.py[line:20] - INFO: O-phosphoethanolamine: G\n",
      "2024-05-24 15:13:38,476 - model.py[line:209] - INFO: The current solver interface glpk doesn't support setting the optimality tolerance.\n",
      "2024-05-24 15:13:39,012 - boundary_types.py[line:68] - INFO: Compartment `e` sounds like an external compartment. Using this one without counting boundary reactions.\n",
      "2024-05-24 15:13:39,012 - boundary_types.py[line:68] - INFO: Compartment `e` sounds like an external compartment. Using this one without counting boundary reactions.\n",
      "2024-05-24 15:13:39,012 - 3936220034.py[line:12] - INFO: add s_1268 <=> \n",
      "2024-05-24 15:13:39,012 - model.py[line:209] - INFO: The current solver interface glpk doesn't support setting the optimality tolerance.\n"
     ]
    },
    {
     "name": "stdout",
     "output_type": "stream",
     "text": [
      "s_1268\n"
     ]
    },
    {
     "name": "stderr",
     "output_type": "stream",
     "text": [
      "2024-05-24 15:13:39,581 - boundary_types.py[line:68] - INFO: Compartment `e` sounds like an external compartment. Using this one without counting boundary reactions.\n",
      "2024-05-24 15:13:39,596 - boundary_types.py[line:68] - INFO: Compartment `e` sounds like an external compartment. Using this one without counting boundary reactions.\n",
      "2024-05-24 15:13:40,179 - 3888050103.py[line:20] - INFO: ornithine: G\n",
      "2024-05-24 15:13:40,181 - model.py[line:209] - INFO: The current solver interface glpk doesn't support setting the optimality tolerance.\n",
      "2024-05-24 15:13:40,695 - boundary_types.py[line:68] - INFO: Compartment `e` sounds like an external compartment. Using this one without counting boundary reactions.\n",
      "2024-05-24 15:13:40,695 - 3936220034.py[line:5] - INFO: add s_1309 <=> \n",
      "2024-05-24 15:13:40,711 - model.py[line:209] - INFO: The current solver interface glpk doesn't support setting the optimality tolerance.\n",
      "2024-05-24 15:13:41,228 - boundary_types.py[line:68] - INFO: Compartment `e` sounds like an external compartment. Using this one without counting boundary reactions.\n",
      "2024-05-24 15:13:41,248 - boundary_types.py[line:68] - INFO: Compartment `e` sounds like an external compartment. Using this one without counting boundary reactions.\n",
      "2024-05-24 15:13:41,780 - glpk_interface.py[line:689] - DEBUG: Status undefined. GLPK status code returned by glp_simplex was 10\n",
      "c:\\Users\\13293\\APP\\anaconda\\envs\\yeast9\\lib\\site-packages\\cobra\\util\\solver.py:554: UserWarning: Solver status is 'infeasible'.\n",
      "  warn(f\"Solver status is '{status}'.\", UserWarning)\n",
      "2024-05-24 15:13:41,830 - 3888050103.py[line:20] - INFO: pectin: NG\n",
      "2024-05-24 15:13:41,832 - model.py[line:209] - INFO: The current solver interface glpk doesn't support setting the optimality tolerance.\n",
      "2024-05-24 15:13:42,779 - boundary_types.py[line:68] - INFO: Compartment `e` sounds like an external compartment. Using this one without counting boundary reactions.\n",
      "2024-05-24 15:13:42,797 - boundary_types.py[line:68] - INFO: Compartment `e` sounds like an external compartment. Using this one without counting boundary reactions.\n",
      "2024-05-24 15:13:42,797 - 3936220034.py[line:12] - INFO: add s_4293 <=> \n",
      "2024-05-24 15:13:42,797 - model.py[line:209] - INFO: The current solver interface glpk doesn't support setting the optimality tolerance.\n"
     ]
    },
    {
     "name": "stdout",
     "output_type": "stream",
     "text": [
      "s_4293\n"
     ]
    },
    {
     "name": "stderr",
     "output_type": "stream",
     "text": [
      "2024-05-24 15:13:43,730 - boundary_types.py[line:68] - INFO: Compartment `e` sounds like an external compartment. Using this one without counting boundary reactions.\n",
      "2024-05-24 15:13:43,749 - boundary_types.py[line:68] - INFO: Compartment `e` sounds like an external compartment. Using this one without counting boundary reactions.\n",
      "2024-05-24 15:13:44,631 - 3888050103.py[line:20] - INFO: phosphate: G\n",
      "2024-05-24 15:13:44,631 - model.py[line:209] - INFO: The current solver interface glpk doesn't support setting the optimality tolerance.\n",
      "2024-05-24 15:13:45,214 - boundary_types.py[line:68] - INFO: Compartment `e` sounds like an external compartment. Using this one without counting boundary reactions.\n",
      "2024-05-24 15:13:45,214 - 3936220034.py[line:5] - INFO: add s_4152 <=> \n",
      "2024-05-24 15:13:45,214 - model.py[line:209] - INFO: The current solver interface glpk doesn't support setting the optimality tolerance.\n",
      "2024-05-24 15:13:45,723 - boundary_types.py[line:68] - INFO: Compartment `e` sounds like an external compartment. Using this one without counting boundary reactions.\n",
      "2024-05-24 15:13:45,732 - boundary_types.py[line:68] - INFO: Compartment `e` sounds like an external compartment. Using this one without counting boundary reactions.\n",
      "2024-05-24 15:13:46,182 - 3888050103.py[line:20] - INFO: phosphoenolpyruvate: G\n",
      "2024-05-24 15:13:46,182 - model.py[line:209] - INFO: The current solver interface glpk doesn't support setting the optimality tolerance.\n",
      "2024-05-24 15:13:46,697 - boundary_types.py[line:68] - INFO: Compartment `e` sounds like an external compartment. Using this one without counting boundary reactions.\n",
      "2024-05-24 15:13:46,699 - boundary_types.py[line:68] - INFO: Compartment `e` sounds like an external compartment. Using this one without counting boundary reactions.\n",
      "2024-05-24 15:13:46,699 - 3936220034.py[line:12] - INFO: add s_1391 <=> \n",
      "2024-05-24 15:13:46,699 - model.py[line:209] - INFO: The current solver interface glpk doesn't support setting the optimality tolerance.\n"
     ]
    },
    {
     "name": "stdout",
     "output_type": "stream",
     "text": [
      "s_1391\n"
     ]
    },
    {
     "name": "stderr",
     "output_type": "stream",
     "text": [
      "2024-05-24 15:13:47,216 - boundary_types.py[line:68] - INFO: Compartment `e` sounds like an external compartment. Using this one without counting boundary reactions.\n",
      "2024-05-24 15:13:47,233 - boundary_types.py[line:68] - INFO: Compartment `e` sounds like an external compartment. Using this one without counting boundary reactions.\n",
      "2024-05-24 15:13:47,733 - glpk_interface.py[line:689] - DEBUG: Status undefined. GLPK status code returned by glp_simplex was 10\n",
      "c:\\Users\\13293\\APP\\anaconda\\envs\\yeast9\\lib\\site-packages\\cobra\\util\\solver.py:554: UserWarning: Solver status is 'infeasible'.\n",
      "  warn(f\"Solver status is '{status}'.\", UserWarning)\n",
      "2024-05-24 15:13:47,763 - 3888050103.py[line:20] - INFO: putrescine: NG\n",
      "2024-05-24 15:13:47,765 - model.py[line:209] - INFO: The current solver interface glpk doesn't support setting the optimality tolerance.\n",
      "2024-05-24 15:13:48,295 - boundary_types.py[line:68] - INFO: Compartment `e` sounds like an external compartment. Using this one without counting boundary reactions.\n",
      "2024-05-24 15:13:48,301 - boundary_types.py[line:68] - INFO: Compartment `e` sounds like an external compartment. Using this one without counting boundary reactions.\n",
      "2024-05-24 15:13:48,303 - 3936220034.py[line:12] - INFO: add s_1391 <=> \n",
      "2024-05-24 15:13:48,303 - model.py[line:209] - INFO: The current solver interface glpk doesn't support setting the optimality tolerance.\n"
     ]
    },
    {
     "name": "stdout",
     "output_type": "stream",
     "text": [
      "s_1391\n"
     ]
    },
    {
     "name": "stderr",
     "output_type": "stream",
     "text": [
      "2024-05-24 15:13:50,902 - boundary_types.py[line:68] - INFO: Compartment `e` sounds like an external compartment. Using this one without counting boundary reactions.\n",
      "2024-05-24 15:13:50,918 - boundary_types.py[line:68] - INFO: Compartment `e` sounds like an external compartment. Using this one without counting boundary reactions.\n",
      "2024-05-24 15:13:51,103 - 3888050103.py[line:20] - INFO: putrescine: NG\n",
      "2024-05-24 15:13:51,103 - model.py[line:209] - INFO: The current solver interface glpk doesn't support setting the optimality tolerance.\n",
      "2024-05-24 15:13:51,674 - boundary_types.py[line:68] - INFO: Compartment `e` sounds like an external compartment. Using this one without counting boundary reactions.\n",
      "2024-05-24 15:13:51,683 - boundary_types.py[line:68] - INFO: Compartment `e` sounds like an external compartment. Using this one without counting boundary reactions.\n",
      "2024-05-24 15:13:51,684 - 3936220034.py[line:12] - INFO: add s_1401 <=> \n",
      "2024-05-24 15:13:51,685 - model.py[line:209] - INFO: The current solver interface glpk doesn't support setting the optimality tolerance.\n"
     ]
    },
    {
     "name": "stdout",
     "output_type": "stream",
     "text": [
      "s_1401\n"
     ]
    },
    {
     "name": "stderr",
     "output_type": "stream",
     "text": [
      "2024-05-24 15:13:52,237 - boundary_types.py[line:68] - INFO: Compartment `e` sounds like an external compartment. Using this one without counting boundary reactions.\n",
      "2024-05-24 15:13:52,253 - boundary_types.py[line:68] - INFO: Compartment `e` sounds like an external compartment. Using this one without counting boundary reactions.\n",
      "2024-05-24 15:13:52,857 - 3888050103.py[line:20] - INFO: pyruvate: G\n",
      "2024-05-24 15:13:52,857 - model.py[line:209] - INFO: The current solver interface glpk doesn't support setting the optimality tolerance.\n",
      "2024-05-24 15:13:53,418 - boundary_types.py[line:68] - INFO: Compartment `e` sounds like an external compartment. Using this one without counting boundary reactions.\n",
      "2024-05-24 15:13:53,421 - boundary_types.py[line:68] - INFO: Compartment `e` sounds like an external compartment. Using this one without counting boundary reactions.\n",
      "2024-05-24 15:13:53,421 - 3936220034.py[line:12] - INFO: add s_1460 <=> \n",
      "2024-05-24 15:13:53,421 - model.py[line:209] - INFO: The current solver interface glpk doesn't support setting the optimality tolerance.\n"
     ]
    },
    {
     "name": "stdout",
     "output_type": "stream",
     "text": [
      "s_1460\n"
     ]
    },
    {
     "name": "stderr",
     "output_type": "stream",
     "text": [
      "2024-05-24 15:13:53,988 - boundary_types.py[line:68] - INFO: Compartment `e` sounds like an external compartment. Using this one without counting boundary reactions.\n",
      "2024-05-24 15:13:54,013 - boundary_types.py[line:68] - INFO: Compartment `e` sounds like an external compartment. Using this one without counting boundary reactions.\n",
      "2024-05-24 15:13:54,655 - 3888050103.py[line:20] - INFO: succinate: G\n",
      "2024-05-24 15:13:54,655 - model.py[line:209] - INFO: The current solver interface glpk doesn't support setting the optimality tolerance.\n",
      "2024-05-24 15:13:55,197 - boundary_types.py[line:68] - INFO: Compartment `e` sounds like an external compartment. Using this one without counting boundary reactions.\n",
      "2024-05-24 15:13:55,203 - boundary_types.py[line:68] - INFO: Compartment `e` sounds like an external compartment. Using this one without counting boundary reactions.\n",
      "2024-05-24 15:13:55,204 - 3936220034.py[line:12] - INFO: add s_3998 <=> \n",
      "2024-05-24 15:13:55,206 - model.py[line:209] - INFO: The current solver interface glpk doesn't support setting the optimality tolerance.\n"
     ]
    },
    {
     "name": "stdout",
     "output_type": "stream",
     "text": [
      "s_3998\n"
     ]
    },
    {
     "name": "stderr",
     "output_type": "stream",
     "text": [
      "2024-05-24 15:13:55,749 - boundary_types.py[line:68] - INFO: Compartment `e` sounds like an external compartment. Using this one without counting boundary reactions.\n",
      "2024-05-24 15:13:55,766 - boundary_types.py[line:68] - INFO: Compartment `e` sounds like an external compartment. Using this one without counting boundary reactions.\n",
      "2024-05-24 15:13:56,216 - 3888050103.py[line:20] - INFO: sucrose: G\n",
      "2024-05-24 15:13:56,217 - model.py[line:209] - INFO: The current solver interface glpk doesn't support setting the optimality tolerance.\n",
      "2024-05-24 15:13:56,778 - boundary_types.py[line:68] - INFO: Compartment `e` sounds like an external compartment. Using this one without counting boundary reactions.\n",
      "2024-05-24 15:13:56,784 - boundary_types.py[line:68] - INFO: Compartment `e` sounds like an external compartment. Using this one without counting boundary reactions.\n",
      "2024-05-24 15:13:56,785 - 3936220034.py[line:12] - INFO: add s_4016 <=> \n",
      "2024-05-24 15:13:56,786 - model.py[line:209] - INFO: The current solver interface glpk doesn't support setting the optimality tolerance.\n"
     ]
    },
    {
     "name": "stdout",
     "output_type": "stream",
     "text": [
      "s_4016\n"
     ]
    },
    {
     "name": "stderr",
     "output_type": "stream",
     "text": [
      "2024-05-24 15:13:57,318 - boundary_types.py[line:68] - INFO: Compartment `e` sounds like an external compartment. Using this one without counting boundary reactions.\n",
      "2024-05-24 15:13:57,335 - boundary_types.py[line:68] - INFO: Compartment `e` sounds like an external compartment. Using this one without counting boundary reactions.\n",
      "2024-05-24 15:13:57,888 - 3888050103.py[line:20] - INFO: sulphate: G\n",
      "2024-05-24 15:13:57,889 - model.py[line:209] - INFO: The current solver interface glpk doesn't support setting the optimality tolerance.\n",
      "2024-05-24 15:13:58,391 - boundary_types.py[line:68] - INFO: Compartment `e` sounds like an external compartment. Using this one without counting boundary reactions.\n",
      "2024-05-24 15:13:58,397 - boundary_types.py[line:68] - INFO: Compartment `e` sounds like an external compartment. Using this one without counting boundary reactions.\n",
      "2024-05-24 15:13:58,399 - 3936220034.py[line:12] - INFO: add s_1474 <=> \n",
      "2024-05-24 15:13:58,400 - model.py[line:209] - INFO: The current solver interface glpk doesn't support setting the optimality tolerance.\n"
     ]
    },
    {
     "name": "stdout",
     "output_type": "stream",
     "text": [
      "s_1474\n"
     ]
    },
    {
     "name": "stderr",
     "output_type": "stream",
     "text": [
      "2024-05-24 15:13:58,915 - boundary_types.py[line:68] - INFO: Compartment `e` sounds like an external compartment. Using this one without counting boundary reactions.\n",
      "2024-05-24 15:13:58,931 - boundary_types.py[line:68] - INFO: Compartment `e` sounds like an external compartment. Using this one without counting boundary reactions.\n",
      "2024-05-24 15:13:59,202 - 3888050103.py[line:20] - INFO: taurocholic acid: NG\n",
      "2024-05-24 15:13:59,203 - model.py[line:209] - INFO: The current solver interface glpk doesn't support setting the optimality tolerance.\n",
      "2024-05-24 15:13:59,746 - boundary_types.py[line:68] - INFO: Compartment `e` sounds like an external compartment. Using this one without counting boundary reactions.\n",
      "2024-05-24 15:13:59,748 - 3936220034.py[line:5] - INFO: add s_1494 <=> \n",
      "2024-05-24 15:13:59,749 - model.py[line:209] - INFO: The current solver interface glpk doesn't support setting the optimality tolerance.\n",
      "2024-05-24 15:14:00,308 - boundary_types.py[line:68] - INFO: Compartment `e` sounds like an external compartment. Using this one without counting boundary reactions.\n",
      "2024-05-24 15:14:00,328 - boundary_types.py[line:68] - INFO: Compartment `e` sounds like an external compartment. Using this one without counting boundary reactions.\n",
      "2024-05-24 15:14:00,883 - glpk_interface.py[line:689] - DEBUG: Status undefined. GLPK status code returned by glp_simplex was 10\n",
      "c:\\Users\\13293\\APP\\anaconda\\envs\\yeast9\\lib\\site-packages\\cobra\\util\\solver.py:554: UserWarning: Solver status is 'infeasible'.\n",
      "  warn(f\"Solver status is '{status}'.\", UserWarning)\n",
      "2024-05-24 15:14:00,905 - 3888050103.py[line:20] - INFO: thymidine: NG\n",
      "2024-05-24 15:14:00,906 - model.py[line:209] - INFO: The current solver interface glpk doesn't support setting the optimality tolerance.\n",
      "2024-05-24 15:14:01,546 - boundary_types.py[line:68] - INFO: Compartment `e` sounds like an external compartment. Using this one without counting boundary reactions.\n",
      "2024-05-24 15:14:01,560 - 3936220034.py[line:5] - INFO: add s_1494 <=> \n",
      "2024-05-24 15:14:01,560 - model.py[line:209] - INFO: The current solver interface glpk doesn't support setting the optimality tolerance.\n",
      "2024-05-24 15:14:02,595 - boundary_types.py[line:68] - INFO: Compartment `e` sounds like an external compartment. Using this one without counting boundary reactions.\n",
      "2024-05-24 15:14:02,638 - boundary_types.py[line:68] - INFO: Compartment `e` sounds like an external compartment. Using this one without counting boundary reactions.\n",
      "2024-05-24 15:14:02,948 - 3888050103.py[line:20] - INFO: thymidine: NG\n",
      "2024-05-24 15:14:02,948 - model.py[line:209] - INFO: The current solver interface glpk doesn't support setting the optimality tolerance.\n",
      "2024-05-24 15:14:03,878 - boundary_types.py[line:68] - INFO: Compartment `e` sounds like an external compartment. Using this one without counting boundary reactions.\n",
      "2024-05-24 15:14:03,880 - boundary_types.py[line:68] - INFO: Compartment `e` sounds like an external compartment. Using this one without counting boundary reactions.\n",
      "2024-05-24 15:14:03,880 - 3936220034.py[line:12] - INFO: add s_1522 <=> \n",
      "2024-05-24 15:14:03,880 - model.py[line:209] - INFO: The current solver interface glpk doesn't support setting the optimality tolerance.\n"
     ]
    },
    {
     "name": "stdout",
     "output_type": "stream",
     "text": [
      "s_1522\n"
     ]
    },
    {
     "name": "stderr",
     "output_type": "stream",
     "text": [
      "2024-05-24 15:14:04,397 - boundary_types.py[line:68] - INFO: Compartment `e` sounds like an external compartment. Using this one without counting boundary reactions.\n",
      "2024-05-24 15:14:04,428 - boundary_types.py[line:68] - INFO: Compartment `e` sounds like an external compartment. Using this one without counting boundary reactions.\n",
      "2024-05-24 15:14:05,014 - 3888050103.py[line:20] - INFO: trehalose: G\n",
      "2024-05-24 15:14:05,029 - model.py[line:209] - INFO: The current solver interface glpk doesn't support setting the optimality tolerance.\n",
      "2024-05-24 15:14:07,849 - boundary_types.py[line:68] - INFO: Compartment `e` sounds like an external compartment. Using this one without counting boundary reactions.\n",
      "2024-05-24 15:14:07,849 - 3936220034.py[line:5] - INFO: add s_4151 <=> \n",
      "2024-05-24 15:14:07,849 - model.py[line:209] - INFO: The current solver interface glpk doesn't support setting the optimality tolerance.\n",
      "2024-05-24 15:14:08,428 - boundary_types.py[line:68] - INFO: Compartment `e` sounds like an external compartment. Using this one without counting boundary reactions.\n",
      "2024-05-24 15:14:08,445 - boundary_types.py[line:68] - INFO: Compartment `e` sounds like an external compartment. Using this one without counting boundary reactions.\n",
      "2024-05-24 15:14:08,967 - 3888050103.py[line:20] - INFO: UMP: G\n",
      "2024-05-24 15:14:08,967 - model.py[line:209] - INFO: The current solver interface glpk doesn't support setting the optimality tolerance.\n",
      "2024-05-24 15:14:09,518 - boundary_types.py[line:68] - INFO: Compartment `e` sounds like an external compartment. Using this one without counting boundary reactions.\n",
      "2024-05-24 15:14:09,518 - 3936220034.py[line:5] - INFO: add s_1551 <=> \n",
      "2024-05-24 15:14:09,518 - model.py[line:209] - INFO: The current solver interface glpk doesn't support setting the optimality tolerance.\n",
      "2024-05-24 15:14:10,051 - boundary_types.py[line:68] - INFO: Compartment `e` sounds like an external compartment. Using this one without counting boundary reactions.\n",
      "2024-05-24 15:14:10,068 - boundary_types.py[line:68] - INFO: Compartment `e` sounds like an external compartment. Using this one without counting boundary reactions.\n",
      "2024-05-24 15:14:10,269 - 3888050103.py[line:20] - INFO: uracil: NG\n",
      "2024-05-24 15:14:10,269 - model.py[line:209] - INFO: The current solver interface glpk doesn't support setting the optimality tolerance.\n",
      "2024-05-24 15:14:10,835 - boundary_types.py[line:68] - INFO: Compartment `e` sounds like an external compartment. Using this one without counting boundary reactions.\n",
      "2024-05-24 15:14:10,835 - 3936220034.py[line:5] - INFO: add s_1553 <=> \n",
      "2024-05-24 15:14:10,835 - model.py[line:209] - INFO: The current solver interface glpk doesn't support setting the optimality tolerance.\n",
      "2024-05-24 15:14:11,386 - boundary_types.py[line:68] - INFO: Compartment `e` sounds like an external compartment. Using this one without counting boundary reactions.\n",
      "2024-05-24 15:14:11,405 - boundary_types.py[line:68] - INFO: Compartment `e` sounds like an external compartment. Using this one without counting boundary reactions.\n",
      "2024-05-24 15:14:12,030 - 3888050103.py[line:20] - INFO: urea: G\n",
      "2024-05-24 15:14:12,031 - model.py[line:209] - INFO: The current solver interface glpk doesn't support setting the optimality tolerance.\n",
      "2024-05-24 15:14:12,655 - boundary_types.py[line:68] - INFO: Compartment `e` sounds like an external compartment. Using this one without counting boundary reactions.\n",
      "2024-05-24 15:14:12,662 - 3936220034.py[line:5] - INFO: add s_1557 <=> \n",
      "2024-05-24 15:14:12,663 - model.py[line:209] - INFO: The current solver interface glpk doesn't support setting the optimality tolerance.\n",
      "2024-05-24 15:14:13,271 - boundary_types.py[line:68] - INFO: Compartment `e` sounds like an external compartment. Using this one without counting boundary reactions.\n",
      "2024-05-24 15:14:13,289 - boundary_types.py[line:68] - INFO: Compartment `e` sounds like an external compartment. Using this one without counting boundary reactions.\n",
      "2024-05-24 15:14:13,821 - glpk_interface.py[line:689] - DEBUG: Status undefined. GLPK status code returned by glp_simplex was 10\n",
      "c:\\Users\\13293\\APP\\anaconda\\envs\\yeast9\\lib\\site-packages\\cobra\\util\\solver.py:554: UserWarning: Solver status is 'infeasible'.\n",
      "  warn(f\"Solver status is '{status}'.\", UserWarning)\n",
      "2024-05-24 15:14:13,846 - 3888050103.py[line:20] - INFO: uridine: NG\n",
      "2024-05-24 15:14:13,847 - model.py[line:209] - INFO: The current solver interface glpk doesn't support setting the optimality tolerance.\n",
      "2024-05-24 15:14:14,349 - boundary_types.py[line:68] - INFO: Compartment `e` sounds like an external compartment. Using this one without counting boundary reactions.\n",
      "2024-05-24 15:14:14,351 - 3936220034.py[line:5] - INFO: add s_1557 <=> \n",
      "2024-05-24 15:14:14,352 - model.py[line:209] - INFO: The current solver interface glpk doesn't support setting the optimality tolerance.\n",
      "2024-05-24 15:14:14,861 - boundary_types.py[line:68] - INFO: Compartment `e` sounds like an external compartment. Using this one without counting boundary reactions.\n",
      "2024-05-24 15:14:14,881 - boundary_types.py[line:68] - INFO: Compartment `e` sounds like an external compartment. Using this one without counting boundary reactions.\n",
      "2024-05-24 15:14:15,045 - 3888050103.py[line:20] - INFO: uridine: NG\n",
      "2024-05-24 15:14:15,061 - model.py[line:209] - INFO: The current solver interface glpk doesn't support setting the optimality tolerance.\n",
      "2024-05-24 15:14:15,560 - boundary_types.py[line:68] - INFO: Compartment `e` sounds like an external compartment. Using this one without counting boundary reactions.\n",
      "2024-05-24 15:14:15,561 - 3936220034.py[line:5] - INFO: add s_1564 <=> \n",
      "2024-05-24 15:14:15,561 - model.py[line:209] - INFO: The current solver interface glpk doesn't support setting the optimality tolerance.\n",
      "2024-05-24 15:14:16,061 - boundary_types.py[line:68] - INFO: Compartment `e` sounds like an external compartment. Using this one without counting boundary reactions.\n",
      "2024-05-24 15:14:16,078 - boundary_types.py[line:68] - INFO: Compartment `e` sounds like an external compartment. Using this one without counting boundary reactions.\n",
      "2024-05-24 15:14:16,261 - 3888050103.py[line:20] - INFO: xanthosine: NG\n",
      "2024-05-24 15:14:16,261 - model.py[line:209] - INFO: The current solver interface glpk doesn't support setting the optimality tolerance.\n",
      "2024-05-24 15:14:16,795 - boundary_types.py[line:68] - INFO: Compartment `e` sounds like an external compartment. Using this one without counting boundary reactions.\n",
      "2024-05-24 15:14:16,795 - 3936220034.py[line:5] - INFO: add s_1567 <=> \n",
      "2024-05-24 15:14:16,795 - model.py[line:209] - INFO: The current solver interface glpk doesn't support setting the optimality tolerance.\n",
      "2024-05-24 15:14:17,295 - boundary_types.py[line:68] - INFO: Compartment `e` sounds like an external compartment. Using this one without counting boundary reactions.\n",
      "2024-05-24 15:14:17,313 - boundary_types.py[line:68] - INFO: Compartment `e` sounds like an external compartment. Using this one without counting boundary reactions.\n",
      "2024-05-24 15:14:17,861 - 3888050103.py[line:20] - INFO: xylitol: G\n",
      "2024-05-24 15:14:17,861 - model.py[line:209] - INFO: The current solver interface glpk doesn't support setting the optimality tolerance.\n",
      "2024-05-24 15:14:18,461 - boundary_types.py[line:68] - INFO: Compartment `e` sounds like an external compartment. Using this one without counting boundary reactions.\n",
      "2024-05-24 15:14:18,461 - boundary_types.py[line:68] - INFO: Compartment `e` sounds like an external compartment. Using this one without counting boundary reactions.\n",
      "2024-05-24 15:14:18,461 - 3936220034.py[line:12] - INFO: add s_2882 <=> \n",
      "2024-05-24 15:14:18,461 - model.py[line:209] - INFO: The current solver interface glpk doesn't support setting the optimality tolerance.\n"
     ]
    },
    {
     "name": "stdout",
     "output_type": "stream",
     "text": [
      "s_2882\n"
     ]
    },
    {
     "name": "stderr",
     "output_type": "stream",
     "text": [
      "2024-05-24 15:14:19,095 - boundary_types.py[line:68] - INFO: Compartment `e` sounds like an external compartment. Using this one without counting boundary reactions.\n",
      "2024-05-24 15:14:19,112 - boundary_types.py[line:68] - INFO: Compartment `e` sounds like an external compartment. Using this one without counting boundary reactions.\n",
      "2024-05-24 15:14:19,628 - glpk_interface.py[line:689] - DEBUG: Status undefined. GLPK status code returned by glp_simplex was 10\n",
      "c:\\Users\\13293\\APP\\anaconda\\envs\\yeast9\\lib\\site-packages\\cobra\\util\\solver.py:554: UserWarning: Solver status is 'infeasible'.\n",
      "  warn(f\"Solver status is '{status}'.\", UserWarning)\n",
      "2024-05-24 15:14:19,645 - 3888050103.py[line:20] - INFO: butyrate: NG\n",
      "2024-05-24 15:14:19,645 - model.py[line:209] - INFO: The current solver interface glpk doesn't support setting the optimality tolerance.\n",
      "2024-05-24 15:14:22,261 - boundary_types.py[line:68] - INFO: Compartment `e` sounds like an external compartment. Using this one without counting boundary reactions.\n",
      "2024-05-24 15:14:22,261 - boundary_types.py[line:68] - INFO: Compartment `e` sounds like an external compartment. Using this one without counting boundary reactions.\n",
      "2024-05-24 15:14:22,261 - 3936220034.py[line:12] - INFO: add s_2883 <=> \n",
      "2024-05-24 15:14:22,261 - model.py[line:209] - INFO: The current solver interface glpk doesn't support setting the optimality tolerance.\n"
     ]
    },
    {
     "name": "stdout",
     "output_type": "stream",
     "text": [
      "s_2883\n"
     ]
    },
    {
     "name": "stderr",
     "output_type": "stream",
     "text": [
      "2024-05-24 15:14:22,794 - boundary_types.py[line:68] - INFO: Compartment `e` sounds like an external compartment. Using this one without counting boundary reactions.\n",
      "2024-05-24 15:14:22,811 - boundary_types.py[line:68] - INFO: Compartment `e` sounds like an external compartment. Using this one without counting boundary reactions.\n",
      "2024-05-24 15:14:23,377 - glpk_interface.py[line:689] - DEBUG: Status undefined. GLPK status code returned by glp_simplex was 10\n",
      "c:\\Users\\13293\\APP\\anaconda\\envs\\yeast9\\lib\\site-packages\\cobra\\util\\solver.py:554: UserWarning: Solver status is 'infeasible'.\n",
      "  warn(f\"Solver status is '{status}'.\", UserWarning)\n",
      "2024-05-24 15:14:23,398 - 3888050103.py[line:20] - INFO: hexanoate: NG\n",
      "2024-05-24 15:14:23,398 - model.py[line:209] - INFO: The current solver interface glpk doesn't support setting the optimality tolerance.\n",
      "2024-05-24 15:14:23,944 - boundary_types.py[line:68] - INFO: Compartment `e` sounds like an external compartment. Using this one without counting boundary reactions.\n",
      "2024-05-24 15:14:23,944 - boundary_types.py[line:68] - INFO: Compartment `e` sounds like an external compartment. Using this one without counting boundary reactions.\n",
      "2024-05-24 15:14:23,944 - 3936220034.py[line:12] - INFO: add s_4193 <=> \n",
      "2024-05-24 15:14:23,961 - model.py[line:209] - INFO: The current solver interface glpk doesn't support setting the optimality tolerance.\n"
     ]
    },
    {
     "name": "stdout",
     "output_type": "stream",
     "text": [
      "s_4193\n"
     ]
    },
    {
     "name": "stderr",
     "output_type": "stream",
     "text": [
      "2024-05-24 15:14:24,461 - boundary_types.py[line:68] - INFO: Compartment `e` sounds like an external compartment. Using this one without counting boundary reactions.\n",
      "2024-05-24 15:14:24,478 - boundary_types.py[line:68] - INFO: Compartment `e` sounds like an external compartment. Using this one without counting boundary reactions.\n",
      "2024-05-24 15:14:25,044 - glpk_interface.py[line:689] - DEBUG: Status undefined. GLPK status code returned by glp_simplex was 10\n",
      "c:\\Users\\13293\\APP\\anaconda\\envs\\yeast9\\lib\\site-packages\\cobra\\util\\solver.py:554: UserWarning: Solver status is 'infeasible'.\n",
      "  warn(f\"Solver status is '{status}'.\", UserWarning)\n",
      "2024-05-24 15:14:25,063 - 3888050103.py[line:20] - INFO: raffinose: NG\n",
      "2024-05-24 15:14:25,063 - model.py[line:209] - INFO: The current solver interface glpk doesn't support setting the optimality tolerance.\n",
      "2024-05-24 15:14:25,561 - boundary_types.py[line:68] - INFO: Compartment `e` sounds like an external compartment. Using this one without counting boundary reactions.\n",
      "2024-05-24 15:14:25,561 - boundary_types.py[line:68] - INFO: Compartment `e` sounds like an external compartment. Using this one without counting boundary reactions.\n",
      "2024-05-24 15:14:25,561 - 3936220034.py[line:12] - INFO: add s_4193 <=> \n",
      "2024-05-24 15:14:25,561 - model.py[line:209] - INFO: The current solver interface glpk doesn't support setting the optimality tolerance.\n"
     ]
    },
    {
     "name": "stdout",
     "output_type": "stream",
     "text": [
      "s_4193\n"
     ]
    },
    {
     "name": "stderr",
     "output_type": "stream",
     "text": [
      "2024-05-24 15:14:26,311 - boundary_types.py[line:68] - INFO: Compartment `e` sounds like an external compartment. Using this one without counting boundary reactions.\n",
      "2024-05-24 15:14:26,353 - boundary_types.py[line:68] - INFO: Compartment `e` sounds like an external compartment. Using this one without counting boundary reactions.\n",
      "2024-05-24 15:14:27,093 - glpk_interface.py[line:689] - DEBUG: Status undefined. GLPK status code returned by glp_simplex was 10\n",
      "c:\\Users\\13293\\APP\\anaconda\\envs\\yeast9\\lib\\site-packages\\cobra\\util\\solver.py:554: UserWarning: Solver status is 'infeasible'.\n",
      "  warn(f\"Solver status is '{status}'.\", UserWarning)\n",
      "2024-05-24 15:14:27,114 - 3888050103.py[line:20] - INFO: raffinose: NG\n",
      "2024-05-24 15:14:27,114 - model.py[line:209] - INFO: The current solver interface glpk doesn't support setting the optimality tolerance.\n",
      "2024-05-24 15:14:27,611 - boundary_types.py[line:68] - INFO: Compartment `e` sounds like an external compartment. Using this one without counting boundary reactions.\n",
      "2024-05-24 15:14:27,628 - 3936220034.py[line:5] - INFO: add s_3716 <=> \n",
      "2024-05-24 15:14:27,628 - model.py[line:209] - INFO: The current solver interface glpk doesn't support setting the optimality tolerance.\n",
      "2024-05-24 15:14:28,127 - boundary_types.py[line:68] - INFO: Compartment `e` sounds like an external compartment. Using this one without counting boundary reactions.\n",
      "2024-05-24 15:14:28,144 - boundary_types.py[line:68] - INFO: Compartment `e` sounds like an external compartment. Using this one without counting boundary reactions.\n",
      "2024-05-24 15:14:28,678 - glpk_interface.py[line:689] - DEBUG: Status undefined. GLPK status code returned by glp_simplex was 10\n",
      "c:\\Users\\13293\\APP\\anaconda\\envs\\yeast9\\lib\\site-packages\\cobra\\util\\solver.py:554: UserWarning: Solver status is 'infeasible'.\n",
      "  warn(f\"Solver status is '{status}'.\", UserWarning)\n",
      "2024-05-24 15:14:28,694 - 3888050103.py[line:20] - INFO: melibiose: NG\n",
      "2024-05-24 15:14:28,694 - model.py[line:209] - INFO: The current solver interface glpk doesn't support setting the optimality tolerance.\n",
      "2024-05-24 15:14:29,211 - boundary_types.py[line:68] - INFO: Compartment `e` sounds like an external compartment. Using this one without counting boundary reactions.\n",
      "2024-05-24 15:14:29,227 - boundary_types.py[line:68] - INFO: Compartment `e` sounds like an external compartment. Using this one without counting boundary reactions.\n",
      "2024-05-24 15:14:29,227 - 3936220034.py[line:12] - INFO: add s_3752 <=> \n",
      "2024-05-24 15:14:29,227 - model.py[line:209] - INFO: The current solver interface glpk doesn't support setting the optimality tolerance.\n"
     ]
    },
    {
     "name": "stdout",
     "output_type": "stream",
     "text": [
      "s_3752\n"
     ]
    },
    {
     "name": "stderr",
     "output_type": "stream",
     "text": [
      "2024-05-24 15:14:29,744 - boundary_types.py[line:68] - INFO: Compartment `e` sounds like an external compartment. Using this one without counting boundary reactions.\n",
      "2024-05-24 15:14:29,761 - boundary_types.py[line:68] - INFO: Compartment `e` sounds like an external compartment. Using this one without counting boundary reactions.\n",
      "2024-05-24 15:14:30,361 - glpk_interface.py[line:689] - DEBUG: Status undefined. GLPK status code returned by glp_simplex was 10\n",
      "c:\\Users\\13293\\APP\\anaconda\\envs\\yeast9\\lib\\site-packages\\cobra\\util\\solver.py:554: UserWarning: Solver status is 'infeasible'.\n",
      "  warn(f\"Solver status is '{status}'.\", UserWarning)\n",
      "2024-05-24 15:14:30,377 - 3888050103.py[line:20] - INFO: diacetyl: NG\n",
      "2024-05-24 15:14:30,377 - model.py[line:209] - INFO: The current solver interface glpk doesn't support setting the optimality tolerance.\n",
      "2024-05-24 15:14:30,879 - boundary_types.py[line:68] - INFO: Compartment `e` sounds like an external compartment. Using this one without counting boundary reactions.\n",
      "2024-05-24 15:14:30,894 - boundary_types.py[line:68] - INFO: Compartment `e` sounds like an external compartment. Using this one without counting boundary reactions.\n",
      "2024-05-24 15:14:30,894 - 3936220034.py[line:12] - INFO: add s_4144 <=> \n",
      "2024-05-24 15:14:30,894 - model.py[line:209] - INFO: The current solver interface glpk doesn't support setting the optimality tolerance.\n"
     ]
    },
    {
     "name": "stdout",
     "output_type": "stream",
     "text": [
      "s_4144\n"
     ]
    },
    {
     "name": "stderr",
     "output_type": "stream",
     "text": [
      "2024-05-24 15:14:31,428 - boundary_types.py[line:68] - INFO: Compartment `e` sounds like an external compartment. Using this one without counting boundary reactions.\n",
      "2024-05-24 15:14:31,444 - boundary_types.py[line:68] - INFO: Compartment `e` sounds like an external compartment. Using this one without counting boundary reactions.\n",
      "2024-05-24 15:14:31,994 - 3888050103.py[line:20] - INFO: Met-Ala: G\n",
      "2024-05-24 15:14:31,994 - model.py[line:209] - INFO: The current solver interface glpk doesn't support setting the optimality tolerance.\n",
      "2024-05-24 15:14:32,527 - boundary_types.py[line:68] - INFO: Compartment `e` sounds like an external compartment. Using this one without counting boundary reactions.\n",
      "2024-05-24 15:14:32,527 - boundary_types.py[line:68] - INFO: Compartment `e` sounds like an external compartment. Using this one without counting boundary reactions.\n",
      "2024-05-24 15:14:32,543 - 3936220034.py[line:12] - INFO: add s_3769 <=> \n",
      "2024-05-24 15:14:32,544 - model.py[line:209] - INFO: The current solver interface glpk doesn't support setting the optimality tolerance.\n"
     ]
    },
    {
     "name": "stdout",
     "output_type": "stream",
     "text": [
      "s_3769\n"
     ]
    },
    {
     "name": "stderr",
     "output_type": "stream",
     "text": [
      "2024-05-24 15:14:33,094 - boundary_types.py[line:68] - INFO: Compartment `e` sounds like an external compartment. Using this one without counting boundary reactions.\n",
      "2024-05-24 15:14:33,126 - boundary_types.py[line:68] - INFO: Compartment `e` sounds like an external compartment. Using this one without counting boundary reactions.\n",
      "2024-05-24 15:14:33,727 - glpk_interface.py[line:689] - DEBUG: Status undefined. GLPK status code returned by glp_simplex was 10\n",
      "c:\\Users\\13293\\APP\\anaconda\\envs\\yeast9\\lib\\site-packages\\cobra\\util\\solver.py:554: UserWarning: Solver status is 'infeasible'.\n",
      "  warn(f\"Solver status is '{status}'.\", UserWarning)\n",
      "2024-05-24 15:14:33,763 - 3888050103.py[line:20] - INFO: Oxalate: NG\n",
      "2024-05-24 15:14:33,765 - model.py[line:209] - INFO: The current solver interface glpk doesn't support setting the optimality tolerance.\n",
      "2024-05-24 15:14:34,330 - boundary_types.py[line:68] - INFO: Compartment `e` sounds like an external compartment. Using this one without counting boundary reactions.\n",
      "2024-05-24 15:14:34,344 - boundary_types.py[line:68] - INFO: Compartment `e` sounds like an external compartment. Using this one without counting boundary reactions.\n",
      "2024-05-24 15:14:34,344 - 3936220034.py[line:12] - INFO: add s_3805 <=> \n",
      "2024-05-24 15:14:34,344 - model.py[line:209] - INFO: The current solver interface glpk doesn't support setting the optimality tolerance.\n"
     ]
    },
    {
     "name": "stdout",
     "output_type": "stream",
     "text": [
      "s_3805\n"
     ]
    },
    {
     "name": "stderr",
     "output_type": "stream",
     "text": [
      "2024-05-24 15:14:34,894 - boundary_types.py[line:68] - INFO: Compartment `e` sounds like an external compartment. Using this one without counting boundary reactions.\n",
      "2024-05-24 15:14:34,914 - boundary_types.py[line:68] - INFO: Compartment `e` sounds like an external compartment. Using this one without counting boundary reactions.\n",
      "2024-05-24 15:14:35,496 - 3888050103.py[line:20] - INFO: Mannitol: G\n",
      "2024-05-24 15:14:35,496 - model.py[line:209] - INFO: The current solver interface glpk doesn't support setting the optimality tolerance.\n",
      "2024-05-24 15:14:36,044 - boundary_types.py[line:68] - INFO: Compartment `e` sounds like an external compartment. Using this one without counting boundary reactions.\n",
      "2024-05-24 15:14:36,044 - boundary_types.py[line:68] - INFO: Compartment `e` sounds like an external compartment. Using this one without counting boundary reactions.\n",
      "2024-05-24 15:14:36,060 - 3936220034.py[line:12] - INFO: add s_3810 <=> \n",
      "2024-05-24 15:14:36,061 - model.py[line:209] - INFO: The current solver interface glpk doesn't support setting the optimality tolerance.\n"
     ]
    },
    {
     "name": "stdout",
     "output_type": "stream",
     "text": [
      "s_3810\n"
     ]
    },
    {
     "name": "stderr",
     "output_type": "stream",
     "text": [
      "2024-05-24 15:14:38,719 - boundary_types.py[line:68] - INFO: Compartment `e` sounds like an external compartment. Using this one without counting boundary reactions.\n",
      "2024-05-24 15:14:38,727 - boundary_types.py[line:68] - INFO: Compartment `e` sounds like an external compartment. Using this one without counting boundary reactions.\n",
      "2024-05-24 15:14:39,261 - 3888050103.py[line:20] - INFO: 5-oxo-L-proline: G\n",
      "2024-05-24 15:14:39,261 - model.py[line:209] - INFO: The current solver interface glpk doesn't support setting the optimality tolerance.\n",
      "2024-05-24 15:14:39,793 - boundary_types.py[line:68] - INFO: Compartment `e` sounds like an external compartment. Using this one without counting boundary reactions.\n",
      "2024-05-24 15:14:39,793 - boundary_types.py[line:68] - INFO: Compartment `e` sounds like an external compartment. Using this one without counting boundary reactions.\n",
      "2024-05-24 15:14:39,793 - 3936220034.py[line:12] - INFO: add s_3810 <=> \n",
      "2024-05-24 15:14:39,793 - model.py[line:209] - INFO: The current solver interface glpk doesn't support setting the optimality tolerance.\n"
     ]
    },
    {
     "name": "stdout",
     "output_type": "stream",
     "text": [
      "s_3810\n"
     ]
    },
    {
     "name": "stderr",
     "output_type": "stream",
     "text": [
      "2024-05-24 15:14:40,327 - boundary_types.py[line:68] - INFO: Compartment `e` sounds like an external compartment. Using this one without counting boundary reactions.\n",
      "2024-05-24 15:14:40,327 - boundary_types.py[line:68] - INFO: Compartment `e` sounds like an external compartment. Using this one without counting boundary reactions.\n",
      "2024-05-24 15:14:40,862 - 3888050103.py[line:20] - INFO: 5-oxo-L-proline: G\n",
      "2024-05-24 15:14:40,862 - model.py[line:209] - INFO: The current solver interface glpk doesn't support setting the optimality tolerance.\n",
      "2024-05-24 15:14:41,392 - boundary_types.py[line:68] - INFO: Compartment `e` sounds like an external compartment. Using this one without counting boundary reactions.\n",
      "2024-05-24 15:14:41,394 - boundary_types.py[line:68] - INFO: Compartment `e` sounds like an external compartment. Using this one without counting boundary reactions.\n",
      "2024-05-24 15:14:41,394 - 3936220034.py[line:12] - INFO: add s_3814 <=> \n",
      "2024-05-24 15:14:41,394 - model.py[line:209] - INFO: The current solver interface glpk doesn't support setting the optimality tolerance.\n"
     ]
    },
    {
     "name": "stdout",
     "output_type": "stream",
     "text": [
      "s_3814\n"
     ]
    },
    {
     "name": "stderr",
     "output_type": "stream",
     "text": [
      "2024-05-24 15:14:41,893 - boundary_types.py[line:68] - INFO: Compartment `e` sounds like an external compartment. Using this one without counting boundary reactions.\n",
      "2024-05-24 15:14:41,910 - boundary_types.py[line:68] - INFO: Compartment `e` sounds like an external compartment. Using this one without counting boundary reactions.\n",
      "2024-05-24 15:14:42,260 - 3888050103.py[line:20] - INFO: 2-deoxy-D-glucose 6-phosphate: NG\n",
      "2024-05-24 15:14:42,260 - model.py[line:209] - INFO: The current solver interface glpk doesn't support setting the optimality tolerance.\n",
      "2024-05-24 15:14:42,760 - boundary_types.py[line:68] - INFO: Compartment `e` sounds like an external compartment. Using this one without counting boundary reactions.\n",
      "2024-05-24 15:14:42,777 - 3936220034.py[line:5] - INFO: add s_4176 <=> \n",
      "2024-05-24 15:14:42,777 - model.py[line:209] - INFO: The current solver interface glpk doesn't support setting the optimality tolerance.\n",
      "2024-05-24 15:14:43,277 - boundary_types.py[line:68] - INFO: Compartment `e` sounds like an external compartment. Using this one without counting boundary reactions.\n",
      "2024-05-24 15:14:43,294 - boundary_types.py[line:68] - INFO: Compartment `e` sounds like an external compartment. Using this one without counting boundary reactions.\n",
      "2024-05-24 15:14:43,795 - 3888050103.py[line:20] - INFO: L-Methionine S-oxide: G\n",
      "2024-05-24 15:14:43,796 - model.py[line:209] - INFO: The current solver interface glpk doesn't support setting the optimality tolerance.\n",
      "2024-05-24 15:14:44,328 - boundary_types.py[line:68] - INFO: Compartment `e` sounds like an external compartment. Using this one without counting boundary reactions.\n",
      "2024-05-24 15:14:44,328 - 3936220034.py[line:5] - INFO: add s_4176 <=> \n",
      "2024-05-24 15:14:44,328 - model.py[line:209] - INFO: The current solver interface glpk doesn't support setting the optimality tolerance.\n",
      "2024-05-24 15:14:44,843 - boundary_types.py[line:68] - INFO: Compartment `e` sounds like an external compartment. Using this one without counting boundary reactions.\n",
      "2024-05-24 15:14:44,871 - boundary_types.py[line:68] - INFO: Compartment `e` sounds like an external compartment. Using this one without counting boundary reactions.\n",
      "2024-05-24 15:14:45,343 - 3888050103.py[line:20] - INFO: L-Methionine S-oxide: G\n",
      "2024-05-24 15:14:45,343 - model.py[line:209] - INFO: The current solver interface glpk doesn't support setting the optimality tolerance.\n",
      "2024-05-24 15:14:45,843 - boundary_types.py[line:68] - INFO: Compartment `e` sounds like an external compartment. Using this one without counting boundary reactions.\n",
      "2024-05-24 15:14:45,860 - boundary_types.py[line:68] - INFO: Compartment `e` sounds like an external compartment. Using this one without counting boundary reactions.\n",
      "2024-05-24 15:14:45,860 - 3936220034.py[line:12] - INFO: add s_4171 <=> \n",
      "2024-05-24 15:14:45,860 - model.py[line:209] - INFO: The current solver interface glpk doesn't support setting the optimality tolerance.\n"
     ]
    },
    {
     "name": "stdout",
     "output_type": "stream",
     "text": [
      "s_4171\n"
     ]
    },
    {
     "name": "stderr",
     "output_type": "stream",
     "text": [
      "2024-05-24 15:14:46,375 - boundary_types.py[line:68] - INFO: Compartment `e` sounds like an external compartment. Using this one without counting boundary reactions.\n",
      "2024-05-24 15:14:46,377 - boundary_types.py[line:68] - INFO: Compartment `e` sounds like an external compartment. Using this one without counting boundary reactions.\n",
      "2024-05-24 15:14:46,945 - 3888050103.py[line:20] - INFO: Ala-Gly: G\n",
      "2024-05-24 15:14:46,945 - model.py[line:209] - INFO: The current solver interface glpk doesn't support setting the optimality tolerance.\n",
      "2024-05-24 15:14:47,544 - boundary_types.py[line:68] - INFO: Compartment `e` sounds like an external compartment. Using this one without counting boundary reactions.\n",
      "2024-05-24 15:14:47,544 - boundary_types.py[line:68] - INFO: Compartment `e` sounds like an external compartment. Using this one without counting boundary reactions.\n",
      "2024-05-24 15:14:47,544 - 3936220034.py[line:12] - INFO: add s_4171 <=> \n",
      "2024-05-24 15:14:47,544 - model.py[line:209] - INFO: The current solver interface glpk doesn't support setting the optimality tolerance.\n"
     ]
    },
    {
     "name": "stdout",
     "output_type": "stream",
     "text": [
      "s_4171\n"
     ]
    },
    {
     "name": "stderr",
     "output_type": "stream",
     "text": [
      "2024-05-24 15:14:48,142 - boundary_types.py[line:68] - INFO: Compartment `e` sounds like an external compartment. Using this one without counting boundary reactions.\n",
      "2024-05-24 15:14:48,160 - boundary_types.py[line:68] - INFO: Compartment `e` sounds like an external compartment. Using this one without counting boundary reactions.\n",
      "2024-05-24 15:14:48,843 - 3888050103.py[line:20] - INFO: Ala-Gly: G\n",
      "2024-05-24 15:14:48,843 - model.py[line:209] - INFO: The current solver interface glpk doesn't support setting the optimality tolerance.\n",
      "2024-05-24 15:14:49,443 - boundary_types.py[line:68] - INFO: Compartment `e` sounds like an external compartment. Using this one without counting boundary reactions.\n",
      "2024-05-24 15:14:49,443 - boundary_types.py[line:68] - INFO: Compartment `e` sounds like an external compartment. Using this one without counting boundary reactions.\n",
      "2024-05-24 15:14:49,443 - 3936220034.py[line:12] - INFO: add s_4169 <=> \n",
      "2024-05-24 15:14:49,443 - model.py[line:209] - INFO: The current solver interface glpk doesn't support setting the optimality tolerance.\n"
     ]
    },
    {
     "name": "stdout",
     "output_type": "stream",
     "text": [
      "s_4169\n"
     ]
    },
    {
     "name": "stderr",
     "output_type": "stream",
     "text": [
      "2024-05-24 15:14:49,960 - boundary_types.py[line:68] - INFO: Compartment `e` sounds like an external compartment. Using this one without counting boundary reactions.\n",
      "2024-05-24 15:14:49,976 - boundary_types.py[line:68] - INFO: Compartment `e` sounds like an external compartment. Using this one without counting boundary reactions.\n",
      "2024-05-24 15:14:50,577 - 3888050103.py[line:20] - INFO: Ala-Leu: G\n",
      "2024-05-24 15:14:50,577 - model.py[line:209] - INFO: The current solver interface glpk doesn't support setting the optimality tolerance.\n",
      "2024-05-24 15:14:51,110 - boundary_types.py[line:68] - INFO: Compartment `e` sounds like an external compartment. Using this one without counting boundary reactions.\n",
      "2024-05-24 15:14:51,126 - boundary_types.py[line:68] - INFO: Compartment `e` sounds like an external compartment. Using this one without counting boundary reactions.\n",
      "2024-05-24 15:14:51,127 - 3936220034.py[line:12] - INFO: add s_3875 <=> \n",
      "2024-05-24 15:14:51,127 - model.py[line:209] - INFO: The current solver interface glpk doesn't support setting the optimality tolerance.\n"
     ]
    },
    {
     "name": "stdout",
     "output_type": "stream",
     "text": [
      "s_3875\n"
     ]
    },
    {
     "name": "stderr",
     "output_type": "stream",
     "text": [
      "2024-05-24 15:14:53,812 - boundary_types.py[line:68] - INFO: Compartment `e` sounds like an external compartment. Using this one without counting boundary reactions.\n",
      "2024-05-24 15:14:53,826 - boundary_types.py[line:68] - INFO: Compartment `e` sounds like an external compartment. Using this one without counting boundary reactions.\n",
      "2024-05-24 15:14:54,326 - 3888050103.py[line:20] - INFO: D-gluconate: G\n",
      "2024-05-24 15:14:54,326 - model.py[line:209] - INFO: The current solver interface glpk doesn't support setting the optimality tolerance.\n",
      "2024-05-24 15:14:54,846 - boundary_types.py[line:68] - INFO: Compartment `e` sounds like an external compartment. Using this one without counting boundary reactions.\n",
      "2024-05-24 15:14:54,860 - boundary_types.py[line:68] - INFO: Compartment `e` sounds like an external compartment. Using this one without counting boundary reactions.\n",
      "2024-05-24 15:14:54,860 - 3936220034.py[line:12] - INFO: add s_3904 <=> \n",
      "2024-05-24 15:14:54,860 - model.py[line:209] - INFO: The current solver interface glpk doesn't support setting the optimality tolerance.\n"
     ]
    },
    {
     "name": "stdout",
     "output_type": "stream",
     "text": [
      "s_3904\n"
     ]
    },
    {
     "name": "stderr",
     "output_type": "stream",
     "text": [
      "2024-05-24 15:14:55,376 - boundary_types.py[line:68] - INFO: Compartment `e` sounds like an external compartment. Using this one without counting boundary reactions.\n",
      "2024-05-24 15:14:55,395 - boundary_types.py[line:68] - INFO: Compartment `e` sounds like an external compartment. Using this one without counting boundary reactions.\n",
      "2024-05-24 15:14:55,978 - 3888050103.py[line:20] - INFO: D-Serine: G\n",
      "2024-05-24 15:14:55,978 - model.py[line:209] - INFO: The current solver interface glpk doesn't support setting the optimality tolerance.\n",
      "2024-05-24 15:14:56,495 - boundary_types.py[line:68] - INFO: Compartment `e` sounds like an external compartment. Using this one without counting boundary reactions.\n",
      "2024-05-24 15:14:56,495 - boundary_types.py[line:68] - INFO: Compartment `e` sounds like an external compartment. Using this one without counting boundary reactions.\n",
      "2024-05-24 15:14:56,495 - 3936220034.py[line:12] - INFO: add s_3904 <=> \n",
      "2024-05-24 15:14:56,510 - model.py[line:209] - INFO: The current solver interface glpk doesn't support setting the optimality tolerance.\n"
     ]
    },
    {
     "name": "stdout",
     "output_type": "stream",
     "text": [
      "s_3904\n"
     ]
    },
    {
     "name": "stderr",
     "output_type": "stream",
     "text": [
      "2024-05-24 15:14:57,076 - boundary_types.py[line:68] - INFO: Compartment `e` sounds like an external compartment. Using this one without counting boundary reactions.\n",
      "2024-05-24 15:14:57,093 - boundary_types.py[line:68] - INFO: Compartment `e` sounds like an external compartment. Using this one without counting boundary reactions.\n",
      "2024-05-24 15:14:57,726 - 3888050103.py[line:20] - INFO: D-Serine: G\n",
      "2024-05-24 15:14:57,726 - model.py[line:209] - INFO: The current solver interface glpk doesn't support setting the optimality tolerance.\n",
      "2024-05-24 15:14:58,226 - boundary_types.py[line:68] - INFO: Compartment `e` sounds like an external compartment. Using this one without counting boundary reactions.\n",
      "2024-05-24 15:14:58,226 - boundary_types.py[line:68] - INFO: Compartment `e` sounds like an external compartment. Using this one without counting boundary reactions.\n",
      "2024-05-24 15:14:58,242 - 3936220034.py[line:12] - INFO: add s_3914 <=> \n",
      "2024-05-24 15:14:58,243 - model.py[line:209] - INFO: The current solver interface glpk doesn't support setting the optimality tolerance.\n"
     ]
    },
    {
     "name": "stdout",
     "output_type": "stream",
     "text": [
      "s_3914\n"
     ]
    },
    {
     "name": "stderr",
     "output_type": "stream",
     "text": [
      "2024-05-24 15:14:58,743 - boundary_types.py[line:68] - INFO: Compartment `e` sounds like an external compartment. Using this one without counting boundary reactions.\n",
      "2024-05-24 15:14:58,759 - boundary_types.py[line:68] - INFO: Compartment `e` sounds like an external compartment. Using this one without counting boundary reactions.\n",
      "2024-05-24 15:14:58,953 - 3888050103.py[line:20] - INFO: nitrate: NG\n",
      "2024-05-24 15:14:58,953 - model.py[line:209] - INFO: The current solver interface glpk doesn't support setting the optimality tolerance.\n",
      "2024-05-24 15:14:59,460 - boundary_types.py[line:68] - INFO: Compartment `e` sounds like an external compartment. Using this one without counting boundary reactions.\n",
      "2024-05-24 15:14:59,477 - boundary_types.py[line:68] - INFO: Compartment `e` sounds like an external compartment. Using this one without counting boundary reactions.\n",
      "2024-05-24 15:14:59,477 - 3936220034.py[line:12] - INFO: add s_3935 <=> \n",
      "2024-05-24 15:14:59,477 - model.py[line:209] - INFO: The current solver interface glpk doesn't support setting the optimality tolerance.\n"
     ]
    },
    {
     "name": "stdout",
     "output_type": "stream",
     "text": [
      "s_3935\n"
     ]
    },
    {
     "name": "stderr",
     "output_type": "stream",
     "text": [
      "2024-05-24 15:14:59,995 - boundary_types.py[line:68] - INFO: Compartment `e` sounds like an external compartment. Using this one without counting boundary reactions.\n",
      "2024-05-24 15:15:00,009 - boundary_types.py[line:68] - INFO: Compartment `e` sounds like an external compartment. Using this one without counting boundary reactions.\n",
      "2024-05-24 15:15:00,194 - 3888050103.py[line:20] - INFO: Nitrite: NG\n",
      "2024-05-24 15:15:00,194 - model.py[line:209] - INFO: The current solver interface glpk doesn't support setting the optimality tolerance.\n",
      "2024-05-24 15:15:00,759 - boundary_types.py[line:68] - INFO: Compartment `e` sounds like an external compartment. Using this one without counting boundary reactions.\n",
      "2024-05-24 15:15:00,759 - 3936220034.py[line:5] - INFO: add s_4164 <=> \n",
      "2024-05-24 15:15:00,759 - model.py[line:209] - INFO: The current solver interface glpk doesn't support setting the optimality tolerance.\n",
      "2024-05-24 15:15:01,259 - boundary_types.py[line:68] - INFO: Compartment `e` sounds like an external compartment. Using this one without counting boundary reactions.\n",
      "2024-05-24 15:15:01,276 - boundary_types.py[line:68] - INFO: Compartment `e` sounds like an external compartment. Using this one without counting boundary reactions.\n",
      "2024-05-24 15:15:01,879 - 3888050103.py[line:20] - INFO: D-Glucosamine: G\n",
      "2024-05-24 15:15:01,879 - model.py[line:209] - INFO: The current solver interface glpk doesn't support setting the optimality tolerance.\n",
      "2024-05-24 15:15:02,376 - boundary_types.py[line:68] - INFO: Compartment `e` sounds like an external compartment. Using this one without counting boundary reactions.\n",
      "2024-05-24 15:15:02,376 - 3936220034.py[line:5] - INFO: add s_4164 <=> \n",
      "2024-05-24 15:15:02,376 - model.py[line:209] - INFO: The current solver interface glpk doesn't support setting the optimality tolerance.\n",
      "2024-05-24 15:15:02,893 - boundary_types.py[line:68] - INFO: Compartment `e` sounds like an external compartment. Using this one without counting boundary reactions.\n",
      "2024-05-24 15:15:02,909 - boundary_types.py[line:68] - INFO: Compartment `e` sounds like an external compartment. Using this one without counting boundary reactions.\n",
      "2024-05-24 15:15:03,409 - 3888050103.py[line:20] - INFO: D-Glucosamine: G\n",
      "2024-05-24 15:15:03,425 - model.py[line:209] - INFO: The current solver interface glpk doesn't support setting the optimality tolerance.\n",
      "2024-05-24 15:15:03,963 - boundary_types.py[line:68] - INFO: Compartment `e` sounds like an external compartment. Using this one without counting boundary reactions.\n",
      "2024-05-24 15:15:03,968 - boundary_types.py[line:68] - INFO: Compartment `e` sounds like an external compartment. Using this one without counting boundary reactions.\n",
      "2024-05-24 15:15:03,968 - 3936220034.py[line:12] - INFO: add s_3962 <=> \n",
      "2024-05-24 15:15:03,968 - model.py[line:209] - INFO: The current solver interface glpk doesn't support setting the optimality tolerance.\n"
     ]
    },
    {
     "name": "stdout",
     "output_type": "stream",
     "text": [
      "s_3962\n"
     ]
    },
    {
     "name": "stderr",
     "output_type": "stream",
     "text": [
      "2024-05-24 15:15:04,509 - boundary_types.py[line:68] - INFO: Compartment `e` sounds like an external compartment. Using this one without counting boundary reactions.\n",
      "2024-05-24 15:15:04,528 - boundary_types.py[line:68] - INFO: Compartment `e` sounds like an external compartment. Using this one without counting boundary reactions.\n",
      "2024-05-24 15:15:05,076 - glpk_interface.py[line:689] - DEBUG: Status undefined. GLPK status code returned by glp_simplex was 10\n",
      "c:\\Users\\13293\\APP\\anaconda\\envs\\yeast9\\lib\\site-packages\\cobra\\util\\solver.py:554: UserWarning: Solver status is 'infeasible'.\n",
      "  warn(f\"Solver status is '{status}'.\", UserWarning)\n",
      "2024-05-24 15:15:05,109 - 3888050103.py[line:20] - INFO: D-Glucarate: NG\n",
      "2024-05-24 15:15:05,109 - model.py[line:209] - INFO: The current solver interface glpk doesn't support setting the optimality tolerance.\n",
      "2024-05-24 15:15:05,626 - boundary_types.py[line:68] - INFO: Compartment `e` sounds like an external compartment. Using this one without counting boundary reactions.\n",
      "2024-05-24 15:15:05,642 - boundary_types.py[line:68] - INFO: Compartment `e` sounds like an external compartment. Using this one without counting boundary reactions.\n",
      "2024-05-24 15:15:05,645 - 3936220034.py[line:12] - INFO: add s_3997 <=> \n",
      "2024-05-24 15:15:05,645 - model.py[line:209] - INFO: The current solver interface glpk doesn't support setting the optimality tolerance.\n"
     ]
    },
    {
     "name": "stdout",
     "output_type": "stream",
     "text": [
      "s_3997\n"
     ]
    },
    {
     "name": "stderr",
     "output_type": "stream",
     "text": [
      "2024-05-24 15:15:08,292 - boundary_types.py[line:68] - INFO: Compartment `e` sounds like an external compartment. Using this one without counting boundary reactions.\n",
      "2024-05-24 15:15:08,312 - boundary_types.py[line:68] - INFO: Compartment `e` sounds like an external compartment. Using this one without counting boundary reactions.\n",
      "2024-05-24 15:15:08,869 - 3888050103.py[line:20] - INFO: glycolate: G\n",
      "2024-05-24 15:15:08,869 - model.py[line:209] - INFO: The current solver interface glpk doesn't support setting the optimality tolerance.\n",
      "2024-05-24 15:15:09,376 - boundary_types.py[line:68] - INFO: Compartment `e` sounds like an external compartment. Using this one without counting boundary reactions.\n",
      "2024-05-24 15:15:09,392 - boundary_types.py[line:68] - INFO: Compartment `e` sounds like an external compartment. Using this one without counting boundary reactions.\n",
      "2024-05-24 15:15:09,392 - 3936220034.py[line:12] - INFO: add s_4000 <=> \n",
      "2024-05-24 15:15:09,392 - model.py[line:209] - INFO: The current solver interface glpk doesn't support setting the optimality tolerance.\n"
     ]
    },
    {
     "name": "stdout",
     "output_type": "stream",
     "text": [
      "s_4000\n"
     ]
    },
    {
     "name": "stderr",
     "output_type": "stream",
     "text": [
      "2024-05-24 15:15:09,909 - boundary_types.py[line:68] - INFO: Compartment `e` sounds like an external compartment. Using this one without counting boundary reactions.\n",
      "2024-05-24 15:15:09,926 - boundary_types.py[line:68] - INFO: Compartment `e` sounds like an external compartment. Using this one without counting boundary reactions.\n",
      "2024-05-24 15:15:10,478 - 3888050103.py[line:20] - INFO: Dextrin: G\n",
      "2024-05-24 15:15:10,478 - model.py[line:209] - INFO: The current solver interface glpk doesn't support setting the optimality tolerance.\n",
      "2024-05-24 15:15:11,028 - boundary_types.py[line:68] - INFO: Compartment `e` sounds like an external compartment. Using this one without counting boundary reactions.\n",
      "2024-05-24 15:15:11,028 - 3936220034.py[line:5] - INFO: add s_4159 <=> \n",
      "2024-05-24 15:15:11,028 - model.py[line:209] - INFO: The current solver interface glpk doesn't support setting the optimality tolerance.\n",
      "2024-05-24 15:15:11,592 - boundary_types.py[line:68] - INFO: Compartment `e` sounds like an external compartment. Using this one without counting boundary reactions.\n",
      "2024-05-24 15:15:11,625 - boundary_types.py[line:68] - INFO: Compartment `e` sounds like an external compartment. Using this one without counting boundary reactions.\n",
      "2024-05-24 15:15:11,842 - 3888050103.py[line:20] - INFO: thiosulfate: NG\n",
      "2024-05-24 15:15:11,842 - model.py[line:209] - INFO: The current solver interface glpk doesn't support setting the optimality tolerance.\n",
      "2024-05-24 15:15:12,375 - boundary_types.py[line:68] - INFO: Compartment `e` sounds like an external compartment. Using this one without counting boundary reactions.\n",
      "2024-05-24 15:15:12,375 - boundary_types.py[line:68] - INFO: Compartment `e` sounds like an external compartment. Using this one without counting boundary reactions.\n",
      "2024-05-24 15:15:12,375 - 3936220034.py[line:12] - INFO: add s_4017 <=> \n",
      "2024-05-24 15:15:12,375 - model.py[line:209] - INFO: The current solver interface glpk doesn't support setting the optimality tolerance.\n"
     ]
    },
    {
     "name": "stdout",
     "output_type": "stream",
     "text": [
      "s_4017\n"
     ]
    },
    {
     "name": "stderr",
     "output_type": "stream",
     "text": [
      "2024-05-24 15:15:12,927 - boundary_types.py[line:68] - INFO: Compartment `e` sounds like an external compartment. Using this one without counting boundary reactions.\n",
      "2024-05-24 15:15:12,942 - boundary_types.py[line:68] - INFO: Compartment `e` sounds like an external compartment. Using this one without counting boundary reactions.\n",
      "2024-05-24 15:15:13,499 - glpk_interface.py[line:689] - DEBUG: Status undefined. GLPK status code returned by glp_simplex was 10\n",
      "c:\\Users\\13293\\APP\\anaconda\\envs\\yeast9\\lib\\site-packages\\cobra\\util\\solver.py:554: UserWarning: Solver status is 'infeasible'.\n",
      "  warn(f\"Solver status is '{status}'.\", UserWarning)\n",
      "2024-05-24 15:15:13,529 - 3888050103.py[line:20] - INFO: N-Acetyl-D-glucosamine: NG\n",
      "2024-05-24 15:15:13,530 - model.py[line:209] - INFO: The current solver interface glpk doesn't support setting the optimality tolerance.\n",
      "2024-05-24 15:15:14,026 - boundary_types.py[line:68] - INFO: Compartment `e` sounds like an external compartment. Using this one without counting boundary reactions.\n",
      "2024-05-24 15:15:14,026 - boundary_types.py[line:68] - INFO: Compartment `e` sounds like an external compartment. Using this one without counting boundary reactions.\n",
      "2024-05-24 15:15:14,026 - 3936220034.py[line:12] - INFO: add s_4017 <=> \n",
      "2024-05-24 15:15:14,026 - model.py[line:209] - INFO: The current solver interface glpk doesn't support setting the optimality tolerance.\n"
     ]
    },
    {
     "name": "stdout",
     "output_type": "stream",
     "text": [
      "s_4017\n"
     ]
    },
    {
     "name": "stderr",
     "output_type": "stream",
     "text": [
      "2024-05-24 15:15:14,542 - boundary_types.py[line:68] - INFO: Compartment `e` sounds like an external compartment. Using this one without counting boundary reactions.\n",
      "2024-05-24 15:15:14,559 - boundary_types.py[line:68] - INFO: Compartment `e` sounds like an external compartment. Using this one without counting boundary reactions.\n",
      "2024-05-24 15:15:14,742 - 3888050103.py[line:20] - INFO: N-Acetyl-D-glucosamine: NG\n",
      "2024-05-24 15:15:14,742 - model.py[line:209] - INFO: The current solver interface glpk doesn't support setting the optimality tolerance.\n",
      "2024-05-24 15:15:15,244 - boundary_types.py[line:68] - INFO: Compartment `e` sounds like an external compartment. Using this one without counting boundary reactions.\n",
      "2024-05-24 15:15:15,244 - boundary_types.py[line:68] - INFO: Compartment `e` sounds like an external compartment. Using this one without counting boundary reactions.\n",
      "2024-05-24 15:15:15,244 - 3936220034.py[line:12] - INFO: add s_4036 <=> \n",
      "2024-05-24 15:15:15,244 - model.py[line:209] - INFO: The current solver interface glpk doesn't support setting the optimality tolerance.\n"
     ]
    },
    {
     "name": "stdout",
     "output_type": "stream",
     "text": [
      "s_4036\n"
     ]
    },
    {
     "name": "stderr",
     "output_type": "stream",
     "text": [
      "2024-05-24 15:15:15,759 - boundary_types.py[line:68] - INFO: Compartment `e` sounds like an external compartment. Using this one without counting boundary reactions.\n",
      "2024-05-24 15:15:15,775 - boundary_types.py[line:68] - INFO: Compartment `e` sounds like an external compartment. Using this one without counting boundary reactions.\n",
      "2024-05-24 15:15:16,309 - 3888050103.py[line:20] - INFO: Ala-Gln: G\n",
      "2024-05-24 15:15:16,309 - model.py[line:209] - INFO: The current solver interface glpk doesn't support setting the optimality tolerance.\n",
      "2024-05-24 15:15:16,843 - boundary_types.py[line:68] - INFO: Compartment `e` sounds like an external compartment. Using this one without counting boundary reactions.\n",
      "2024-05-24 15:15:16,843 - boundary_types.py[line:68] - INFO: Compartment `e` sounds like an external compartment. Using this one without counting boundary reactions.\n",
      "2024-05-24 15:15:16,843 - 3936220034.py[line:12] - INFO: add s_4039 <=> \n",
      "2024-05-24 15:15:16,843 - model.py[line:209] - INFO: The current solver interface glpk doesn't support setting the optimality tolerance.\n"
     ]
    },
    {
     "name": "stdout",
     "output_type": "stream",
     "text": [
      "s_4039\n"
     ]
    },
    {
     "name": "stderr",
     "output_type": "stream",
     "text": [
      "2024-05-24 15:15:17,375 - boundary_types.py[line:68] - INFO: Compartment `e` sounds like an external compartment. Using this one without counting boundary reactions.\n",
      "2024-05-24 15:15:17,392 - boundary_types.py[line:68] - INFO: Compartment `e` sounds like an external compartment. Using this one without counting boundary reactions.\n",
      "2024-05-24 15:15:17,925 - 3888050103.py[line:20] - INFO: Ala-Glu: G\n",
      "2024-05-24 15:15:17,926 - model.py[line:209] - INFO: The current solver interface glpk doesn't support setting the optimality tolerance.\n",
      "2024-05-24 15:15:18,425 - boundary_types.py[line:68] - INFO: Compartment `e` sounds like an external compartment. Using this one without counting boundary reactions.\n",
      "2024-05-24 15:15:18,425 - boundary_types.py[line:68] - INFO: Compartment `e` sounds like an external compartment. Using this one without counting boundary reactions.\n",
      "2024-05-24 15:15:18,443 - 3936220034.py[line:12] - INFO: add s_4042 <=> \n",
      "2024-05-24 15:15:18,443 - model.py[line:209] - INFO: The current solver interface glpk doesn't support setting the optimality tolerance.\n"
     ]
    },
    {
     "name": "stdout",
     "output_type": "stream",
     "text": [
      "s_4042\n"
     ]
    },
    {
     "name": "stderr",
     "output_type": "stream",
     "text": [
      "2024-05-24 15:15:18,961 - boundary_types.py[line:68] - INFO: Compartment `e` sounds like an external compartment. Using this one without counting boundary reactions.\n",
      "2024-05-24 15:15:18,976 - boundary_types.py[line:68] - INFO: Compartment `e` sounds like an external compartment. Using this one without counting boundary reactions.\n",
      "2024-05-24 15:15:19,544 - 3888050103.py[line:20] - INFO: Ala-Thr: G\n",
      "2024-05-24 15:15:19,544 - model.py[line:209] - INFO: The current solver interface glpk doesn't support setting the optimality tolerance.\n",
      "2024-05-24 15:15:20,060 - boundary_types.py[line:68] - INFO: Compartment `e` sounds like an external compartment. Using this one without counting boundary reactions.\n",
      "2024-05-24 15:15:20,060 - 3936220034.py[line:5] - INFO: add s_4045 <=> \n",
      "2024-05-24 15:15:20,060 - model.py[line:209] - INFO: The current solver interface glpk doesn't support setting the optimality tolerance.\n",
      "2024-05-24 15:15:20,579 - boundary_types.py[line:68] - INFO: Compartment `e` sounds like an external compartment. Using this one without counting boundary reactions.\n",
      "2024-05-24 15:15:20,607 - boundary_types.py[line:68] - INFO: Compartment `e` sounds like an external compartment. Using this one without counting boundary reactions.\n",
      "2024-05-24 15:15:21,061 - 3888050103.py[line:20] - INFO: thymidine 3'-monophosphate: G\n",
      "2024-05-24 15:15:21,061 - model.py[line:209] - INFO: The current solver interface glpk doesn't support setting the optimality tolerance.\n",
      "2024-05-24 15:15:23,695 - boundary_types.py[line:68] - INFO: Compartment `e` sounds like an external compartment. Using this one without counting boundary reactions.\n",
      "2024-05-24 15:15:23,695 - 3936220034.py[line:5] - INFO: add s_4047 <=> \n",
      "2024-05-24 15:15:23,695 - model.py[line:209] - INFO: The current solver interface glpk doesn't support setting the optimality tolerance.\n",
      "2024-05-24 15:15:24,212 - boundary_types.py[line:68] - INFO: Compartment `e` sounds like an external compartment. Using this one without counting boundary reactions.\n",
      "2024-05-24 15:15:24,237 - boundary_types.py[line:68] - INFO: Compartment `e` sounds like an external compartment. Using this one without counting boundary reactions.\n",
      "2024-05-24 15:15:24,695 - 3888050103.py[line:20] - INFO: thymidine 5'-monophosphate: G\n",
      "2024-05-24 15:15:24,695 - model.py[line:209] - INFO: The current solver interface glpk doesn't support setting the optimality tolerance.\n",
      "2024-05-24 15:15:25,229 - boundary_types.py[line:68] - INFO: Compartment `e` sounds like an external compartment. Using this one without counting boundary reactions.\n",
      "2024-05-24 15:15:25,229 - 3936220034.py[line:5] - INFO: add s_4049 <=> \n",
      "2024-05-24 15:15:25,229 - model.py[line:209] - INFO: The current solver interface glpk doesn't support setting the optimality tolerance.\n",
      "2024-05-24 15:15:25,743 - boundary_types.py[line:68] - INFO: Compartment `e` sounds like an external compartment. Using this one without counting boundary reactions.\n",
      "2024-05-24 15:15:25,760 - boundary_types.py[line:68] - INFO: Compartment `e` sounds like an external compartment. Using this one without counting boundary reactions.\n",
      "2024-05-24 15:15:26,275 - 3888050103.py[line:20] - INFO: glycerol 1-phosphate: G\n",
      "2024-05-24 15:15:26,276 - model.py[line:209] - INFO: The current solver interface glpk doesn't support setting the optimality tolerance.\n",
      "2024-05-24 15:15:26,814 - boundary_types.py[line:68] - INFO: Compartment `e` sounds like an external compartment. Using this one without counting boundary reactions.\n",
      "2024-05-24 15:15:26,814 - boundary_types.py[line:68] - INFO: Compartment `e` sounds like an external compartment. Using this one without counting boundary reactions.\n",
      "2024-05-24 15:15:26,826 - 3936220034.py[line:12] - INFO: add s_4052 <=> \n",
      "2024-05-24 15:15:26,827 - model.py[line:209] - INFO: The current solver interface glpk doesn't support setting the optimality tolerance.\n"
     ]
    },
    {
     "name": "stdout",
     "output_type": "stream",
     "text": [
      "s_4052\n"
     ]
    },
    {
     "name": "stderr",
     "output_type": "stream",
     "text": [
      "2024-05-24 15:15:27,348 - boundary_types.py[line:68] - INFO: Compartment `e` sounds like an external compartment. Using this one without counting boundary reactions.\n",
      "2024-05-24 15:15:27,364 - boundary_types.py[line:68] - INFO: Compartment `e` sounds like an external compartment. Using this one without counting boundary reactions.\n",
      "2024-05-24 15:15:27,898 - 3888050103.py[line:20] - INFO: Ala-His: G\n",
      "2024-05-24 15:15:27,898 - model.py[line:209] - INFO: The current solver interface glpk doesn't support setting the optimality tolerance.\n",
      "2024-05-24 15:15:28,432 - boundary_types.py[line:68] - INFO: Compartment `e` sounds like an external compartment. Using this one without counting boundary reactions.\n",
      "2024-05-24 15:15:28,445 - boundary_types.py[line:68] - INFO: Compartment `e` sounds like an external compartment. Using this one without counting boundary reactions.\n",
      "2024-05-24 15:15:28,446 - 3936220034.py[line:12] - INFO: add s_4055 <=> \n",
      "2024-05-24 15:15:28,447 - model.py[line:209] - INFO: The current solver interface glpk doesn't support setting the optimality tolerance.\n"
     ]
    },
    {
     "name": "stdout",
     "output_type": "stream",
     "text": [
      "s_4055\n"
     ]
    },
    {
     "name": "stderr",
     "output_type": "stream",
     "text": [
      "2024-05-24 15:15:28,982 - boundary_types.py[line:68] - INFO: Compartment `e` sounds like an external compartment. Using this one without counting boundary reactions.\n",
      "2024-05-24 15:15:28,999 - boundary_types.py[line:68] - INFO: Compartment `e` sounds like an external compartment. Using this one without counting boundary reactions.\n",
      "2024-05-24 15:15:29,494 - 3888050103.py[line:20] - INFO: Gly-Asn: G\n",
      "2024-05-24 15:15:29,496 - model.py[line:209] - INFO: The current solver interface glpk doesn't support setting the optimality tolerance.\n",
      "2024-05-24 15:15:29,998 - boundary_types.py[line:68] - INFO: Compartment `e` sounds like an external compartment. Using this one without counting boundary reactions.\n",
      "2024-05-24 15:15:30,000 - boundary_types.py[line:68] - INFO: Compartment `e` sounds like an external compartment. Using this one without counting boundary reactions.\n",
      "2024-05-24 15:15:30,000 - 3936220034.py[line:12] - INFO: add s_4058 <=> \n",
      "2024-05-24 15:15:30,000 - model.py[line:209] - INFO: The current solver interface glpk doesn't support setting the optimality tolerance.\n"
     ]
    },
    {
     "name": "stdout",
     "output_type": "stream",
     "text": [
      "s_4058\n"
     ]
    },
    {
     "name": "stderr",
     "output_type": "stream",
     "text": [
      "2024-05-24 15:15:30,517 - boundary_types.py[line:68] - INFO: Compartment `e` sounds like an external compartment. Using this one without counting boundary reactions.\n",
      "2024-05-24 15:15:30,534 - boundary_types.py[line:68] - INFO: Compartment `e` sounds like an external compartment. Using this one without counting boundary reactions.\n",
      "2024-05-24 15:15:31,083 - 3888050103.py[line:20] - INFO: Gly-Gln: G\n",
      "2024-05-24 15:15:31,084 - model.py[line:209] - INFO: The current solver interface glpk doesn't support setting the optimality tolerance.\n",
      "2024-05-24 15:15:31,615 - boundary_types.py[line:68] - INFO: Compartment `e` sounds like an external compartment. Using this one without counting boundary reactions.\n",
      "2024-05-24 15:15:31,618 - boundary_types.py[line:68] - INFO: Compartment `e` sounds like an external compartment. Using this one without counting boundary reactions.\n",
      "2024-05-24 15:15:31,618 - 3936220034.py[line:12] - INFO: add s_4061 <=> \n",
      "2024-05-24 15:15:31,618 - model.py[line:209] - INFO: The current solver interface glpk doesn't support setting the optimality tolerance.\n"
     ]
    },
    {
     "name": "stdout",
     "output_type": "stream",
     "text": [
      "s_4061\n"
     ]
    },
    {
     "name": "stderr",
     "output_type": "stream",
     "text": [
      "2024-05-24 15:15:32,144 - boundary_types.py[line:68] - INFO: Compartment `e` sounds like an external compartment. Using this one without counting boundary reactions.\n",
      "2024-05-24 15:15:32,161 - boundary_types.py[line:68] - INFO: Compartment `e` sounds like an external compartment. Using this one without counting boundary reactions.\n",
      "2024-05-24 15:15:32,693 - 3888050103.py[line:20] - INFO: Gly-Glu: G\n",
      "2024-05-24 15:15:32,694 - model.py[line:209] - INFO: The current solver interface glpk doesn't support setting the optimality tolerance.\n",
      "2024-05-24 15:15:33,218 - boundary_types.py[line:68] - INFO: Compartment `e` sounds like an external compartment. Using this one without counting boundary reactions.\n",
      "2024-05-24 15:15:33,219 - 3936220034.py[line:5] - INFO: add s_4063 <=> \n",
      "2024-05-24 15:15:33,219 - model.py[line:209] - INFO: The current solver interface glpk doesn't support setting the optimality tolerance.\n",
      "2024-05-24 15:15:33,731 - boundary_types.py[line:68] - INFO: Compartment `e` sounds like an external compartment. Using this one without counting boundary reactions.\n",
      "2024-05-24 15:15:33,747 - boundary_types.py[line:68] - INFO: Compartment `e` sounds like an external compartment. Using this one without counting boundary reactions.\n",
      "2024-05-24 15:15:34,277 - 3888050103.py[line:20] - INFO: glycerol 2-phosphate(2-): G\n",
      "2024-05-24 15:15:34,278 - model.py[line:209] - INFO: The current solver interface glpk doesn't support setting the optimality tolerance.\n",
      "2024-05-24 15:15:34,807 - boundary_types.py[line:68] - INFO: Compartment `e` sounds like an external compartment. Using this one without counting boundary reactions.\n",
      "2024-05-24 15:15:34,809 - 3936220034.py[line:5] - INFO: add s_4065 <=> \n",
      "2024-05-24 15:15:34,812 - model.py[line:209] - INFO: The current solver interface glpk doesn't support setting the optimality tolerance.\n",
      "2024-05-24 15:15:35,337 - boundary_types.py[line:68] - INFO: Compartment `e` sounds like an external compartment. Using this one without counting boundary reactions.\n",
      "2024-05-24 15:15:35,354 - boundary_types.py[line:68] - INFO: Compartment `e` sounds like an external compartment. Using this one without counting boundary reactions.\n",
      "2024-05-24 15:15:35,975 - 3888050103.py[line:20] - INFO: O-phospho-L-threonine: G\n",
      "2024-05-24 15:15:35,977 - model.py[line:209] - INFO: The current solver interface glpk doesn't support setting the optimality tolerance.\n",
      "2024-05-24 15:15:38,610 - boundary_types.py[line:68] - INFO: Compartment `e` sounds like an external compartment. Using this one without counting boundary reactions.\n",
      "2024-05-24 15:15:38,610 - 3936220034.py[line:5] - INFO: add s_4067 <=> \n",
      "2024-05-24 15:15:38,610 - model.py[line:209] - INFO: The current solver interface glpk doesn't support setting the optimality tolerance.\n",
      "2024-05-24 15:15:39,142 - boundary_types.py[line:68] - INFO: Compartment `e` sounds like an external compartment. Using this one without counting boundary reactions.\n",
      "2024-05-24 15:15:39,157 - boundary_types.py[line:68] - INFO: Compartment `e` sounds like an external compartment. Using this one without counting boundary reactions.\n",
      "2024-05-24 15:15:39,675 - 3888050103.py[line:20] - INFO: guanosine 2'-monophosphate: G\n",
      "2024-05-24 15:15:39,675 - model.py[line:209] - INFO: The current solver interface glpk doesn't support setting the optimality tolerance.\n",
      "2024-05-24 15:15:40,209 - boundary_types.py[line:68] - INFO: Compartment `e` sounds like an external compartment. Using this one without counting boundary reactions.\n",
      "2024-05-24 15:15:40,213 - 3936220034.py[line:5] - INFO: add s_4069 <=> \n",
      "2024-05-24 15:15:40,213 - model.py[line:209] - INFO: The current solver interface glpk doesn't support setting the optimality tolerance.\n",
      "2024-05-24 15:15:40,725 - boundary_types.py[line:68] - INFO: Compartment `e` sounds like an external compartment. Using this one without counting boundary reactions.\n",
      "2024-05-24 15:15:40,742 - boundary_types.py[line:68] - INFO: Compartment `e` sounds like an external compartment. Using this one without counting boundary reactions.\n",
      "2024-05-24 15:15:41,242 - 3888050103.py[line:20] - INFO: 3'-GMP: G\n",
      "2024-05-24 15:15:41,242 - model.py[line:209] - INFO: The current solver interface glpk doesn't support setting the optimality tolerance.\n",
      "2024-05-24 15:15:41,795 - boundary_types.py[line:68] - INFO: Compartment `e` sounds like an external compartment. Using this one without counting boundary reactions.\n",
      "2024-05-24 15:15:41,795 - boundary_types.py[line:68] - INFO: Compartment `e` sounds like an external compartment. Using this one without counting boundary reactions.\n",
      "2024-05-24 15:15:41,795 - 3936220034.py[line:12] - INFO: add s_4071 <=> \n",
      "2024-05-24 15:15:41,795 - model.py[line:209] - INFO: The current solver interface glpk doesn't support setting the optimality tolerance.\n"
     ]
    },
    {
     "name": "stdout",
     "output_type": "stream",
     "text": [
      "s_4071\n"
     ]
    },
    {
     "name": "stderr",
     "output_type": "stream",
     "text": [
      "2024-05-24 15:15:42,327 - boundary_types.py[line:68] - INFO: Compartment `e` sounds like an external compartment. Using this one without counting boundary reactions.\n",
      "2024-05-24 15:15:42,346 - boundary_types.py[line:68] - INFO: Compartment `e` sounds like an external compartment. Using this one without counting boundary reactions.\n",
      "2024-05-24 15:15:42,914 - 3888050103.py[line:20] - INFO: 2-phosphoglycolate: G\n",
      "2024-05-24 15:15:42,914 - model.py[line:209] - INFO: The current solver interface glpk doesn't support setting the optimality tolerance.\n",
      "2024-05-24 15:15:43,444 - boundary_types.py[line:68] - INFO: Compartment `e` sounds like an external compartment. Using this one without counting boundary reactions.\n",
      "2024-05-24 15:15:43,444 - 3936220034.py[line:5] - INFO: add s_4075 <=> \n",
      "2024-05-24 15:15:43,444 - model.py[line:209] - INFO: The current solver interface glpk doesn't support setting the optimality tolerance.\n",
      "2024-05-24 15:15:43,978 - boundary_types.py[line:68] - INFO: Compartment `e` sounds like an external compartment. Using this one without counting boundary reactions.\n",
      "2024-05-24 15:15:43,995 - boundary_types.py[line:68] - INFO: Compartment `e` sounds like an external compartment. Using this one without counting boundary reactions.\n",
      "2024-05-24 15:15:44,462 - 3888050103.py[line:20] - INFO: cysteamine S-phosphate: G\n",
      "2024-05-24 15:15:44,462 - model.py[line:209] - INFO: The current solver interface glpk doesn't support setting the optimality tolerance.\n",
      "2024-05-24 15:15:45,007 - boundary_types.py[line:68] - INFO: Compartment `e` sounds like an external compartment. Using this one without counting boundary reactions.\n",
      "2024-05-24 15:15:45,009 - 3936220034.py[line:5] - INFO: add s_4078 <=> \n",
      "2024-05-24 15:15:45,010 - model.py[line:209] - INFO: The current solver interface glpk doesn't support setting the optimality tolerance.\n",
      "2024-05-24 15:15:45,513 - boundary_types.py[line:68] - INFO: Compartment `e` sounds like an external compartment. Using this one without counting boundary reactions.\n",
      "2024-05-24 15:15:45,531 - boundary_types.py[line:68] - INFO: Compartment `e` sounds like an external compartment. Using this one without counting boundary reactions.\n",
      "2024-05-24 15:15:46,009 - 3888050103.py[line:20] - INFO: O-phosphonatooxy-D-serine(2-): G\n",
      "2024-05-24 15:15:46,010 - model.py[line:209] - INFO: The current solver interface glpk doesn't support setting the optimality tolerance.\n",
      "2024-05-24 15:15:46,547 - boundary_types.py[line:68] - INFO: Compartment `e` sounds like an external compartment. Using this one without counting boundary reactions.\n",
      "2024-05-24 15:15:46,547 - 3936220034.py[line:5] - INFO: add s_4080 <=> \n",
      "2024-05-24 15:15:46,547 - model.py[line:209] - INFO: The current solver interface glpk doesn't support setting the optimality tolerance.\n",
      "2024-05-24 15:15:47,083 - boundary_types.py[line:68] - INFO: Compartment `e` sounds like an external compartment. Using this one without counting boundary reactions.\n",
      "2024-05-24 15:15:47,097 - boundary_types.py[line:68] - INFO: Compartment `e` sounds like an external compartment. Using this one without counting boundary reactions.\n",
      "2024-05-24 15:15:47,600 - 3888050103.py[line:20] - INFO: 2-aminobutanoate: G\n",
      "2024-05-24 15:15:47,600 - model.py[line:209] - INFO: The current solver interface glpk doesn't support setting the optimality tolerance.\n",
      "2024-05-24 15:15:48,134 - boundary_types.py[line:68] - INFO: Compartment `e` sounds like an external compartment. Using this one without counting boundary reactions.\n",
      "2024-05-24 15:15:48,134 - 3936220034.py[line:5] - INFO: add s_4082 <=> \n",
      "2024-05-24 15:15:48,140 - model.py[line:209] - INFO: The current solver interface glpk doesn't support setting the optimality tolerance.\n",
      "2024-05-24 15:15:48,676 - boundary_types.py[line:68] - INFO: Compartment `e` sounds like an external compartment. Using this one without counting boundary reactions.\n",
      "2024-05-24 15:15:48,692 - boundary_types.py[line:68] - INFO: Compartment `e` sounds like an external compartment. Using this one without counting boundary reactions.\n",
      "2024-05-24 15:15:49,175 - 3888050103.py[line:20] - INFO: uridine 2'-phosphate: G\n",
      "2024-05-24 15:15:49,177 - model.py[line:209] - INFO: The current solver interface glpk doesn't support setting the optimality tolerance.\n",
      "2024-05-24 15:15:49,698 - boundary_types.py[line:68] - INFO: Compartment `e` sounds like an external compartment. Using this one without counting boundary reactions.\n",
      "2024-05-24 15:15:49,701 - 3936220034.py[line:5] - INFO: add s_4084 <=> \n",
      "2024-05-24 15:15:49,702 - model.py[line:209] - INFO: The current solver interface glpk doesn't support setting the optimality tolerance.\n",
      "2024-05-24 15:15:50,225 - boundary_types.py[line:68] - INFO: Compartment `e` sounds like an external compartment. Using this one without counting boundary reactions.\n",
      "2024-05-24 15:15:50,240 - boundary_types.py[line:68] - INFO: Compartment `e` sounds like an external compartment. Using this one without counting boundary reactions.\n",
      "2024-05-24 15:15:50,696 - 3888050103.py[line:20] - INFO: 3'-UMP: G\n",
      "2024-05-24 15:15:50,697 - model.py[line:209] - INFO: The current solver interface glpk doesn't support setting the optimality tolerance.\n",
      "2024-05-24 15:15:51,231 - boundary_types.py[line:68] - INFO: Compartment `e` sounds like an external compartment. Using this one without counting boundary reactions.\n",
      "2024-05-24 15:15:51,234 - boundary_types.py[line:68] - INFO: Compartment `e` sounds like an external compartment. Using this one without counting boundary reactions.\n",
      "2024-05-24 15:15:51,234 - 3936220034.py[line:12] - INFO: add s_4087 <=> \n",
      "2024-05-24 15:15:51,234 - model.py[line:209] - INFO: The current solver interface glpk doesn't support setting the optimality tolerance.\n"
     ]
    },
    {
     "name": "stdout",
     "output_type": "stream",
     "text": [
      "s_4087\n"
     ]
    },
    {
     "name": "stderr",
     "output_type": "stream",
     "text": [
      "2024-05-24 15:15:53,924 - boundary_types.py[line:68] - INFO: Compartment `e` sounds like an external compartment. Using this one without counting boundary reactions.\n",
      "2024-05-24 15:15:53,940 - boundary_types.py[line:68] - INFO: Compartment `e` sounds like an external compartment. Using this one without counting boundary reactions.\n",
      "2024-05-24 15:15:54,509 - 3888050103.py[line:20] - INFO: Gly-Met: G\n",
      "2024-05-24 15:15:54,523 - model.py[line:209] - INFO: The current solver interface glpk doesn't support setting the optimality tolerance.\n",
      "2024-05-24 15:15:55,057 - boundary_types.py[line:68] - INFO: Compartment `e` sounds like an external compartment. Using this one without counting boundary reactions.\n",
      "2024-05-24 15:15:55,057 - boundary_types.py[line:68] - INFO: Compartment `e` sounds like an external compartment. Using this one without counting boundary reactions.\n",
      "2024-05-24 15:15:55,072 - 3936220034.py[line:12] - INFO: add s_4087 <=> \n",
      "2024-05-24 15:15:55,074 - model.py[line:209] - INFO: The current solver interface glpk doesn't support setting the optimality tolerance.\n"
     ]
    },
    {
     "name": "stdout",
     "output_type": "stream",
     "text": [
      "s_4087\n"
     ]
    },
    {
     "name": "stderr",
     "output_type": "stream",
     "text": [
      "2024-05-24 15:15:55,607 - boundary_types.py[line:68] - INFO: Compartment `e` sounds like an external compartment. Using this one without counting boundary reactions.\n",
      "2024-05-24 15:15:55,624 - boundary_types.py[line:68] - INFO: Compartment `e` sounds like an external compartment. Using this one without counting boundary reactions.\n",
      "2024-05-24 15:15:56,193 - 3888050103.py[line:20] - INFO: Gly-Met: G\n",
      "2024-05-24 15:15:56,193 - model.py[line:209] - INFO: The current solver interface glpk doesn't support setting the optimality tolerance.\n",
      "2024-05-24 15:15:56,757 - boundary_types.py[line:68] - INFO: Compartment `e` sounds like an external compartment. Using this one without counting boundary reactions.\n",
      "2024-05-24 15:15:56,757 - 3936220034.py[line:5] - INFO: add s_4090 <=> \n",
      "2024-05-24 15:15:56,757 - model.py[line:209] - INFO: The current solver interface glpk doesn't support setting the optimality tolerance.\n",
      "2024-05-24 15:15:57,274 - boundary_types.py[line:68] - INFO: Compartment `e` sounds like an external compartment. Using this one without counting boundary reactions.\n",
      "2024-05-24 15:15:57,290 - boundary_types.py[line:68] - INFO: Compartment `e` sounds like an external compartment. Using this one without counting boundary reactions.\n",
      "2024-05-24 15:15:57,724 - 3888050103.py[line:20] - INFO: N-phosphocreatine: NG\n",
      "2024-05-24 15:15:57,724 - model.py[line:209] - INFO: The current solver interface glpk doesn't support setting the optimality tolerance.\n",
      "2024-05-24 15:15:58,241 - boundary_types.py[line:68] - INFO: Compartment `e` sounds like an external compartment. Using this one without counting boundary reactions.\n",
      "2024-05-24 15:15:58,241 - 3936220034.py[line:5] - INFO: add s_4093 <=> \n",
      "2024-05-24 15:15:58,241 - model.py[line:209] - INFO: The current solver interface glpk doesn't support setting the optimality tolerance.\n",
      "2024-05-24 15:15:58,759 - boundary_types.py[line:68] - INFO: Compartment `e` sounds like an external compartment. Using this one without counting boundary reactions.\n",
      "2024-05-24 15:15:58,774 - boundary_types.py[line:68] - INFO: Compartment `e` sounds like an external compartment. Using this one without counting boundary reactions.\n",
      "2024-05-24 15:15:59,291 - 3888050103.py[line:20] - INFO: N(omega)-phospho-L-arginine: G\n",
      "2024-05-24 15:15:59,291 - model.py[line:209] - INFO: The current solver interface glpk doesn't support setting the optimality tolerance.\n",
      "2024-05-24 15:15:59,824 - boundary_types.py[line:68] - INFO: Compartment `e` sounds like an external compartment. Using this one without counting boundary reactions.\n",
      "2024-05-24 15:15:59,824 - 3936220034.py[line:5] - INFO: add s_4095 <=> \n",
      "2024-05-24 15:15:59,824 - model.py[line:209] - INFO: The current solver interface glpk doesn't support setting the optimality tolerance.\n",
      "2024-05-24 15:16:00,374 - boundary_types.py[line:68] - INFO: Compartment `e` sounds like an external compartment. Using this one without counting boundary reactions.\n",
      "2024-05-24 15:16:00,390 - boundary_types.py[line:68] - INFO: Compartment `e` sounds like an external compartment. Using this one without counting boundary reactions.\n",
      "2024-05-24 15:16:00,907 - 3888050103.py[line:20] - INFO: 2',3'-cyclic GMP: G\n",
      "2024-05-24 15:16:00,907 - model.py[line:209] - INFO: The current solver interface glpk doesn't support setting the optimality tolerance.\n",
      "2024-05-24 15:16:01,424 - boundary_types.py[line:68] - INFO: Compartment `e` sounds like an external compartment. Using this one without counting boundary reactions.\n",
      "2024-05-24 15:16:01,424 - 3936220034.py[line:5] - INFO: add s_4097 <=> \n",
      "2024-05-24 15:16:01,424 - model.py[line:209] - INFO: The current solver interface glpk doesn't support setting the optimality tolerance.\n",
      "2024-05-24 15:16:01,973 - boundary_types.py[line:68] - INFO: Compartment `e` sounds like an external compartment. Using this one without counting boundary reactions.\n",
      "2024-05-24 15:16:01,990 - boundary_types.py[line:68] - INFO: Compartment `e` sounds like an external compartment. Using this one without counting boundary reactions.\n",
      "2024-05-24 15:16:02,550 - 3888050103.py[line:20] - INFO: O(4)-phospho-L-tyrosine: G\n",
      "2024-05-24 15:16:02,550 - model.py[line:209] - INFO: The current solver interface glpk doesn't support setting the optimality tolerance.\n",
      "2024-05-24 15:16:03,072 - boundary_types.py[line:68] - INFO: Compartment `e` sounds like an external compartment. Using this one without counting boundary reactions.\n",
      "2024-05-24 15:16:03,074 - 3936220034.py[line:5] - INFO: add s_4099 <=> \n",
      "2024-05-24 15:16:03,074 - model.py[line:209] - INFO: The current solver interface glpk doesn't support setting the optimality tolerance.\n",
      "2024-05-24 15:16:03,590 - boundary_types.py[line:68] - INFO: Compartment `e` sounds like an external compartment. Using this one without counting boundary reactions.\n",
      "2024-05-24 15:16:03,607 - boundary_types.py[line:68] - INFO: Compartment `e` sounds like an external compartment. Using this one without counting boundary reactions.\n",
      "2024-05-24 15:16:04,090 - 3888050103.py[line:20] - INFO: triphosphate: G\n",
      "2024-05-24 15:16:04,090 - model.py[line:209] - INFO: The current solver interface glpk doesn't support setting the optimality tolerance.\n",
      "2024-05-24 15:16:04,626 - boundary_types.py[line:68] - INFO: Compartment `e` sounds like an external compartment. Using this one without counting boundary reactions.\n",
      "2024-05-24 15:16:04,626 - 3936220034.py[line:5] - INFO: add s_4101 <=> \n",
      "2024-05-24 15:16:04,626 - model.py[line:209] - INFO: The current solver interface glpk doesn't support setting the optimality tolerance.\n",
      "2024-05-24 15:16:05,159 - boundary_types.py[line:68] - INFO: Compartment `e` sounds like an external compartment. Using this one without counting boundary reactions.\n",
      "2024-05-24 15:16:05,173 - boundary_types.py[line:68] - INFO: Compartment `e` sounds like an external compartment. Using this one without counting boundary reactions.\n",
      "2024-05-24 15:16:05,640 - 3888050103.py[line:20] - INFO: cytidine 2'-phosphate: G\n",
      "2024-05-24 15:16:05,640 - model.py[line:209] - INFO: The current solver interface glpk doesn't support setting the optimality tolerance.\n",
      "2024-05-24 15:16:06,157 - boundary_types.py[line:68] - INFO: Compartment `e` sounds like an external compartment. Using this one without counting boundary reactions.\n",
      "2024-05-24 15:16:06,157 - 3936220034.py[line:5] - INFO: add s_4103 <=> \n",
      "2024-05-24 15:16:06,157 - model.py[line:209] - INFO: The current solver interface glpk doesn't support setting the optimality tolerance.\n",
      "2024-05-24 15:16:08,773 - boundary_types.py[line:68] - INFO: Compartment `e` sounds like an external compartment. Using this one without counting boundary reactions.\n",
      "2024-05-24 15:16:08,787 - boundary_types.py[line:68] - INFO: Compartment `e` sounds like an external compartment. Using this one without counting boundary reactions.\n",
      "2024-05-24 15:16:09,290 - 3888050103.py[line:20] - INFO: 2',3'-cyclic UMP: G\n",
      "2024-05-24 15:16:09,290 - model.py[line:209] - INFO: The current solver interface glpk doesn't support setting the optimality tolerance.\n",
      "2024-05-24 15:16:09,806 - boundary_types.py[line:68] - INFO: Compartment `e` sounds like an external compartment. Using this one without counting boundary reactions.\n",
      "2024-05-24 15:16:09,806 - 3936220034.py[line:5] - INFO: add s_4105 <=> \n",
      "2024-05-24 15:16:09,806 - model.py[line:209] - INFO: The current solver interface glpk doesn't support setting the optimality tolerance.\n",
      "2024-05-24 15:16:10,323 - boundary_types.py[line:68] - INFO: Compartment `e` sounds like an external compartment. Using this one without counting boundary reactions.\n",
      "2024-05-24 15:16:10,340 - boundary_types.py[line:68] - INFO: Compartment `e` sounds like an external compartment. Using this one without counting boundary reactions.\n",
      "2024-05-24 15:16:10,823 - 3888050103.py[line:20] - INFO: 3-sulfino-L-alanine: G\n",
      "2024-05-24 15:16:10,823 - model.py[line:209] - INFO: The current solver interface glpk doesn't support setting the optimality tolerance.\n",
      "2024-05-24 15:16:11,325 - boundary_types.py[line:68] - INFO: Compartment `e` sounds like an external compartment. Using this one without counting boundary reactions.\n",
      "2024-05-24 15:16:11,325 - 3936220034.py[line:5] - INFO: add s_4107 <=> \n",
      "2024-05-24 15:16:11,325 - model.py[line:209] - INFO: The current solver interface glpk doesn't support setting the optimality tolerance.\n",
      "2024-05-24 15:16:11,840 - boundary_types.py[line:68] - INFO: Compartment `e` sounds like an external compartment. Using this one without counting boundary reactions.\n",
      "2024-05-24 15:16:11,867 - boundary_types.py[line:68] - INFO: Compartment `e` sounds like an external compartment. Using this one without counting boundary reactions.\n",
      "2024-05-24 15:16:12,423 - 3888050103.py[line:20] - INFO: 3'-AMP: G\n",
      "2024-05-24 15:16:12,423 - model.py[line:209] - INFO: The current solver interface glpk doesn't support setting the optimality tolerance.\n",
      "2024-05-24 15:16:12,949 - boundary_types.py[line:68] - INFO: Compartment `e` sounds like an external compartment. Using this one without counting boundary reactions.\n",
      "2024-05-24 15:16:12,949 - 3936220034.py[line:5] - INFO: add s_4109 <=> \n",
      "2024-05-24 15:16:12,949 - model.py[line:209] - INFO: The current solver interface glpk doesn't support setting the optimality tolerance.\n",
      "2024-05-24 15:16:13,470 - boundary_types.py[line:68] - INFO: Compartment `e` sounds like an external compartment. Using this one without counting boundary reactions.\n",
      "2024-05-24 15:16:13,484 - boundary_types.py[line:68] - INFO: Compartment `e` sounds like an external compartment. Using this one without counting boundary reactions.\n",
      "2024-05-24 15:16:14,023 - 3888050103.py[line:20] - INFO: 6-O-alpha-D-glucopyranosyl-D-fructofuranose: G\n",
      "2024-05-24 15:16:14,023 - model.py[line:209] - INFO: The current solver interface glpk doesn't support setting the optimality tolerance.\n",
      "2024-05-24 15:16:14,541 - boundary_types.py[line:68] - INFO: Compartment `e` sounds like an external compartment. Using this one without counting boundary reactions.\n",
      "2024-05-24 15:16:14,542 - 3936220034.py[line:5] - INFO: add s_4111 <=> \n",
      "2024-05-24 15:16:14,542 - model.py[line:209] - INFO: The current solver interface glpk doesn't support setting the optimality tolerance.\n",
      "2024-05-24 15:16:15,075 - boundary_types.py[line:68] - INFO: Compartment `e` sounds like an external compartment. Using this one without counting boundary reactions.\n",
      "2024-05-24 15:16:15,090 - boundary_types.py[line:68] - INFO: Compartment `e` sounds like an external compartment. Using this one without counting boundary reactions.\n",
      "2024-05-24 15:16:15,614 - 3888050103.py[line:20] - INFO: N-acetyl-L-cysteine: G\n",
      "2024-05-24 15:16:15,615 - model.py[line:209] - INFO: The current solver interface glpk doesn't support setting the optimality tolerance.\n",
      "2024-05-24 15:16:16,140 - boundary_types.py[line:68] - INFO: Compartment `e` sounds like an external compartment. Using this one without counting boundary reactions.\n",
      "2024-05-24 15:16:16,140 - 3936220034.py[line:5] - INFO: add s_4114 <=> \n",
      "2024-05-24 15:16:16,140 - model.py[line:209] - INFO: The current solver interface glpk doesn't support setting the optimality tolerance.\n",
      "2024-05-24 15:16:16,656 - boundary_types.py[line:68] - INFO: Compartment `e` sounds like an external compartment. Using this one without counting boundary reactions.\n",
      "2024-05-24 15:16:16,690 - boundary_types.py[line:68] - INFO: Compartment `e` sounds like an external compartment. Using this one without counting boundary reactions.\n",
      "2024-05-24 15:16:16,925 - 3888050103.py[line:20] - INFO: tetrathionate: NG\n",
      "2024-05-24 15:16:16,925 - model.py[line:209] - INFO: The current solver interface glpk doesn't support setting the optimality tolerance.\n",
      "2024-05-24 15:16:17,440 - boundary_types.py[line:68] - INFO: Compartment `e` sounds like an external compartment. Using this one without counting boundary reactions.\n",
      "2024-05-24 15:16:17,440 - 3936220034.py[line:5] - INFO: add s_4116 <=> \n",
      "2024-05-24 15:16:17,456 - model.py[line:209] - INFO: The current solver interface glpk doesn't support setting the optimality tolerance.\n",
      "2024-05-24 15:16:17,979 - boundary_types.py[line:68] - INFO: Compartment `e` sounds like an external compartment. Using this one without counting boundary reactions.\n",
      "2024-05-24 15:16:17,990 - boundary_types.py[line:68] - INFO: Compartment `e` sounds like an external compartment. Using this one without counting boundary reactions.\n",
      "2024-05-24 15:16:18,456 - 3888050103.py[line:20] - INFO: 2-hydroxyethane-1-sulfonate: G\n",
      "2024-05-24 15:16:18,456 - model.py[line:209] - INFO: The current solver interface glpk doesn't support setting the optimality tolerance.\n",
      "2024-05-24 15:16:19,006 - boundary_types.py[line:68] - INFO: Compartment `e` sounds like an external compartment. Using this one without counting boundary reactions.\n",
      "2024-05-24 15:16:19,006 - 3936220034.py[line:5] - INFO: add s_4118 <=> \n",
      "2024-05-24 15:16:19,006 - model.py[line:209] - INFO: The current solver interface glpk doesn't support setting the optimality tolerance.\n",
      "2024-05-24 15:16:19,558 - boundary_types.py[line:68] - INFO: Compartment `e` sounds like an external compartment. Using this one without counting boundary reactions.\n",
      "2024-05-24 15:16:19,579 - boundary_types.py[line:68] - INFO: Compartment `e` sounds like an external compartment. Using this one without counting boundary reactions.\n",
      "2024-05-24 15:16:20,206 - 3888050103.py[line:20] - INFO: 5-dehydro-D-gluconate: G\n",
      "2024-05-24 15:16:20,206 - model.py[line:209] - INFO: The current solver interface glpk doesn't support setting the optimality tolerance.\n",
      "2024-05-24 15:16:20,774 - boundary_types.py[line:68] - INFO: Compartment `e` sounds like an external compartment. Using this one without counting boundary reactions.\n",
      "2024-05-24 15:16:20,779 - boundary_types.py[line:68] - INFO: Compartment `e` sounds like an external compartment. Using this one without counting boundary reactions.\n",
      "2024-05-24 15:16:20,781 - 3936220034.py[line:12] - INFO: add s_4121 <=> \n",
      "2024-05-24 15:16:20,782 - model.py[line:209] - INFO: The current solver interface glpk doesn't support setting the optimality tolerance.\n"
     ]
    },
    {
     "name": "stdout",
     "output_type": "stream",
     "text": [
      "s_4121\n"
     ]
    },
    {
     "name": "stderr",
     "output_type": "stream",
     "text": [
      "2024-05-24 15:16:23,472 - boundary_types.py[line:68] - INFO: Compartment `e` sounds like an external compartment. Using this one without counting boundary reactions.\n",
      "2024-05-24 15:16:23,489 - boundary_types.py[line:68] - INFO: Compartment `e` sounds like an external compartment. Using this one without counting boundary reactions.\n",
      "2024-05-24 15:16:24,006 - 3888050103.py[line:20] - INFO: Ala-Asp: G\n",
      "2024-05-24 15:16:24,006 - model.py[line:209] - INFO: The current solver interface glpk doesn't support setting the optimality tolerance.\n",
      "2024-05-24 15:16:24,573 - boundary_types.py[line:68] - INFO: Compartment `e` sounds like an external compartment. Using this one without counting boundary reactions.\n",
      "2024-05-24 15:16:24,573 - 3936220034.py[line:5] - INFO: add s_4125 <=> \n",
      "2024-05-24 15:16:24,573 - model.py[line:209] - INFO: The current solver interface glpk doesn't support setting the optimality tolerance.\n",
      "2024-05-24 15:16:25,124 - boundary_types.py[line:68] - INFO: Compartment `e` sounds like an external compartment. Using this one without counting boundary reactions.\n",
      "2024-05-24 15:16:25,139 - boundary_types.py[line:68] - INFO: Compartment `e` sounds like an external compartment. Using this one without counting boundary reactions.\n",
      "2024-05-24 15:16:25,773 - 3888050103.py[line:20] - INFO: methyl alpha-D-glucopyranoside: G\n",
      "2024-05-24 15:16:25,773 - model.py[line:209] - INFO: The current solver interface glpk doesn't support setting the optimality tolerance.\n",
      "2024-05-24 15:16:26,322 - boundary_types.py[line:68] - INFO: Compartment `e` sounds like an external compartment. Using this one without counting boundary reactions.\n",
      "2024-05-24 15:16:26,322 - 3936220034.py[line:5] - INFO: add s_4127 <=> \n",
      "2024-05-24 15:16:26,322 - model.py[line:209] - INFO: The current solver interface glpk doesn't support setting the optimality tolerance.\n",
      "2024-05-24 15:16:26,856 - boundary_types.py[line:68] - INFO: Compartment `e` sounds like an external compartment. Using this one without counting boundary reactions.\n",
      "2024-05-24 15:16:26,873 - boundary_types.py[line:68] - INFO: Compartment `e` sounds like an external compartment. Using this one without counting boundary reactions.\n",
      "2024-05-24 15:16:27,406 - 3888050103.py[line:20] - INFO: 2',3'-cyclic CMP: G\n",
      "2024-05-24 15:16:27,406 - model.py[line:209] - INFO: The current solver interface glpk doesn't support setting the optimality tolerance.\n",
      "2024-05-24 15:16:27,940 - boundary_types.py[line:68] - INFO: Compartment `e` sounds like an external compartment. Using this one without counting boundary reactions.\n",
      "2024-05-24 15:16:27,955 - 3936220034.py[line:5] - INFO: add s_4130 <=> \n",
      "2024-05-24 15:16:27,956 - model.py[line:209] - INFO: The current solver interface glpk doesn't support setting the optimality tolerance.\n",
      "2024-05-24 15:16:28,506 - boundary_types.py[line:68] - INFO: Compartment `e` sounds like an external compartment. Using this one without counting boundary reactions.\n",
      "2024-05-24 15:16:28,522 - boundary_types.py[line:68] - INFO: Compartment `e` sounds like an external compartment. Using this one without counting boundary reactions.\n",
      "2024-05-24 15:16:29,022 - 3888050103.py[line:20] - INFO: D-tagatose: G\n",
      "2024-05-24 15:16:29,022 - model.py[line:209] - INFO: The current solver interface glpk doesn't support setting the optimality tolerance.\n",
      "2024-05-24 15:16:29,575 - boundary_types.py[line:68] - INFO: Compartment `e` sounds like an external compartment. Using this one without counting boundary reactions.\n",
      "2024-05-24 15:16:29,589 - 3936220034.py[line:5] - INFO: add s_4131 <=> \n",
      "2024-05-24 15:16:29,589 - model.py[line:209] - INFO: The current solver interface glpk doesn't support setting the optimality tolerance.\n",
      "2024-05-24 15:16:30,573 - boundary_types.py[line:68] - INFO: Compartment `e` sounds like an external compartment. Using this one without counting boundary reactions.\n",
      "2024-05-24 15:16:30,606 - boundary_types.py[line:68] - INFO: Compartment `e` sounds like an external compartment. Using this one without counting boundary reactions.\n",
      "2024-05-24 15:16:31,447 - 3888050103.py[line:20] - INFO: turanose: G\n",
      "2024-05-24 15:16:31,447 - model.py[line:209] - INFO: The current solver interface glpk doesn't support setting the optimality tolerance.\n",
      "2024-05-24 15:16:32,473 - boundary_types.py[line:68] - INFO: Compartment `e` sounds like an external compartment. Using this one without counting boundary reactions.\n",
      "2024-05-24 15:16:32,473 - 3936220034.py[line:5] - INFO: add s_4133 <=> \n",
      "2024-05-24 15:16:32,473 - model.py[line:209] - INFO: The current solver interface glpk doesn't support setting the optimality tolerance.\n",
      "2024-05-24 15:16:33,175 - boundary_types.py[line:68] - INFO: Compartment `e` sounds like an external compartment. Using this one without counting boundary reactions.\n",
      "2024-05-24 15:16:33,189 - boundary_types.py[line:68] - INFO: Compartment `e` sounds like an external compartment. Using this one without counting boundary reactions.\n",
      "2024-05-24 15:16:33,676 - 3888050103.py[line:20] - INFO: acetoacetate: G\n",
      "2024-05-24 15:16:33,677 - model.py[line:209] - INFO: The current solver interface glpk doesn't support setting the optimality tolerance.\n",
      "2024-05-24 15:16:34,189 - boundary_types.py[line:68] - INFO: Compartment `e` sounds like an external compartment. Using this one without counting boundary reactions.\n",
      "2024-05-24 15:16:34,189 - 3936220034.py[line:5] - INFO: add s_4135 <=> \n",
      "2024-05-24 15:16:34,206 - model.py[line:209] - INFO: The current solver interface glpk doesn't support setting the optimality tolerance.\n",
      "2024-05-24 15:16:34,722 - boundary_types.py[line:68] - INFO: Compartment `e` sounds like an external compartment. Using this one without counting boundary reactions.\n",
      "2024-05-24 15:16:34,739 - boundary_types.py[line:68] - INFO: Compartment `e` sounds like an external compartment. Using this one without counting boundary reactions.\n",
      "2024-05-24 15:16:35,372 - 3888050103.py[line:20] - INFO: N(alpha)-acetyl-L-methionine: G\n",
      "2024-05-24 15:16:35,375 - model.py[line:209] - INFO: The current solver interface glpk doesn't support setting the optimality tolerance.\n",
      "2024-05-24 15:16:35,889 - boundary_types.py[line:68] - INFO: Compartment `e` sounds like an external compartment. Using this one without counting boundary reactions.\n",
      "2024-05-24 15:16:35,889 - 3936220034.py[line:5] - INFO: add s_4137 <=> \n",
      "2024-05-24 15:16:35,889 - model.py[line:209] - INFO: The current solver interface glpk doesn't support setting the optimality tolerance.\n",
      "2024-05-24 15:16:36,416 - boundary_types.py[line:68] - INFO: Compartment `e` sounds like an external compartment. Using this one without counting boundary reactions.\n",
      "2024-05-24 15:16:36,422 - boundary_types.py[line:68] - INFO: Compartment `e` sounds like an external compartment. Using this one without counting boundary reactions.\n",
      "2024-05-24 15:16:36,856 - 3888050103.py[line:20] - INFO: 3-oxalomalate(3-): G\n",
      "2024-05-24 15:16:36,856 - model.py[line:209] - INFO: The current solver interface glpk doesn't support setting the optimality tolerance.\n",
      "2024-05-24 15:16:37,355 - boundary_types.py[line:68] - INFO: Compartment `e` sounds like an external compartment. Using this one without counting boundary reactions.\n",
      "2024-05-24 15:16:37,355 - 3936220034.py[line:5] - INFO: add s_4139 <=> \n",
      "2024-05-24 15:16:37,372 - model.py[line:209] - INFO: The current solver interface glpk doesn't support setting the optimality tolerance.\n",
      "2024-05-24 15:16:38,122 - boundary_types.py[line:68] - INFO: Compartment `e` sounds like an external compartment. Using this one without counting boundary reactions.\n",
      "2024-05-24 15:16:38,139 - boundary_types.py[line:68] - INFO: Compartment `e` sounds like an external compartment. Using this one without counting boundary reactions.\n",
      "2024-05-24 15:16:38,622 - 3888050103.py[line:20] - INFO: L-cysteate: G\n",
      "2024-05-24 15:16:38,622 - model.py[line:209] - INFO: The current solver interface glpk doesn't support setting the optimality tolerance.\n",
      "2024-05-24 15:16:41,306 - boundary_types.py[line:68] - INFO: Compartment `e` sounds like an external compartment. Using this one without counting boundary reactions.\n",
      "2024-05-24 15:16:41,308 - 3936220034.py[line:5] - INFO: add s_4140 <=> \n",
      "2024-05-24 15:16:41,308 - model.py[line:209] - INFO: The current solver interface glpk doesn't support setting the optimality tolerance.\n",
      "2024-05-24 15:16:41,841 - boundary_types.py[line:68] - INFO: Compartment `e` sounds like an external compartment. Using this one without counting boundary reactions.\n",
      "2024-05-24 15:16:41,855 - boundary_types.py[line:68] - INFO: Compartment `e` sounds like an external compartment. Using this one without counting boundary reactions.\n",
      "2024-05-24 15:16:42,391 - 3888050103.py[line:20] - INFO: alpha-maltotriose: G\n"
     ]
    }
   ],
   "source": [
    "model = cobra.io.read_sbml_model('./Yeast9.xml')\n",
    "exp_simu = pd.DataFrame(columns=['Name_in_Model', 'id', 'Substrate_type', 'Growth_Biolog', 'Growth_Model'])\n",
    "for m in model.metabolites:\n",
    "    for i in range(len(biolog.index)):\n",
    "        if m.name == biolog.loc[i, 'Name_in_Model']:\n",
    "        #if m.name.split(' ')[0] == biolog.loc[i, 'Name_in_Model']:\n",
    "            exp_simu.loc[i, 'id'] = m.id\n",
    "            exp_simu.loc[i, 'Substrate_type'] = biolog.loc[i, 'Substrate_type']\n",
    "            exp_simu.loc[i, 'Growth_Biolog'] = biolog.loc[i, 'Growth_Biolog']\n",
    "            exp_simu.loc[i, 'Name_in_Model'] = biolog.loc[i, 'Name_in_Model']\n",
    "\n",
    "exp_simu.index = range(len(exp_simu))\n",
    "\n",
    "\n",
    "if __name__ == '__main__':\n",
    "    for i in range(len(exp_simu.index)):\n",
    "        model_test, rxn = add_exchange(model, exp_simu.loc[i, 'id'])\n",
    "        model_final = change_medium(model_test, exp_simu.loc[i, 'Substrate_type'], rxn)\n",
    "        gng = simu(model_final)\n",
    "        logging.info('{}: {}'.format(str(exp_simu.loc[i, 'Name_in_Model']), gng))\n",
    "        exp_simu.loc[i, 'Growth_Model'] = gng\n",
    "\n",
    "    c = 0\n",
    "    for i in range(len(exp_simu.index)):\n",
    "        if exp_simu.loc[i, 'Growth_Biolog'] == exp_simu.loc[i, 'Growth_Model']:\n",
    "            c += 1\n",
    "\n",
    "    exp_simu.to_excel('./yeast9_sub_use.xlsx'.format(model.id))"
   ]
  }
 ],
 "metadata": {
  "kernelspec": {
   "display_name": "yeast9",
   "language": "python",
   "name": "python3"
  },
  "language_info": {
   "codemirror_mode": {
    "name": "ipython",
    "version": 3
   },
   "file_extension": ".py",
   "mimetype": "text/x-python",
   "name": "python",
   "nbconvert_exporter": "python",
   "pygments_lexer": "ipython3",
   "version": "3.8.19"
  }
 },
 "nbformat": 4,
 "nbformat_minor": 2
}
