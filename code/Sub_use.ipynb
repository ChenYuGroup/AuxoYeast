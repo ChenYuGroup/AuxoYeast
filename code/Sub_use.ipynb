{
 "cells": [
  {
   "cell_type": "code",
   "execution_count": 1,
   "metadata": {},
   "outputs": [],
   "source": [
    "import pandas as pd\n",
    "import cobra\n",
    "import logging"
   ]
  },
  {
   "cell_type": "code",
   "execution_count": 2,
   "metadata": {},
   "outputs": [],
   "source": [
    "def change_medium(model, sub_type, sub):\n",
    "    '''\n",
    "        {'r_1714'}; % D-glucose exchange\n",
    "        {'r_1654'}; % ammonium exchange\n",
    "        {'r_2005'}; % phosphate exchange\n",
    "        {'r_2060'}; % phosphate exchange\n",
    "    '''\n",
    "    model_test = model.copy()\n",
    "    medium = model_test.medium\n",
    "    medium[sub.id] = 10.0\n",
    "    if sub_type == 'C':\n",
    "        medium['r_1714'] = 0.0\n",
    "    elif sub_type == 'N':\n",
    "        medium['r_1654'] = 0.0\n",
    "    elif sub_type == 'P':\n",
    "        medium['r_2005'] = 0.0\n",
    "    elif sub_type == 'S':\n",
    "        medium['r_2060'] = 0.0\n",
    "    model_test.medium = medium\n",
    "    return model_test"
   ]
  },
  {
   "cell_type": "code",
   "execution_count": 3,
   "metadata": {},
   "outputs": [],
   "source": [
    "def add_exchange(model, metid):\n",
    "    model_test = model.copy()\n",
    "    try:\n",
    "        rxn = model_test.add_boundary(model_test.metabolites.get_by_id(metid))\n",
    "        logging.info('add {}'.format(rxn.reaction))\n",
    "    except ValueError:\n",
    "        met = model_test.metabolites.get_by_id(metid)\n",
    "        print(metid)\n",
    "        met.compartment = 'e'\n",
    "        model_test.add_metabolites(met)\n",
    "        rxn = model_test.add_boundary(met, type=\"exchange\")\n",
    "        logging.info('add {}'.format(rxn.reaction))\n",
    "    return model_test, rxn"
   ]
  },
  {
   "cell_type": "code",
   "execution_count": 4,
   "metadata": {},
   "outputs": [],
   "source": [
    "def simu(model):\n",
    "    sol = model.optimize()\n",
    "    if sol.objective_value > 1e-6:\n",
    "        gng = 'G'\n",
    "    else:\n",
    "        gng = 'NG'\n",
    "    return gng\n",
    "\n",
    "\n",
    "logging.basicConfig(level=logging.DEBUG, format='%(asctime)s - %(filename)s[line:%(lineno)d] - %(levelname)s: %(message)s')\n",
    "biolog = pd.read_table('./Biolog_Substrate.tsv')"
   ]
  },
  {
   "cell_type": "code",
   "execution_count": 5,
   "metadata": {},
   "outputs": [
    {
     "name": "stderr",
     "output_type": "stream",
     "text": [
      "2024-03-06 19:42:27,812 - model.py[line:209] - INFO: The current solver interface glpk doesn't support setting the optimality tolerance.\n",
      "2024-03-06 19:42:27,813 - sbml.py[line:1672] - DEBUG: Unexpected content format 'Saccharomyces cerevisiae - strain S288C'.\n",
      "2024-03-06 19:42:34,190 - model.py[line:209] - INFO: The current solver interface glpk doesn't support setting the optimality tolerance.\n",
      "2024-03-06 19:42:34,750 - boundary_types.py[line:68] - INFO: Compartment `e` sounds like an external compartment. Using this one without counting boundary reactions.\n",
      "2024-03-06 19:42:34,757 - boundary_types.py[line:68] - INFO: Compartment `e` sounds like an external compartment. Using this one without counting boundary reactions.\n",
      "2024-03-06 19:42:34,758 - 3936220034.py[line:12] - INFO: add s_0065 <=> \n",
      "2024-03-06 19:42:34,759 - model.py[line:209] - INFO: The current solver interface glpk doesn't support setting the optimality tolerance.\n"
     ]
    },
    {
     "name": "stdout",
     "output_type": "stream",
     "text": [
      "s_0065\n"
     ]
    },
    {
     "name": "stderr",
     "output_type": "stream",
     "text": [
      "2024-03-06 19:42:35,228 - boundary_types.py[line:68] - INFO: Compartment `e` sounds like an external compartment. Using this one without counting boundary reactions.\n",
      "2024-03-06 19:42:35,242 - boundary_types.py[line:68] - INFO: Compartment `e` sounds like an external compartment. Using this one without counting boundary reactions.\n",
      "2024-03-06 19:42:35,778 - 1263953134.py[line:20] - INFO: (S)-lactate: G\n",
      "2024-03-06 19:42:35,780 - model.py[line:209] - INFO: The current solver interface glpk doesn't support setting the optimality tolerance.\n",
      "2024-03-06 19:42:36,153 - boundary_types.py[line:68] - INFO: Compartment `e` sounds like an external compartment. Using this one without counting boundary reactions.\n",
      "2024-03-06 19:42:36,158 - boundary_types.py[line:68] - INFO: Compartment `e` sounds like an external compartment. Using this one without counting boundary reactions.\n",
      "2024-03-06 19:42:36,159 - 3936220034.py[line:12] - INFO: add s_0069 <=> \n",
      "2024-03-06 19:42:36,160 - model.py[line:209] - INFO: The current solver interface glpk doesn't support setting the optimality tolerance.\n"
     ]
    },
    {
     "name": "stdout",
     "output_type": "stream",
     "text": [
      "s_0069\n"
     ]
    },
    {
     "name": "stderr",
     "output_type": "stream",
     "text": [
      "2024-03-06 19:42:36,664 - boundary_types.py[line:68] - INFO: Compartment `e` sounds like an external compartment. Using this one without counting boundary reactions.\n",
      "2024-03-06 19:42:36,678 - boundary_types.py[line:68] - INFO: Compartment `e` sounds like an external compartment. Using this one without counting boundary reactions.\n",
      "2024-03-06 19:42:37,198 - 1263953134.py[line:20] - INFO: (S)-malate: G\n",
      "2024-03-06 19:42:37,199 - model.py[line:209] - INFO: The current solver interface glpk doesn't support setting the optimality tolerance.\n",
      "2024-03-06 19:42:37,703 - boundary_types.py[line:68] - INFO: Compartment `e` sounds like an external compartment. Using this one without counting boundary reactions.\n",
      "2024-03-06 19:42:37,704 - 3936220034.py[line:5] - INFO: add s_4161 <=> \n",
      "2024-03-06 19:42:37,705 - model.py[line:209] - INFO: The current solver interface glpk doesn't support setting the optimality tolerance.\n",
      "2024-03-06 19:42:38,066 - boundary_types.py[line:68] - INFO: Compartment `e` sounds like an external compartment. Using this one without counting boundary reactions.\n",
      "2024-03-06 19:42:38,079 - boundary_types.py[line:68] - INFO: Compartment `e` sounds like an external compartment. Using this one without counting boundary reactions.\n",
      "2024-03-06 19:42:38,574 - 1263953134.py[line:20] - INFO: 2',3'-cyclic AMP: G\n",
      "2024-03-06 19:42:38,576 - model.py[line:209] - INFO: The current solver interface glpk doesn't support setting the optimality tolerance.\n",
      "2024-03-06 19:42:39,118 - boundary_types.py[line:68] - INFO: Compartment `e` sounds like an external compartment. Using this one without counting boundary reactions.\n",
      "2024-03-06 19:42:39,120 - 3936220034.py[line:5] - INFO: add s_0133 <=> \n",
      "2024-03-06 19:42:39,121 - model.py[line:209] - INFO: The current solver interface glpk doesn't support setting the optimality tolerance.\n",
      "2024-03-06 19:42:39,497 - boundary_types.py[line:68] - INFO: Compartment `e` sounds like an external compartment. Using this one without counting boundary reactions.\n",
      "2024-03-06 19:42:39,509 - boundary_types.py[line:68] - INFO: Compartment `e` sounds like an external compartment. Using this one without counting boundary reactions.\n",
      "2024-03-06 19:42:40,009 - glpk_interface.py[line:689] - DEBUG: Status undefined. GLPK status code returned by glp_simplex was 10\n",
      "c:\\Users\\13293\\APP\\anaconda\\envs\\yeast9\\lib\\site-packages\\cobra\\util\\solver.py:554: UserWarning: Solver status is 'infeasible'.\n",
      "  warn(f\"Solver status is '{status}'.\", UserWarning)\n",
      "2024-03-06 19:42:40,030 - 1263953134.py[line:20] - INFO: 2'-deoxyadenosine: NG\n",
      "2024-03-06 19:42:40,031 - model.py[line:209] - INFO: The current solver interface glpk doesn't support setting the optimality tolerance.\n",
      "2024-03-06 19:42:40,605 - boundary_types.py[line:68] - INFO: Compartment `e` sounds like an external compartment. Using this one without counting boundary reactions.\n",
      "2024-03-06 19:42:40,607 - 3936220034.py[line:5] - INFO: add s_4165 <=> \n",
      "2024-03-06 19:42:40,608 - model.py[line:209] - INFO: The current solver interface glpk doesn't support setting the optimality tolerance.\n",
      "2024-03-06 19:42:40,972 - boundary_types.py[line:68] - INFO: Compartment `e` sounds like an external compartment. Using this one without counting boundary reactions.\n",
      "2024-03-06 19:42:40,984 - boundary_types.py[line:68] - INFO: Compartment `e` sounds like an external compartment. Using this one without counting boundary reactions.\n",
      "2024-03-06 19:42:41,471 - glpk_interface.py[line:689] - DEBUG: Status undefined. GLPK status code returned by glp_simplex was 10\n",
      "c:\\Users\\13293\\APP\\anaconda\\envs\\yeast9\\lib\\site-packages\\cobra\\util\\solver.py:554: UserWarning: Solver status is 'infeasible'.\n",
      "  warn(f\"Solver status is '{status}'.\", UserWarning)\n",
      "2024-03-06 19:42:41,487 - 1263953134.py[line:20] - INFO: 2-deoxy-D-ribose: NG\n",
      "2024-03-06 19:42:41,489 - model.py[line:209] - INFO: The current solver interface glpk doesn't support setting the optimality tolerance.\n",
      "2024-03-06 19:42:42,071 - boundary_types.py[line:68] - INFO: Compartment `e` sounds like an external compartment. Using this one without counting boundary reactions.\n",
      "2024-03-06 19:42:42,077 - boundary_types.py[line:68] - INFO: Compartment `e` sounds like an external compartment. Using this one without counting boundary reactions.\n",
      "2024-03-06 19:42:42,078 - 3936220034.py[line:12] - INFO: add s_0179 <=> \n",
      "2024-03-06 19:42:42,078 - model.py[line:209] - INFO: The current solver interface glpk doesn't support setting the optimality tolerance.\n"
     ]
    },
    {
     "name": "stdout",
     "output_type": "stream",
     "text": [
      "s_0179\n"
     ]
    },
    {
     "name": "stderr",
     "output_type": "stream",
     "text": [
      "2024-03-06 19:42:42,445 - boundary_types.py[line:68] - INFO: Compartment `e` sounds like an external compartment. Using this one without counting boundary reactions.\n",
      "2024-03-06 19:42:42,457 - boundary_types.py[line:68] - INFO: Compartment `e` sounds like an external compartment. Using this one without counting boundary reactions.\n",
      "2024-03-06 19:42:42,903 - 1263953134.py[line:20] - INFO: 2-oxobutanoate: G\n",
      "2024-03-06 19:42:42,903 - model.py[line:209] - INFO: The current solver interface glpk doesn't support setting the optimality tolerance.\n",
      "2024-03-06 19:42:43,502 - boundary_types.py[line:68] - INFO: Compartment `e` sounds like an external compartment. Using this one without counting boundary reactions.\n",
      "2024-03-06 19:42:43,505 - boundary_types.py[line:68] - INFO: Compartment `e` sounds like an external compartment. Using this one without counting boundary reactions.\n",
      "2024-03-06 19:42:43,505 - 3936220034.py[line:12] - INFO: add s_0184 <=> \n",
      "2024-03-06 19:42:43,505 - model.py[line:209] - INFO: The current solver interface glpk doesn't support setting the optimality tolerance.\n"
     ]
    },
    {
     "name": "stdout",
     "output_type": "stream",
     "text": [
      "s_0184\n"
     ]
    },
    {
     "name": "stderr",
     "output_type": "stream",
     "text": [
      "2024-03-06 19:42:43,886 - boundary_types.py[line:68] - INFO: Compartment `e` sounds like an external compartment. Using this one without counting boundary reactions.\n",
      "2024-03-06 19:42:43,888 - boundary_types.py[line:68] - INFO: Compartment `e` sounds like an external compartment. Using this one without counting boundary reactions.\n",
      "2024-03-06 19:42:44,324 - 1263953134.py[line:20] - INFO: 2-oxoglutarate: G\n",
      "2024-03-06 19:42:44,326 - model.py[line:209] - INFO: The current solver interface glpk doesn't support setting the optimality tolerance.\n",
      "2024-03-06 19:42:44,692 - boundary_types.py[line:68] - INFO: Compartment `e` sounds like an external compartment. Using this one without counting boundary reactions.\n",
      "2024-03-06 19:42:44,693 - 3936220034.py[line:5] - INFO: add s_4141 <=> \n",
      "2024-03-06 19:42:44,694 - model.py[line:209] - INFO: The current solver interface glpk doesn't support setting the optimality tolerance.\n",
      "2024-03-06 19:42:45,337 - boundary_types.py[line:68] - INFO: Compartment `e` sounds like an external compartment. Using this one without counting boundary reactions.\n",
      "2024-03-06 19:42:45,353 - boundary_types.py[line:68] - INFO: Compartment `e` sounds like an external compartment. Using this one without counting boundary reactions.\n",
      "2024-03-06 19:42:45,799 - 1263953134.py[line:20] - INFO: 2-phospho-D-glyceric acid: G\n",
      "2024-03-06 19:42:45,801 - model.py[line:209] - INFO: The current solver interface glpk doesn't support setting the optimality tolerance.\n",
      "2024-03-06 19:42:46,162 - boundary_types.py[line:68] - INFO: Compartment `e` sounds like an external compartment. Using this one without counting boundary reactions.\n",
      "2024-03-06 19:42:46,166 - boundary_types.py[line:68] - INFO: Compartment `e` sounds like an external compartment. Using this one without counting boundary reactions.\n",
      "2024-03-06 19:42:46,168 - 3936220034.py[line:12] - INFO: add s_0192 <=> \n",
      "2024-03-06 19:42:46,169 - model.py[line:209] - INFO: The current solver interface glpk doesn't support setting the optimality tolerance.\n"
     ]
    },
    {
     "name": "stdout",
     "output_type": "stream",
     "text": [
      "s_0192\n"
     ]
    },
    {
     "name": "stderr",
     "output_type": "stream",
     "text": [
      "2024-03-06 19:42:46,802 - boundary_types.py[line:68] - INFO: Compartment `e` sounds like an external compartment. Using this one without counting boundary reactions.\n",
      "2024-03-06 19:42:46,819 - boundary_types.py[line:68] - INFO: Compartment `e` sounds like an external compartment. Using this one without counting boundary reactions.\n",
      "2024-03-06 19:42:47,261 - 1263953134.py[line:20] - INFO: 3',5'-cyclic AMP: G\n",
      "2024-03-06 19:42:47,262 - model.py[line:209] - INFO: The current solver interface glpk doesn't support setting the optimality tolerance.\n",
      "2024-03-06 19:42:47,628 - boundary_types.py[line:68] - INFO: Compartment `e` sounds like an external compartment. Using this one without counting boundary reactions.\n",
      "2024-03-06 19:42:47,633 - boundary_types.py[line:68] - INFO: Compartment `e` sounds like an external compartment. Using this one without counting boundary reactions.\n",
      "2024-03-06 19:42:47,634 - 3936220034.py[line:12] - INFO: add s_0193 <=> \n",
      "2024-03-06 19:42:47,635 - model.py[line:209] - INFO: The current solver interface glpk doesn't support setting the optimality tolerance.\n"
     ]
    },
    {
     "name": "stdout",
     "output_type": "stream",
     "text": [
      "s_0193\n"
     ]
    },
    {
     "name": "stderr",
     "output_type": "stream",
     "text": [
      "2024-03-06 19:42:48,018 - boundary_types.py[line:68] - INFO: Compartment `e` sounds like an external compartment. Using this one without counting boundary reactions.\n",
      "2024-03-06 19:42:48,030 - boundary_types.py[line:68] - INFO: Compartment `e` sounds like an external compartment. Using this one without counting boundary reactions.\n",
      "2024-03-06 19:42:48,531 - 1263953134.py[line:20] - INFO: 3',5'-cyclic CMP: G\n",
      "2024-03-06 19:42:48,532 - model.py[line:209] - INFO: The current solver interface glpk doesn't support setting the optimality tolerance.\n",
      "2024-03-06 19:42:48,905 - boundary_types.py[line:68] - INFO: Compartment `e` sounds like an external compartment. Using this one without counting boundary reactions.\n",
      "2024-03-06 19:42:48,910 - boundary_types.py[line:68] - INFO: Compartment `e` sounds like an external compartment. Using this one without counting boundary reactions.\n",
      "2024-03-06 19:42:48,911 - 3936220034.py[line:12] - INFO: add s_0195 <=> \n",
      "2024-03-06 19:42:48,912 - model.py[line:209] - INFO: The current solver interface glpk doesn't support setting the optimality tolerance.\n"
     ]
    },
    {
     "name": "stdout",
     "output_type": "stream",
     "text": [
      "s_0195\n"
     ]
    },
    {
     "name": "stderr",
     "output_type": "stream",
     "text": [
      "2024-03-06 19:42:49,639 - boundary_types.py[line:68] - INFO: Compartment `e` sounds like an external compartment. Using this one without counting boundary reactions.\n",
      "2024-03-06 19:42:49,653 - boundary_types.py[line:68] - INFO: Compartment `e` sounds like an external compartment. Using this one without counting boundary reactions.\n",
      "2024-03-06 19:42:50,074 - 1263953134.py[line:20] - INFO: 3',5'-cyclic GMP: G\n",
      "2024-03-06 19:42:50,075 - model.py[line:209] - INFO: The current solver interface glpk doesn't support setting the optimality tolerance.\n",
      "2024-03-06 19:42:50,441 - boundary_types.py[line:68] - INFO: Compartment `e` sounds like an external compartment. Using this one without counting boundary reactions.\n",
      "2024-03-06 19:42:50,442 - 3936220034.py[line:5] - INFO: add s_4147 <=> \n",
      "2024-03-06 19:42:50,443 - model.py[line:209] - INFO: The current solver interface glpk doesn't support setting the optimality tolerance.\n",
      "2024-03-06 19:42:50,816 - boundary_types.py[line:68] - INFO: Compartment `e` sounds like an external compartment. Using this one without counting boundary reactions.\n",
      "2024-03-06 19:42:50,828 - boundary_types.py[line:68] - INFO: Compartment `e` sounds like an external compartment. Using this one without counting boundary reactions.\n",
      "2024-03-06 19:42:51,442 - 1263953134.py[line:20] - INFO: 3-phospho-serine: G\n",
      "2024-03-06 19:42:51,444 - model.py[line:209] - INFO: The current solver interface glpk doesn't support setting the optimality tolerance.\n",
      "2024-03-06 19:42:52,195 - boundary_types.py[line:68] - INFO: Compartment `e` sounds like an external compartment. Using this one without counting boundary reactions.\n",
      "2024-03-06 19:42:52,197 - 3936220034.py[line:5] - INFO: add s_4142 <=> \n",
      "2024-03-06 19:42:52,198 - model.py[line:209] - INFO: The current solver interface glpk doesn't support setting the optimality tolerance.\n",
      "2024-03-06 19:42:52,573 - boundary_types.py[line:68] - INFO: Compartment `e` sounds like an external compartment. Using this one without counting boundary reactions.\n",
      "2024-03-06 19:42:52,588 - boundary_types.py[line:68] - INFO: Compartment `e` sounds like an external compartment. Using this one without counting boundary reactions.\n",
      "2024-03-06 19:42:53,031 - 1263953134.py[line:20] - INFO: 3-phosphonato-D-glycerate(3-): G\n",
      "2024-03-06 19:42:53,033 - model.py[line:209] - INFO: The current solver interface glpk doesn't support setting the optimality tolerance.\n",
      "2024-03-06 19:42:53,406 - boundary_types.py[line:68] - INFO: Compartment `e` sounds like an external compartment. Using this one without counting boundary reactions.\n",
      "2024-03-06 19:42:53,410 - boundary_types.py[line:68] - INFO: Compartment `e` sounds like an external compartment. Using this one without counting boundary reactions.\n",
      "2024-03-06 19:42:53,412 - 3936220034.py[line:12] - INFO: add s_0287 <=> \n",
      "2024-03-06 19:42:53,413 - model.py[line:209] - INFO: The current solver interface glpk doesn't support setting the optimality tolerance.\n"
     ]
    },
    {
     "name": "stdout",
     "output_type": "stream",
     "text": [
      "s_0287\n"
     ]
    },
    {
     "name": "stderr",
     "output_type": "stream",
     "text": [
      "2024-03-06 19:42:53,783 - boundary_types.py[line:68] - INFO: Compartment `e` sounds like an external compartment. Using this one without counting boundary reactions.\n",
      "2024-03-06 19:42:53,795 - boundary_types.py[line:68] - INFO: Compartment `e` sounds like an external compartment. Using this one without counting boundary reactions.\n",
      "2024-03-06 19:42:54,285 - glpk_interface.py[line:689] - DEBUG: Status undefined. GLPK status code returned by glp_simplex was 10\n",
      "c:\\Users\\13293\\APP\\anaconda\\envs\\yeast9\\lib\\site-packages\\cobra\\util\\solver.py:554: UserWarning: Solver status is 'infeasible'.\n",
      "  warn(f\"Solver status is '{status}'.\", UserWarning)\n",
      "2024-03-06 19:42:54,303 - 1263953134.py[line:20] - INFO: 4-hydroxybenzoate: NG\n",
      "2024-03-06 19:42:54,305 - model.py[line:209] - INFO: The current solver interface glpk doesn't support setting the optimality tolerance.\n",
      "2024-03-06 19:42:54,680 - boundary_types.py[line:68] - INFO: Compartment `e` sounds like an external compartment. Using this one without counting boundary reactions.\n",
      "2024-03-06 19:42:54,681 - 3936220034.py[line:5] - INFO: add s_4155 <=> \n",
      "2024-03-06 19:42:54,682 - model.py[line:209] - INFO: The current solver interface glpk doesn't support setting the optimality tolerance.\n",
      "2024-03-06 19:42:55,496 - boundary_types.py[line:68] - INFO: Compartment `e` sounds like an external compartment. Using this one without counting boundary reactions.\n",
      "2024-03-06 19:42:55,509 - boundary_types.py[line:68] - INFO: Compartment `e` sounds like an external compartment. Using this one without counting boundary reactions.\n",
      "2024-03-06 19:42:55,973 - 1263953134.py[line:20] - INFO: 6-phospho-D-gluconate: G\n",
      "2024-03-06 19:42:55,975 - model.py[line:209] - INFO: The current solver interface glpk doesn't support setting the optimality tolerance.\n",
      "2024-03-06 19:42:56,347 - boundary_types.py[line:68] - INFO: Compartment `e` sounds like an external compartment. Using this one without counting boundary reactions.\n",
      "2024-03-06 19:42:56,348 - 3936220034.py[line:5] - INFO: add s_0358 <=> \n",
      "2024-03-06 19:42:56,350 - model.py[line:209] - INFO: The current solver interface glpk doesn't support setting the optimality tolerance.\n",
      "2024-03-06 19:42:56,742 - boundary_types.py[line:68] - INFO: Compartment `e` sounds like an external compartment. Using this one without counting boundary reactions.\n",
      "2024-03-06 19:42:56,755 - boundary_types.py[line:68] - INFO: Compartment `e` sounds like an external compartment. Using this one without counting boundary reactions.\n",
      "2024-03-06 19:42:56,915 - 1263953134.py[line:20] - INFO: 9H-xanthine: NG\n",
      "2024-03-06 19:42:56,916 - model.py[line:209] - INFO: The current solver interface glpk doesn't support setting the optimality tolerance.\n",
      "2024-03-06 19:42:57,300 - boundary_types.py[line:68] - INFO: Compartment `e` sounds like an external compartment. Using this one without counting boundary reactions.\n",
      "2024-03-06 19:42:57,306 - boundary_types.py[line:68] - INFO: Compartment `e` sounds like an external compartment. Using this one without counting boundary reactions.\n",
      "2024-03-06 19:42:57,306 - 3936220034.py[line:12] - INFO: add s_0366 <=> \n",
      "2024-03-06 19:42:57,308 - model.py[line:209] - INFO: The current solver interface glpk doesn't support setting the optimality tolerance.\n"
     ]
    },
    {
     "name": "stdout",
     "output_type": "stream",
     "text": [
      "s_0366\n"
     ]
    },
    {
     "name": "stderr",
     "output_type": "stream",
     "text": [
      "2024-03-06 19:42:58,140 - boundary_types.py[line:68] - INFO: Compartment `e` sounds like an external compartment. Using this one without counting boundary reactions.\n",
      "2024-03-06 19:42:58,154 - boundary_types.py[line:68] - INFO: Compartment `e` sounds like an external compartment. Using this one without counting boundary reactions.\n",
      "2024-03-06 19:42:58,634 - 1263953134.py[line:20] - INFO: acetate: G\n",
      "2024-03-06 19:42:58,636 - model.py[line:209] - INFO: The current solver interface glpk doesn't support setting the optimality tolerance.\n",
      "2024-03-06 19:42:59,007 - boundary_types.py[line:68] - INFO: Compartment `e` sounds like an external compartment. Using this one without counting boundary reactions.\n",
      "2024-03-06 19:42:59,012 - boundary_types.py[line:68] - INFO: Compartment `e` sounds like an external compartment. Using this one without counting boundary reactions.\n",
      "2024-03-06 19:42:59,013 - 3936220034.py[line:12] - INFO: add s_0366 <=> \n",
      "2024-03-06 19:42:59,014 - model.py[line:209] - INFO: The current solver interface glpk doesn't support setting the optimality tolerance.\n"
     ]
    },
    {
     "name": "stdout",
     "output_type": "stream",
     "text": [
      "s_0366\n"
     ]
    },
    {
     "name": "stderr",
     "output_type": "stream",
     "text": [
      "2024-03-06 19:42:59,384 - boundary_types.py[line:68] - INFO: Compartment `e` sounds like an external compartment. Using this one without counting boundary reactions.\n",
      "2024-03-06 19:42:59,397 - boundary_types.py[line:68] - INFO: Compartment `e` sounds like an external compartment. Using this one without counting boundary reactions.\n",
      "2024-03-06 19:42:59,880 - 1263953134.py[line:20] - INFO: acetate: G\n",
      "2024-03-06 19:42:59,882 - model.py[line:209] - INFO: The current solver interface glpk doesn't support setting the optimality tolerance.\n",
      "2024-03-06 19:43:00,270 - boundary_types.py[line:68] - INFO: Compartment `e` sounds like an external compartment. Using this one without counting boundary reactions.\n",
      "2024-03-06 19:43:00,275 - boundary_types.py[line:68] - INFO: Compartment `e` sounds like an external compartment. Using this one without counting boundary reactions.\n",
      "2024-03-06 19:43:00,276 - 3936220034.py[line:12] - INFO: add s_0385 <=> \n",
      "2024-03-06 19:43:00,277 - model.py[line:209] - INFO: The current solver interface glpk doesn't support setting the optimality tolerance.\n"
     ]
    },
    {
     "name": "stdout",
     "output_type": "stream",
     "text": [
      "s_0385\n"
     ]
    },
    {
     "name": "stderr",
     "output_type": "stream",
     "text": [
      "2024-03-06 19:43:00,657 - boundary_types.py[line:68] - INFO: Compartment `e` sounds like an external compartment. Using this one without counting boundary reactions.\n",
      "2024-03-06 19:43:00,671 - boundary_types.py[line:68] - INFO: Compartment `e` sounds like an external compartment. Using this one without counting boundary reactions.\n",
      "2024-03-06 19:43:01,120 - 1263953134.py[line:20] - INFO: adenine: G\n",
      "2024-03-06 19:43:01,122 - model.py[line:209] - INFO: The current solver interface glpk doesn't support setting the optimality tolerance.\n",
      "2024-03-06 19:43:02,012 - boundary_types.py[line:68] - INFO: Compartment `e` sounds like an external compartment. Using this one without counting boundary reactions.\n",
      "2024-03-06 19:43:02,013 - 3936220034.py[line:5] - INFO: add s_0387 <=> \n",
      "2024-03-06 19:43:02,015 - model.py[line:209] - INFO: The current solver interface glpk doesn't support setting the optimality tolerance.\n",
      "2024-03-06 19:43:02,384 - boundary_types.py[line:68] - INFO: Compartment `e` sounds like an external compartment. Using this one without counting boundary reactions.\n",
      "2024-03-06 19:43:02,397 - boundary_types.py[line:68] - INFO: Compartment `e` sounds like an external compartment. Using this one without counting boundary reactions.\n",
      "2024-03-06 19:43:02,833 - 1263953134.py[line:20] - INFO: adenosine: G\n",
      "2024-03-06 19:43:02,835 - model.py[line:209] - INFO: The current solver interface glpk doesn't support setting the optimality tolerance.\n",
      "2024-03-06 19:43:03,216 - boundary_types.py[line:68] - INFO: Compartment `e` sounds like an external compartment. Using this one without counting boundary reactions.\n",
      "2024-03-06 19:43:03,217 - 3936220034.py[line:5] - INFO: add s_0387 <=> \n",
      "2024-03-06 19:43:03,218 - model.py[line:209] - INFO: The current solver interface glpk doesn't support setting the optimality tolerance.\n",
      "2024-03-06 19:43:03,584 - boundary_types.py[line:68] - INFO: Compartment `e` sounds like an external compartment. Using this one without counting boundary reactions.\n",
      "2024-03-06 19:43:03,597 - boundary_types.py[line:68] - INFO: Compartment `e` sounds like an external compartment. Using this one without counting boundary reactions.\n",
      "2024-03-06 19:43:04,044 - 1263953134.py[line:20] - INFO: adenosine: G\n",
      "2024-03-06 19:43:04,046 - model.py[line:209] - INFO: The current solver interface glpk doesn't support setting the optimality tolerance.\n",
      "2024-03-06 19:43:04,431 - boundary_types.py[line:68] - INFO: Compartment `e` sounds like an external compartment. Using this one without counting boundary reactions.\n",
      "2024-03-06 19:43:04,432 - 3936220034.py[line:5] - INFO: add s_4162 <=> \n",
      "2024-03-06 19:43:04,433 - model.py[line:209] - INFO: The current solver interface glpk doesn't support setting the optimality tolerance.\n",
      "2024-03-06 19:43:04,806 - boundary_types.py[line:68] - INFO: Compartment `e` sounds like an external compartment. Using this one without counting boundary reactions.\n",
      "2024-03-06 19:43:04,818 - boundary_types.py[line:68] - INFO: Compartment `e` sounds like an external compartment. Using this one without counting boundary reactions.\n",
      "2024-03-06 19:43:05,268 - 1263953134.py[line:20] - INFO: adenosine 2'-phosphate: G\n",
      "2024-03-06 19:43:05,270 - model.py[line:209] - INFO: The current solver interface glpk doesn't support setting the optimality tolerance.\n",
      "2024-03-06 19:43:06,235 - boundary_types.py[line:68] - INFO: Compartment `e` sounds like an external compartment. Using this one without counting boundary reactions.\n",
      "2024-03-06 19:43:06,237 - 3936220034.py[line:5] - INFO: add s_0408 <=> \n",
      "2024-03-06 19:43:06,239 - model.py[line:209] - INFO: The current solver interface glpk doesn't support setting the optimality tolerance.\n",
      "2024-03-06 19:43:06,625 - boundary_types.py[line:68] - INFO: Compartment `e` sounds like an external compartment. Using this one without counting boundary reactions.\n",
      "2024-03-06 19:43:06,639 - boundary_types.py[line:68] - INFO: Compartment `e` sounds like an external compartment. Using this one without counting boundary reactions.\n",
      "2024-03-06 19:43:07,118 - 1263953134.py[line:20] - INFO: allantoin: G\n",
      "2024-03-06 19:43:07,118 - model.py[line:209] - INFO: The current solver interface glpk doesn't support setting the optimality tolerance.\n",
      "2024-03-06 19:43:07,493 - boundary_types.py[line:68] - INFO: Compartment `e` sounds like an external compartment. Using this one without counting boundary reactions.\n",
      "2024-03-06 19:43:07,493 - 3936220034.py[line:5] - INFO: add s_0413 <=> \n",
      "2024-03-06 19:43:07,493 - model.py[line:209] - INFO: The current solver interface glpk doesn't support setting the optimality tolerance.\n",
      "2024-03-06 19:43:07,854 - boundary_types.py[line:68] - INFO: Compartment `e` sounds like an external compartment. Using this one without counting boundary reactions.\n",
      "2024-03-06 19:43:07,868 - boundary_types.py[line:68] - INFO: Compartment `e` sounds like an external compartment. Using this one without counting boundary reactions.\n",
      "2024-03-06 19:43:08,313 - 1263953134.py[line:20] - INFO: alpha-D-glucosamine 6-phosphate: G\n",
      "2024-03-06 19:43:08,314 - model.py[line:209] - INFO: The current solver interface glpk doesn't support setting the optimality tolerance.\n",
      "2024-03-06 19:43:08,686 - boundary_types.py[line:68] - INFO: Compartment `e` sounds like an external compartment. Using this one without counting boundary reactions.\n",
      "2024-03-06 19:43:08,692 - boundary_types.py[line:68] - INFO: Compartment `e` sounds like an external compartment. Using this one without counting boundary reactions.\n",
      "2024-03-06 19:43:08,693 - 3936220034.py[line:12] - INFO: add s_0421 <=> \n",
      "2024-03-06 19:43:08,694 - model.py[line:209] - INFO: The current solver interface glpk doesn't support setting the optimality tolerance.\n"
     ]
    },
    {
     "name": "stdout",
     "output_type": "stream",
     "text": [
      "s_0421\n"
     ]
    },
    {
     "name": "stderr",
     "output_type": "stream",
     "text": [
      "2024-03-06 19:43:09,080 - boundary_types.py[line:68] - INFO: Compartment `e` sounds like an external compartment. Using this one without counting boundary reactions.\n",
      "2024-03-06 19:43:09,096 - boundary_types.py[line:68] - INFO: Compartment `e` sounds like an external compartment. Using this one without counting boundary reactions.\n",
      "2024-03-06 19:43:09,575 - 1263953134.py[line:20] - INFO: ammonium: G\n",
      "2024-03-06 19:43:09,576 - model.py[line:209] - INFO: The current solver interface glpk doesn't support setting the optimality tolerance.\n",
      "2024-03-06 19:43:10,584 - boundary_types.py[line:68] - INFO: Compartment `e` sounds like an external compartment. Using this one without counting boundary reactions.\n",
      "2024-03-06 19:43:10,584 - 3936220034.py[line:5] - INFO: add s_4160 <=> \n",
      "2024-03-06 19:43:10,584 - model.py[line:209] - INFO: The current solver interface glpk doesn't support setting the optimality tolerance.\n",
      "2024-03-06 19:43:10,970 - boundary_types.py[line:68] - INFO: Compartment `e` sounds like an external compartment. Using this one without counting boundary reactions.\n",
      "2024-03-06 19:43:10,982 - boundary_types.py[line:68] - INFO: Compartment `e` sounds like an external compartment. Using this one without counting boundary reactions.\n",
      "2024-03-06 19:43:11,500 - 1263953134.py[line:20] - INFO: AMP: G\n",
      "2024-03-06 19:43:11,502 - model.py[line:209] - INFO: The current solver interface glpk doesn't support setting the optimality tolerance.\n",
      "2024-03-06 19:43:11,877 - boundary_types.py[line:68] - INFO: Compartment `e` sounds like an external compartment. Using this one without counting boundary reactions.\n",
      "2024-03-06 19:43:11,879 - 3936220034.py[line:5] - INFO: add s_4146 <=> \n",
      "2024-03-06 19:43:11,879 - model.py[line:209] - INFO: The current solver interface glpk doesn't support setting the optimality tolerance.\n",
      "2024-03-06 19:43:12,261 - boundary_types.py[line:68] - INFO: Compartment `e` sounds like an external compartment. Using this one without counting boundary reactions.\n",
      "2024-03-06 19:43:12,275 - boundary_types.py[line:68] - INFO: Compartment `e` sounds like an external compartment. Using this one without counting boundary reactions.\n",
      "2024-03-06 19:43:12,740 - 1263953134.py[line:20] - INFO: carbamoyl phosphate: G\n",
      "2024-03-06 19:43:12,741 - model.py[line:209] - INFO: The current solver interface glpk doesn't support setting the optimality tolerance.\n",
      "2024-03-06 19:43:13,111 - boundary_types.py[line:68] - INFO: Compartment `e` sounds like an external compartment. Using this one without counting boundary reactions.\n",
      "2024-03-06 19:43:13,113 - 3936220034.py[line:5] - INFO: add s_4158 <=> \n",
      "2024-03-06 19:43:13,114 - model.py[line:209] - INFO: The current solver interface glpk doesn't support setting the optimality tolerance.\n",
      "2024-03-06 19:43:13,483 - boundary_types.py[line:68] - INFO: Compartment `e` sounds like an external compartment. Using this one without counting boundary reactions.\n",
      "2024-03-06 19:43:13,496 - boundary_types.py[line:68] - INFO: Compartment `e` sounds like an external compartment. Using this one without counting boundary reactions.\n",
      "2024-03-06 19:43:13,918 - 1263953134.py[line:20] - INFO: choline phosphate: G\n",
      "2024-03-06 19:43:13,920 - model.py[line:209] - INFO: The current solver interface glpk doesn't support setting the optimality tolerance.\n",
      "2024-03-06 19:43:14,293 - boundary_types.py[line:68] - INFO: Compartment `e` sounds like an external compartment. Using this one without counting boundary reactions.\n",
      "2024-03-06 19:43:14,298 - boundary_types.py[line:68] - INFO: Compartment `e` sounds like an external compartment. Using this one without counting boundary reactions.\n",
      "2024-03-06 19:43:14,299 - 3936220034.py[line:12] - INFO: add s_0525 <=> \n",
      "2024-03-06 19:43:14,300 - model.py[line:209] - INFO: The current solver interface glpk doesn't support setting the optimality tolerance.\n"
     ]
    },
    {
     "name": "stdout",
     "output_type": "stream",
     "text": [
      "s_0525\n"
     ]
    },
    {
     "name": "stderr",
     "output_type": "stream",
     "text": [
      "2024-03-06 19:43:14,676 - boundary_types.py[line:68] - INFO: Compartment `e` sounds like an external compartment. Using this one without counting boundary reactions.\n",
      "2024-03-06 19:43:14,689 - boundary_types.py[line:68] - INFO: Compartment `e` sounds like an external compartment. Using this one without counting boundary reactions.\n",
      "2024-03-06 19:43:15,258 - 1263953134.py[line:20] - INFO: citrate: G\n",
      "2024-03-06 19:43:15,260 - model.py[line:209] - INFO: The current solver interface glpk doesn't support setting the optimality tolerance.\n",
      "2024-03-06 19:43:16,417 - boundary_types.py[line:68] - INFO: Compartment `e` sounds like an external compartment. Using this one without counting boundary reactions.\n",
      "2024-03-06 19:43:16,419 - 3936220034.py[line:5] - INFO: add s_4163 <=> \n",
      "2024-03-06 19:43:16,420 - model.py[line:209] - INFO: The current solver interface glpk doesn't support setting the optimality tolerance.\n",
      "2024-03-06 19:43:16,797 - boundary_types.py[line:68] - INFO: Compartment `e` sounds like an external compartment. Using this one without counting boundary reactions.\n",
      "2024-03-06 19:43:16,810 - boundary_types.py[line:68] - INFO: Compartment `e` sounds like an external compartment. Using this one without counting boundary reactions.\n",
      "2024-03-06 19:43:17,333 - 1263953134.py[line:20] - INFO: CMP: G\n",
      "2024-03-06 19:43:17,335 - model.py[line:209] - INFO: The current solver interface glpk doesn't support setting the optimality tolerance.\n",
      "2024-03-06 19:43:17,710 - boundary_types.py[line:68] - INFO: Compartment `e` sounds like an external compartment. Using this one without counting boundary reactions.\n",
      "2024-03-06 19:43:17,711 - 3936220034.py[line:5] - INFO: add s_0544 <=> \n",
      "2024-03-06 19:43:17,712 - model.py[line:209] - INFO: The current solver interface glpk doesn't support setting the optimality tolerance.\n",
      "2024-03-06 19:43:18,090 - boundary_types.py[line:68] - INFO: Compartment `e` sounds like an external compartment. Using this one without counting boundary reactions.\n",
      "2024-03-06 19:43:18,103 - boundary_types.py[line:68] - INFO: Compartment `e` sounds like an external compartment. Using this one without counting boundary reactions.\n",
      "2024-03-06 19:43:18,575 - 1263953134.py[line:20] - INFO: cytidine: G\n",
      "2024-03-06 19:43:18,576 - model.py[line:209] - INFO: The current solver interface glpk doesn't support setting the optimality tolerance.\n",
      "2024-03-06 19:43:18,957 - boundary_types.py[line:68] - INFO: Compartment `e` sounds like an external compartment. Using this one without counting boundary reactions.\n",
      "2024-03-06 19:43:18,958 - 3936220034.py[line:5] - INFO: add s_0546 <=> \n",
      "2024-03-06 19:43:18,959 - model.py[line:209] - INFO: The current solver interface glpk doesn't support setting the optimality tolerance.\n",
      "2024-03-06 19:43:19,341 - boundary_types.py[line:68] - INFO: Compartment `e` sounds like an external compartment. Using this one without counting boundary reactions.\n",
      "2024-03-06 19:43:19,353 - boundary_types.py[line:68] - INFO: Compartment `e` sounds like an external compartment. Using this one without counting boundary reactions.\n",
      "2024-03-06 19:43:19,868 - 1263953134.py[line:20] - INFO: cytosine: G\n",
      "2024-03-06 19:43:19,868 - model.py[line:209] - INFO: The current solver interface glpk doesn't support setting the optimality tolerance.\n",
      "2024-03-06 19:43:20,252 - boundary_types.py[line:68] - INFO: Compartment `e` sounds like an external compartment. Using this one without counting boundary reactions.\n",
      "2024-03-06 19:43:20,254 - 3936220034.py[line:5] - INFO: add s_0549 <=> \n",
      "2024-03-06 19:43:20,255 - model.py[line:209] - INFO: The current solver interface glpk doesn't support setting the optimality tolerance.\n",
      "2024-03-06 19:43:20,641 - boundary_types.py[line:68] - INFO: Compartment `e` sounds like an external compartment. Using this one without counting boundary reactions.\n",
      "2024-03-06 19:43:20,655 - boundary_types.py[line:68] - INFO: Compartment `e` sounds like an external compartment. Using this one without counting boundary reactions.\n",
      "2024-03-06 19:43:21,120 - 1263953134.py[line:20] - INFO: D-arabinose: G\n",
      "2024-03-06 19:43:21,121 - model.py[line:209] - INFO: The current solver interface glpk doesn't support setting the optimality tolerance.\n",
      "2024-03-06 19:43:22,305 - boundary_types.py[line:68] - INFO: Compartment `e` sounds like an external compartment. Using this one without counting boundary reactions.\n",
      "2024-03-06 19:43:22,310 - boundary_types.py[line:68] - INFO: Compartment `e` sounds like an external compartment. Using this one without counting boundary reactions.\n",
      "2024-03-06 19:43:22,310 - 3936220034.py[line:12] - INFO: add s_3779 <=> \n",
      "2024-03-06 19:43:22,311 - model.py[line:209] - INFO: The current solver interface glpk doesn't support setting the optimality tolerance.\n"
     ]
    },
    {
     "name": "stdout",
     "output_type": "stream",
     "text": [
      "s_3779\n"
     ]
    },
    {
     "name": "stderr",
     "output_type": "stream",
     "text": [
      "2024-03-06 19:43:22,681 - boundary_types.py[line:68] - INFO: Compartment `e` sounds like an external compartment. Using this one without counting boundary reactions.\n",
      "2024-03-06 19:43:22,695 - boundary_types.py[line:68] - INFO: Compartment `e` sounds like an external compartment. Using this one without counting boundary reactions.\n",
      "2024-03-06 19:43:23,128 - 1263953134.py[line:20] - INFO: D-fructose: G\n",
      "2024-03-06 19:43:23,129 - model.py[line:209] - INFO: The current solver interface glpk doesn't support setting the optimality tolerance.\n",
      "2024-03-06 19:43:23,509 - boundary_types.py[line:68] - INFO: Compartment `e` sounds like an external compartment. Using this one without counting boundary reactions.\n",
      "2024-03-06 19:43:23,513 - boundary_types.py[line:68] - INFO: Compartment `e` sounds like an external compartment. Using this one without counting boundary reactions.\n",
      "2024-03-06 19:43:23,514 - 3936220034.py[line:12] - INFO: add s_0557 <=> \n",
      "2024-03-06 19:43:23,516 - model.py[line:209] - INFO: The current solver interface glpk doesn't support setting the optimality tolerance.\n"
     ]
    },
    {
     "name": "stdout",
     "output_type": "stream",
     "text": [
      "s_0557\n"
     ]
    },
    {
     "name": "stderr",
     "output_type": "stream",
     "text": [
      "2024-03-06 19:43:23,912 - boundary_types.py[line:68] - INFO: Compartment `e` sounds like an external compartment. Using this one without counting boundary reactions.\n",
      "2024-03-06 19:43:23,925 - boundary_types.py[line:68] - INFO: Compartment `e` sounds like an external compartment. Using this one without counting boundary reactions.\n",
      "2024-03-06 19:43:24,390 - 1263953134.py[line:20] - INFO: D-fructose 6-phosphate: G\n",
      "2024-03-06 19:43:24,392 - model.py[line:209] - INFO: The current solver interface glpk doesn't support setting the optimality tolerance.\n",
      "2024-03-06 19:43:24,769 - boundary_types.py[line:68] - INFO: Compartment `e` sounds like an external compartment. Using this one without counting boundary reactions.\n",
      "2024-03-06 19:43:24,774 - boundary_types.py[line:68] - INFO: Compartment `e` sounds like an external compartment. Using this one without counting boundary reactions.\n",
      "2024-03-06 19:43:24,775 - 3936220034.py[line:12] - INFO: add s_3780 <=> \n",
      "2024-03-06 19:43:24,775 - model.py[line:209] - INFO: The current solver interface glpk doesn't support setting the optimality tolerance.\n"
     ]
    },
    {
     "name": "stdout",
     "output_type": "stream",
     "text": [
      "s_3780\n"
     ]
    },
    {
     "name": "stderr",
     "output_type": "stream",
     "text": [
      "2024-03-06 19:43:25,171 - boundary_types.py[line:68] - INFO: Compartment `e` sounds like an external compartment. Using this one without counting boundary reactions.\n",
      "2024-03-06 19:43:25,183 - boundary_types.py[line:68] - INFO: Compartment `e` sounds like an external compartment. Using this one without counting boundary reactions.\n",
      "2024-03-06 19:43:25,643 - 1263953134.py[line:20] - INFO: D-galactose: G\n",
      "2024-03-06 19:43:25,645 - model.py[line:209] - INFO: The current solver interface glpk doesn't support setting the optimality tolerance.\n",
      "2024-03-06 19:43:26,012 - boundary_types.py[line:68] - INFO: Compartment `e` sounds like an external compartment. Using this one without counting boundary reactions.\n",
      "2024-03-06 19:43:26,014 - 3936220034.py[line:5] - INFO: add s_0560 <=> \n",
      "2024-03-06 19:43:26,014 - model.py[line:209] - INFO: The current solver interface glpk doesn't support setting the optimality tolerance.\n",
      "2024-03-06 19:43:26,395 - boundary_types.py[line:68] - INFO: Compartment `e` sounds like an external compartment. Using this one without counting boundary reactions.\n",
      "2024-03-06 19:43:26,409 - boundary_types.py[line:68] - INFO: Compartment `e` sounds like an external compartment. Using this one without counting boundary reactions.\n",
      "2024-03-06 19:43:26,888 - glpk_interface.py[line:689] - DEBUG: Status undefined. GLPK status code returned by glp_simplex was 10\n",
      "c:\\Users\\13293\\APP\\anaconda\\envs\\yeast9\\lib\\site-packages\\cobra\\util\\solver.py:554: UserWarning: Solver status is 'infeasible'.\n",
      "  warn(f\"Solver status is '{status}'.\", UserWarning)\n",
      "2024-03-06 19:43:26,905 - 1263953134.py[line:20] - INFO: D-galacturonate: NG\n",
      "2024-03-06 19:43:26,906 - model.py[line:209] - INFO: The current solver interface glpk doesn't support setting the optimality tolerance.\n",
      "2024-03-06 19:43:27,287 - boundary_types.py[line:68] - INFO: Compartment `e` sounds like an external compartment. Using this one without counting boundary reactions.\n",
      "2024-03-06 19:43:27,289 - 3936220034.py[line:5] - INFO: add s_0562 <=> \n",
      "2024-03-06 19:43:27,290 - model.py[line:209] - INFO: The current solver interface glpk doesn't support setting the optimality tolerance.\n",
      "2024-03-06 19:43:28,610 - boundary_types.py[line:68] - INFO: Compartment `e` sounds like an external compartment. Using this one without counting boundary reactions.\n",
      "2024-03-06 19:43:28,626 - boundary_types.py[line:68] - INFO: Compartment `e` sounds like an external compartment. Using this one without counting boundary reactions.\n",
      "2024-03-06 19:43:29,103 - 1263953134.py[line:20] - INFO: D-glucitol: G\n",
      "2024-03-06 19:43:29,104 - model.py[line:209] - INFO: The current solver interface glpk doesn't support setting the optimality tolerance.\n",
      "2024-03-06 19:43:29,486 - boundary_types.py[line:68] - INFO: Compartment `e` sounds like an external compartment. Using this one without counting boundary reactions.\n",
      "2024-03-06 19:43:29,490 - boundary_types.py[line:68] - INFO: Compartment `e` sounds like an external compartment. Using this one without counting boundary reactions.\n",
      "2024-03-06 19:43:29,491 - 3936220034.py[line:12] - INFO: add s_3772 <=> \n",
      "2024-03-06 19:43:29,492 - model.py[line:209] - INFO: The current solver interface glpk doesn't support setting the optimality tolerance.\n"
     ]
    },
    {
     "name": "stdout",
     "output_type": "stream",
     "text": [
      "s_3772\n"
     ]
    },
    {
     "name": "stderr",
     "output_type": "stream",
     "text": [
      "2024-03-06 19:43:29,873 - boundary_types.py[line:68] - INFO: Compartment `e` sounds like an external compartment. Using this one without counting boundary reactions.\n",
      "2024-03-06 19:43:29,887 - boundary_types.py[line:68] - INFO: Compartment `e` sounds like an external compartment. Using this one without counting boundary reactions.\n",
      "2024-03-06 19:43:30,395 - glpk_interface.py[line:689] - DEBUG: Status undefined. GLPK status code returned by glp_simplex was 10\n",
      "c:\\Users\\13293\\APP\\anaconda\\envs\\yeast9\\lib\\site-packages\\cobra\\util\\solver.py:554: UserWarning: Solver status is 'infeasible'.\n",
      "  warn(f\"Solver status is '{status}'.\", UserWarning)\n",
      "2024-03-06 19:43:30,411 - 1263953134.py[line:20] - INFO: D-glucose: NG\n",
      "2024-03-06 19:43:30,414 - model.py[line:209] - INFO: The current solver interface glpk doesn't support setting the optimality tolerance.\n",
      "2024-03-06 19:43:30,786 - boundary_types.py[line:68] - INFO: Compartment `e` sounds like an external compartment. Using this one without counting boundary reactions.\n",
      "2024-03-06 19:43:30,799 - 3936220034.py[line:5] - INFO: add s_4145 <=> \n",
      "2024-03-06 19:43:30,800 - model.py[line:209] - INFO: The current solver interface glpk doesn't support setting the optimality tolerance.\n",
      "2024-03-06 19:43:31,167 - boundary_types.py[line:68] - INFO: Compartment `e` sounds like an external compartment. Using this one without counting boundary reactions.\n",
      "2024-03-06 19:43:31,187 - boundary_types.py[line:68] - INFO: Compartment `e` sounds like an external compartment. Using this one without counting boundary reactions.\n",
      "2024-03-06 19:43:31,616 - 1263953134.py[line:20] - INFO: D-glucose 1-phosphate: G\n",
      "2024-03-06 19:43:31,633 - model.py[line:209] - INFO: The current solver interface glpk doesn't support setting the optimality tolerance.\n",
      "2024-03-06 19:43:32,009 - boundary_types.py[line:68] - INFO: Compartment `e` sounds like an external compartment. Using this one without counting boundary reactions.\n",
      "2024-03-06 19:43:32,010 - 3936220034.py[line:5] - INFO: add s_4145 <=> \n",
      "2024-03-06 19:43:32,011 - model.py[line:209] - INFO: The current solver interface glpk doesn't support setting the optimality tolerance.\n",
      "2024-03-06 19:43:32,390 - boundary_types.py[line:68] - INFO: Compartment `e` sounds like an external compartment. Using this one without counting boundary reactions.\n",
      "2024-03-06 19:43:32,405 - boundary_types.py[line:68] - INFO: Compartment `e` sounds like an external compartment. Using this one without counting boundary reactions.\n",
      "2024-03-06 19:43:32,845 - 1263953134.py[line:20] - INFO: D-glucose 1-phosphate: G\n",
      "2024-03-06 19:43:32,846 - model.py[line:209] - INFO: The current solver interface glpk doesn't support setting the optimality tolerance.\n",
      "2024-03-06 19:43:33,236 - boundary_types.py[line:68] - INFO: Compartment `e` sounds like an external compartment. Using this one without counting boundary reactions.\n",
      "2024-03-06 19:43:33,237 - 3936220034.py[line:5] - INFO: add s_4150 <=> \n",
      "2024-03-06 19:43:33,238 - model.py[line:209] - INFO: The current solver interface glpk doesn't support setting the optimality tolerance.\n",
      "2024-03-06 19:43:33,628 - boundary_types.py[line:68] - INFO: Compartment `e` sounds like an external compartment. Using this one without counting boundary reactions.\n",
      "2024-03-06 19:43:33,640 - boundary_types.py[line:68] - INFO: Compartment `e` sounds like an external compartment. Using this one without counting boundary reactions.\n",
      "2024-03-06 19:43:34,121 - 1263953134.py[line:20] - INFO: D-glucose 6-phosphate: G\n",
      "2024-03-06 19:43:34,122 - model.py[line:209] - INFO: The current solver interface glpk doesn't support setting the optimality tolerance.\n",
      "2024-03-06 19:43:34,517 - boundary_types.py[line:68] - INFO: Compartment `e` sounds like an external compartment. Using this one without counting boundary reactions.\n",
      "2024-03-06 19:43:34,517 - 3936220034.py[line:5] - INFO: add s_4150 <=> \n",
      "2024-03-06 19:43:34,517 - model.py[line:209] - INFO: The current solver interface glpk doesn't support setting the optimality tolerance.\n",
      "2024-03-06 19:43:35,944 - boundary_types.py[line:68] - INFO: Compartment `e` sounds like an external compartment. Using this one without counting boundary reactions.\n",
      "2024-03-06 19:43:35,957 - boundary_types.py[line:68] - INFO: Compartment `e` sounds like an external compartment. Using this one without counting boundary reactions.\n",
      "2024-03-06 19:43:36,447 - 1263953134.py[line:20] - INFO: D-glucose 6-phosphate: G\n",
      "2024-03-06 19:43:36,449 - model.py[line:209] - INFO: The current solver interface glpk doesn't support setting the optimality tolerance.\n",
      "2024-03-06 19:43:36,831 - boundary_types.py[line:68] - INFO: Compartment `e` sounds like an external compartment. Using this one without counting boundary reactions.\n",
      "2024-03-06 19:43:36,836 - boundary_types.py[line:68] - INFO: Compartment `e` sounds like an external compartment. Using this one without counting boundary reactions.\n",
      "2024-03-06 19:43:36,837 - 3936220034.py[line:12] - INFO: add s_3933 <=> \n",
      "2024-03-06 19:43:36,838 - model.py[line:209] - INFO: The current solver interface glpk doesn't support setting the optimality tolerance.\n"
     ]
    },
    {
     "name": "stdout",
     "output_type": "stream",
     "text": [
      "s_3933\n"
     ]
    },
    {
     "name": "stderr",
     "output_type": "stream",
     "text": [
      "2024-03-06 19:43:37,216 - boundary_types.py[line:68] - INFO: Compartment `e` sounds like an external compartment. Using this one without counting boundary reactions.\n",
      "2024-03-06 19:43:37,229 - boundary_types.py[line:68] - INFO: Compartment `e` sounds like an external compartment. Using this one without counting boundary reactions.\n",
      "2024-03-06 19:43:37,763 - glpk_interface.py[line:689] - DEBUG: Status undefined. GLPK status code returned by glp_simplex was 10\n",
      "c:\\Users\\13293\\APP\\anaconda\\envs\\yeast9\\lib\\site-packages\\cobra\\util\\solver.py:554: UserWarning: Solver status is 'infeasible'.\n",
      "  warn(f\"Solver status is '{status}'.\", UserWarning)\n",
      "2024-03-06 19:43:37,780 - 1263953134.py[line:20] - INFO: D-mannose: NG\n",
      "2024-03-06 19:43:37,782 - model.py[line:209] - INFO: The current solver interface glpk doesn't support setting the optimality tolerance.\n",
      "2024-03-06 19:43:38,170 - boundary_types.py[line:68] - INFO: Compartment `e` sounds like an external compartment. Using this one without counting boundary reactions.\n",
      "2024-03-06 19:43:38,170 - 3936220034.py[line:5] - INFO: add s_4156 <=> \n",
      "2024-03-06 19:43:38,171 - model.py[line:209] - INFO: The current solver interface glpk doesn't support setting the optimality tolerance.\n",
      "2024-03-06 19:43:38,559 - boundary_types.py[line:68] - INFO: Compartment `e` sounds like an external compartment. Using this one without counting boundary reactions.\n",
      "2024-03-06 19:43:38,573 - boundary_types.py[line:68] - INFO: Compartment `e` sounds like an external compartment. Using this one without counting boundary reactions.\n",
      "2024-03-06 19:43:38,988 - 1263953134.py[line:20] - INFO: D-mannose 1-phosphate: G\n",
      "2024-03-06 19:43:38,990 - model.py[line:209] - INFO: The current solver interface glpk doesn't support setting the optimality tolerance.\n",
      "2024-03-06 19:43:39,380 - boundary_types.py[line:68] - INFO: Compartment `e` sounds like an external compartment. Using this one without counting boundary reactions.\n",
      "2024-03-06 19:43:39,382 - 3936220034.py[line:5] - INFO: add s_4153 <=> \n",
      "2024-03-06 19:43:39,384 - model.py[line:209] - INFO: The current solver interface glpk doesn't support setting the optimality tolerance.\n",
      "2024-03-06 19:43:39,765 - boundary_types.py[line:68] - INFO: Compartment `e` sounds like an external compartment. Using this one without counting boundary reactions.\n",
      "2024-03-06 19:43:39,778 - boundary_types.py[line:68] - INFO: Compartment `e` sounds like an external compartment. Using this one without counting boundary reactions.\n",
      "2024-03-06 19:43:40,304 - 1263953134.py[line:20] - INFO: D-mannose 6-phosphate: G\n",
      "2024-03-06 19:43:40,306 - model.py[line:209] - INFO: The current solver interface glpk doesn't support setting the optimality tolerance.\n",
      "2024-03-06 19:43:40,704 - boundary_types.py[line:68] - INFO: Compartment `e` sounds like an external compartment. Using this one without counting boundary reactions.\n",
      "2024-03-06 19:43:40,706 - 3936220034.py[line:5] - INFO: add s_0576 <=> \n",
      "2024-03-06 19:43:40,707 - model.py[line:209] - INFO: The current solver interface glpk doesn't support setting the optimality tolerance.\n",
      "2024-03-06 19:43:41,083 - boundary_types.py[line:68] - INFO: Compartment `e` sounds like an external compartment. Using this one without counting boundary reactions.\n",
      "2024-03-06 19:43:41,096 - boundary_types.py[line:68] - INFO: Compartment `e` sounds like an external compartment. Using this one without counting boundary reactions.\n",
      "2024-03-06 19:43:41,559 - 1263953134.py[line:20] - INFO: D-ribose: G\n",
      "2024-03-06 19:43:41,560 - model.py[line:209] - INFO: The current solver interface glpk doesn't support setting the optimality tolerance.\n",
      "2024-03-06 19:43:41,962 - boundary_types.py[line:68] - INFO: Compartment `e` sounds like an external compartment. Using this one without counting boundary reactions.\n",
      "2024-03-06 19:43:41,965 - 3936220034.py[line:5] - INFO: add s_0579 <=> \n",
      "2024-03-06 19:43:41,966 - model.py[line:209] - INFO: The current solver interface glpk doesn't support setting the optimality tolerance.\n",
      "2024-03-06 19:43:42,361 - boundary_types.py[line:68] - INFO: Compartment `e` sounds like an external compartment. Using this one without counting boundary reactions.\n",
      "2024-03-06 19:43:42,374 - boundary_types.py[line:68] - INFO: Compartment `e` sounds like an external compartment. Using this one without counting boundary reactions.\n",
      "2024-03-06 19:43:43,050 - 1263953134.py[line:20] - INFO: D-xylose: G\n",
      "2024-03-06 19:43:43,050 - model.py[line:209] - INFO: The current solver interface glpk doesn't support setting the optimality tolerance.\n",
      "2024-03-06 19:43:43,433 - boundary_types.py[line:68] - INFO: Compartment `e` sounds like an external compartment. Using this one without counting boundary reactions.\n",
      "2024-03-06 19:43:43,433 - boundary_types.py[line:68] - INFO: Compartment `e` sounds like an external compartment. Using this one without counting boundary reactions.\n",
      "2024-03-06 19:43:43,433 - 3936220034.py[line:12] - INFO: add s_0600 <=> \n",
      "2024-03-06 19:43:43,433 - model.py[line:209] - INFO: The current solver interface glpk doesn't support setting the optimality tolerance.\n"
     ]
    },
    {
     "name": "stdout",
     "output_type": "stream",
     "text": [
      "s_0600\n"
     ]
    },
    {
     "name": "stderr",
     "output_type": "stream",
     "text": [
      "2024-03-06 19:43:44,996 - boundary_types.py[line:68] - INFO: Compartment `e` sounds like an external compartment. Using this one without counting boundary reactions.\n",
      "2024-03-06 19:43:45,009 - boundary_types.py[line:68] - INFO: Compartment `e` sounds like an external compartment. Using this one without counting boundary reactions.\n",
      "2024-03-06 19:43:45,570 - 1263953134.py[line:20] - INFO: decanoate: G\n",
      "2024-03-06 19:43:45,572 - model.py[line:209] - INFO: The current solver interface glpk doesn't support setting the optimality tolerance.\n",
      "2024-03-06 19:43:45,979 - boundary_types.py[line:68] - INFO: Compartment `e` sounds like an external compartment. Using this one without counting boundary reactions.\n",
      "2024-03-06 19:43:45,981 - 3936220034.py[line:5] - INFO: add s_4157 <=> \n",
      "2024-03-06 19:43:45,982 - model.py[line:209] - INFO: The current solver interface glpk doesn't support setting the optimality tolerance.\n",
      "2024-03-06 19:43:46,360 - boundary_types.py[line:68] - INFO: Compartment `e` sounds like an external compartment. Using this one without counting boundary reactions.\n",
      "2024-03-06 19:43:46,373 - boundary_types.py[line:68] - INFO: Compartment `e` sounds like an external compartment. Using this one without counting boundary reactions.\n",
      "2024-03-06 19:43:46,782 - 1263953134.py[line:20] - INFO: diphosphate: G\n",
      "2024-03-06 19:43:46,799 - model.py[line:209] - INFO: The current solver interface glpk doesn't support setting the optimality tolerance.\n",
      "2024-03-06 19:43:47,200 - boundary_types.py[line:68] - INFO: Compartment `e` sounds like an external compartment. Using this one without counting boundary reactions.\n",
      "2024-03-06 19:43:47,205 - boundary_types.py[line:68] - INFO: Compartment `e` sounds like an external compartment. Using this one without counting boundary reactions.\n",
      "2024-03-06 19:43:47,207 - 3936220034.py[line:12] - INFO: add s_0682 <=> \n",
      "2024-03-06 19:43:47,207 - model.py[line:209] - INFO: The current solver interface glpk doesn't support setting the optimality tolerance.\n"
     ]
    },
    {
     "name": "stdout",
     "output_type": "stream",
     "text": [
      "s_0682\n"
     ]
    },
    {
     "name": "stderr",
     "output_type": "stream",
     "text": [
      "2024-03-06 19:43:47,589 - boundary_types.py[line:68] - INFO: Compartment `e` sounds like an external compartment. Using this one without counting boundary reactions.\n",
      "2024-03-06 19:43:47,603 - boundary_types.py[line:68] - INFO: Compartment `e` sounds like an external compartment. Using this one without counting boundary reactions.\n",
      "2024-03-06 19:43:48,126 - 1263953134.py[line:20] - INFO: ethanol: G\n",
      "2024-03-06 19:43:48,128 - model.py[line:209] - INFO: The current solver interface glpk doesn't support setting the optimality tolerance.\n",
      "2024-03-06 19:43:48,525 - boundary_types.py[line:68] - INFO: Compartment `e` sounds like an external compartment. Using this one without counting boundary reactions.\n",
      "2024-03-06 19:43:48,526 - 3936220034.py[line:5] - INFO: add s_0684 <=> \n",
      "2024-03-06 19:43:48,528 - model.py[line:209] - INFO: The current solver interface glpk doesn't support setting the optimality tolerance.\n",
      "2024-03-06 19:43:48,912 - boundary_types.py[line:68] - INFO: Compartment `e` sounds like an external compartment. Using this one without counting boundary reactions.\n",
      "2024-03-06 19:43:48,926 - boundary_types.py[line:68] - INFO: Compartment `e` sounds like an external compartment. Using this one without counting boundary reactions.\n",
      "2024-03-06 19:43:49,431 - glpk_interface.py[line:689] - DEBUG: Status undefined. GLPK status code returned by glp_simplex was 10\n",
      "c:\\Users\\13293\\APP\\anaconda\\envs\\yeast9\\lib\\site-packages\\cobra\\util\\solver.py:554: UserWarning: Solver status is 'infeasible'.\n",
      "  warn(f\"Solver status is '{status}'.\", UserWarning)\n",
      "2024-03-06 19:43:49,450 - 1263953134.py[line:20] - INFO: ethanolamine: NG\n",
      "2024-03-06 19:43:49,452 - model.py[line:209] - INFO: The current solver interface glpk doesn't support setting the optimality tolerance.\n",
      "2024-03-06 19:43:49,843 - boundary_types.py[line:68] - INFO: Compartment `e` sounds like an external compartment. Using this one without counting boundary reactions.\n",
      "2024-03-06 19:43:49,844 - 3936220034.py[line:5] - INFO: add s_0684 <=> \n",
      "2024-03-06 19:43:49,845 - model.py[line:209] - INFO: The current solver interface glpk doesn't support setting the optimality tolerance.\n",
      "2024-03-06 19:43:50,231 - boundary_types.py[line:68] - INFO: Compartment `e` sounds like an external compartment. Using this one without counting boundary reactions.\n",
      "2024-03-06 19:43:50,243 - boundary_types.py[line:68] - INFO: Compartment `e` sounds like an external compartment. Using this one without counting boundary reactions.\n",
      "2024-03-06 19:43:50,405 - 1263953134.py[line:20] - INFO: ethanolamine: NG\n",
      "2024-03-06 19:43:50,405 - model.py[line:209] - INFO: The current solver interface glpk doesn't support setting the optimality tolerance.\n",
      "2024-03-06 19:43:50,806 - boundary_types.py[line:68] - INFO: Compartment `e` sounds like an external compartment. Using this one without counting boundary reactions.\n",
      "2024-03-06 19:43:50,810 - boundary_types.py[line:68] - INFO: Compartment `e` sounds like an external compartment. Using this one without counting boundary reactions.\n",
      "2024-03-06 19:43:50,811 - 3936220034.py[line:12] - INFO: add s_0724 <=> \n",
      "2024-03-06 19:43:50,812 - model.py[line:209] - INFO: The current solver interface glpk doesn't support setting the optimality tolerance.\n"
     ]
    },
    {
     "name": "stdout",
     "output_type": "stream",
     "text": [
      "s_0724\n"
     ]
    },
    {
     "name": "stderr",
     "output_type": "stream",
     "text": [
      "2024-03-06 19:43:51,213 - boundary_types.py[line:68] - INFO: Compartment `e` sounds like an external compartment. Using this one without counting boundary reactions.\n",
      "2024-03-06 19:43:51,226 - boundary_types.py[line:68] - INFO: Compartment `e` sounds like an external compartment. Using this one without counting boundary reactions.\n",
      "2024-03-06 19:43:51,727 - 1263953134.py[line:20] - INFO: formate: G\n",
      "2024-03-06 19:43:51,729 - model.py[line:209] - INFO: The current solver interface glpk doesn't support setting the optimality tolerance.\n",
      "2024-03-06 19:43:52,121 - boundary_types.py[line:68] - INFO: Compartment `e` sounds like an external compartment. Using this one without counting boundary reactions.\n",
      "2024-03-06 19:43:52,126 - boundary_types.py[line:68] - INFO: Compartment `e` sounds like an external compartment. Using this one without counting boundary reactions.\n",
      "2024-03-06 19:43:52,127 - 3936220034.py[line:12] - INFO: add s_0727 <=> \n",
      "2024-03-06 19:43:52,128 - model.py[line:209] - INFO: The current solver interface glpk doesn't support setting the optimality tolerance.\n"
     ]
    },
    {
     "name": "stdout",
     "output_type": "stream",
     "text": [
      "s_0727\n"
     ]
    },
    {
     "name": "stderr",
     "output_type": "stream",
     "text": [
      "2024-03-06 19:43:53,820 - boundary_types.py[line:68] - INFO: Compartment `e` sounds like an external compartment. Using this one without counting boundary reactions.\n",
      "2024-03-06 19:43:53,834 - boundary_types.py[line:68] - INFO: Compartment `e` sounds like an external compartment. Using this one without counting boundary reactions.\n",
      "2024-03-06 19:43:54,438 - 1263953134.py[line:20] - INFO: fumarate: G\n",
      "2024-03-06 19:43:54,440 - model.py[line:209] - INFO: The current solver interface glpk doesn't support setting the optimality tolerance.\n",
      "2024-03-06 19:43:54,831 - boundary_types.py[line:68] - INFO: Compartment `e` sounds like an external compartment. Using this one without counting boundary reactions.\n",
      "2024-03-06 19:43:54,832 - boundary_types.py[line:68] - INFO: Compartment `e` sounds like an external compartment. Using this one without counting boundary reactions.\n",
      "2024-03-06 19:43:54,832 - 3936220034.py[line:12] - INFO: add s_0738 <=> \n",
      "2024-03-06 19:43:54,832 - model.py[line:209] - INFO: The current solver interface glpk doesn't support setting the optimality tolerance.\n"
     ]
    },
    {
     "name": "stdout",
     "output_type": "stream",
     "text": [
      "s_0738\n"
     ]
    },
    {
     "name": "stderr",
     "output_type": "stream",
     "text": [
      "2024-03-06 19:43:55,249 - boundary_types.py[line:68] - INFO: Compartment `e` sounds like an external compartment. Using this one without counting boundary reactions.\n",
      "2024-03-06 19:43:55,249 - boundary_types.py[line:68] - INFO: Compartment `e` sounds like an external compartment. Using this one without counting boundary reactions.\n",
      "2024-03-06 19:43:55,782 - 1263953134.py[line:20] - INFO: gamma-aminobutyrate: G\n",
      "2024-03-06 19:43:55,782 - model.py[line:209] - INFO: The current solver interface glpk doesn't support setting the optimality tolerance.\n",
      "2024-03-06 19:43:56,185 - boundary_types.py[line:68] - INFO: Compartment `e` sounds like an external compartment. Using this one without counting boundary reactions.\n",
      "2024-03-06 19:43:56,190 - boundary_types.py[line:68] - INFO: Compartment `e` sounds like an external compartment. Using this one without counting boundary reactions.\n",
      "2024-03-06 19:43:56,191 - 3936220034.py[line:12] - INFO: add s_0738 <=> \n",
      "2024-03-06 19:43:56,191 - model.py[line:209] - INFO: The current solver interface glpk doesn't support setting the optimality tolerance.\n"
     ]
    },
    {
     "name": "stdout",
     "output_type": "stream",
     "text": [
      "s_0738\n"
     ]
    },
    {
     "name": "stderr",
     "output_type": "stream",
     "text": [
      "2024-03-06 19:43:56,647 - boundary_types.py[line:68] - INFO: Compartment `e` sounds like an external compartment. Using this one without counting boundary reactions.\n",
      "2024-03-06 19:43:56,663 - boundary_types.py[line:68] - INFO: Compartment `e` sounds like an external compartment. Using this one without counting boundary reactions.\n",
      "2024-03-06 19:43:57,187 - 1263953134.py[line:20] - INFO: gamma-aminobutyrate: G\n",
      "2024-03-06 19:43:57,189 - model.py[line:209] - INFO: The current solver interface glpk doesn't support setting the optimality tolerance.\n",
      "2024-03-06 19:43:57,590 - boundary_types.py[line:68] - INFO: Compartment `e` sounds like an external compartment. Using this one without counting boundary reactions.\n",
      "2024-03-06 19:43:57,594 - boundary_types.py[line:68] - INFO: Compartment `e` sounds like an external compartment. Using this one without counting boundary reactions.\n",
      "2024-03-06 19:43:57,595 - 3936220034.py[line:12] - INFO: add s_3843 <=> \n",
      "2024-03-06 19:43:57,596 - model.py[line:209] - INFO: The current solver interface glpk doesn't support setting the optimality tolerance.\n"
     ]
    },
    {
     "name": "stdout",
     "output_type": "stream",
     "text": [
      "s_3843\n"
     ]
    },
    {
     "name": "stderr",
     "output_type": "stream",
     "text": [
      "2024-03-06 19:43:57,992 - boundary_types.py[line:68] - INFO: Compartment `e` sounds like an external compartment. Using this one without counting boundary reactions.\n",
      "2024-03-06 19:43:58,004 - boundary_types.py[line:68] - INFO: Compartment `e` sounds like an external compartment. Using this one without counting boundary reactions.\n",
      "2024-03-06 19:43:58,232 - 1263953134.py[line:20] - INFO: glutathione: NG\n",
      "2024-03-06 19:43:58,234 - model.py[line:209] - INFO: The current solver interface glpk doesn't support setting the optimality tolerance.\n",
      "2024-03-06 19:43:58,616 - boundary_types.py[line:68] - INFO: Compartment `e` sounds like an external compartment. Using this one without counting boundary reactions.\n",
      "2024-03-06 19:43:58,630 - boundary_types.py[line:68] - INFO: Compartment `e` sounds like an external compartment. Using this one without counting boundary reactions.\n",
      "2024-03-06 19:43:58,632 - 3936220034.py[line:12] - INFO: add s_3684 <=> \n",
      "2024-03-06 19:43:58,632 - model.py[line:209] - INFO: The current solver interface glpk doesn't support setting the optimality tolerance.\n"
     ]
    },
    {
     "name": "stdout",
     "output_type": "stream",
     "text": [
      "s_3684\n"
     ]
    },
    {
     "name": "stderr",
     "output_type": "stream",
     "text": [
      "2024-03-06 19:43:59,049 - boundary_types.py[line:68] - INFO: Compartment `e` sounds like an external compartment. Using this one without counting boundary reactions.\n",
      "2024-03-06 19:43:59,063 - boundary_types.py[line:68] - INFO: Compartment `e` sounds like an external compartment. Using this one without counting boundary reactions.\n",
      "2024-03-06 19:43:59,611 - 1263953134.py[line:20] - INFO: glycerol: G\n",
      "2024-03-06 19:43:59,613 - model.py[line:209] - INFO: The current solver interface glpk doesn't support setting the optimality tolerance.\n",
      "2024-03-06 19:44:00,017 - boundary_types.py[line:68] - INFO: Compartment `e` sounds like an external compartment. Using this one without counting boundary reactions.\n",
      "2024-03-06 19:44:00,023 - boundary_types.py[line:68] - INFO: Compartment `e` sounds like an external compartment. Using this one without counting boundary reactions.\n",
      "2024-03-06 19:44:00,024 - 3936220034.py[line:12] - INFO: add s_3218 <=> \n",
      "2024-03-06 19:44:00,025 - model.py[line:209] - INFO: The current solver interface glpk doesn't support setting the optimality tolerance.\n"
     ]
    },
    {
     "name": "stdout",
     "output_type": "stream",
     "text": [
      "s_3218\n"
     ]
    },
    {
     "name": "stderr",
     "output_type": "stream",
     "text": [
      "2024-03-06 19:44:00,432 - boundary_types.py[line:68] - INFO: Compartment `e` sounds like an external compartment. Using this one without counting boundary reactions.\n",
      "2024-03-06 19:44:00,447 - boundary_types.py[line:68] - INFO: Compartment `e` sounds like an external compartment. Using this one without counting boundary reactions.\n",
      "2024-03-06 19:44:00,897 - 1263953134.py[line:20] - INFO: glycerol 3-phosphate: G\n",
      "2024-03-06 19:44:00,899 - model.py[line:209] - INFO: The current solver interface glpk doesn't support setting the optimality tolerance.\n",
      "2024-03-06 19:44:01,298 - boundary_types.py[line:68] - INFO: Compartment `e` sounds like an external compartment. Using this one without counting boundary reactions.\n",
      "2024-03-06 19:44:01,300 - 3936220034.py[line:5] - INFO: add s_4167 <=> \n",
      "2024-03-06 19:44:01,302 - model.py[line:209] - INFO: The current solver interface glpk doesn't support setting the optimality tolerance.\n",
      "2024-03-06 19:44:01,704 - boundary_types.py[line:68] - INFO: Compartment `e` sounds like an external compartment. Using this one without counting boundary reactions.\n",
      "2024-03-06 19:44:01,715 - boundary_types.py[line:68] - INFO: Compartment `e` sounds like an external compartment. Using this one without counting boundary reactions.\n",
      "2024-03-06 19:44:02,283 - 1263953134.py[line:20] - INFO: glycerone: G\n",
      "2024-03-06 19:44:02,285 - model.py[line:209] - INFO: The current solver interface glpk doesn't support setting the optimality tolerance.\n",
      "2024-03-06 19:44:02,692 - boundary_types.py[line:68] - INFO: Compartment `e` sounds like an external compartment. Using this one without counting boundary reactions.\n",
      "2024-03-06 19:44:02,697 - boundary_types.py[line:68] - INFO: Compartment `e` sounds like an external compartment. Using this one without counting boundary reactions.\n",
      "2024-03-06 19:44:02,699 - 3936220034.py[line:12] - INFO: add s_0774 <=> \n",
      "2024-03-06 19:44:02,700 - model.py[line:209] - INFO: The current solver interface glpk doesn't support setting the optimality tolerance.\n"
     ]
    },
    {
     "name": "stdout",
     "output_type": "stream",
     "text": [
      "s_0774\n"
     ]
    },
    {
     "name": "stderr",
     "output_type": "stream",
     "text": [
      "2024-03-06 19:44:03,106 - boundary_types.py[line:68] - INFO: Compartment `e` sounds like an external compartment. Using this one without counting boundary reactions.\n",
      "2024-03-06 19:44:03,121 - boundary_types.py[line:68] - INFO: Compartment `e` sounds like an external compartment. Using this one without counting boundary reactions.\n",
      "2024-03-06 19:44:03,733 - 1263953134.py[line:20] - INFO: glycogen: G\n",
      "2024-03-06 19:44:03,735 - model.py[line:209] - INFO: The current solver interface glpk doesn't support setting the optimality tolerance.\n",
      "2024-03-06 19:44:05,609 - boundary_types.py[line:68] - INFO: Compartment `e` sounds like an external compartment. Using this one without counting boundary reactions.\n",
      "2024-03-06 19:44:05,612 - boundary_types.py[line:68] - INFO: Compartment `e` sounds like an external compartment. Using this one without counting boundary reactions.\n",
      "2024-03-06 19:44:05,614 - 3936220034.py[line:12] - INFO: add s_0781 <=> \n",
      "2024-03-06 19:44:05,615 - model.py[line:209] - INFO: The current solver interface glpk doesn't support setting the optimality tolerance.\n"
     ]
    },
    {
     "name": "stdout",
     "output_type": "stream",
     "text": [
      "s_0781\n"
     ]
    },
    {
     "name": "stderr",
     "output_type": "stream",
     "text": [
      "2024-03-06 19:44:06,026 - boundary_types.py[line:68] - INFO: Compartment `e` sounds like an external compartment. Using this one without counting boundary reactions.\n",
      "2024-03-06 19:44:06,040 - boundary_types.py[line:68] - INFO: Compartment `e` sounds like an external compartment. Using this one without counting boundary reactions.\n",
      "2024-03-06 19:44:06,593 - 1263953134.py[line:20] - INFO: glyoxylate: G\n",
      "2024-03-06 19:44:06,595 - model.py[line:209] - INFO: The current solver interface glpk doesn't support setting the optimality tolerance.\n",
      "2024-03-06 19:44:06,993 - boundary_types.py[line:68] - INFO: Compartment `e` sounds like an external compartment. Using this one without counting boundary reactions.\n",
      "2024-03-06 19:44:06,994 - 3936220034.py[line:5] - INFO: add s_4148 <=> \n",
      "2024-03-06 19:44:06,996 - model.py[line:209] - INFO: The current solver interface glpk doesn't support setting the optimality tolerance.\n",
      "2024-03-06 19:44:07,420 - boundary_types.py[line:68] - INFO: Compartment `e` sounds like an external compartment. Using this one without counting boundary reactions.\n",
      "2024-03-06 19:44:07,434 - boundary_types.py[line:68] - INFO: Compartment `e` sounds like an external compartment. Using this one without counting boundary reactions.\n",
      "2024-03-06 19:44:07,938 - 1263953134.py[line:20] - INFO: GMP: G\n",
      "2024-03-06 19:44:07,939 - model.py[line:209] - INFO: The current solver interface glpk doesn't support setting the optimality tolerance.\n",
      "2024-03-06 19:44:08,336 - boundary_types.py[line:68] - INFO: Compartment `e` sounds like an external compartment. Using this one without counting boundary reactions.\n",
      "2024-03-06 19:44:08,341 - boundary_types.py[line:68] - INFO: Compartment `e` sounds like an external compartment. Using this one without counting boundary reactions.\n",
      "2024-03-06 19:44:08,343 - 3936220034.py[line:12] - INFO: add s_0789 <=> \n",
      "2024-03-06 19:44:08,344 - model.py[line:209] - INFO: The current solver interface glpk doesn't support setting the optimality tolerance.\n"
     ]
    },
    {
     "name": "stdout",
     "output_type": "stream",
     "text": [
      "s_0789\n"
     ]
    },
    {
     "name": "stderr",
     "output_type": "stream",
     "text": [
      "2024-03-06 19:44:08,760 - boundary_types.py[line:68] - INFO: Compartment `e` sounds like an external compartment. Using this one without counting boundary reactions.\n",
      "2024-03-06 19:44:08,774 - boundary_types.py[line:68] - INFO: Compartment `e` sounds like an external compartment. Using this one without counting boundary reactions.\n",
      "2024-03-06 19:44:09,323 - 1263953134.py[line:20] - INFO: guanine: G\n",
      "2024-03-06 19:44:09,324 - model.py[line:209] - INFO: The current solver interface glpk doesn't support setting the optimality tolerance.\n",
      "2024-03-06 19:44:09,731 - boundary_types.py[line:68] - INFO: Compartment `e` sounds like an external compartment. Using this one without counting boundary reactions.\n",
      "2024-03-06 19:44:09,736 - boundary_types.py[line:68] - INFO: Compartment `e` sounds like an external compartment. Using this one without counting boundary reactions.\n",
      "2024-03-06 19:44:09,737 - 3936220034.py[line:12] - INFO: add s_0792 <=> \n",
      "2024-03-06 19:44:09,739 - model.py[line:209] - INFO: The current solver interface glpk doesn't support setting the optimality tolerance.\n"
     ]
    },
    {
     "name": "stdout",
     "output_type": "stream",
     "text": [
      "s_0792\n"
     ]
    },
    {
     "name": "stderr",
     "output_type": "stream",
     "text": [
      "2024-03-06 19:44:10,177 - boundary_types.py[line:68] - INFO: Compartment `e` sounds like an external compartment. Using this one without counting boundary reactions.\n",
      "2024-03-06 19:44:10,192 - boundary_types.py[line:68] - INFO: Compartment `e` sounds like an external compartment. Using this one without counting boundary reactions.\n",
      "2024-03-06 19:44:10,381 - 1263953134.py[line:20] - INFO: guanosine: NG\n",
      "2024-03-06 19:44:10,382 - model.py[line:209] - INFO: The current solver interface glpk doesn't support setting the optimality tolerance.\n",
      "2024-03-06 19:44:10,782 - boundary_types.py[line:68] - INFO: Compartment `e` sounds like an external compartment. Using this one without counting boundary reactions.\n",
      "2024-03-06 19:44:10,782 - 3936220034.py[line:5] - INFO: add s_0857 <=> \n",
      "2024-03-06 19:44:10,782 - model.py[line:209] - INFO: The current solver interface glpk doesn't support setting the optimality tolerance.\n",
      "2024-03-06 19:44:11,180 - boundary_types.py[line:68] - INFO: Compartment `e` sounds like an external compartment. Using this one without counting boundary reactions.\n",
      "2024-03-06 19:44:11,194 - boundary_types.py[line:68] - INFO: Compartment `e` sounds like an external compartment. Using this one without counting boundary reactions.\n",
      "2024-03-06 19:44:11,693 - 1263953134.py[line:20] - INFO: inosine: G\n",
      "2024-03-06 19:44:11,694 - model.py[line:209] - INFO: The current solver interface glpk doesn't support setting the optimality tolerance.\n",
      "2024-03-06 19:44:12,156 - boundary_types.py[line:68] - INFO: Compartment `e` sounds like an external compartment. Using this one without counting boundary reactions.\n",
      "2024-03-06 19:44:12,157 - 3936220034.py[line:5] - INFO: add s_0857 <=> \n",
      "2024-03-06 19:44:12,158 - model.py[line:209] - INFO: The current solver interface glpk doesn't support setting the optimality tolerance.\n",
      "2024-03-06 19:44:12,621 - boundary_types.py[line:68] - INFO: Compartment `e` sounds like an external compartment. Using this one without counting boundary reactions.\n",
      "2024-03-06 19:44:12,637 - boundary_types.py[line:68] - INFO: Compartment `e` sounds like an external compartment. Using this one without counting boundary reactions.\n",
      "2024-03-06 19:44:12,823 - 1263953134.py[line:20] - INFO: inosine: NG\n",
      "2024-03-06 19:44:12,824 - model.py[line:209] - INFO: The current solver interface glpk doesn't support setting the optimality tolerance.\n",
      "2024-03-06 19:44:13,311 - boundary_types.py[line:68] - INFO: Compartment `e` sounds like an external compartment. Using this one without counting boundary reactions.\n",
      "2024-03-06 19:44:13,316 - boundary_types.py[line:68] - INFO: Compartment `e` sounds like an external compartment. Using this one without counting boundary reactions.\n",
      "2024-03-06 19:44:13,318 - 3936220034.py[line:12] - INFO: add s_0946 <=> \n",
      "2024-03-06 19:44:13,319 - model.py[line:209] - INFO: The current solver interface glpk doesn't support setting the optimality tolerance.\n"
     ]
    },
    {
     "name": "stdout",
     "output_type": "stream",
     "text": [
      "s_0946\n"
     ]
    },
    {
     "name": "stderr",
     "output_type": "stream",
     "text": [
      "2024-03-06 19:44:13,803 - boundary_types.py[line:68] - INFO: Compartment `e` sounds like an external compartment. Using this one without counting boundary reactions.\n",
      "2024-03-06 19:44:13,819 - boundary_types.py[line:68] - INFO: Compartment `e` sounds like an external compartment. Using this one without counting boundary reactions.\n",
      "2024-03-06 19:44:14,403 - glpk_interface.py[line:689] - DEBUG: Status undefined. GLPK status code returned by glp_simplex was 10\n",
      "c:\\Users\\13293\\APP\\anaconda\\envs\\yeast9\\lib\\site-packages\\cobra\\util\\solver.py:554: UserWarning: Solver status is 'infeasible'.\n",
      "  warn(f\"Solver status is '{status}'.\", UserWarning)\n",
      "2024-03-06 19:44:14,423 - 1263953134.py[line:20] - INFO: itaconate: NG\n",
      "2024-03-06 19:44:14,425 - model.py[line:209] - INFO: The current solver interface glpk doesn't support setting the optimality tolerance.\n",
      "2024-03-06 19:44:14,907 - boundary_types.py[line:68] - INFO: Compartment `e` sounds like an external compartment. Using this one without counting boundary reactions.\n",
      "2024-03-06 19:44:14,913 - boundary_types.py[line:68] - INFO: Compartment `e` sounds like an external compartment. Using this one without counting boundary reactions.\n",
      "2024-03-06 19:44:14,914 - 3936220034.py[line:12] - INFO: add s_3759 <=> \n",
      "2024-03-06 19:44:14,915 - model.py[line:209] - INFO: The current solver interface glpk doesn't support setting the optimality tolerance.\n"
     ]
    },
    {
     "name": "stdout",
     "output_type": "stream",
     "text": [
      "s_3759\n"
     ]
    },
    {
     "name": "stderr",
     "output_type": "stream",
     "text": [
      "2024-03-06 19:44:15,403 - boundary_types.py[line:68] - INFO: Compartment `e` sounds like an external compartment. Using this one without counting boundary reactions.\n",
      "2024-03-06 19:44:15,419 - boundary_types.py[line:68] - INFO: Compartment `e` sounds like an external compartment. Using this one without counting boundary reactions.\n",
      "2024-03-06 19:44:16,009 - 1263953134.py[line:20] - INFO: L-alanine: G\n",
      "2024-03-06 19:44:16,011 - model.py[line:209] - INFO: The current solver interface glpk doesn't support setting the optimality tolerance.\n",
      "2024-03-06 19:44:18,280 - boundary_types.py[line:68] - INFO: Compartment `e` sounds like an external compartment. Using this one without counting boundary reactions.\n",
      "2024-03-06 19:44:18,286 - boundary_types.py[line:68] - INFO: Compartment `e` sounds like an external compartment. Using this one without counting boundary reactions.\n",
      "2024-03-06 19:44:18,287 - 3936220034.py[line:12] - INFO: add s_3759 <=> \n",
      "2024-03-06 19:44:18,288 - model.py[line:209] - INFO: The current solver interface glpk doesn't support setting the optimality tolerance.\n"
     ]
    },
    {
     "name": "stdout",
     "output_type": "stream",
     "text": [
      "s_3759\n"
     ]
    },
    {
     "name": "stderr",
     "output_type": "stream",
     "text": [
      "2024-03-06 19:44:18,707 - boundary_types.py[line:68] - INFO: Compartment `e` sounds like an external compartment. Using this one without counting boundary reactions.\n",
      "2024-03-06 19:44:18,721 - boundary_types.py[line:68] - INFO: Compartment `e` sounds like an external compartment. Using this one without counting boundary reactions.\n",
      "2024-03-06 19:44:19,314 - 1263953134.py[line:20] - INFO: L-alanine: G\n",
      "2024-03-06 19:44:19,316 - model.py[line:209] - INFO: The current solver interface glpk doesn't support setting the optimality tolerance.\n",
      "2024-03-06 19:44:19,710 - boundary_types.py[line:68] - INFO: Compartment `e` sounds like an external compartment. Using this one without counting boundary reactions.\n",
      "2024-03-06 19:44:19,711 - 3936220034.py[line:5] - INFO: add s_0962 <=> \n",
      "2024-03-06 19:44:19,712 - model.py[line:209] - INFO: The current solver interface glpk doesn't support setting the optimality tolerance.\n",
      "2024-03-06 19:44:20,119 - boundary_types.py[line:68] - INFO: Compartment `e` sounds like an external compartment. Using this one without counting boundary reactions.\n",
      "2024-03-06 19:44:20,132 - boundary_types.py[line:68] - INFO: Compartment `e` sounds like an external compartment. Using this one without counting boundary reactions.\n",
      "2024-03-06 19:44:20,744 - 1263953134.py[line:20] - INFO: L-arabinitol: G\n",
      "2024-03-06 19:44:20,745 - model.py[line:209] - INFO: The current solver interface glpk doesn't support setting the optimality tolerance.\n",
      "2024-03-06 19:44:21,146 - boundary_types.py[line:68] - INFO: Compartment `e` sounds like an external compartment. Using this one without counting boundary reactions.\n",
      "2024-03-06 19:44:21,147 - 3936220034.py[line:5] - INFO: add s_0964 <=> \n",
      "2024-03-06 19:44:21,149 - model.py[line:209] - INFO: The current solver interface glpk doesn't support setting the optimality tolerance.\n",
      "2024-03-06 19:44:21,558 - boundary_types.py[line:68] - INFO: Compartment `e` sounds like an external compartment. Using this one without counting boundary reactions.\n",
      "2024-03-06 19:44:21,572 - boundary_types.py[line:68] - INFO: Compartment `e` sounds like an external compartment. Using this one without counting boundary reactions.\n",
      "2024-03-06 19:44:22,078 - 1263953134.py[line:20] - INFO: L-arabinose: G\n",
      "2024-03-06 19:44:22,079 - model.py[line:209] - INFO: The current solver interface glpk doesn't support setting the optimality tolerance.\n",
      "2024-03-06 19:44:22,480 - boundary_types.py[line:68] - INFO: Compartment `e` sounds like an external compartment. Using this one without counting boundary reactions.\n",
      "2024-03-06 19:44:22,486 - boundary_types.py[line:68] - INFO: Compartment `e` sounds like an external compartment. Using this one without counting boundary reactions.\n",
      "2024-03-06 19:44:22,487 - 3936220034.py[line:12] - INFO: add s_0968 <=> \n",
      "2024-03-06 19:44:22,489 - model.py[line:209] - INFO: The current solver interface glpk doesn't support setting the optimality tolerance.\n"
     ]
    },
    {
     "name": "stdout",
     "output_type": "stream",
     "text": [
      "s_0968\n"
     ]
    },
    {
     "name": "stderr",
     "output_type": "stream",
     "text": [
      "2024-03-06 19:44:22,891 - boundary_types.py[line:68] - INFO: Compartment `e` sounds like an external compartment. Using this one without counting boundary reactions.\n",
      "2024-03-06 19:44:22,905 - boundary_types.py[line:68] - INFO: Compartment `e` sounds like an external compartment. Using this one without counting boundary reactions.\n",
      "2024-03-06 19:44:23,443 - 1263953134.py[line:20] - INFO: L-arginine: G\n",
      "2024-03-06 19:44:23,444 - model.py[line:209] - INFO: The current solver interface glpk doesn't support setting the optimality tolerance.\n",
      "2024-03-06 19:44:23,853 - boundary_types.py[line:68] - INFO: Compartment `e` sounds like an external compartment. Using this one without counting boundary reactions.\n",
      "2024-03-06 19:44:23,857 - boundary_types.py[line:68] - INFO: Compartment `e` sounds like an external compartment. Using this one without counting boundary reactions.\n",
      "2024-03-06 19:44:23,858 - 3936220034.py[line:12] - INFO: add s_0968 <=> \n",
      "2024-03-06 19:44:23,859 - model.py[line:209] - INFO: The current solver interface glpk doesn't support setting the optimality tolerance.\n"
     ]
    },
    {
     "name": "stdout",
     "output_type": "stream",
     "text": [
      "s_0968\n"
     ]
    },
    {
     "name": "stderr",
     "output_type": "stream",
     "text": [
      "2024-03-06 19:44:24,278 - boundary_types.py[line:68] - INFO: Compartment `e` sounds like an external compartment. Using this one without counting boundary reactions.\n",
      "2024-03-06 19:44:24,294 - boundary_types.py[line:68] - INFO: Compartment `e` sounds like an external compartment. Using this one without counting boundary reactions.\n",
      "2024-03-06 19:44:24,785 - 1263953134.py[line:20] - INFO: L-arginine: G\n",
      "2024-03-06 19:44:24,785 - model.py[line:209] - INFO: The current solver interface glpk doesn't support setting the optimality tolerance.\n",
      "2024-03-06 19:44:25,201 - boundary_types.py[line:68] - INFO: Compartment `e` sounds like an external compartment. Using this one without counting boundary reactions.\n",
      "2024-03-06 19:44:25,206 - boundary_types.py[line:68] - INFO: Compartment `e` sounds like an external compartment. Using this one without counting boundary reactions.\n",
      "2024-03-06 19:44:25,208 - 3936220034.py[line:12] - INFO: add s_0972 <=> \n",
      "2024-03-06 19:44:25,208 - model.py[line:209] - INFO: The current solver interface glpk doesn't support setting the optimality tolerance.\n"
     ]
    },
    {
     "name": "stdout",
     "output_type": "stream",
     "text": [
      "s_0972\n"
     ]
    },
    {
     "name": "stderr",
     "output_type": "stream",
     "text": [
      "2024-03-06 19:44:25,609 - boundary_types.py[line:68] - INFO: Compartment `e` sounds like an external compartment. Using this one without counting boundary reactions.\n",
      "2024-03-06 19:44:25,614 - boundary_types.py[line:68] - INFO: Compartment `e` sounds like an external compartment. Using this one without counting boundary reactions.\n",
      "2024-03-06 19:44:26,188 - 1263953134.py[line:20] - INFO: L-asparagine: G\n",
      "2024-03-06 19:44:26,190 - model.py[line:209] - INFO: The current solver interface glpk doesn't support setting the optimality tolerance.\n",
      "2024-03-06 19:44:26,593 - boundary_types.py[line:68] - INFO: Compartment `e` sounds like an external compartment. Using this one without counting boundary reactions.\n",
      "2024-03-06 19:44:26,598 - boundary_types.py[line:68] - INFO: Compartment `e` sounds like an external compartment. Using this one without counting boundary reactions.\n",
      "2024-03-06 19:44:26,599 - 3936220034.py[line:12] - INFO: add s_0972 <=> \n",
      "2024-03-06 19:44:26,600 - model.py[line:209] - INFO: The current solver interface glpk doesn't support setting the optimality tolerance.\n"
     ]
    },
    {
     "name": "stdout",
     "output_type": "stream",
     "text": [
      "s_0972\n"
     ]
    },
    {
     "name": "stderr",
     "output_type": "stream",
     "text": [
      "2024-03-06 19:44:27,010 - boundary_types.py[line:68] - INFO: Compartment `e` sounds like an external compartment. Using this one without counting boundary reactions.\n",
      "2024-03-06 19:44:27,024 - boundary_types.py[line:68] - INFO: Compartment `e` sounds like an external compartment. Using this one without counting boundary reactions.\n",
      "2024-03-06 19:44:27,616 - 1263953134.py[line:20] - INFO: L-asparagine: G\n",
      "2024-03-06 19:44:27,618 - model.py[line:209] - INFO: The current solver interface glpk doesn't support setting the optimality tolerance.\n",
      "2024-03-06 19:44:28,020 - boundary_types.py[line:68] - INFO: Compartment `e` sounds like an external compartment. Using this one without counting boundary reactions.\n",
      "2024-03-06 19:44:28,025 - boundary_types.py[line:68] - INFO: Compartment `e` sounds like an external compartment. Using this one without counting boundary reactions.\n",
      "2024-03-06 19:44:28,025 - 3936220034.py[line:12] - INFO: add s_0977 <=> \n",
      "2024-03-06 19:44:28,026 - model.py[line:209] - INFO: The current solver interface glpk doesn't support setting the optimality tolerance.\n"
     ]
    },
    {
     "name": "stdout",
     "output_type": "stream",
     "text": [
      "s_0977\n"
     ]
    },
    {
     "name": "stderr",
     "output_type": "stream",
     "text": [
      "2024-03-06 19:44:28,432 - boundary_types.py[line:68] - INFO: Compartment `e` sounds like an external compartment. Using this one without counting boundary reactions.\n",
      "2024-03-06 19:44:28,448 - boundary_types.py[line:68] - INFO: Compartment `e` sounds like an external compartment. Using this one without counting boundary reactions.\n",
      "2024-03-06 19:44:29,007 - 1263953134.py[line:20] - INFO: L-aspartate: G\n",
      "2024-03-06 19:44:29,008 - model.py[line:209] - INFO: The current solver interface glpk doesn't support setting the optimality tolerance.\n",
      "2024-03-06 19:44:31,226 - boundary_types.py[line:68] - INFO: Compartment `e` sounds like an external compartment. Using this one without counting boundary reactions.\n",
      "2024-03-06 19:44:31,231 - boundary_types.py[line:68] - INFO: Compartment `e` sounds like an external compartment. Using this one without counting boundary reactions.\n",
      "2024-03-06 19:44:31,232 - 3936220034.py[line:12] - INFO: add s_0977 <=> \n",
      "2024-03-06 19:44:31,233 - model.py[line:209] - INFO: The current solver interface glpk doesn't support setting the optimality tolerance.\n"
     ]
    },
    {
     "name": "stdout",
     "output_type": "stream",
     "text": [
      "s_0977\n"
     ]
    },
    {
     "name": "stderr",
     "output_type": "stream",
     "text": [
      "2024-03-06 19:44:31,638 - boundary_types.py[line:68] - INFO: Compartment `e` sounds like an external compartment. Using this one without counting boundary reactions.\n",
      "2024-03-06 19:44:31,652 - boundary_types.py[line:68] - INFO: Compartment `e` sounds like an external compartment. Using this one without counting boundary reactions.\n",
      "2024-03-06 19:44:32,153 - 1263953134.py[line:20] - INFO: L-aspartate: G\n",
      "2024-03-06 19:44:32,154 - model.py[line:209] - INFO: The current solver interface glpk doesn't support setting the optimality tolerance.\n",
      "2024-03-06 19:44:32,590 - boundary_types.py[line:68] - INFO: Compartment `e` sounds like an external compartment. Using this one without counting boundary reactions.\n",
      "2024-03-06 19:44:32,591 - 3936220034.py[line:5] - INFO: add s_4166 <=> \n",
      "2024-03-06 19:44:32,592 - model.py[line:209] - INFO: The current solver interface glpk doesn't support setting the optimality tolerance.\n",
      "2024-03-06 19:44:33,046 - boundary_types.py[line:68] - INFO: Compartment `e` sounds like an external compartment. Using this one without counting boundary reactions.\n",
      "2024-03-06 19:44:33,063 - boundary_types.py[line:68] - INFO: Compartment `e` sounds like an external compartment. Using this one without counting boundary reactions.\n",
      "2024-03-06 19:44:33,696 - 1263953134.py[line:20] - INFO: L-citrulline: G\n",
      "2024-03-06 19:44:33,698 - model.py[line:209] - INFO: The current solver interface glpk doesn't support setting the optimality tolerance.\n",
      "2024-03-06 19:44:34,162 - boundary_types.py[line:68] - INFO: Compartment `e` sounds like an external compartment. Using this one without counting boundary reactions.\n",
      "2024-03-06 19:44:34,168 - boundary_types.py[line:68] - INFO: Compartment `e` sounds like an external compartment. Using this one without counting boundary reactions.\n",
      "2024-03-06 19:44:34,169 - 3936220034.py[line:12] - INFO: add s_3785 <=> \n",
      "2024-03-06 19:44:34,170 - model.py[line:209] - INFO: The current solver interface glpk doesn't support setting the optimality tolerance.\n"
     ]
    },
    {
     "name": "stdout",
     "output_type": "stream",
     "text": [
      "s_3785\n"
     ]
    },
    {
     "name": "stderr",
     "output_type": "stream",
     "text": [
      "2024-03-06 19:44:34,635 - boundary_types.py[line:68] - INFO: Compartment `e` sounds like an external compartment. Using this one without counting boundary reactions.\n",
      "2024-03-06 19:44:34,650 - boundary_types.py[line:68] - INFO: Compartment `e` sounds like an external compartment. Using this one without counting boundary reactions.\n",
      "2024-03-06 19:44:35,216 - 1263953134.py[line:20] - INFO: L-cysteine: G\n",
      "2024-03-06 19:44:35,218 - model.py[line:209] - INFO: The current solver interface glpk doesn't support setting the optimality tolerance.\n",
      "2024-03-06 19:44:35,620 - boundary_types.py[line:68] - INFO: Compartment `e` sounds like an external compartment. Using this one without counting boundary reactions.\n",
      "2024-03-06 19:44:35,625 - boundary_types.py[line:68] - INFO: Compartment `e` sounds like an external compartment. Using this one without counting boundary reactions.\n",
      "2024-03-06 19:44:35,626 - 3936220034.py[line:12] - INFO: add s_3785 <=> \n",
      "2024-03-06 19:44:35,627 - model.py[line:209] - INFO: The current solver interface glpk doesn't support setting the optimality tolerance.\n"
     ]
    },
    {
     "name": "stdout",
     "output_type": "stream",
     "text": [
      "s_3785\n"
     ]
    },
    {
     "name": "stderr",
     "output_type": "stream",
     "text": [
      "2024-03-06 19:44:36,040 - boundary_types.py[line:68] - INFO: Compartment `e` sounds like an external compartment. Using this one without counting boundary reactions.\n",
      "2024-03-06 19:44:36,054 - boundary_types.py[line:68] - INFO: Compartment `e` sounds like an external compartment. Using this one without counting boundary reactions.\n",
      "2024-03-06 19:44:36,574 - 1263953134.py[line:20] - INFO: L-cysteine: G\n",
      "2024-03-06 19:44:36,575 - model.py[line:209] - INFO: The current solver interface glpk doesn't support setting the optimality tolerance.\n",
      "2024-03-06 19:44:36,981 - boundary_types.py[line:68] - INFO: Compartment `e` sounds like an external compartment. Using this one without counting boundary reactions.\n",
      "2024-03-06 19:44:36,981 - boundary_types.py[line:68] - INFO: Compartment `e` sounds like an external compartment. Using this one without counting boundary reactions.\n",
      "2024-03-06 19:44:36,981 - 3936220034.py[line:12] - INFO: add s_3925 <=> \n",
      "2024-03-06 19:44:36,996 - model.py[line:209] - INFO: The current solver interface glpk doesn't support setting the optimality tolerance.\n"
     ]
    },
    {
     "name": "stdout",
     "output_type": "stream",
     "text": [
      "s_3925\n"
     ]
    },
    {
     "name": "stderr",
     "output_type": "stream",
     "text": [
      "2024-03-06 19:44:37,414 - boundary_types.py[line:68] - INFO: Compartment `e` sounds like an external compartment. Using this one without counting boundary reactions.\n",
      "2024-03-06 19:44:37,430 - boundary_types.py[line:68] - INFO: Compartment `e` sounds like an external compartment. Using this one without counting boundary reactions.\n",
      "2024-03-06 19:44:37,983 - 1263953134.py[line:20] - INFO: L-cysteinylglycine: G\n",
      "2024-03-06 19:44:37,985 - model.py[line:209] - INFO: The current solver interface glpk doesn't support setting the optimality tolerance.\n",
      "2024-03-06 19:44:38,398 - boundary_types.py[line:68] - INFO: Compartment `e` sounds like an external compartment. Using this one without counting boundary reactions.\n",
      "2024-03-06 19:44:38,403 - boundary_types.py[line:68] - INFO: Compartment `e` sounds like an external compartment. Using this one without counting boundary reactions.\n",
      "2024-03-06 19:44:38,404 - 3936220034.py[line:12] - INFO: add s_0996 <=> \n",
      "2024-03-06 19:44:38,405 - model.py[line:209] - INFO: The current solver interface glpk doesn't support setting the optimality tolerance.\n"
     ]
    },
    {
     "name": "stdout",
     "output_type": "stream",
     "text": [
      "s_0996\n"
     ]
    },
    {
     "name": "stderr",
     "output_type": "stream",
     "text": [
      "2024-03-06 19:44:38,839 - boundary_types.py[line:68] - INFO: Compartment `e` sounds like an external compartment. Using this one without counting boundary reactions.\n",
      "2024-03-06 19:44:38,855 - boundary_types.py[line:68] - INFO: Compartment `e` sounds like an external compartment. Using this one without counting boundary reactions.\n",
      "2024-03-06 19:44:39,439 - 1263953134.py[line:20] - INFO: L-glutamate: G\n",
      "2024-03-06 19:44:39,440 - model.py[line:209] - INFO: The current solver interface glpk doesn't support setting the optimality tolerance.\n",
      "2024-03-06 19:44:39,890 - boundary_types.py[line:68] - INFO: Compartment `e` sounds like an external compartment. Using this one without counting boundary reactions.\n",
      "2024-03-06 19:44:39,895 - boundary_types.py[line:68] - INFO: Compartment `e` sounds like an external compartment. Using this one without counting boundary reactions.\n",
      "2024-03-06 19:44:39,896 - 3936220034.py[line:12] - INFO: add s_0996 <=> \n",
      "2024-03-06 19:44:39,897 - model.py[line:209] - INFO: The current solver interface glpk doesn't support setting the optimality tolerance.\n"
     ]
    },
    {
     "name": "stdout",
     "output_type": "stream",
     "text": [
      "s_0996\n"
     ]
    },
    {
     "name": "stderr",
     "output_type": "stream",
     "text": [
      "2024-03-06 19:44:40,346 - boundary_types.py[line:68] - INFO: Compartment `e` sounds like an external compartment. Using this one without counting boundary reactions.\n",
      "2024-03-06 19:44:40,362 - boundary_types.py[line:68] - INFO: Compartment `e` sounds like an external compartment. Using this one without counting boundary reactions.\n",
      "2024-03-06 19:44:41,027 - 1263953134.py[line:20] - INFO: L-glutamate: G\n",
      "2024-03-06 19:44:41,029 - model.py[line:209] - INFO: The current solver interface glpk doesn't support setting the optimality tolerance.\n",
      "2024-03-06 19:44:41,436 - boundary_types.py[line:68] - INFO: Compartment `e` sounds like an external compartment. Using this one without counting boundary reactions.\n",
      "2024-03-06 19:44:41,440 - boundary_types.py[line:68] - INFO: Compartment `e` sounds like an external compartment. Using this one without counting boundary reactions.\n",
      "2024-03-06 19:44:41,442 - 3936220034.py[line:12] - INFO: add s_3755 <=> \n",
      "2024-03-06 19:44:41,443 - model.py[line:209] - INFO: The current solver interface glpk doesn't support setting the optimality tolerance.\n"
     ]
    },
    {
     "name": "stdout",
     "output_type": "stream",
     "text": [
      "s_3755\n"
     ]
    },
    {
     "name": "stderr",
     "output_type": "stream",
     "text": [
      "2024-03-06 19:44:41,861 - boundary_types.py[line:68] - INFO: Compartment `e` sounds like an external compartment. Using this one without counting boundary reactions.\n",
      "2024-03-06 19:44:41,874 - boundary_types.py[line:68] - INFO: Compartment `e` sounds like an external compartment. Using this one without counting boundary reactions.\n",
      "2024-03-06 19:44:42,501 - 1263953134.py[line:20] - INFO: L-glutamine: G\n",
      "2024-03-06 19:44:42,503 - model.py[line:209] - INFO: The current solver interface glpk doesn't support setting the optimality tolerance.\n",
      "2024-03-06 19:44:44,771 - boundary_types.py[line:68] - INFO: Compartment `e` sounds like an external compartment. Using this one without counting boundary reactions.\n",
      "2024-03-06 19:44:44,777 - boundary_types.py[line:68] - INFO: Compartment `e` sounds like an external compartment. Using this one without counting boundary reactions.\n",
      "2024-03-06 19:44:44,779 - 3936220034.py[line:12] - INFO: add s_3755 <=> \n",
      "2024-03-06 19:44:44,780 - model.py[line:209] - INFO: The current solver interface glpk doesn't support setting the optimality tolerance.\n"
     ]
    },
    {
     "name": "stdout",
     "output_type": "stream",
     "text": [
      "s_3755\n"
     ]
    },
    {
     "name": "stderr",
     "output_type": "stream",
     "text": [
      "2024-03-06 19:44:45,203 - boundary_types.py[line:68] - INFO: Compartment `e` sounds like an external compartment. Using this one without counting boundary reactions.\n",
      "2024-03-06 19:44:45,218 - boundary_types.py[line:68] - INFO: Compartment `e` sounds like an external compartment. Using this one without counting boundary reactions.\n",
      "2024-03-06 19:44:45,774 - 1263953134.py[line:20] - INFO: L-glutamine: G\n",
      "2024-03-06 19:44:45,775 - model.py[line:209] - INFO: The current solver interface glpk doesn't support setting the optimality tolerance.\n",
      "2024-03-06 19:44:46,177 - boundary_types.py[line:68] - INFO: Compartment `e` sounds like an external compartment. Using this one without counting boundary reactions.\n",
      "2024-03-06 19:44:46,182 - boundary_types.py[line:68] - INFO: Compartment `e` sounds like an external compartment. Using this one without counting boundary reactions.\n",
      "2024-03-06 19:44:46,183 - 3936220034.py[line:12] - INFO: add s_3839 <=> \n",
      "2024-03-06 19:44:46,184 - model.py[line:209] - INFO: The current solver interface glpk doesn't support setting the optimality tolerance.\n"
     ]
    },
    {
     "name": "stdout",
     "output_type": "stream",
     "text": [
      "s_3839\n"
     ]
    },
    {
     "name": "stderr",
     "output_type": "stream",
     "text": [
      "2024-03-06 19:44:46,597 - boundary_types.py[line:68] - INFO: Compartment `e` sounds like an external compartment. Using this one without counting boundary reactions.\n",
      "2024-03-06 19:44:46,612 - boundary_types.py[line:68] - INFO: Compartment `e` sounds like an external compartment. Using this one without counting boundary reactions.\n",
      "2024-03-06 19:44:47,089 - 1263953134.py[line:20] - INFO: L-glycine: G\n",
      "2024-03-06 19:44:47,091 - model.py[line:209] - INFO: The current solver interface glpk doesn't support setting the optimality tolerance.\n",
      "2024-03-06 19:44:47,497 - boundary_types.py[line:68] - INFO: Compartment `e` sounds like an external compartment. Using this one without counting boundary reactions.\n",
      "2024-03-06 19:44:47,501 - boundary_types.py[line:68] - INFO: Compartment `e` sounds like an external compartment. Using this one without counting boundary reactions.\n",
      "2024-03-06 19:44:47,502 - 3936220034.py[line:12] - INFO: add s_3839 <=> \n",
      "2024-03-06 19:44:47,503 - model.py[line:209] - INFO: The current solver interface glpk doesn't support setting the optimality tolerance.\n"
     ]
    },
    {
     "name": "stdout",
     "output_type": "stream",
     "text": [
      "s_3839\n"
     ]
    },
    {
     "name": "stderr",
     "output_type": "stream",
     "text": [
      "2024-03-06 19:44:47,908 - boundary_types.py[line:68] - INFO: Compartment `e` sounds like an external compartment. Using this one without counting boundary reactions.\n",
      "2024-03-06 19:44:47,923 - boundary_types.py[line:68] - INFO: Compartment `e` sounds like an external compartment. Using this one without counting boundary reactions.\n",
      "2024-03-06 19:44:48,417 - 1263953134.py[line:20] - INFO: L-glycine: G\n",
      "2024-03-06 19:44:48,418 - model.py[line:209] - INFO: The current solver interface glpk doesn't support setting the optimality tolerance.\n",
      "2024-03-06 19:44:48,830 - boundary_types.py[line:68] - INFO: Compartment `e` sounds like an external compartment. Using this one without counting boundary reactions.\n",
      "2024-03-06 19:44:48,830 - boundary_types.py[line:68] - INFO: Compartment `e` sounds like an external compartment. Using this one without counting boundary reactions.\n",
      "2024-03-06 19:44:48,830 - 3936220034.py[line:12] - INFO: add s_1009 <=> \n",
      "2024-03-06 19:44:48,830 - model.py[line:209] - INFO: The current solver interface glpk doesn't support setting the optimality tolerance.\n"
     ]
    },
    {
     "name": "stdout",
     "output_type": "stream",
     "text": [
      "s_1009\n"
     ]
    },
    {
     "name": "stderr",
     "output_type": "stream",
     "text": [
      "2024-03-06 19:44:49,263 - boundary_types.py[line:68] - INFO: Compartment `e` sounds like an external compartment. Using this one without counting boundary reactions.\n",
      "2024-03-06 19:44:49,284 - boundary_types.py[line:68] - INFO: Compartment `e` sounds like an external compartment. Using this one without counting boundary reactions.\n",
      "2024-03-06 19:44:49,880 - glpk_interface.py[line:689] - DEBUG: Status undefined. GLPK status code returned by glp_simplex was 10\n",
      "c:\\Users\\13293\\APP\\anaconda\\envs\\yeast9\\lib\\site-packages\\cobra\\util\\solver.py:554: UserWarning: Solver status is 'infeasible'.\n",
      "  warn(f\"Solver status is '{status}'.\", UserWarning)\n",
      "2024-03-06 19:44:49,901 - 1263953134.py[line:20] - INFO: L-histidine: NG\n",
      "2024-03-06 19:44:49,902 - model.py[line:209] - INFO: The current solver interface glpk doesn't support setting the optimality tolerance.\n",
      "2024-03-06 19:44:50,328 - boundary_types.py[line:68] - INFO: Compartment `e` sounds like an external compartment. Using this one without counting boundary reactions.\n",
      "2024-03-06 19:44:50,335 - boundary_types.py[line:68] - INFO: Compartment `e` sounds like an external compartment. Using this one without counting boundary reactions.\n",
      "2024-03-06 19:44:50,335 - 3936220034.py[line:12] - INFO: add s_1009 <=> \n",
      "2024-03-06 19:44:50,338 - model.py[line:209] - INFO: The current solver interface glpk doesn't support setting the optimality tolerance.\n"
     ]
    },
    {
     "name": "stdout",
     "output_type": "stream",
     "text": [
      "s_1009\n"
     ]
    },
    {
     "name": "stderr",
     "output_type": "stream",
     "text": [
      "2024-03-06 19:44:50,787 - boundary_types.py[line:68] - INFO: Compartment `e` sounds like an external compartment. Using this one without counting boundary reactions.\n",
      "2024-03-06 19:44:50,802 - boundary_types.py[line:68] - INFO: Compartment `e` sounds like an external compartment. Using this one without counting boundary reactions.\n",
      "2024-03-06 19:44:50,982 - 1263953134.py[line:20] - INFO: L-histidine: NG\n",
      "2024-03-06 19:44:50,983 - model.py[line:209] - INFO: The current solver interface glpk doesn't support setting the optimality tolerance.\n",
      "2024-03-06 19:44:51,422 - boundary_types.py[line:68] - INFO: Compartment `e` sounds like an external compartment. Using this one without counting boundary reactions.\n",
      "2024-03-06 19:44:51,423 - 3936220034.py[line:5] - INFO: add s_1015 <=> \n",
      "2024-03-06 19:44:51,425 - model.py[line:209] - INFO: The current solver interface glpk doesn't support setting the optimality tolerance.\n",
      "2024-03-06 19:44:51,850 - boundary_types.py[line:68] - INFO: Compartment `e` sounds like an external compartment. Using this one without counting boundary reactions.\n",
      "2024-03-06 19:44:51,864 - boundary_types.py[line:68] - INFO: Compartment `e` sounds like an external compartment. Using this one without counting boundary reactions.\n",
      "2024-03-06 19:44:52,405 - 1263953134.py[line:20] - INFO: L-homoserine: G\n",
      "2024-03-06 19:44:52,406 - model.py[line:209] - INFO: The current solver interface glpk doesn't support setting the optimality tolerance.\n",
      "2024-03-06 19:44:52,813 - boundary_types.py[line:68] - INFO: Compartment `e` sounds like an external compartment. Using this one without counting boundary reactions.\n",
      "2024-03-06 19:44:52,813 - 3936220034.py[line:5] - INFO: add s_1015 <=> \n",
      "2024-03-06 19:44:52,813 - model.py[line:209] - INFO: The current solver interface glpk doesn't support setting the optimality tolerance.\n",
      "2024-03-06 19:44:53,221 - boundary_types.py[line:68] - INFO: Compartment `e` sounds like an external compartment. Using this one without counting boundary reactions.\n",
      "2024-03-06 19:44:53,233 - boundary_types.py[line:68] - INFO: Compartment `e` sounds like an external compartment. Using this one without counting boundary reactions.\n",
      "2024-03-06 19:44:53,789 - 1263953134.py[line:20] - INFO: L-homoserine: G\n",
      "2024-03-06 19:44:53,790 - model.py[line:209] - INFO: The current solver interface glpk doesn't support setting the optimality tolerance.\n",
      "2024-03-06 19:44:54,192 - boundary_types.py[line:68] - INFO: Compartment `e` sounds like an external compartment. Using this one without counting boundary reactions.\n",
      "2024-03-06 19:44:54,197 - boundary_types.py[line:68] - INFO: Compartment `e` sounds like an external compartment. Using this one without counting boundary reactions.\n",
      "2024-03-06 19:44:54,198 - 3936220034.py[line:12] - INFO: add s_1019 <=> \n",
      "2024-03-06 19:44:54,199 - model.py[line:209] - INFO: The current solver interface glpk doesn't support setting the optimality tolerance.\n"
     ]
    },
    {
     "name": "stdout",
     "output_type": "stream",
     "text": [
      "s_1019\n"
     ]
    },
    {
     "name": "stderr",
     "output_type": "stream",
     "text": [
      "2024-03-06 19:44:54,609 - boundary_types.py[line:68] - INFO: Compartment `e` sounds like an external compartment. Using this one without counting boundary reactions.\n",
      "2024-03-06 19:44:54,623 - boundary_types.py[line:68] - INFO: Compartment `e` sounds like an external compartment. Using this one without counting boundary reactions.\n",
      "2024-03-06 19:44:55,116 - 1263953134.py[line:20] - INFO: L-isoleucine: NG\n",
      "2024-03-06 19:44:55,118 - model.py[line:209] - INFO: The current solver interface glpk doesn't support setting the optimality tolerance.\n",
      "2024-03-06 19:44:57,374 - boundary_types.py[line:68] - INFO: Compartment `e` sounds like an external compartment. Using this one without counting boundary reactions.\n",
      "2024-03-06 19:44:57,379 - boundary_types.py[line:68] - INFO: Compartment `e` sounds like an external compartment. Using this one without counting boundary reactions.\n",
      "2024-03-06 19:44:57,380 - 3936220034.py[line:12] - INFO: add s_1019 <=> \n",
      "2024-03-06 19:44:57,381 - model.py[line:209] - INFO: The current solver interface glpk doesn't support setting the optimality tolerance.\n"
     ]
    },
    {
     "name": "stdout",
     "output_type": "stream",
     "text": [
      "s_1019\n"
     ]
    },
    {
     "name": "stderr",
     "output_type": "stream",
     "text": [
      "2024-03-06 19:44:57,784 - boundary_types.py[line:68] - INFO: Compartment `e` sounds like an external compartment. Using this one without counting boundary reactions.\n",
      "2024-03-06 19:44:57,798 - boundary_types.py[line:68] - INFO: Compartment `e` sounds like an external compartment. Using this one without counting boundary reactions.\n",
      "2024-03-06 19:44:58,361 - 1263953134.py[line:20] - INFO: L-isoleucine: G\n",
      "2024-03-06 19:44:58,363 - model.py[line:209] - INFO: The current solver interface glpk doesn't support setting the optimality tolerance.\n",
      "2024-03-06 19:44:58,769 - boundary_types.py[line:68] - INFO: Compartment `e` sounds like an external compartment. Using this one without counting boundary reactions.\n",
      "2024-03-06 19:44:58,774 - boundary_types.py[line:68] - INFO: Compartment `e` sounds like an external compartment. Using this one without counting boundary reactions.\n",
      "2024-03-06 19:44:58,775 - 3936220034.py[line:12] - INFO: add s_1024 <=> \n",
      "2024-03-06 19:44:58,777 - model.py[line:209] - INFO: The current solver interface glpk doesn't support setting the optimality tolerance.\n"
     ]
    },
    {
     "name": "stdout",
     "output_type": "stream",
     "text": [
      "s_1024\n"
     ]
    },
    {
     "name": "stderr",
     "output_type": "stream",
     "text": [
      "2024-03-06 19:44:59,184 - boundary_types.py[line:68] - INFO: Compartment `e` sounds like an external compartment. Using this one without counting boundary reactions.\n",
      "2024-03-06 19:44:59,199 - boundary_types.py[line:68] - INFO: Compartment `e` sounds like an external compartment. Using this one without counting boundary reactions.\n",
      "2024-03-06 19:44:59,539 - 1263953134.py[line:20] - INFO: L-leucine: NG\n",
      "2024-03-06 19:44:59,541 - model.py[line:209] - INFO: The current solver interface glpk doesn't support setting the optimality tolerance.\n",
      "2024-03-06 19:44:59,948 - boundary_types.py[line:68] - INFO: Compartment `e` sounds like an external compartment. Using this one without counting boundary reactions.\n",
      "2024-03-06 19:44:59,952 - boundary_types.py[line:68] - INFO: Compartment `e` sounds like an external compartment. Using this one without counting boundary reactions.\n",
      "2024-03-06 19:44:59,954 - 3936220034.py[line:12] - INFO: add s_1024 <=> \n",
      "2024-03-06 19:44:59,954 - model.py[line:209] - INFO: The current solver interface glpk doesn't support setting the optimality tolerance.\n"
     ]
    },
    {
     "name": "stdout",
     "output_type": "stream",
     "text": [
      "s_1024\n"
     ]
    },
    {
     "name": "stderr",
     "output_type": "stream",
     "text": [
      "2024-03-06 19:45:00,371 - boundary_types.py[line:68] - INFO: Compartment `e` sounds like an external compartment. Using this one without counting boundary reactions.\n",
      "2024-03-06 19:45:00,386 - boundary_types.py[line:68] - INFO: Compartment `e` sounds like an external compartment. Using this one without counting boundary reactions.\n",
      "2024-03-06 19:45:00,883 - 1263953134.py[line:20] - INFO: L-leucine: G\n",
      "2024-03-06 19:45:00,884 - model.py[line:209] - INFO: The current solver interface glpk doesn't support setting the optimality tolerance.\n",
      "2024-03-06 19:45:01,308 - boundary_types.py[line:68] - INFO: Compartment `e` sounds like an external compartment. Using this one without counting boundary reactions.\n",
      "2024-03-06 19:45:01,313 - boundary_types.py[line:68] - INFO: Compartment `e` sounds like an external compartment. Using this one without counting boundary reactions.\n",
      "2024-03-06 19:45:01,314 - 3936220034.py[line:12] - INFO: add s_1028 <=> \n",
      "2024-03-06 19:45:01,315 - model.py[line:209] - INFO: The current solver interface glpk doesn't support setting the optimality tolerance.\n"
     ]
    },
    {
     "name": "stdout",
     "output_type": "stream",
     "text": [
      "s_1028\n"
     ]
    },
    {
     "name": "stderr",
     "output_type": "stream",
     "text": [
      "2024-03-06 19:45:01,731 - boundary_types.py[line:68] - INFO: Compartment `e` sounds like an external compartment. Using this one without counting boundary reactions.\n",
      "2024-03-06 19:45:01,744 - boundary_types.py[line:68] - INFO: Compartment `e` sounds like an external compartment. Using this one without counting boundary reactions.\n",
      "2024-03-06 19:45:02,312 - glpk_interface.py[line:689] - DEBUG: Status undefined. GLPK status code returned by glp_simplex was 10\n",
      "c:\\Users\\13293\\APP\\anaconda\\envs\\yeast9\\lib\\site-packages\\cobra\\util\\solver.py:554: UserWarning: Solver status is 'infeasible'.\n",
      "  warn(f\"Solver status is '{status}'.\", UserWarning)\n",
      "2024-03-06 19:45:02,333 - 1263953134.py[line:20] - INFO: L-lysine: NG\n",
      "2024-03-06 19:45:02,335 - model.py[line:209] - INFO: The current solver interface glpk doesn't support setting the optimality tolerance.\n",
      "2024-03-06 19:45:02,749 - boundary_types.py[line:68] - INFO: Compartment `e` sounds like an external compartment. Using this one without counting boundary reactions.\n",
      "2024-03-06 19:45:02,754 - boundary_types.py[line:68] - INFO: Compartment `e` sounds like an external compartment. Using this one without counting boundary reactions.\n",
      "2024-03-06 19:45:02,756 - 3936220034.py[line:12] - INFO: add s_1028 <=> \n",
      "2024-03-06 19:45:02,757 - model.py[line:209] - INFO: The current solver interface glpk doesn't support setting the optimality tolerance.\n"
     ]
    },
    {
     "name": "stdout",
     "output_type": "stream",
     "text": [
      "s_1028\n"
     ]
    },
    {
     "name": "stderr",
     "output_type": "stream",
     "text": [
      "2024-03-06 19:45:03,168 - boundary_types.py[line:68] - INFO: Compartment `e` sounds like an external compartment. Using this one without counting boundary reactions.\n",
      "2024-03-06 19:45:03,182 - boundary_types.py[line:68] - INFO: Compartment `e` sounds like an external compartment. Using this one without counting boundary reactions.\n",
      "2024-03-06 19:45:03,356 - 1263953134.py[line:20] - INFO: L-lysine: NG\n",
      "2024-03-06 19:45:03,358 - model.py[line:209] - INFO: The current solver interface glpk doesn't support setting the optimality tolerance.\n",
      "2024-03-06 19:45:03,774 - boundary_types.py[line:68] - INFO: Compartment `e` sounds like an external compartment. Using this one without counting boundary reactions.\n",
      "2024-03-06 19:45:03,778 - boundary_types.py[line:68] - INFO: Compartment `e` sounds like an external compartment. Using this one without counting boundary reactions.\n",
      "2024-03-06 19:45:03,780 - 3936220034.py[line:12] - INFO: add s_3758 <=> \n",
      "2024-03-06 19:45:03,781 - model.py[line:209] - INFO: The current solver interface glpk doesn't support setting the optimality tolerance.\n"
     ]
    },
    {
     "name": "stdout",
     "output_type": "stream",
     "text": [
      "s_3758\n"
     ]
    },
    {
     "name": "stderr",
     "output_type": "stream",
     "text": [
      "2024-03-06 19:45:04,196 - boundary_types.py[line:68] - INFO: Compartment `e` sounds like an external compartment. Using this one without counting boundary reactions.\n",
      "2024-03-06 19:45:04,210 - boundary_types.py[line:68] - INFO: Compartment `e` sounds like an external compartment. Using this one without counting boundary reactions.\n",
      "2024-03-06 19:45:04,796 - glpk_interface.py[line:689] - DEBUG: Status undefined. GLPK status code returned by glp_simplex was 10\n",
      "c:\\Users\\13293\\APP\\anaconda\\envs\\yeast9\\lib\\site-packages\\cobra\\util\\solver.py:554: UserWarning: Solver status is 'infeasible'.\n",
      "  warn(f\"Solver status is '{status}'.\", UserWarning)\n",
      "2024-03-06 19:45:04,814 - 1263953134.py[line:20] - INFO: L-methionine: NG\n",
      "2024-03-06 19:45:04,816 - model.py[line:209] - INFO: The current solver interface glpk doesn't support setting the optimality tolerance.\n",
      "2024-03-06 19:45:05,233 - boundary_types.py[line:68] - INFO: Compartment `e` sounds like an external compartment. Using this one without counting boundary reactions.\n",
      "2024-03-06 19:45:05,239 - boundary_types.py[line:68] - INFO: Compartment `e` sounds like an external compartment. Using this one without counting boundary reactions.\n",
      "2024-03-06 19:45:05,239 - 3936220034.py[line:12] - INFO: add s_3758 <=> \n",
      "2024-03-06 19:45:05,240 - model.py[line:209] - INFO: The current solver interface glpk doesn't support setting the optimality tolerance.\n"
     ]
    },
    {
     "name": "stdout",
     "output_type": "stream",
     "text": [
      "s_3758\n"
     ]
    },
    {
     "name": "stderr",
     "output_type": "stream",
     "text": [
      "2024-03-06 19:45:05,658 - boundary_types.py[line:68] - INFO: Compartment `e` sounds like an external compartment. Using this one without counting boundary reactions.\n",
      "2024-03-06 19:45:05,672 - boundary_types.py[line:68] - INFO: Compartment `e` sounds like an external compartment. Using this one without counting boundary reactions.\n",
      "2024-03-06 19:45:06,167 - 1263953134.py[line:20] - INFO: L-methionine: G\n",
      "2024-03-06 19:45:06,168 - model.py[line:209] - INFO: The current solver interface glpk doesn't support setting the optimality tolerance.\n",
      "2024-03-06 19:45:06,575 - boundary_types.py[line:68] - INFO: Compartment `e` sounds like an external compartment. Using this one without counting boundary reactions.\n",
      "2024-03-06 19:45:06,579 - boundary_types.py[line:68] - INFO: Compartment `e` sounds like an external compartment. Using this one without counting boundary reactions.\n",
      "2024-03-06 19:45:06,581 - 3936220034.py[line:12] - INFO: add s_3758 <=> \n",
      "2024-03-06 19:45:06,582 - model.py[line:209] - INFO: The current solver interface glpk doesn't support setting the optimality tolerance.\n"
     ]
    },
    {
     "name": "stdout",
     "output_type": "stream",
     "text": [
      "s_3758\n"
     ]
    },
    {
     "name": "stderr",
     "output_type": "stream",
     "text": [
      "2024-03-06 19:45:07,019 - boundary_types.py[line:68] - INFO: Compartment `e` sounds like an external compartment. Using this one without counting boundary reactions.\n",
      "2024-03-06 19:45:07,034 - boundary_types.py[line:68] - INFO: Compartment `e` sounds like an external compartment. Using this one without counting boundary reactions.\n",
      "2024-03-06 19:45:07,544 - 1263953134.py[line:20] - INFO: L-methionine: G\n",
      "2024-03-06 19:45:07,546 - model.py[line:209] - INFO: The current solver interface glpk doesn't support setting the optimality tolerance.\n",
      "2024-03-06 19:45:09,764 - boundary_types.py[line:68] - INFO: Compartment `e` sounds like an external compartment. Using this one without counting boundary reactions.\n",
      "2024-03-06 19:45:09,769 - boundary_types.py[line:68] - INFO: Compartment `e` sounds like an external compartment. Using this one without counting boundary reactions.\n",
      "2024-03-06 19:45:09,770 - 3936220034.py[line:12] - INFO: add s_1034 <=> \n",
      "2024-03-06 19:45:09,771 - model.py[line:209] - INFO: The current solver interface glpk doesn't support setting the optimality tolerance.\n"
     ]
    },
    {
     "name": "stdout",
     "output_type": "stream",
     "text": [
      "s_1034\n"
     ]
    },
    {
     "name": "stderr",
     "output_type": "stream",
     "text": [
      "2024-03-06 19:45:10,190 - boundary_types.py[line:68] - INFO: Compartment `e` sounds like an external compartment. Using this one without counting boundary reactions.\n",
      "2024-03-06 19:45:10,205 - boundary_types.py[line:68] - INFO: Compartment `e` sounds like an external compartment. Using this one without counting boundary reactions.\n",
      "2024-03-06 19:45:10,711 - glpk_interface.py[line:689] - DEBUG: Status undefined. GLPK status code returned by glp_simplex was 10\n",
      "c:\\Users\\13293\\APP\\anaconda\\envs\\yeast9\\lib\\site-packages\\cobra\\util\\solver.py:554: UserWarning: Solver status is 'infeasible'.\n",
      "  warn(f\"Solver status is '{status}'.\", UserWarning)\n",
      "2024-03-06 19:45:10,729 - 1263953134.py[line:20] - INFO: L-phenylalanine: NG\n",
      "2024-03-06 19:45:10,731 - model.py[line:209] - INFO: The current solver interface glpk doesn't support setting the optimality tolerance.\n",
      "2024-03-06 19:45:11,132 - boundary_types.py[line:68] - INFO: Compartment `e` sounds like an external compartment. Using this one without counting boundary reactions.\n",
      "2024-03-06 19:45:11,138 - boundary_types.py[line:68] - INFO: Compartment `e` sounds like an external compartment. Using this one without counting boundary reactions.\n",
      "2024-03-06 19:45:11,138 - 3936220034.py[line:12] - INFO: add s_1034 <=> \n",
      "2024-03-06 19:45:11,139 - model.py[line:209] - INFO: The current solver interface glpk doesn't support setting the optimality tolerance.\n"
     ]
    },
    {
     "name": "stdout",
     "output_type": "stream",
     "text": [
      "s_1034\n"
     ]
    },
    {
     "name": "stderr",
     "output_type": "stream",
     "text": [
      "2024-03-06 19:45:11,563 - boundary_types.py[line:68] - INFO: Compartment `e` sounds like an external compartment. Using this one without counting boundary reactions.\n",
      "2024-03-06 19:45:11,577 - boundary_types.py[line:68] - INFO: Compartment `e` sounds like an external compartment. Using this one without counting boundary reactions.\n",
      "2024-03-06 19:45:11,763 - 1263953134.py[line:20] - INFO: L-phenylalanine: NG\n",
      "2024-03-06 19:45:11,765 - model.py[line:209] - INFO: The current solver interface glpk doesn't support setting the optimality tolerance.\n",
      "2024-03-06 19:45:12,167 - boundary_types.py[line:68] - INFO: Compartment `e` sounds like an external compartment. Using this one without counting boundary reactions.\n",
      "2024-03-06 19:45:12,172 - boundary_types.py[line:68] - INFO: Compartment `e` sounds like an external compartment. Using this one without counting boundary reactions.\n",
      "2024-03-06 19:45:12,174 - 3936220034.py[line:12] - INFO: add s_1037 <=> \n",
      "2024-03-06 19:45:12,175 - model.py[line:209] - INFO: The current solver interface glpk doesn't support setting the optimality tolerance.\n"
     ]
    },
    {
     "name": "stdout",
     "output_type": "stream",
     "text": [
      "s_1037\n"
     ]
    },
    {
     "name": "stderr",
     "output_type": "stream",
     "text": [
      "2024-03-06 19:45:12,580 - boundary_types.py[line:68] - INFO: Compartment `e` sounds like an external compartment. Using this one without counting boundary reactions.\n",
      "2024-03-06 19:45:12,594 - boundary_types.py[line:68] - INFO: Compartment `e` sounds like an external compartment. Using this one without counting boundary reactions.\n",
      "2024-03-06 19:45:13,149 - 1263953134.py[line:20] - INFO: L-proline: G\n",
      "2024-03-06 19:45:13,149 - model.py[line:209] - INFO: The current solver interface glpk doesn't support setting the optimality tolerance.\n",
      "2024-03-06 19:45:13,546 - boundary_types.py[line:68] - INFO: Compartment `e` sounds like an external compartment. Using this one without counting boundary reactions.\n",
      "2024-03-06 19:45:13,546 - boundary_types.py[line:68] - INFO: Compartment `e` sounds like an external compartment. Using this one without counting boundary reactions.\n",
      "2024-03-06 19:45:13,546 - 3936220034.py[line:12] - INFO: add s_1037 <=> \n",
      "2024-03-06 19:45:13,546 - model.py[line:209] - INFO: The current solver interface glpk doesn't support setting the optimality tolerance.\n"
     ]
    },
    {
     "name": "stdout",
     "output_type": "stream",
     "text": [
      "s_1037\n"
     ]
    },
    {
     "name": "stderr",
     "output_type": "stream",
     "text": [
      "2024-03-06 19:45:13,965 - boundary_types.py[line:68] - INFO: Compartment `e` sounds like an external compartment. Using this one without counting boundary reactions.\n",
      "2024-03-06 19:45:13,978 - boundary_types.py[line:68] - INFO: Compartment `e` sounds like an external compartment. Using this one without counting boundary reactions.\n",
      "2024-03-06 19:45:14,559 - 1263953134.py[line:20] - INFO: L-proline: G\n",
      "2024-03-06 19:45:14,560 - model.py[line:209] - INFO: The current solver interface glpk doesn't support setting the optimality tolerance.\n",
      "2024-03-06 19:45:14,978 - boundary_types.py[line:68] - INFO: Compartment `e` sounds like an external compartment. Using this one without counting boundary reactions.\n",
      "2024-03-06 19:45:14,984 - boundary_types.py[line:68] - INFO: Compartment `e` sounds like an external compartment. Using this one without counting boundary reactions.\n",
      "2024-03-06 19:45:14,984 - 3936220034.py[line:12] - INFO: add s_3107 <=> \n",
      "2024-03-06 19:45:14,985 - model.py[line:209] - INFO: The current solver interface glpk doesn't support setting the optimality tolerance.\n"
     ]
    },
    {
     "name": "stdout",
     "output_type": "stream",
     "text": [
      "s_3107\n"
     ]
    },
    {
     "name": "stderr",
     "output_type": "stream",
     "text": [
      "2024-03-06 19:45:15,417 - boundary_types.py[line:68] - INFO: Compartment `e` sounds like an external compartment. Using this one without counting boundary reactions.\n",
      "2024-03-06 19:45:15,433 - boundary_types.py[line:68] - INFO: Compartment `e` sounds like an external compartment. Using this one without counting boundary reactions.\n",
      "2024-03-06 19:45:15,952 - 1263953134.py[line:20] - INFO: L-serine: G\n",
      "2024-03-06 19:45:15,953 - model.py[line:209] - INFO: The current solver interface glpk doesn't support setting the optimality tolerance.\n",
      "2024-03-06 19:45:16,359 - boundary_types.py[line:68] - INFO: Compartment `e` sounds like an external compartment. Using this one without counting boundary reactions.\n",
      "2024-03-06 19:45:16,364 - boundary_types.py[line:68] - INFO: Compartment `e` sounds like an external compartment. Using this one without counting boundary reactions.\n",
      "2024-03-06 19:45:16,365 - 3936220034.py[line:12] - INFO: add s_3107 <=> \n",
      "2024-03-06 19:45:16,367 - model.py[line:209] - INFO: The current solver interface glpk doesn't support setting the optimality tolerance.\n"
     ]
    },
    {
     "name": "stdout",
     "output_type": "stream",
     "text": [
      "s_3107\n"
     ]
    },
    {
     "name": "stderr",
     "output_type": "stream",
     "text": [
      "2024-03-06 19:45:16,770 - boundary_types.py[line:68] - INFO: Compartment `e` sounds like an external compartment. Using this one without counting boundary reactions.\n",
      "2024-03-06 19:45:16,779 - boundary_types.py[line:68] - INFO: Compartment `e` sounds like an external compartment. Using this one without counting boundary reactions.\n",
      "2024-03-06 19:45:17,362 - 1263953134.py[line:20] - INFO: L-serine: G\n",
      "2024-03-06 19:45:17,364 - model.py[line:209] - INFO: The current solver interface glpk doesn't support setting the optimality tolerance.\n",
      "2024-03-06 19:45:17,770 - boundary_types.py[line:68] - INFO: Compartment `e` sounds like an external compartment. Using this one without counting boundary reactions.\n",
      "2024-03-06 19:45:17,771 - 3936220034.py[line:5] - INFO: add s_1044 <=> \n",
      "2024-03-06 19:45:17,772 - model.py[line:209] - INFO: The current solver interface glpk doesn't support setting the optimality tolerance.\n",
      "2024-03-06 19:45:18,188 - boundary_types.py[line:68] - INFO: Compartment `e` sounds like an external compartment. Using this one without counting boundary reactions.\n",
      "2024-03-06 19:45:18,201 - boundary_types.py[line:68] - INFO: Compartment `e` sounds like an external compartment. Using this one without counting boundary reactions.\n",
      "2024-03-06 19:45:18,739 - glpk_interface.py[line:689] - DEBUG: Status undefined. GLPK status code returned by glp_simplex was 10\n",
      "c:\\Users\\13293\\APP\\anaconda\\envs\\yeast9\\lib\\site-packages\\cobra\\util\\solver.py:554: UserWarning: Solver status is 'infeasible'.\n",
      "  warn(f\"Solver status is '{status}'.\", UserWarning)\n",
      "2024-03-06 19:45:18,758 - 1263953134.py[line:20] - INFO: L-sorbose: NG\n",
      "2024-03-06 19:45:18,759 - model.py[line:209] - INFO: The current solver interface glpk doesn't support setting the optimality tolerance.\n",
      "2024-03-06 19:45:19,175 - boundary_types.py[line:68] - INFO: Compartment `e` sounds like an external compartment. Using this one without counting boundary reactions.\n",
      "2024-03-06 19:45:19,181 - boundary_types.py[line:68] - INFO: Compartment `e` sounds like an external compartment. Using this one without counting boundary reactions.\n",
      "2024-03-06 19:45:19,182 - 3936220034.py[line:12] - INFO: add s_4043 <=> \n",
      "2024-03-06 19:45:19,183 - model.py[line:209] - INFO: The current solver interface glpk doesn't support setting the optimality tolerance.\n"
     ]
    },
    {
     "name": "stdout",
     "output_type": "stream",
     "text": [
      "s_4043\n"
     ]
    },
    {
     "name": "stderr",
     "output_type": "stream",
     "text": [
      "2024-03-06 19:45:19,595 - boundary_types.py[line:68] - INFO: Compartment `e` sounds like an external compartment. Using this one without counting boundary reactions.\n",
      "2024-03-06 19:45:19,610 - boundary_types.py[line:68] - INFO: Compartment `e` sounds like an external compartment. Using this one without counting boundary reactions.\n",
      "2024-03-06 19:45:20,320 - 1263953134.py[line:20] - INFO: L-threonine: G\n",
      "2024-03-06 19:45:20,321 - model.py[line:209] - INFO: The current solver interface glpk doesn't support setting the optimality tolerance.\n",
      "2024-03-06 19:45:22,580 - boundary_types.py[line:68] - INFO: Compartment `e` sounds like an external compartment. Using this one without counting boundary reactions.\n",
      "2024-03-06 19:45:22,585 - boundary_types.py[line:68] - INFO: Compartment `e` sounds like an external compartment. Using this one without counting boundary reactions.\n",
      "2024-03-06 19:45:22,586 - 3936220034.py[line:12] - INFO: add s_4043 <=> \n",
      "2024-03-06 19:45:22,587 - model.py[line:209] - INFO: The current solver interface glpk doesn't support setting the optimality tolerance.\n"
     ]
    },
    {
     "name": "stdout",
     "output_type": "stream",
     "text": [
      "s_4043\n"
     ]
    },
    {
     "name": "stderr",
     "output_type": "stream",
     "text": [
      "2024-03-06 19:45:22,996 - boundary_types.py[line:68] - INFO: Compartment `e` sounds like an external compartment. Using this one without counting boundary reactions.\n",
      "2024-03-06 19:45:23,011 - boundary_types.py[line:68] - INFO: Compartment `e` sounds like an external compartment. Using this one without counting boundary reactions.\n",
      "2024-03-06 19:45:23,594 - 1263953134.py[line:20] - INFO: L-threonine: G\n",
      "2024-03-06 19:45:23,596 - model.py[line:209] - INFO: The current solver interface glpk doesn't support setting the optimality tolerance.\n",
      "2024-03-06 19:45:24,011 - boundary_types.py[line:68] - INFO: Compartment `e` sounds like an external compartment. Using this one without counting boundary reactions.\n",
      "2024-03-06 19:45:24,017 - boundary_types.py[line:68] - INFO: Compartment `e` sounds like an external compartment. Using this one without counting boundary reactions.\n",
      "2024-03-06 19:45:24,018 - 3936220034.py[line:12] - INFO: add s_1050 <=> \n",
      "2024-03-06 19:45:24,019 - model.py[line:209] - INFO: The current solver interface glpk doesn't support setting the optimality tolerance.\n"
     ]
    },
    {
     "name": "stdout",
     "output_type": "stream",
     "text": [
      "s_1050\n"
     ]
    },
    {
     "name": "stderr",
     "output_type": "stream",
     "text": [
      "2024-03-06 19:45:24,437 - boundary_types.py[line:68] - INFO: Compartment `e` sounds like an external compartment. Using this one without counting boundary reactions.\n",
      "2024-03-06 19:45:24,452 - boundary_types.py[line:68] - INFO: Compartment `e` sounds like an external compartment. Using this one without counting boundary reactions.\n",
      "2024-03-06 19:45:24,819 - 1263953134.py[line:20] - INFO: L-tryptophan: NG\n",
      "2024-03-06 19:45:24,820 - model.py[line:209] - INFO: The current solver interface glpk doesn't support setting the optimality tolerance.\n",
      "2024-03-06 19:45:25,228 - boundary_types.py[line:68] - INFO: Compartment `e` sounds like an external compartment. Using this one without counting boundary reactions.\n",
      "2024-03-06 19:45:25,232 - boundary_types.py[line:68] - INFO: Compartment `e` sounds like an external compartment. Using this one without counting boundary reactions.\n",
      "2024-03-06 19:45:25,232 - 3936220034.py[line:12] - INFO: add s_1055 <=> \n",
      "2024-03-06 19:45:25,232 - model.py[line:209] - INFO: The current solver interface glpk doesn't support setting the optimality tolerance.\n"
     ]
    },
    {
     "name": "stdout",
     "output_type": "stream",
     "text": [
      "s_1055\n"
     ]
    },
    {
     "name": "stderr",
     "output_type": "stream",
     "text": [
      "2024-03-06 19:45:25,645 - boundary_types.py[line:68] - INFO: Compartment `e` sounds like an external compartment. Using this one without counting boundary reactions.\n",
      "2024-03-06 19:45:25,662 - boundary_types.py[line:68] - INFO: Compartment `e` sounds like an external compartment. Using this one without counting boundary reactions.\n",
      "2024-03-06 19:45:26,171 - 1263953134.py[line:20] - INFO: L-tyrosine: G\n",
      "2024-03-06 19:45:26,173 - model.py[line:209] - INFO: The current solver interface glpk doesn't support setting the optimality tolerance.\n",
      "2024-03-06 19:45:26,586 - boundary_types.py[line:68] - INFO: Compartment `e` sounds like an external compartment. Using this one without counting boundary reactions.\n",
      "2024-03-06 19:45:26,591 - boundary_types.py[line:68] - INFO: Compartment `e` sounds like an external compartment. Using this one without counting boundary reactions.\n",
      "2024-03-06 19:45:26,592 - 3936220034.py[line:12] - INFO: add s_1058 <=> \n",
      "2024-03-06 19:45:26,592 - model.py[line:209] - INFO: The current solver interface glpk doesn't support setting the optimality tolerance.\n"
     ]
    },
    {
     "name": "stdout",
     "output_type": "stream",
     "text": [
      "s_1058\n"
     ]
    },
    {
     "name": "stderr",
     "output_type": "stream",
     "text": [
      "2024-03-06 19:45:27,022 - boundary_types.py[line:68] - INFO: Compartment `e` sounds like an external compartment. Using this one without counting boundary reactions.\n",
      "2024-03-06 19:45:27,037 - boundary_types.py[line:68] - INFO: Compartment `e` sounds like an external compartment. Using this one without counting boundary reactions.\n",
      "2024-03-06 19:45:27,372 - 1263953134.py[line:20] - INFO: L-valine: NG\n",
      "2024-03-06 19:45:27,374 - model.py[line:209] - INFO: The current solver interface glpk doesn't support setting the optimality tolerance.\n",
      "2024-03-06 19:45:27,782 - boundary_types.py[line:68] - INFO: Compartment `e` sounds like an external compartment. Using this one without counting boundary reactions.\n",
      "2024-03-06 19:45:27,787 - boundary_types.py[line:68] - INFO: Compartment `e` sounds like an external compartment. Using this one without counting boundary reactions.\n",
      "2024-03-06 19:45:27,788 - 3936220034.py[line:12] - INFO: add s_1058 <=> \n",
      "2024-03-06 19:45:27,790 - model.py[line:209] - INFO: The current solver interface glpk doesn't support setting the optimality tolerance.\n"
     ]
    },
    {
     "name": "stdout",
     "output_type": "stream",
     "text": [
      "s_1058\n"
     ]
    },
    {
     "name": "stderr",
     "output_type": "stream",
     "text": [
      "2024-03-06 19:45:28,228 - boundary_types.py[line:68] - INFO: Compartment `e` sounds like an external compartment. Using this one without counting boundary reactions.\n",
      "2024-03-06 19:45:28,243 - boundary_types.py[line:68] - INFO: Compartment `e` sounds like an external compartment. Using this one without counting boundary reactions.\n",
      "2024-03-06 19:45:28,728 - 1263953134.py[line:20] - INFO: L-valine: G\n",
      "2024-03-06 19:45:28,728 - model.py[line:209] - INFO: The current solver interface glpk doesn't support setting the optimality tolerance.\n",
      "2024-03-06 19:45:29,168 - boundary_types.py[line:68] - INFO: Compartment `e` sounds like an external compartment. Using this one without counting boundary reactions.\n",
      "2024-03-06 19:45:29,172 - boundary_types.py[line:68] - INFO: Compartment `e` sounds like an external compartment. Using this one without counting boundary reactions.\n",
      "2024-03-06 19:45:29,173 - 3936220034.py[line:12] - INFO: add s_4175 <=> \n",
      "2024-03-06 19:45:29,174 - model.py[line:209] - INFO: The current solver interface glpk doesn't support setting the optimality tolerance.\n"
     ]
    },
    {
     "name": "stdout",
     "output_type": "stream",
     "text": [
      "s_4175\n"
     ]
    },
    {
     "name": "stderr",
     "output_type": "stream",
     "text": [
      "2024-03-06 19:45:29,596 - boundary_types.py[line:68] - INFO: Compartment `e` sounds like an external compartment. Using this one without counting boundary reactions.\n",
      "2024-03-06 19:45:29,609 - boundary_types.py[line:68] - INFO: Compartment `e` sounds like an external compartment. Using this one without counting boundary reactions.\n",
      "2024-03-06 19:45:29,848 - 1263953134.py[line:20] - INFO: lipoamide: NG\n",
      "2024-03-06 19:45:29,850 - model.py[line:209] - INFO: The current solver interface glpk doesn't support setting the optimality tolerance.\n",
      "2024-03-06 19:45:30,251 - boundary_types.py[line:68] - INFO: Compartment `e` sounds like an external compartment. Using this one without counting boundary reactions.\n",
      "2024-03-06 19:45:30,253 - 3936220034.py[line:5] - INFO: add s_1106 <=> \n",
      "2024-03-06 19:45:30,254 - model.py[line:209] - INFO: The current solver interface glpk doesn't support setting the optimality tolerance.\n",
      "2024-03-06 19:45:30,666 - boundary_types.py[line:68] - INFO: Compartment `e` sounds like an external compartment. Using this one without counting boundary reactions.\n",
      "2024-03-06 19:45:30,679 - boundary_types.py[line:68] - INFO: Compartment `e` sounds like an external compartment. Using this one without counting boundary reactions.\n",
      "2024-03-06 19:45:31,228 - 1263953134.py[line:20] - INFO: maltose: G\n",
      "2024-03-06 19:45:31,230 - model.py[line:209] - INFO: The current solver interface glpk doesn't support setting the optimality tolerance.\n",
      "2024-03-06 19:45:31,639 - boundary_types.py[line:68] - INFO: Compartment `e` sounds like an external compartment. Using this one without counting boundary reactions.\n",
      "2024-03-06 19:45:31,644 - boundary_types.py[line:68] - INFO: Compartment `e` sounds like an external compartment. Using this one without counting boundary reactions.\n",
      "2024-03-06 19:45:31,646 - 3936220034.py[line:12] - INFO: add s_1108 <=> \n",
      "2024-03-06 19:45:31,647 - model.py[line:209] - INFO: The current solver interface glpk doesn't support setting the optimality tolerance.\n"
     ]
    },
    {
     "name": "stdout",
     "output_type": "stream",
     "text": [
      "s_1108\n"
     ]
    },
    {
     "name": "stderr",
     "output_type": "stream",
     "text": [
      "2024-03-06 19:45:32,063 - boundary_types.py[line:68] - INFO: Compartment `e` sounds like an external compartment. Using this one without counting boundary reactions.\n",
      "2024-03-06 19:45:32,076 - boundary_types.py[line:68] - INFO: Compartment `e` sounds like an external compartment. Using this one without counting boundary reactions.\n",
      "2024-03-06 19:45:32,660 - glpk_interface.py[line:689] - DEBUG: Status undefined. GLPK status code returned by glp_simplex was 10\n",
      "c:\\Users\\13293\\APP\\anaconda\\envs\\yeast9\\lib\\site-packages\\cobra\\util\\solver.py:554: UserWarning: Solver status is 'infeasible'.\n",
      "  warn(f\"Solver status is '{status}'.\", UserWarning)\n",
      "2024-03-06 19:45:32,678 - 1263953134.py[line:20] - INFO: mannan: NG\n",
      "2024-03-06 19:45:32,680 - model.py[line:209] - INFO: The current solver interface glpk doesn't support setting the optimality tolerance.\n",
      "2024-03-06 19:45:33,089 - boundary_types.py[line:68] - INFO: Compartment `e` sounds like an external compartment. Using this one without counting boundary reactions.\n",
      "2024-03-06 19:45:33,094 - boundary_types.py[line:68] - INFO: Compartment `e` sounds like an external compartment. Using this one without counting boundary reactions.\n",
      "2024-03-06 19:45:33,095 - 3936220034.py[line:12] - INFO: add s_3117 <=> \n",
      "2024-03-06 19:45:33,096 - model.py[line:209] - INFO: The current solver interface glpk doesn't support setting the optimality tolerance.\n"
     ]
    },
    {
     "name": "stdout",
     "output_type": "stream",
     "text": [
      "s_3117\n"
     ]
    },
    {
     "name": "stderr",
     "output_type": "stream",
     "text": [
      "2024-03-06 19:45:35,411 - boundary_types.py[line:68] - INFO: Compartment `e` sounds like an external compartment. Using this one without counting boundary reactions.\n",
      "2024-03-06 19:45:35,426 - boundary_types.py[line:68] - INFO: Compartment `e` sounds like an external compartment. Using this one without counting boundary reactions.\n",
      "2024-03-06 19:45:35,881 - glpk_interface.py[line:689] - DEBUG: Status undefined. GLPK status code returned by glp_simplex was 10\n",
      "c:\\Users\\13293\\APP\\anaconda\\envs\\yeast9\\lib\\site-packages\\cobra\\util\\solver.py:554: UserWarning: Solver status is 'infeasible'.\n",
      "  warn(f\"Solver status is '{status}'.\", UserWarning)\n",
      "2024-03-06 19:45:35,901 - 1263953134.py[line:20] - INFO: myo-inositol: NG\n",
      "2024-03-06 19:45:35,903 - model.py[line:209] - INFO: The current solver interface glpk doesn't support setting the optimality tolerance.\n",
      "2024-03-06 19:45:36,319 - boundary_types.py[line:68] - INFO: Compartment `e` sounds like an external compartment. Using this one without counting boundary reactions.\n",
      "2024-03-06 19:45:36,319 - 3936220034.py[line:5] - INFO: add s_4149 <=> \n",
      "2024-03-06 19:45:36,321 - model.py[line:209] - INFO: The current solver interface glpk doesn't support setting the optimality tolerance.\n",
      "2024-03-06 19:45:36,732 - boundary_types.py[line:68] - INFO: Compartment `e` sounds like an external compartment. Using this one without counting boundary reactions.\n",
      "2024-03-06 19:45:36,747 - boundary_types.py[line:68] - INFO: Compartment `e` sounds like an external compartment. Using this one without counting boundary reactions.\n",
      "2024-03-06 19:45:37,056 - 1263953134.py[line:20] - INFO: myo-inositol hexakisphosphate: NG\n",
      "2024-03-06 19:45:37,057 - model.py[line:209] - INFO: The current solver interface glpk doesn't support setting the optimality tolerance.\n",
      "2024-03-06 19:45:37,467 - boundary_types.py[line:68] - INFO: Compartment `e` sounds like an external compartment. Using this one without counting boundary reactions.\n",
      "2024-03-06 19:45:37,472 - boundary_types.py[line:68] - INFO: Compartment `e` sounds like an external compartment. Using this one without counting boundary reactions.\n",
      "2024-03-06 19:45:37,473 - 3936220034.py[line:12] - INFO: add s_4173 <=> \n",
      "2024-03-06 19:45:37,474 - model.py[line:209] - INFO: The current solver interface glpk doesn't support setting the optimality tolerance.\n"
     ]
    },
    {
     "name": "stdout",
     "output_type": "stream",
     "text": [
      "s_4173\n"
     ]
    },
    {
     "name": "stderr",
     "output_type": "stream",
     "text": [
      "2024-03-06 19:45:37,895 - boundary_types.py[line:68] - INFO: Compartment `e` sounds like an external compartment. Using this one without counting boundary reactions.\n",
      "2024-03-06 19:45:37,915 - boundary_types.py[line:68] - INFO: Compartment `e` sounds like an external compartment. Using this one without counting boundary reactions.\n",
      "2024-03-06 19:45:38,424 - 1263953134.py[line:20] - INFO: N-acetyl-L-glutamate: G\n",
      "2024-03-06 19:45:38,426 - model.py[line:209] - INFO: The current solver interface glpk doesn't support setting the optimality tolerance.\n",
      "2024-03-06 19:45:38,843 - boundary_types.py[line:68] - INFO: Compartment `e` sounds like an external compartment. Using this one without counting boundary reactions.\n",
      "2024-03-06 19:45:38,848 - boundary_types.py[line:68] - INFO: Compartment `e` sounds like an external compartment. Using this one without counting boundary reactions.\n",
      "2024-03-06 19:45:38,850 - 3936220034.py[line:12] - INFO: add s_4173 <=> \n",
      "2024-03-06 19:45:38,851 - model.py[line:209] - INFO: The current solver interface glpk doesn't support setting the optimality tolerance.\n"
     ]
    },
    {
     "name": "stdout",
     "output_type": "stream",
     "text": [
      "s_4173\n"
     ]
    },
    {
     "name": "stderr",
     "output_type": "stream",
     "text": [
      "2024-03-06 19:45:39,260 - boundary_types.py[line:68] - INFO: Compartment `e` sounds like an external compartment. Using this one without counting boundary reactions.\n",
      "2024-03-06 19:45:39,273 - boundary_types.py[line:68] - INFO: Compartment `e` sounds like an external compartment. Using this one without counting boundary reactions.\n",
      "2024-03-06 19:45:39,808 - 1263953134.py[line:20] - INFO: N-acetyl-L-glutamate: G\n",
      "2024-03-06 19:45:39,809 - model.py[line:209] - INFO: The current solver interface glpk doesn't support setting the optimality tolerance.\n",
      "2024-03-06 19:45:40,211 - boundary_types.py[line:68] - INFO: Compartment `e` sounds like an external compartment. Using this one without counting boundary reactions.\n",
      "2024-03-06 19:45:40,213 - 3936220034.py[line:5] - INFO: add s_4154 <=> \n",
      "2024-03-06 19:45:40,214 - model.py[line:209] - INFO: The current solver interface glpk doesn't support setting the optimality tolerance.\n",
      "2024-03-06 19:45:40,642 - boundary_types.py[line:68] - INFO: Compartment `e` sounds like an external compartment. Using this one without counting boundary reactions.\n",
      "2024-03-06 19:45:40,657 - boundary_types.py[line:68] - INFO: Compartment `e` sounds like an external compartment. Using this one without counting boundary reactions.\n",
      "2024-03-06 19:45:41,124 - 1263953134.py[line:20] - INFO: O-phosphoethanolamine: G\n",
      "2024-03-06 19:45:41,126 - model.py[line:209] - INFO: The current solver interface glpk doesn't support setting the optimality tolerance.\n",
      "2024-03-06 19:45:41,542 - boundary_types.py[line:68] - INFO: Compartment `e` sounds like an external compartment. Using this one without counting boundary reactions.\n",
      "2024-03-06 19:45:41,548 - boundary_types.py[line:68] - INFO: Compartment `e` sounds like an external compartment. Using this one without counting boundary reactions.\n",
      "2024-03-06 19:45:41,549 - 3936220034.py[line:12] - INFO: add s_1268 <=> \n",
      "2024-03-06 19:45:41,550 - model.py[line:209] - INFO: The current solver interface glpk doesn't support setting the optimality tolerance.\n"
     ]
    },
    {
     "name": "stdout",
     "output_type": "stream",
     "text": [
      "s_1268\n"
     ]
    },
    {
     "name": "stderr",
     "output_type": "stream",
     "text": [
      "2024-03-06 19:45:41,971 - boundary_types.py[line:68] - INFO: Compartment `e` sounds like an external compartment. Using this one without counting boundary reactions.\n",
      "2024-03-06 19:45:41,985 - boundary_types.py[line:68] - INFO: Compartment `e` sounds like an external compartment. Using this one without counting boundary reactions.\n",
      "2024-03-06 19:45:42,518 - 1263953134.py[line:20] - INFO: ornithine: G\n",
      "2024-03-06 19:45:42,519 - model.py[line:209] - INFO: The current solver interface glpk doesn't support setting the optimality tolerance.\n",
      "2024-03-06 19:45:42,936 - boundary_types.py[line:68] - INFO: Compartment `e` sounds like an external compartment. Using this one without counting boundary reactions.\n",
      "2024-03-06 19:45:42,937 - 3936220034.py[line:5] - INFO: add s_1309 <=> \n",
      "2024-03-06 19:45:42,938 - model.py[line:209] - INFO: The current solver interface glpk doesn't support setting the optimality tolerance.\n",
      "2024-03-06 19:45:43,345 - boundary_types.py[line:68] - INFO: Compartment `e` sounds like an external compartment. Using this one without counting boundary reactions.\n",
      "2024-03-06 19:45:43,360 - boundary_types.py[line:68] - INFO: Compartment `e` sounds like an external compartment. Using this one without counting boundary reactions.\n",
      "2024-03-06 19:45:43,894 - glpk_interface.py[line:689] - DEBUG: Status undefined. GLPK status code returned by glp_simplex was 10\n",
      "c:\\Users\\13293\\APP\\anaconda\\envs\\yeast9\\lib\\site-packages\\cobra\\util\\solver.py:554: UserWarning: Solver status is 'infeasible'.\n",
      "  warn(f\"Solver status is '{status}'.\", UserWarning)\n",
      "2024-03-06 19:45:43,915 - 1263953134.py[line:20] - INFO: pectin: NG\n",
      "2024-03-06 19:45:43,917 - model.py[line:209] - INFO: The current solver interface glpk doesn't support setting the optimality tolerance.\n",
      "2024-03-06 19:45:44,330 - boundary_types.py[line:68] - INFO: Compartment `e` sounds like an external compartment. Using this one without counting boundary reactions.\n",
      "2024-03-06 19:45:44,335 - boundary_types.py[line:68] - INFO: Compartment `e` sounds like an external compartment. Using this one without counting boundary reactions.\n",
      "2024-03-06 19:45:44,337 - 3936220034.py[line:12] - INFO: add s_4293 <=> \n",
      "2024-03-06 19:45:44,337 - model.py[line:209] - INFO: The current solver interface glpk doesn't support setting the optimality tolerance.\n"
     ]
    },
    {
     "name": "stdout",
     "output_type": "stream",
     "text": [
      "s_4293\n"
     ]
    },
    {
     "name": "stderr",
     "output_type": "stream",
     "text": [
      "2024-03-06 19:45:44,758 - boundary_types.py[line:68] - INFO: Compartment `e` sounds like an external compartment. Using this one without counting boundary reactions.\n",
      "2024-03-06 19:45:44,773 - boundary_types.py[line:68] - INFO: Compartment `e` sounds like an external compartment. Using this one without counting boundary reactions.\n",
      "2024-03-06 19:45:45,270 - 1263953134.py[line:20] - INFO: phosphate: G\n",
      "2024-03-06 19:45:45,272 - model.py[line:209] - INFO: The current solver interface glpk doesn't support setting the optimality tolerance.\n",
      "2024-03-06 19:45:45,680 - boundary_types.py[line:68] - INFO: Compartment `e` sounds like an external compartment. Using this one without counting boundary reactions.\n",
      "2024-03-06 19:45:45,682 - 3936220034.py[line:5] - INFO: add s_4152 <=> \n",
      "2024-03-06 19:45:45,683 - model.py[line:209] - INFO: The current solver interface glpk doesn't support setting the optimality tolerance.\n",
      "2024-03-06 19:45:47,946 - boundary_types.py[line:68] - INFO: Compartment `e` sounds like an external compartment. Using this one without counting boundary reactions.\n",
      "2024-03-06 19:45:47,961 - boundary_types.py[line:68] - INFO: Compartment `e` sounds like an external compartment. Using this one without counting boundary reactions.\n",
      "2024-03-06 19:45:48,416 - 1263953134.py[line:20] - INFO: phosphoenolpyruvate: G\n",
      "2024-03-06 19:45:48,419 - model.py[line:209] - INFO: The current solver interface glpk doesn't support setting the optimality tolerance.\n",
      "2024-03-06 19:45:48,834 - boundary_types.py[line:68] - INFO: Compartment `e` sounds like an external compartment. Using this one without counting boundary reactions.\n",
      "2024-03-06 19:45:48,838 - boundary_types.py[line:68] - INFO: Compartment `e` sounds like an external compartment. Using this one without counting boundary reactions.\n",
      "2024-03-06 19:45:48,840 - 3936220034.py[line:12] - INFO: add s_1391 <=> \n",
      "2024-03-06 19:45:48,841 - model.py[line:209] - INFO: The current solver interface glpk doesn't support setting the optimality tolerance.\n"
     ]
    },
    {
     "name": "stdout",
     "output_type": "stream",
     "text": [
      "s_1391\n"
     ]
    },
    {
     "name": "stderr",
     "output_type": "stream",
     "text": [
      "2024-03-06 19:45:49,262 - boundary_types.py[line:68] - INFO: Compartment `e` sounds like an external compartment. Using this one without counting boundary reactions.\n",
      "2024-03-06 19:45:49,275 - boundary_types.py[line:68] - INFO: Compartment `e` sounds like an external compartment. Using this one without counting boundary reactions.\n",
      "2024-03-06 19:45:49,794 - glpk_interface.py[line:689] - DEBUG: Status undefined. GLPK status code returned by glp_simplex was 10\n",
      "c:\\Users\\13293\\APP\\anaconda\\envs\\yeast9\\lib\\site-packages\\cobra\\util\\solver.py:554: UserWarning: Solver status is 'infeasible'.\n",
      "  warn(f\"Solver status is '{status}'.\", UserWarning)\n",
      "2024-03-06 19:45:49,818 - 1263953134.py[line:20] - INFO: putrescine: NG\n",
      "2024-03-06 19:45:49,818 - model.py[line:209] - INFO: The current solver interface glpk doesn't support setting the optimality tolerance.\n",
      "2024-03-06 19:45:50,229 - boundary_types.py[line:68] - INFO: Compartment `e` sounds like an external compartment. Using this one without counting boundary reactions.\n",
      "2024-03-06 19:45:50,235 - boundary_types.py[line:68] - INFO: Compartment `e` sounds like an external compartment. Using this one without counting boundary reactions.\n",
      "2024-03-06 19:45:50,236 - 3936220034.py[line:12] - INFO: add s_1391 <=> \n",
      "2024-03-06 19:45:50,237 - model.py[line:209] - INFO: The current solver interface glpk doesn't support setting the optimality tolerance.\n"
     ]
    },
    {
     "name": "stdout",
     "output_type": "stream",
     "text": [
      "s_1391\n"
     ]
    },
    {
     "name": "stderr",
     "output_type": "stream",
     "text": [
      "2024-03-06 19:45:50,649 - boundary_types.py[line:68] - INFO: Compartment `e` sounds like an external compartment. Using this one without counting boundary reactions.\n",
      "2024-03-06 19:45:50,663 - boundary_types.py[line:68] - INFO: Compartment `e` sounds like an external compartment. Using this one without counting boundary reactions.\n",
      "2024-03-06 19:45:50,845 - 1263953134.py[line:20] - INFO: putrescine: NG\n",
      "2024-03-06 19:45:50,847 - model.py[line:209] - INFO: The current solver interface glpk doesn't support setting the optimality tolerance.\n",
      "2024-03-06 19:45:51,269 - boundary_types.py[line:68] - INFO: Compartment `e` sounds like an external compartment. Using this one without counting boundary reactions.\n",
      "2024-03-06 19:45:51,273 - boundary_types.py[line:68] - INFO: Compartment `e` sounds like an external compartment. Using this one without counting boundary reactions.\n",
      "2024-03-06 19:45:51,275 - 3936220034.py[line:12] - INFO: add s_1401 <=> \n",
      "2024-03-06 19:45:51,276 - model.py[line:209] - INFO: The current solver interface glpk doesn't support setting the optimality tolerance.\n"
     ]
    },
    {
     "name": "stdout",
     "output_type": "stream",
     "text": [
      "s_1401\n"
     ]
    },
    {
     "name": "stderr",
     "output_type": "stream",
     "text": [
      "2024-03-06 19:45:51,688 - boundary_types.py[line:68] - INFO: Compartment `e` sounds like an external compartment. Using this one without counting boundary reactions.\n",
      "2024-03-06 19:45:51,701 - boundary_types.py[line:68] - INFO: Compartment `e` sounds like an external compartment. Using this one without counting boundary reactions.\n",
      "2024-03-06 19:45:52,280 - 1263953134.py[line:20] - INFO: pyruvate: G\n",
      "2024-03-06 19:45:52,281 - model.py[line:209] - INFO: The current solver interface glpk doesn't support setting the optimality tolerance.\n",
      "2024-03-06 19:45:52,705 - boundary_types.py[line:68] - INFO: Compartment `e` sounds like an external compartment. Using this one without counting boundary reactions.\n",
      "2024-03-06 19:45:52,709 - boundary_types.py[line:68] - INFO: Compartment `e` sounds like an external compartment. Using this one without counting boundary reactions.\n",
      "2024-03-06 19:45:52,710 - 3936220034.py[line:12] - INFO: add s_1460 <=> \n",
      "2024-03-06 19:45:52,712 - model.py[line:209] - INFO: The current solver interface glpk doesn't support setting the optimality tolerance.\n"
     ]
    },
    {
     "name": "stdout",
     "output_type": "stream",
     "text": [
      "s_1460\n"
     ]
    },
    {
     "name": "stderr",
     "output_type": "stream",
     "text": [
      "2024-03-06 19:45:53,134 - boundary_types.py[line:68] - INFO: Compartment `e` sounds like an external compartment. Using this one without counting boundary reactions.\n",
      "2024-03-06 19:45:53,148 - boundary_types.py[line:68] - INFO: Compartment `e` sounds like an external compartment. Using this one without counting boundary reactions.\n",
      "2024-03-06 19:45:53,721 - 1263953134.py[line:20] - INFO: succinate: G\n",
      "2024-03-06 19:45:53,723 - model.py[line:209] - INFO: The current solver interface glpk doesn't support setting the optimality tolerance.\n",
      "2024-03-06 19:45:54,134 - boundary_types.py[line:68] - INFO: Compartment `e` sounds like an external compartment. Using this one without counting boundary reactions.\n",
      "2024-03-06 19:45:54,138 - boundary_types.py[line:68] - INFO: Compartment `e` sounds like an external compartment. Using this one without counting boundary reactions.\n",
      "2024-03-06 19:45:54,140 - 3936220034.py[line:12] - INFO: add s_3998 <=> \n",
      "2024-03-06 19:45:54,140 - model.py[line:209] - INFO: The current solver interface glpk doesn't support setting the optimality tolerance.\n"
     ]
    },
    {
     "name": "stdout",
     "output_type": "stream",
     "text": [
      "s_3998\n"
     ]
    },
    {
     "name": "stderr",
     "output_type": "stream",
     "text": [
      "2024-03-06 19:45:54,562 - boundary_types.py[line:68] - INFO: Compartment `e` sounds like an external compartment. Using this one without counting boundary reactions.\n",
      "2024-03-06 19:45:54,576 - boundary_types.py[line:68] - INFO: Compartment `e` sounds like an external compartment. Using this one without counting boundary reactions.\n",
      "2024-03-06 19:45:54,994 - 1263953134.py[line:20] - INFO: sucrose: G\n",
      "2024-03-06 19:45:55,010 - model.py[line:209] - INFO: The current solver interface glpk doesn't support setting the optimality tolerance.\n",
      "2024-03-06 19:45:55,436 - boundary_types.py[line:68] - INFO: Compartment `e` sounds like an external compartment. Using this one without counting boundary reactions.\n",
      "2024-03-06 19:45:55,436 - boundary_types.py[line:68] - INFO: Compartment `e` sounds like an external compartment. Using this one without counting boundary reactions.\n",
      "2024-03-06 19:45:55,436 - 3936220034.py[line:12] - INFO: add s_4016 <=> \n",
      "2024-03-06 19:45:55,444 - model.py[line:209] - INFO: The current solver interface glpk doesn't support setting the optimality tolerance.\n"
     ]
    },
    {
     "name": "stdout",
     "output_type": "stream",
     "text": [
      "s_4016\n"
     ]
    },
    {
     "name": "stderr",
     "output_type": "stream",
     "text": [
      "2024-03-06 19:45:55,844 - boundary_types.py[line:68] - INFO: Compartment `e` sounds like an external compartment. Using this one without counting boundary reactions.\n",
      "2024-03-06 19:45:55,864 - boundary_types.py[line:68] - INFO: Compartment `e` sounds like an external compartment. Using this one without counting boundary reactions.\n",
      "2024-03-06 19:45:56,415 - 1263953134.py[line:20] - INFO: sulphate: G\n",
      "2024-03-06 19:45:56,417 - model.py[line:209] - INFO: The current solver interface glpk doesn't support setting the optimality tolerance.\n",
      "2024-03-06 19:45:56,832 - boundary_types.py[line:68] - INFO: Compartment `e` sounds like an external compartment. Using this one without counting boundary reactions.\n",
      "2024-03-06 19:45:56,837 - boundary_types.py[line:68] - INFO: Compartment `e` sounds like an external compartment. Using this one without counting boundary reactions.\n",
      "2024-03-06 19:45:56,838 - 3936220034.py[line:12] - INFO: add s_1474 <=> \n",
      "2024-03-06 19:45:56,838 - model.py[line:209] - INFO: The current solver interface glpk doesn't support setting the optimality tolerance.\n"
     ]
    },
    {
     "name": "stdout",
     "output_type": "stream",
     "text": [
      "s_1474\n"
     ]
    },
    {
     "name": "stderr",
     "output_type": "stream",
     "text": [
      "2024-03-06 19:45:57,255 - boundary_types.py[line:68] - INFO: Compartment `e` sounds like an external compartment. Using this one without counting boundary reactions.\n",
      "2024-03-06 19:45:57,268 - boundary_types.py[line:68] - INFO: Compartment `e` sounds like an external compartment. Using this one without counting boundary reactions.\n",
      "2024-03-06 19:45:57,508 - 1263953134.py[line:20] - INFO: taurocholic acid: NG\n",
      "2024-03-06 19:45:57,510 - model.py[line:209] - INFO: The current solver interface glpk doesn't support setting the optimality tolerance.\n",
      "2024-03-06 19:45:57,909 - boundary_types.py[line:68] - INFO: Compartment `e` sounds like an external compartment. Using this one without counting boundary reactions.\n",
      "2024-03-06 19:45:57,911 - 3936220034.py[line:5] - INFO: add s_1494 <=> \n",
      "2024-03-06 19:45:57,912 - model.py[line:209] - INFO: The current solver interface glpk doesn't support setting the optimality tolerance.\n",
      "2024-03-06 19:46:00,218 - boundary_types.py[line:68] - INFO: Compartment `e` sounds like an external compartment. Using this one without counting boundary reactions.\n",
      "2024-03-06 19:46:00,233 - boundary_types.py[line:68] - INFO: Compartment `e` sounds like an external compartment. Using this one without counting boundary reactions.\n",
      "2024-03-06 19:46:00,783 - glpk_interface.py[line:689] - DEBUG: Status undefined. GLPK status code returned by glp_simplex was 10\n",
      "c:\\Users\\13293\\APP\\anaconda\\envs\\yeast9\\lib\\site-packages\\cobra\\util\\solver.py:554: UserWarning: Solver status is 'infeasible'.\n",
      "  warn(f\"Solver status is '{status}'.\", UserWarning)\n",
      "2024-03-06 19:46:00,805 - 1263953134.py[line:20] - INFO: thymidine: NG\n",
      "2024-03-06 19:46:00,806 - model.py[line:209] - INFO: The current solver interface glpk doesn't support setting the optimality tolerance.\n",
      "2024-03-06 19:46:01,220 - boundary_types.py[line:68] - INFO: Compartment `e` sounds like an external compartment. Using this one without counting boundary reactions.\n",
      "2024-03-06 19:46:01,221 - 3936220034.py[line:5] - INFO: add s_1494 <=> \n",
      "2024-03-06 19:46:01,222 - model.py[line:209] - INFO: The current solver interface glpk doesn't support setting the optimality tolerance.\n",
      "2024-03-06 19:46:01,625 - boundary_types.py[line:68] - INFO: Compartment `e` sounds like an external compartment. Using this one without counting boundary reactions.\n",
      "2024-03-06 19:46:01,639 - boundary_types.py[line:68] - INFO: Compartment `e` sounds like an external compartment. Using this one without counting boundary reactions.\n",
      "2024-03-06 19:46:01,814 - 1263953134.py[line:20] - INFO: thymidine: NG\n",
      "2024-03-06 19:46:01,815 - model.py[line:209] - INFO: The current solver interface glpk doesn't support setting the optimality tolerance.\n",
      "2024-03-06 19:46:02,239 - boundary_types.py[line:68] - INFO: Compartment `e` sounds like an external compartment. Using this one without counting boundary reactions.\n",
      "2024-03-06 19:46:02,244 - boundary_types.py[line:68] - INFO: Compartment `e` sounds like an external compartment. Using this one without counting boundary reactions.\n",
      "2024-03-06 19:46:02,246 - 3936220034.py[line:12] - INFO: add s_1522 <=> \n",
      "2024-03-06 19:46:02,247 - model.py[line:209] - INFO: The current solver interface glpk doesn't support setting the optimality tolerance.\n"
     ]
    },
    {
     "name": "stdout",
     "output_type": "stream",
     "text": [
      "s_1522\n"
     ]
    },
    {
     "name": "stderr",
     "output_type": "stream",
     "text": [
      "2024-03-06 19:46:02,665 - boundary_types.py[line:68] - INFO: Compartment `e` sounds like an external compartment. Using this one without counting boundary reactions.\n",
      "2024-03-06 19:46:02,679 - boundary_types.py[line:68] - INFO: Compartment `e` sounds like an external compartment. Using this one without counting boundary reactions.\n",
      "2024-03-06 19:46:03,269 - 1263953134.py[line:20] - INFO: trehalose: G\n",
      "2024-03-06 19:46:03,270 - model.py[line:209] - INFO: The current solver interface glpk doesn't support setting the optimality tolerance.\n",
      "2024-03-06 19:46:03,679 - boundary_types.py[line:68] - INFO: Compartment `e` sounds like an external compartment. Using this one without counting boundary reactions.\n",
      "2024-03-06 19:46:03,681 - 3936220034.py[line:5] - INFO: add s_4151 <=> \n",
      "2024-03-06 19:46:03,682 - model.py[line:209] - INFO: The current solver interface glpk doesn't support setting the optimality tolerance.\n",
      "2024-03-06 19:46:04,091 - boundary_types.py[line:68] - INFO: Compartment `e` sounds like an external compartment. Using this one without counting boundary reactions.\n",
      "2024-03-06 19:46:04,105 - boundary_types.py[line:68] - INFO: Compartment `e` sounds like an external compartment. Using this one without counting boundary reactions.\n",
      "2024-03-06 19:46:04,584 - 1263953134.py[line:20] - INFO: UMP: G\n",
      "2024-03-06 19:46:04,585 - model.py[line:209] - INFO: The current solver interface glpk doesn't support setting the optimality tolerance.\n",
      "2024-03-06 19:46:04,996 - boundary_types.py[line:68] - INFO: Compartment `e` sounds like an external compartment. Using this one without counting boundary reactions.\n",
      "2024-03-06 19:46:04,997 - 3936220034.py[line:5] - INFO: add s_1551 <=> \n",
      "2024-03-06 19:46:04,998 - model.py[line:209] - INFO: The current solver interface glpk doesn't support setting the optimality tolerance.\n",
      "2024-03-06 19:46:05,411 - boundary_types.py[line:68] - INFO: Compartment `e` sounds like an external compartment. Using this one without counting boundary reactions.\n",
      "2024-03-06 19:46:05,424 - boundary_types.py[line:68] - INFO: Compartment `e` sounds like an external compartment. Using this one without counting boundary reactions.\n",
      "2024-03-06 19:46:05,603 - 1263953134.py[line:20] - INFO: uracil: NG\n",
      "2024-03-06 19:46:05,605 - model.py[line:209] - INFO: The current solver interface glpk doesn't support setting the optimality tolerance.\n",
      "2024-03-06 19:46:06,015 - boundary_types.py[line:68] - INFO: Compartment `e` sounds like an external compartment. Using this one without counting boundary reactions.\n",
      "2024-03-06 19:46:06,016 - 3936220034.py[line:5] - INFO: add s_1553 <=> \n",
      "2024-03-06 19:46:06,017 - model.py[line:209] - INFO: The current solver interface glpk doesn't support setting the optimality tolerance.\n",
      "2024-03-06 19:46:06,417 - boundary_types.py[line:68] - INFO: Compartment `e` sounds like an external compartment. Using this one without counting boundary reactions.\n",
      "2024-03-06 19:46:06,432 - boundary_types.py[line:68] - INFO: Compartment `e` sounds like an external compartment. Using this one without counting boundary reactions.\n",
      "2024-03-06 19:46:06,962 - 1263953134.py[line:20] - INFO: urea: G\n",
      "2024-03-06 19:46:06,963 - model.py[line:209] - INFO: The current solver interface glpk doesn't support setting the optimality tolerance.\n",
      "2024-03-06 19:46:07,369 - boundary_types.py[line:68] - INFO: Compartment `e` sounds like an external compartment. Using this one without counting boundary reactions.\n",
      "2024-03-06 19:46:07,370 - 3936220034.py[line:5] - INFO: add s_1557 <=> \n",
      "2024-03-06 19:46:07,371 - model.py[line:209] - INFO: The current solver interface glpk doesn't support setting the optimality tolerance.\n",
      "2024-03-06 19:46:07,789 - boundary_types.py[line:68] - INFO: Compartment `e` sounds like an external compartment. Using this one without counting boundary reactions.\n",
      "2024-03-06 19:46:07,803 - boundary_types.py[line:68] - INFO: Compartment `e` sounds like an external compartment. Using this one without counting boundary reactions.\n",
      "2024-03-06 19:46:08,315 - glpk_interface.py[line:689] - DEBUG: Status undefined. GLPK status code returned by glp_simplex was 10\n",
      "c:\\Users\\13293\\APP\\anaconda\\envs\\yeast9\\lib\\site-packages\\cobra\\util\\solver.py:554: UserWarning: Solver status is 'infeasible'.\n",
      "  warn(f\"Solver status is '{status}'.\", UserWarning)\n",
      "2024-03-06 19:46:08,334 - 1263953134.py[line:20] - INFO: uridine: NG\n",
      "2024-03-06 19:46:08,335 - model.py[line:209] - INFO: The current solver interface glpk doesn't support setting the optimality tolerance.\n",
      "2024-03-06 19:46:08,752 - boundary_types.py[line:68] - INFO: Compartment `e` sounds like an external compartment. Using this one without counting boundary reactions.\n",
      "2024-03-06 19:46:08,753 - 3936220034.py[line:5] - INFO: add s_1557 <=> \n",
      "2024-03-06 19:46:08,754 - model.py[line:209] - INFO: The current solver interface glpk doesn't support setting the optimality tolerance.\n",
      "2024-03-06 19:46:09,169 - boundary_types.py[line:68] - INFO: Compartment `e` sounds like an external compartment. Using this one without counting boundary reactions.\n",
      "2024-03-06 19:46:09,183 - boundary_types.py[line:68] - INFO: Compartment `e` sounds like an external compartment. Using this one without counting boundary reactions.\n",
      "2024-03-06 19:46:09,359 - 1263953134.py[line:20] - INFO: uridine: NG\n",
      "2024-03-06 19:46:09,360 - model.py[line:209] - INFO: The current solver interface glpk doesn't support setting the optimality tolerance.\n",
      "2024-03-06 19:46:09,763 - boundary_types.py[line:68] - INFO: Compartment `e` sounds like an external compartment. Using this one without counting boundary reactions.\n",
      "2024-03-06 19:46:09,765 - 3936220034.py[line:5] - INFO: add s_1564 <=> \n",
      "2024-03-06 19:46:09,765 - model.py[line:209] - INFO: The current solver interface glpk doesn't support setting the optimality tolerance.\n",
      "2024-03-06 19:46:12,003 - boundary_types.py[line:68] - INFO: Compartment `e` sounds like an external compartment. Using this one without counting boundary reactions.\n",
      "2024-03-06 19:46:12,017 - boundary_types.py[line:68] - INFO: Compartment `e` sounds like an external compartment. Using this one without counting boundary reactions.\n",
      "2024-03-06 19:46:12,195 - 1263953134.py[line:20] - INFO: xanthosine: NG\n",
      "2024-03-06 19:46:12,197 - model.py[line:209] - INFO: The current solver interface glpk doesn't support setting the optimality tolerance.\n",
      "2024-03-06 19:46:12,604 - boundary_types.py[line:68] - INFO: Compartment `e` sounds like an external compartment. Using this one without counting boundary reactions.\n",
      "2024-03-06 19:46:12,605 - 3936220034.py[line:5] - INFO: add s_1567 <=> \n",
      "2024-03-06 19:46:12,606 - model.py[line:209] - INFO: The current solver interface glpk doesn't support setting the optimality tolerance.\n",
      "2024-03-06 19:46:13,015 - boundary_types.py[line:68] - INFO: Compartment `e` sounds like an external compartment. Using this one without counting boundary reactions.\n",
      "2024-03-06 19:46:13,030 - boundary_types.py[line:68] - INFO: Compartment `e` sounds like an external compartment. Using this one without counting boundary reactions.\n",
      "2024-03-06 19:46:13,582 - 1263953134.py[line:20] - INFO: xylitol: G\n",
      "2024-03-06 19:46:13,583 - model.py[line:209] - INFO: The current solver interface glpk doesn't support setting the optimality tolerance.\n",
      "2024-03-06 19:46:13,981 - boundary_types.py[line:68] - INFO: Compartment `e` sounds like an external compartment. Using this one without counting boundary reactions.\n",
      "2024-03-06 19:46:13,985 - boundary_types.py[line:68] - INFO: Compartment `e` sounds like an external compartment. Using this one without counting boundary reactions.\n",
      "2024-03-06 19:46:13,987 - 3936220034.py[line:12] - INFO: add s_2882 <=> \n",
      "2024-03-06 19:46:13,988 - model.py[line:209] - INFO: The current solver interface glpk doesn't support setting the optimality tolerance.\n"
     ]
    },
    {
     "name": "stdout",
     "output_type": "stream",
     "text": [
      "s_2882\n"
     ]
    },
    {
     "name": "stderr",
     "output_type": "stream",
     "text": [
      "2024-03-06 19:46:14,412 - boundary_types.py[line:68] - INFO: Compartment `e` sounds like an external compartment. Using this one without counting boundary reactions.\n",
      "2024-03-06 19:46:14,425 - boundary_types.py[line:68] - INFO: Compartment `e` sounds like an external compartment. Using this one without counting boundary reactions.\n",
      "2024-03-06 19:46:14,949 - glpk_interface.py[line:689] - DEBUG: Status undefined. GLPK status code returned by glp_simplex was 10\n",
      "c:\\Users\\13293\\APP\\anaconda\\envs\\yeast9\\lib\\site-packages\\cobra\\util\\solver.py:554: UserWarning: Solver status is 'infeasible'.\n",
      "  warn(f\"Solver status is '{status}'.\", UserWarning)\n",
      "2024-03-06 19:46:14,968 - 1263953134.py[line:20] - INFO: butyrate: NG\n",
      "2024-03-06 19:46:14,969 - model.py[line:209] - INFO: The current solver interface glpk doesn't support setting the optimality tolerance.\n",
      "2024-03-06 19:46:15,375 - boundary_types.py[line:68] - INFO: Compartment `e` sounds like an external compartment. Using this one without counting boundary reactions.\n",
      "2024-03-06 19:46:15,381 - boundary_types.py[line:68] - INFO: Compartment `e` sounds like an external compartment. Using this one without counting boundary reactions.\n",
      "2024-03-06 19:46:15,382 - 3936220034.py[line:12] - INFO: add s_2883 <=> \n",
      "2024-03-06 19:46:15,383 - model.py[line:209] - INFO: The current solver interface glpk doesn't support setting the optimality tolerance.\n"
     ]
    },
    {
     "name": "stdout",
     "output_type": "stream",
     "text": [
      "s_2883\n"
     ]
    },
    {
     "name": "stderr",
     "output_type": "stream",
     "text": [
      "2024-03-06 19:46:15,806 - boundary_types.py[line:68] - INFO: Compartment `e` sounds like an external compartment. Using this one without counting boundary reactions.\n",
      "2024-03-06 19:46:15,820 - boundary_types.py[line:68] - INFO: Compartment `e` sounds like an external compartment. Using this one without counting boundary reactions.\n",
      "2024-03-06 19:46:16,394 - glpk_interface.py[line:689] - DEBUG: Status undefined. GLPK status code returned by glp_simplex was 10\n",
      "c:\\Users\\13293\\APP\\anaconda\\envs\\yeast9\\lib\\site-packages\\cobra\\util\\solver.py:554: UserWarning: Solver status is 'infeasible'.\n",
      "  warn(f\"Solver status is '{status}'.\", UserWarning)\n",
      "2024-03-06 19:46:16,413 - 1263953134.py[line:20] - INFO: hexanoate: NG\n",
      "2024-03-06 19:46:16,415 - model.py[line:209] - INFO: The current solver interface glpk doesn't support setting the optimality tolerance.\n",
      "2024-03-06 19:46:16,821 - boundary_types.py[line:68] - INFO: Compartment `e` sounds like an external compartment. Using this one without counting boundary reactions.\n",
      "2024-03-06 19:46:16,826 - boundary_types.py[line:68] - INFO: Compartment `e` sounds like an external compartment. Using this one without counting boundary reactions.\n",
      "2024-03-06 19:46:16,828 - 3936220034.py[line:12] - INFO: add s_4193 <=> \n",
      "2024-03-06 19:46:16,829 - model.py[line:209] - INFO: The current solver interface glpk doesn't support setting the optimality tolerance.\n"
     ]
    },
    {
     "name": "stdout",
     "output_type": "stream",
     "text": [
      "s_4193\n"
     ]
    },
    {
     "name": "stderr",
     "output_type": "stream",
     "text": [
      "2024-03-06 19:46:17,246 - boundary_types.py[line:68] - INFO: Compartment `e` sounds like an external compartment. Using this one without counting boundary reactions.\n",
      "2024-03-06 19:46:17,260 - boundary_types.py[line:68] - INFO: Compartment `e` sounds like an external compartment. Using this one without counting boundary reactions.\n",
      "2024-03-06 19:46:17,813 - glpk_interface.py[line:689] - DEBUG: Status undefined. GLPK status code returned by glp_simplex was 10\n",
      "c:\\Users\\13293\\APP\\anaconda\\envs\\yeast9\\lib\\site-packages\\cobra\\util\\solver.py:554: UserWarning: Solver status is 'infeasible'.\n",
      "  warn(f\"Solver status is '{status}'.\", UserWarning)\n",
      "2024-03-06 19:46:17,832 - 1263953134.py[line:20] - INFO: raffinose: NG\n",
      "2024-03-06 19:46:17,833 - model.py[line:209] - INFO: The current solver interface glpk doesn't support setting the optimality tolerance.\n",
      "2024-03-06 19:46:18,251 - boundary_types.py[line:68] - INFO: Compartment `e` sounds like an external compartment. Using this one without counting boundary reactions.\n",
      "2024-03-06 19:46:18,255 - boundary_types.py[line:68] - INFO: Compartment `e` sounds like an external compartment. Using this one without counting boundary reactions.\n",
      "2024-03-06 19:46:18,256 - 3936220034.py[line:12] - INFO: add s_4193 <=> \n",
      "2024-03-06 19:46:18,257 - model.py[line:209] - INFO: The current solver interface glpk doesn't support setting the optimality tolerance.\n"
     ]
    },
    {
     "name": "stdout",
     "output_type": "stream",
     "text": [
      "s_4193\n"
     ]
    },
    {
     "name": "stderr",
     "output_type": "stream",
     "text": [
      "2024-03-06 19:46:18,681 - boundary_types.py[line:68] - INFO: Compartment `e` sounds like an external compartment. Using this one without counting boundary reactions.\n",
      "2024-03-06 19:46:18,695 - boundary_types.py[line:68] - INFO: Compartment `e` sounds like an external compartment. Using this one without counting boundary reactions.\n",
      "2024-03-06 19:46:19,269 - glpk_interface.py[line:689] - DEBUG: Status undefined. GLPK status code returned by glp_simplex was 10\n",
      "c:\\Users\\13293\\APP\\anaconda\\envs\\yeast9\\lib\\site-packages\\cobra\\util\\solver.py:554: UserWarning: Solver status is 'infeasible'.\n",
      "  warn(f\"Solver status is '{status}'.\", UserWarning)\n",
      "2024-03-06 19:46:19,287 - 1263953134.py[line:20] - INFO: raffinose: NG\n",
      "2024-03-06 19:46:19,289 - model.py[line:209] - INFO: The current solver interface glpk doesn't support setting the optimality tolerance.\n",
      "2024-03-06 19:46:19,709 - boundary_types.py[line:68] - INFO: Compartment `e` sounds like an external compartment. Using this one without counting boundary reactions.\n",
      "2024-03-06 19:46:19,711 - 3936220034.py[line:5] - INFO: add s_3716 <=> \n",
      "2024-03-06 19:46:19,712 - model.py[line:209] - INFO: The current solver interface glpk doesn't support setting the optimality tolerance.\n",
      "2024-03-06 19:46:20,122 - boundary_types.py[line:68] - INFO: Compartment `e` sounds like an external compartment. Using this one without counting boundary reactions.\n",
      "2024-03-06 19:46:20,137 - boundary_types.py[line:68] - INFO: Compartment `e` sounds like an external compartment. Using this one without counting boundary reactions.\n",
      "2024-03-06 19:46:20,660 - glpk_interface.py[line:689] - DEBUG: Status undefined. GLPK status code returned by glp_simplex was 10\n",
      "c:\\Users\\13293\\APP\\anaconda\\envs\\yeast9\\lib\\site-packages\\cobra\\util\\solver.py:554: UserWarning: Solver status is 'infeasible'.\n",
      "  warn(f\"Solver status is '{status}'.\", UserWarning)\n",
      "2024-03-06 19:46:20,679 - 1263953134.py[line:20] - INFO: melibiose: NG\n",
      "2024-03-06 19:46:20,680 - model.py[line:209] - INFO: The current solver interface glpk doesn't support setting the optimality tolerance.\n",
      "2024-03-06 19:46:21,101 - boundary_types.py[line:68] - INFO: Compartment `e` sounds like an external compartment. Using this one without counting boundary reactions.\n",
      "2024-03-06 19:46:21,105 - boundary_types.py[line:68] - INFO: Compartment `e` sounds like an external compartment. Using this one without counting boundary reactions.\n",
      "2024-03-06 19:46:21,106 - 3936220034.py[line:12] - INFO: add s_3752 <=> \n",
      "2024-03-06 19:46:21,107 - model.py[line:209] - INFO: The current solver interface glpk doesn't support setting the optimality tolerance.\n"
     ]
    },
    {
     "name": "stdout",
     "output_type": "stream",
     "text": [
      "s_3752\n"
     ]
    },
    {
     "name": "stderr",
     "output_type": "stream",
     "text": [
      "2024-03-06 19:46:21,522 - boundary_types.py[line:68] - INFO: Compartment `e` sounds like an external compartment. Using this one without counting boundary reactions.\n",
      "2024-03-06 19:46:21,537 - boundary_types.py[line:68] - INFO: Compartment `e` sounds like an external compartment. Using this one without counting boundary reactions.\n",
      "2024-03-06 19:46:22,125 - glpk_interface.py[line:689] - DEBUG: Status undefined. GLPK status code returned by glp_simplex was 10\n",
      "c:\\Users\\13293\\APP\\anaconda\\envs\\yeast9\\lib\\site-packages\\cobra\\util\\solver.py:554: UserWarning: Solver status is 'infeasible'.\n",
      "  warn(f\"Solver status is '{status}'.\", UserWarning)\n",
      "2024-03-06 19:46:22,144 - 1263953134.py[line:20] - INFO: diacetyl: NG\n",
      "2024-03-06 19:46:22,146 - model.py[line:209] - INFO: The current solver interface glpk doesn't support setting the optimality tolerance.\n",
      "2024-03-06 19:46:22,574 - boundary_types.py[line:68] - INFO: Compartment `e` sounds like an external compartment. Using this one without counting boundary reactions.\n",
      "2024-03-06 19:46:22,579 - boundary_types.py[line:68] - INFO: Compartment `e` sounds like an external compartment. Using this one without counting boundary reactions.\n",
      "2024-03-06 19:46:22,581 - 3936220034.py[line:12] - INFO: add s_4144 <=> \n",
      "2024-03-06 19:46:22,582 - model.py[line:209] - INFO: The current solver interface glpk doesn't support setting the optimality tolerance.\n"
     ]
    },
    {
     "name": "stdout",
     "output_type": "stream",
     "text": [
      "s_4144\n"
     ]
    },
    {
     "name": "stderr",
     "output_type": "stream",
     "text": [
      "2024-03-06 19:46:24,859 - boundary_types.py[line:68] - INFO: Compartment `e` sounds like an external compartment. Using this one without counting boundary reactions.\n",
      "2024-03-06 19:46:24,873 - boundary_types.py[line:68] - INFO: Compartment `e` sounds like an external compartment. Using this one without counting boundary reactions.\n",
      "2024-03-06 19:46:25,413 - 1263953134.py[line:20] - INFO: Met-Ala: G\n",
      "2024-03-06 19:46:25,414 - model.py[line:209] - INFO: The current solver interface glpk doesn't support setting the optimality tolerance.\n",
      "2024-03-06 19:46:25,809 - boundary_types.py[line:68] - INFO: Compartment `e` sounds like an external compartment. Using this one without counting boundary reactions.\n",
      "2024-03-06 19:46:25,826 - boundary_types.py[line:68] - INFO: Compartment `e` sounds like an external compartment. Using this one without counting boundary reactions.\n",
      "2024-03-06 19:46:25,826 - 3936220034.py[line:12] - INFO: add s_3769 <=> \n",
      "2024-03-06 19:46:25,826 - model.py[line:209] - INFO: The current solver interface glpk doesn't support setting the optimality tolerance.\n"
     ]
    },
    {
     "name": "stdout",
     "output_type": "stream",
     "text": [
      "s_3769\n"
     ]
    },
    {
     "name": "stderr",
     "output_type": "stream",
     "text": [
      "2024-03-06 19:46:26,362 - boundary_types.py[line:68] - INFO: Compartment `e` sounds like an external compartment. Using this one without counting boundary reactions.\n",
      "2024-03-06 19:46:26,379 - boundary_types.py[line:68] - INFO: Compartment `e` sounds like an external compartment. Using this one without counting boundary reactions.\n",
      "2024-03-06 19:46:26,989 - glpk_interface.py[line:689] - DEBUG: Status undefined. GLPK status code returned by glp_simplex was 10\n",
      "c:\\Users\\13293\\APP\\anaconda\\envs\\yeast9\\lib\\site-packages\\cobra\\util\\solver.py:554: UserWarning: Solver status is 'infeasible'.\n",
      "  warn(f\"Solver status is '{status}'.\", UserWarning)\n",
      "2024-03-06 19:46:27,008 - 1263953134.py[line:20] - INFO: Oxalate: NG\n",
      "2024-03-06 19:46:27,010 - model.py[line:209] - INFO: The current solver interface glpk doesn't support setting the optimality tolerance.\n",
      "2024-03-06 19:46:27,417 - boundary_types.py[line:68] - INFO: Compartment `e` sounds like an external compartment. Using this one without counting boundary reactions.\n",
      "2024-03-06 19:46:27,421 - boundary_types.py[line:68] - INFO: Compartment `e` sounds like an external compartment. Using this one without counting boundary reactions.\n",
      "2024-03-06 19:46:27,423 - 3936220034.py[line:12] - INFO: add s_3805 <=> \n",
      "2024-03-06 19:46:27,423 - model.py[line:209] - INFO: The current solver interface glpk doesn't support setting the optimality tolerance.\n"
     ]
    },
    {
     "name": "stdout",
     "output_type": "stream",
     "text": [
      "s_3805\n"
     ]
    },
    {
     "name": "stderr",
     "output_type": "stream",
     "text": [
      "2024-03-06 19:46:27,835 - boundary_types.py[line:68] - INFO: Compartment `e` sounds like an external compartment. Using this one without counting boundary reactions.\n",
      "2024-03-06 19:46:27,851 - boundary_types.py[line:68] - INFO: Compartment `e` sounds like an external compartment. Using this one without counting boundary reactions.\n",
      "2024-03-06 19:46:28,443 - 1263953134.py[line:20] - INFO: Mannitol: G\n",
      "2024-03-06 19:46:28,445 - model.py[line:209] - INFO: The current solver interface glpk doesn't support setting the optimality tolerance.\n",
      "2024-03-06 19:46:28,851 - boundary_types.py[line:68] - INFO: Compartment `e` sounds like an external compartment. Using this one without counting boundary reactions.\n",
      "2024-03-06 19:46:28,855 - boundary_types.py[line:68] - INFO: Compartment `e` sounds like an external compartment. Using this one without counting boundary reactions.\n",
      "2024-03-06 19:46:28,856 - 3936220034.py[line:12] - INFO: add s_3810 <=> \n",
      "2024-03-06 19:46:28,857 - model.py[line:209] - INFO: The current solver interface glpk doesn't support setting the optimality tolerance.\n"
     ]
    },
    {
     "name": "stdout",
     "output_type": "stream",
     "text": [
      "s_3810\n"
     ]
    },
    {
     "name": "stderr",
     "output_type": "stream",
     "text": [
      "2024-03-06 19:46:29,298 - boundary_types.py[line:68] - INFO: Compartment `e` sounds like an external compartment. Using this one without counting boundary reactions.\n",
      "2024-03-06 19:46:29,313 - boundary_types.py[line:68] - INFO: Compartment `e` sounds like an external compartment. Using this one without counting boundary reactions.\n",
      "2024-03-06 19:46:29,849 - 1263953134.py[line:20] - INFO: 5-oxo-L-proline: G\n",
      "2024-03-06 19:46:29,850 - model.py[line:209] - INFO: The current solver interface glpk doesn't support setting the optimality tolerance.\n",
      "2024-03-06 19:46:30,262 - boundary_types.py[line:68] - INFO: Compartment `e` sounds like an external compartment. Using this one without counting boundary reactions.\n",
      "2024-03-06 19:46:30,267 - boundary_types.py[line:68] - INFO: Compartment `e` sounds like an external compartment. Using this one without counting boundary reactions.\n",
      "2024-03-06 19:46:30,268 - 3936220034.py[line:12] - INFO: add s_3810 <=> \n",
      "2024-03-06 19:46:30,269 - model.py[line:209] - INFO: The current solver interface glpk doesn't support setting the optimality tolerance.\n"
     ]
    },
    {
     "name": "stdout",
     "output_type": "stream",
     "text": [
      "s_3810\n"
     ]
    },
    {
     "name": "stderr",
     "output_type": "stream",
     "text": [
      "2024-03-06 19:46:30,676 - boundary_types.py[line:68] - INFO: Compartment `e` sounds like an external compartment. Using this one without counting boundary reactions.\n",
      "2024-03-06 19:46:30,693 - boundary_types.py[line:68] - INFO: Compartment `e` sounds like an external compartment. Using this one without counting boundary reactions.\n",
      "2024-03-06 19:46:31,209 - 1263953134.py[line:20] - INFO: 5-oxo-L-proline: G\n",
      "2024-03-06 19:46:31,209 - model.py[line:209] - INFO: The current solver interface glpk doesn't support setting the optimality tolerance.\n",
      "2024-03-06 19:46:31,612 - boundary_types.py[line:68] - INFO: Compartment `e` sounds like an external compartment. Using this one without counting boundary reactions.\n",
      "2024-03-06 19:46:31,612 - boundary_types.py[line:68] - INFO: Compartment `e` sounds like an external compartment. Using this one without counting boundary reactions.\n",
      "2024-03-06 19:46:31,612 - 3936220034.py[line:12] - INFO: add s_3814 <=> \n",
      "2024-03-06 19:46:31,612 - model.py[line:209] - INFO: The current solver interface glpk doesn't support setting the optimality tolerance.\n"
     ]
    },
    {
     "name": "stdout",
     "output_type": "stream",
     "text": [
      "s_3814\n"
     ]
    },
    {
     "name": "stderr",
     "output_type": "stream",
     "text": [
      "2024-03-06 19:46:32,040 - boundary_types.py[line:68] - INFO: Compartment `e` sounds like an external compartment. Using this one without counting boundary reactions.\n",
      "2024-03-06 19:46:32,055 - boundary_types.py[line:68] - INFO: Compartment `e` sounds like an external compartment. Using this one without counting boundary reactions.\n",
      "2024-03-06 19:46:32,433 - 1263953134.py[line:20] - INFO: 2-deoxy-D-glucose 6-phosphate: NG\n",
      "2024-03-06 19:46:32,434 - model.py[line:209] - INFO: The current solver interface glpk doesn't support setting the optimality tolerance.\n",
      "2024-03-06 19:46:32,864 - boundary_types.py[line:68] - INFO: Compartment `e` sounds like an external compartment. Using this one without counting boundary reactions.\n",
      "2024-03-06 19:46:32,866 - 3936220034.py[line:5] - INFO: add s_4176 <=> \n",
      "2024-03-06 19:46:32,866 - model.py[line:209] - INFO: The current solver interface glpk doesn't support setting the optimality tolerance.\n",
      "2024-03-06 19:46:33,288 - boundary_types.py[line:68] - INFO: Compartment `e` sounds like an external compartment. Using this one without counting boundary reactions.\n",
      "2024-03-06 19:46:33,303 - boundary_types.py[line:68] - INFO: Compartment `e` sounds like an external compartment. Using this one without counting boundary reactions.\n",
      "2024-03-06 19:46:33,778 - 1263953134.py[line:20] - INFO: L-Methionine S-oxide: G\n",
      "2024-03-06 19:46:33,779 - model.py[line:209] - INFO: The current solver interface glpk doesn't support setting the optimality tolerance.\n",
      "2024-03-06 19:46:34,193 - boundary_types.py[line:68] - INFO: Compartment `e` sounds like an external compartment. Using this one without counting boundary reactions.\n",
      "2024-03-06 19:46:34,194 - 3936220034.py[line:5] - INFO: add s_4176 <=> \n",
      "2024-03-06 19:46:34,195 - model.py[line:209] - INFO: The current solver interface glpk doesn't support setting the optimality tolerance.\n",
      "2024-03-06 19:46:34,609 - boundary_types.py[line:68] - INFO: Compartment `e` sounds like an external compartment. Using this one without counting boundary reactions.\n",
      "2024-03-06 19:46:34,629 - boundary_types.py[line:68] - INFO: Compartment `e` sounds like an external compartment. Using this one without counting boundary reactions.\n",
      "2024-03-06 19:46:35,120 - 1263953134.py[line:20] - INFO: L-Methionine S-oxide: G\n",
      "2024-03-06 19:46:35,122 - model.py[line:209] - INFO: The current solver interface glpk doesn't support setting the optimality tolerance.\n",
      "2024-03-06 19:46:35,540 - boundary_types.py[line:68] - INFO: Compartment `e` sounds like an external compartment. Using this one without counting boundary reactions.\n",
      "2024-03-06 19:46:35,546 - boundary_types.py[line:68] - INFO: Compartment `e` sounds like an external compartment. Using this one without counting boundary reactions.\n",
      "2024-03-06 19:46:35,547 - 3936220034.py[line:12] - INFO: add s_4171 <=> \n",
      "2024-03-06 19:46:35,548 - model.py[line:209] - INFO: The current solver interface glpk doesn't support setting the optimality tolerance.\n"
     ]
    },
    {
     "name": "stdout",
     "output_type": "stream",
     "text": [
      "s_4171\n"
     ]
    },
    {
     "name": "stderr",
     "output_type": "stream",
     "text": [
      "2024-03-06 19:46:37,816 - boundary_types.py[line:68] - INFO: Compartment `e` sounds like an external compartment. Using this one without counting boundary reactions.\n",
      "2024-03-06 19:46:37,831 - boundary_types.py[line:68] - INFO: Compartment `e` sounds like an external compartment. Using this one without counting boundary reactions.\n",
      "2024-03-06 19:46:38,364 - 1263953134.py[line:20] - INFO: Ala-Gly: G\n",
      "2024-03-06 19:46:38,366 - model.py[line:209] - INFO: The current solver interface glpk doesn't support setting the optimality tolerance.\n",
      "2024-03-06 19:46:38,807 - boundary_types.py[line:68] - INFO: Compartment `e` sounds like an external compartment. Using this one without counting boundary reactions.\n",
      "2024-03-06 19:46:38,815 - boundary_types.py[line:68] - INFO: Compartment `e` sounds like an external compartment. Using this one without counting boundary reactions.\n",
      "2024-03-06 19:46:38,816 - 3936220034.py[line:12] - INFO: add s_4171 <=> \n",
      "2024-03-06 19:46:38,817 - model.py[line:209] - INFO: The current solver interface glpk doesn't support setting the optimality tolerance.\n"
     ]
    },
    {
     "name": "stdout",
     "output_type": "stream",
     "text": [
      "s_4171\n"
     ]
    },
    {
     "name": "stderr",
     "output_type": "stream",
     "text": [
      "2024-03-06 19:46:39,254 - boundary_types.py[line:68] - INFO: Compartment `e` sounds like an external compartment. Using this one without counting boundary reactions.\n",
      "2024-03-06 19:46:39,269 - boundary_types.py[line:68] - INFO: Compartment `e` sounds like an external compartment. Using this one without counting boundary reactions.\n",
      "2024-03-06 19:46:39,857 - 1263953134.py[line:20] - INFO: Ala-Gly: G\n",
      "2024-03-06 19:46:39,859 - model.py[line:209] - INFO: The current solver interface glpk doesn't support setting the optimality tolerance.\n",
      "2024-03-06 19:46:40,273 - boundary_types.py[line:68] - INFO: Compartment `e` sounds like an external compartment. Using this one without counting boundary reactions.\n",
      "2024-03-06 19:46:40,278 - boundary_types.py[line:68] - INFO: Compartment `e` sounds like an external compartment. Using this one without counting boundary reactions.\n",
      "2024-03-06 19:46:40,279 - 3936220034.py[line:12] - INFO: add s_4169 <=> \n",
      "2024-03-06 19:46:40,281 - model.py[line:209] - INFO: The current solver interface glpk doesn't support setting the optimality tolerance.\n"
     ]
    },
    {
     "name": "stdout",
     "output_type": "stream",
     "text": [
      "s_4169\n"
     ]
    },
    {
     "name": "stderr",
     "output_type": "stream",
     "text": [
      "2024-03-06 19:46:40,703 - boundary_types.py[line:68] - INFO: Compartment `e` sounds like an external compartment. Using this one without counting boundary reactions.\n",
      "2024-03-06 19:46:40,717 - boundary_types.py[line:68] - INFO: Compartment `e` sounds like an external compartment. Using this one without counting boundary reactions.\n",
      "2024-03-06 19:46:41,289 - 1263953134.py[line:20] - INFO: Ala-Leu: G\n",
      "2024-03-06 19:46:41,290 - model.py[line:209] - INFO: The current solver interface glpk doesn't support setting the optimality tolerance.\n",
      "2024-03-06 19:46:41,696 - boundary_types.py[line:68] - INFO: Compartment `e` sounds like an external compartment. Using this one without counting boundary reactions.\n",
      "2024-03-06 19:46:41,702 - boundary_types.py[line:68] - INFO: Compartment `e` sounds like an external compartment. Using this one without counting boundary reactions.\n",
      "2024-03-06 19:46:41,702 - 3936220034.py[line:12] - INFO: add s_3875 <=> \n",
      "2024-03-06 19:46:41,703 - model.py[line:209] - INFO: The current solver interface glpk doesn't support setting the optimality tolerance.\n"
     ]
    },
    {
     "name": "stdout",
     "output_type": "stream",
     "text": [
      "s_3875\n"
     ]
    },
    {
     "name": "stderr",
     "output_type": "stream",
     "text": [
      "2024-03-06 19:46:42,109 - boundary_types.py[line:68] - INFO: Compartment `e` sounds like an external compartment. Using this one without counting boundary reactions.\n",
      "2024-03-06 19:46:42,123 - boundary_types.py[line:68] - INFO: Compartment `e` sounds like an external compartment. Using this one without counting boundary reactions.\n",
      "2024-03-06 19:46:42,615 - 1263953134.py[line:20] - INFO: D-gluconate: G\n",
      "2024-03-06 19:46:42,616 - model.py[line:209] - INFO: The current solver interface glpk doesn't support setting the optimality tolerance.\n",
      "2024-03-06 19:46:43,025 - boundary_types.py[line:68] - INFO: Compartment `e` sounds like an external compartment. Using this one without counting boundary reactions.\n",
      "2024-03-06 19:46:43,031 - boundary_types.py[line:68] - INFO: Compartment `e` sounds like an external compartment. Using this one without counting boundary reactions.\n",
      "2024-03-06 19:46:43,032 - 3936220034.py[line:12] - INFO: add s_3904 <=> \n",
      "2024-03-06 19:46:43,034 - model.py[line:209] - INFO: The current solver interface glpk doesn't support setting the optimality tolerance.\n"
     ]
    },
    {
     "name": "stdout",
     "output_type": "stream",
     "text": [
      "s_3904\n"
     ]
    },
    {
     "name": "stderr",
     "output_type": "stream",
     "text": [
      "2024-03-06 19:46:43,450 - boundary_types.py[line:68] - INFO: Compartment `e` sounds like an external compartment. Using this one without counting boundary reactions.\n",
      "2024-03-06 19:46:43,464 - boundary_types.py[line:68] - INFO: Compartment `e` sounds like an external compartment. Using this one without counting boundary reactions.\n",
      "2024-03-06 19:46:44,022 - 1263953134.py[line:20] - INFO: D-Serine: G\n",
      "2024-03-06 19:46:44,024 - model.py[line:209] - INFO: The current solver interface glpk doesn't support setting the optimality tolerance.\n",
      "2024-03-06 19:46:44,436 - boundary_types.py[line:68] - INFO: Compartment `e` sounds like an external compartment. Using this one without counting boundary reactions.\n",
      "2024-03-06 19:46:44,440 - boundary_types.py[line:68] - INFO: Compartment `e` sounds like an external compartment. Using this one without counting boundary reactions.\n",
      "2024-03-06 19:46:44,441 - 3936220034.py[line:12] - INFO: add s_3904 <=> \n",
      "2024-03-06 19:46:44,442 - model.py[line:209] - INFO: The current solver interface glpk doesn't support setting the optimality tolerance.\n"
     ]
    },
    {
     "name": "stdout",
     "output_type": "stream",
     "text": [
      "s_3904\n"
     ]
    },
    {
     "name": "stderr",
     "output_type": "stream",
     "text": [
      "2024-03-06 19:46:44,858 - boundary_types.py[line:68] - INFO: Compartment `e` sounds like an external compartment. Using this one without counting boundary reactions.\n",
      "2024-03-06 19:46:44,872 - boundary_types.py[line:68] - INFO: Compartment `e` sounds like an external compartment. Using this one without counting boundary reactions.\n",
      "2024-03-06 19:46:45,436 - 1263953134.py[line:20] - INFO: D-Serine: G\n",
      "2024-03-06 19:46:45,437 - model.py[line:209] - INFO: The current solver interface glpk doesn't support setting the optimality tolerance.\n",
      "2024-03-06 19:46:45,844 - boundary_types.py[line:68] - INFO: Compartment `e` sounds like an external compartment. Using this one without counting boundary reactions.\n",
      "2024-03-06 19:46:45,850 - boundary_types.py[line:68] - INFO: Compartment `e` sounds like an external compartment. Using this one without counting boundary reactions.\n",
      "2024-03-06 19:46:45,850 - 3936220034.py[line:12] - INFO: add s_3914 <=> \n",
      "2024-03-06 19:46:45,851 - model.py[line:209] - INFO: The current solver interface glpk doesn't support setting the optimality tolerance.\n"
     ]
    },
    {
     "name": "stdout",
     "output_type": "stream",
     "text": [
      "s_3914\n"
     ]
    },
    {
     "name": "stderr",
     "output_type": "stream",
     "text": [
      "2024-03-06 19:46:46,309 - boundary_types.py[line:68] - INFO: Compartment `e` sounds like an external compartment. Using this one without counting boundary reactions.\n",
      "2024-03-06 19:46:46,323 - boundary_types.py[line:68] - INFO: Compartment `e` sounds like an external compartment. Using this one without counting boundary reactions.\n",
      "2024-03-06 19:46:46,511 - 1263953134.py[line:20] - INFO: nitrate: NG\n",
      "2024-03-06 19:46:46,512 - model.py[line:209] - INFO: The current solver interface glpk doesn't support setting the optimality tolerance.\n",
      "2024-03-06 19:46:46,937 - boundary_types.py[line:68] - INFO: Compartment `e` sounds like an external compartment. Using this one without counting boundary reactions.\n",
      "2024-03-06 19:46:46,943 - boundary_types.py[line:68] - INFO: Compartment `e` sounds like an external compartment. Using this one without counting boundary reactions.\n",
      "2024-03-06 19:46:46,945 - 3936220034.py[line:12] - INFO: add s_3935 <=> \n",
      "2024-03-06 19:46:46,946 - model.py[line:209] - INFO: The current solver interface glpk doesn't support setting the optimality tolerance.\n"
     ]
    },
    {
     "name": "stdout",
     "output_type": "stream",
     "text": [
      "s_3935\n"
     ]
    },
    {
     "name": "stderr",
     "output_type": "stream",
     "text": [
      "2024-03-06 19:46:47,383 - boundary_types.py[line:68] - INFO: Compartment `e` sounds like an external compartment. Using this one without counting boundary reactions.\n",
      "2024-03-06 19:46:47,398 - boundary_types.py[line:68] - INFO: Compartment `e` sounds like an external compartment. Using this one without counting boundary reactions.\n",
      "2024-03-06 19:46:47,581 - 1263953134.py[line:20] - INFO: Nitrite: NG\n",
      "2024-03-06 19:46:47,582 - model.py[line:209] - INFO: The current solver interface glpk doesn't support setting the optimality tolerance.\n",
      "2024-03-06 19:46:48,009 - boundary_types.py[line:68] - INFO: Compartment `e` sounds like an external compartment. Using this one without counting boundary reactions.\n",
      "2024-03-06 19:46:48,010 - 3936220034.py[line:5] - INFO: add s_4164 <=> \n",
      "2024-03-06 19:46:48,012 - model.py[line:209] - INFO: The current solver interface glpk doesn't support setting the optimality tolerance.\n",
      "2024-03-06 19:46:48,437 - boundary_types.py[line:68] - INFO: Compartment `e` sounds like an external compartment. Using this one without counting boundary reactions.\n",
      "2024-03-06 19:46:48,453 - boundary_types.py[line:68] - INFO: Compartment `e` sounds like an external compartment. Using this one without counting boundary reactions.\n",
      "2024-03-06 19:46:49,084 - 1263953134.py[line:20] - INFO: D-Glucosamine: G\n",
      "2024-03-06 19:46:49,085 - model.py[line:209] - INFO: The current solver interface glpk doesn't support setting the optimality tolerance.\n",
      "2024-03-06 19:46:51,369 - boundary_types.py[line:68] - INFO: Compartment `e` sounds like an external compartment. Using this one without counting boundary reactions.\n",
      "2024-03-06 19:46:51,371 - 3936220034.py[line:5] - INFO: add s_4164 <=> \n",
      "2024-03-06 19:46:51,371 - model.py[line:209] - INFO: The current solver interface glpk doesn't support setting the optimality tolerance.\n",
      "2024-03-06 19:46:51,783 - boundary_types.py[line:68] - INFO: Compartment `e` sounds like an external compartment. Using this one without counting boundary reactions.\n",
      "2024-03-06 19:46:51,797 - boundary_types.py[line:68] - INFO: Compartment `e` sounds like an external compartment. Using this one without counting boundary reactions.\n",
      "2024-03-06 19:46:52,291 - 1263953134.py[line:20] - INFO: D-Glucosamine: G\n",
      "2024-03-06 19:46:52,294 - model.py[line:209] - INFO: The current solver interface glpk doesn't support setting the optimality tolerance.\n",
      "2024-03-06 19:46:52,712 - boundary_types.py[line:68] - INFO: Compartment `e` sounds like an external compartment. Using this one without counting boundary reactions.\n",
      "2024-03-06 19:46:52,717 - boundary_types.py[line:68] - INFO: Compartment `e` sounds like an external compartment. Using this one without counting boundary reactions.\n",
      "2024-03-06 19:46:52,718 - 3936220034.py[line:12] - INFO: add s_3962 <=> \n",
      "2024-03-06 19:46:52,719 - model.py[line:209] - INFO: The current solver interface glpk doesn't support setting the optimality tolerance.\n"
     ]
    },
    {
     "name": "stdout",
     "output_type": "stream",
     "text": [
      "s_3962\n"
     ]
    },
    {
     "name": "stderr",
     "output_type": "stream",
     "text": [
      "2024-03-06 19:46:53,145 - boundary_types.py[line:68] - INFO: Compartment `e` sounds like an external compartment. Using this one without counting boundary reactions.\n",
      "2024-03-06 19:46:53,159 - boundary_types.py[line:68] - INFO: Compartment `e` sounds like an external compartment. Using this one without counting boundary reactions.\n",
      "2024-03-06 19:46:53,704 - glpk_interface.py[line:689] - DEBUG: Status undefined. GLPK status code returned by glp_simplex was 10\n",
      "c:\\Users\\13293\\APP\\anaconda\\envs\\yeast9\\lib\\site-packages\\cobra\\util\\solver.py:554: UserWarning: Solver status is 'infeasible'.\n",
      "  warn(f\"Solver status is '{status}'.\", UserWarning)\n",
      "2024-03-06 19:46:53,723 - 1263953134.py[line:20] - INFO: D-Glucarate: NG\n",
      "2024-03-06 19:46:53,725 - model.py[line:209] - INFO: The current solver interface glpk doesn't support setting the optimality tolerance.\n",
      "2024-03-06 19:46:54,163 - boundary_types.py[line:68] - INFO: Compartment `e` sounds like an external compartment. Using this one without counting boundary reactions.\n",
      "2024-03-06 19:46:54,168 - boundary_types.py[line:68] - INFO: Compartment `e` sounds like an external compartment. Using this one without counting boundary reactions.\n",
      "2024-03-06 19:46:54,170 - 3936220034.py[line:12] - INFO: add s_3997 <=> \n",
      "2024-03-06 19:46:54,171 - model.py[line:209] - INFO: The current solver interface glpk doesn't support setting the optimality tolerance.\n"
     ]
    },
    {
     "name": "stdout",
     "output_type": "stream",
     "text": [
      "s_3997\n"
     ]
    },
    {
     "name": "stderr",
     "output_type": "stream",
     "text": [
      "2024-03-06 19:46:54,627 - boundary_types.py[line:68] - INFO: Compartment `e` sounds like an external compartment. Using this one without counting boundary reactions.\n",
      "2024-03-06 19:46:54,642 - boundary_types.py[line:68] - INFO: Compartment `e` sounds like an external compartment. Using this one without counting boundary reactions.\n",
      "2024-03-06 19:46:55,236 - 1263953134.py[line:20] - INFO: glycolate: G\n",
      "2024-03-06 19:46:55,238 - model.py[line:209] - INFO: The current solver interface glpk doesn't support setting the optimality tolerance.\n",
      "2024-03-06 19:46:55,699 - boundary_types.py[line:68] - INFO: Compartment `e` sounds like an external compartment. Using this one without counting boundary reactions.\n",
      "2024-03-06 19:46:55,704 - boundary_types.py[line:68] - INFO: Compartment `e` sounds like an external compartment. Using this one without counting boundary reactions.\n",
      "2024-03-06 19:46:55,704 - 3936220034.py[line:12] - INFO: add s_4000 <=> \n",
      "2024-03-06 19:46:55,705 - model.py[line:209] - INFO: The current solver interface glpk doesn't support setting the optimality tolerance.\n"
     ]
    },
    {
     "name": "stdout",
     "output_type": "stream",
     "text": [
      "s_4000\n"
     ]
    },
    {
     "name": "stderr",
     "output_type": "stream",
     "text": [
      "2024-03-06 19:46:56,128 - boundary_types.py[line:68] - INFO: Compartment `e` sounds like an external compartment. Using this one without counting boundary reactions.\n",
      "2024-03-06 19:46:56,142 - boundary_types.py[line:68] - INFO: Compartment `e` sounds like an external compartment. Using this one without counting boundary reactions.\n",
      "2024-03-06 19:46:56,710 - 1263953134.py[line:20] - INFO: Dextrin: G\n",
      "2024-03-06 19:46:56,712 - model.py[line:209] - INFO: The current solver interface glpk doesn't support setting the optimality tolerance.\n",
      "2024-03-06 19:46:57,140 - boundary_types.py[line:68] - INFO: Compartment `e` sounds like an external compartment. Using this one without counting boundary reactions.\n",
      "2024-03-06 19:46:57,142 - 3936220034.py[line:5] - INFO: add s_4159 <=> \n",
      "2024-03-06 19:46:57,143 - model.py[line:209] - INFO: The current solver interface glpk doesn't support setting the optimality tolerance.\n",
      "2024-03-06 19:46:57,568 - boundary_types.py[line:68] - INFO: Compartment `e` sounds like an external compartment. Using this one without counting boundary reactions.\n",
      "2024-03-06 19:46:57,582 - boundary_types.py[line:68] - INFO: Compartment `e` sounds like an external compartment. Using this one without counting boundary reactions.\n",
      "2024-03-06 19:46:57,795 - 1263953134.py[line:20] - INFO: thiosulfate: NG\n",
      "2024-03-06 19:46:57,796 - model.py[line:209] - INFO: The current solver interface glpk doesn't support setting the optimality tolerance.\n",
      "2024-03-06 19:46:58,207 - boundary_types.py[line:68] - INFO: Compartment `e` sounds like an external compartment. Using this one without counting boundary reactions.\n",
      "2024-03-06 19:46:58,213 - boundary_types.py[line:68] - INFO: Compartment `e` sounds like an external compartment. Using this one without counting boundary reactions.\n",
      "2024-03-06 19:46:58,214 - 3936220034.py[line:12] - INFO: add s_4017 <=> \n",
      "2024-03-06 19:46:58,215 - model.py[line:209] - INFO: The current solver interface glpk doesn't support setting the optimality tolerance.\n"
     ]
    },
    {
     "name": "stdout",
     "output_type": "stream",
     "text": [
      "s_4017\n"
     ]
    },
    {
     "name": "stderr",
     "output_type": "stream",
     "text": [
      "2024-03-06 19:46:58,634 - boundary_types.py[line:68] - INFO: Compartment `e` sounds like an external compartment. Using this one without counting boundary reactions.\n",
      "2024-03-06 19:46:58,648 - boundary_types.py[line:68] - INFO: Compartment `e` sounds like an external compartment. Using this one without counting boundary reactions.\n",
      "2024-03-06 19:46:59,196 - glpk_interface.py[line:689] - DEBUG: Status undefined. GLPK status code returned by glp_simplex was 10\n",
      "c:\\Users\\13293\\APP\\anaconda\\envs\\yeast9\\lib\\site-packages\\cobra\\util\\solver.py:554: UserWarning: Solver status is 'infeasible'.\n",
      "  warn(f\"Solver status is '{status}'.\", UserWarning)\n",
      "2024-03-06 19:46:59,215 - 1263953134.py[line:20] - INFO: N-Acetyl-D-glucosamine: NG\n",
      "2024-03-06 19:46:59,217 - model.py[line:209] - INFO: The current solver interface glpk doesn't support setting the optimality tolerance.\n",
      "2024-03-06 19:46:59,640 - boundary_types.py[line:68] - INFO: Compartment `e` sounds like an external compartment. Using this one without counting boundary reactions.\n",
      "2024-03-06 19:46:59,647 - boundary_types.py[line:68] - INFO: Compartment `e` sounds like an external compartment. Using this one without counting boundary reactions.\n",
      "2024-03-06 19:46:59,647 - 3936220034.py[line:12] - INFO: add s_4017 <=> \n",
      "2024-03-06 19:46:59,648 - model.py[line:209] - INFO: The current solver interface glpk doesn't support setting the optimality tolerance.\n"
     ]
    },
    {
     "name": "stdout",
     "output_type": "stream",
     "text": [
      "s_4017\n"
     ]
    },
    {
     "name": "stderr",
     "output_type": "stream",
     "text": [
      "2024-03-06 19:47:00,106 - boundary_types.py[line:68] - INFO: Compartment `e` sounds like an external compartment. Using this one without counting boundary reactions.\n",
      "2024-03-06 19:47:00,121 - boundary_types.py[line:68] - INFO: Compartment `e` sounds like an external compartment. Using this one without counting boundary reactions.\n",
      "2024-03-06 19:47:00,304 - 1263953134.py[line:20] - INFO: N-Acetyl-D-glucosamine: NG\n",
      "2024-03-06 19:47:00,305 - model.py[line:209] - INFO: The current solver interface glpk doesn't support setting the optimality tolerance.\n",
      "2024-03-06 19:47:00,766 - boundary_types.py[line:68] - INFO: Compartment `e` sounds like an external compartment. Using this one without counting boundary reactions.\n",
      "2024-03-06 19:47:00,770 - boundary_types.py[line:68] - INFO: Compartment `e` sounds like an external compartment. Using this one without counting boundary reactions.\n",
      "2024-03-06 19:47:00,771 - 3936220034.py[line:12] - INFO: add s_4036 <=> \n",
      "2024-03-06 19:47:00,772 - model.py[line:209] - INFO: The current solver interface glpk doesn't support setting the optimality tolerance.\n"
     ]
    },
    {
     "name": "stdout",
     "output_type": "stream",
     "text": [
      "s_4036\n"
     ]
    },
    {
     "name": "stderr",
     "output_type": "stream",
     "text": [
      "2024-03-06 19:47:01,212 - boundary_types.py[line:68] - INFO: Compartment `e` sounds like an external compartment. Using this one without counting boundary reactions.\n",
      "2024-03-06 19:47:01,227 - boundary_types.py[line:68] - INFO: Compartment `e` sounds like an external compartment. Using this one without counting boundary reactions.\n",
      "2024-03-06 19:47:01,757 - 1263953134.py[line:20] - INFO: Ala-Gln: G\n",
      "2024-03-06 19:47:01,759 - model.py[line:209] - INFO: The current solver interface glpk doesn't support setting the optimality tolerance.\n",
      "2024-03-06 19:47:04,048 - boundary_types.py[line:68] - INFO: Compartment `e` sounds like an external compartment. Using this one without counting boundary reactions.\n",
      "2024-03-06 19:47:04,053 - boundary_types.py[line:68] - INFO: Compartment `e` sounds like an external compartment. Using this one without counting boundary reactions.\n",
      "2024-03-06 19:47:04,055 - 3936220034.py[line:12] - INFO: add s_4039 <=> \n",
      "2024-03-06 19:47:04,055 - model.py[line:209] - INFO: The current solver interface glpk doesn't support setting the optimality tolerance.\n"
     ]
    },
    {
     "name": "stdout",
     "output_type": "stream",
     "text": [
      "s_4039\n"
     ]
    },
    {
     "name": "stderr",
     "output_type": "stream",
     "text": [
      "2024-03-06 19:47:04,482 - boundary_types.py[line:68] - INFO: Compartment `e` sounds like an external compartment. Using this one without counting boundary reactions.\n",
      "2024-03-06 19:47:04,496 - boundary_types.py[line:68] - INFO: Compartment `e` sounds like an external compartment. Using this one without counting boundary reactions.\n",
      "2024-03-06 19:47:05,034 - 1263953134.py[line:20] - INFO: Ala-Glu: G\n",
      "2024-03-06 19:47:05,036 - model.py[line:209] - INFO: The current solver interface glpk doesn't support setting the optimality tolerance.\n",
      "2024-03-06 19:47:05,447 - boundary_types.py[line:68] - INFO: Compartment `e` sounds like an external compartment. Using this one without counting boundary reactions.\n",
      "2024-03-06 19:47:05,451 - boundary_types.py[line:68] - INFO: Compartment `e` sounds like an external compartment. Using this one without counting boundary reactions.\n",
      "2024-03-06 19:47:05,452 - 3936220034.py[line:12] - INFO: add s_4042 <=> \n",
      "2024-03-06 19:47:05,453 - model.py[line:209] - INFO: The current solver interface glpk doesn't support setting the optimality tolerance.\n"
     ]
    },
    {
     "name": "stdout",
     "output_type": "stream",
     "text": [
      "s_4042\n"
     ]
    },
    {
     "name": "stderr",
     "output_type": "stream",
     "text": [
      "2024-03-06 19:47:05,880 - boundary_types.py[line:68] - INFO: Compartment `e` sounds like an external compartment. Using this one without counting boundary reactions.\n",
      "2024-03-06 19:47:05,894 - boundary_types.py[line:68] - INFO: Compartment `e` sounds like an external compartment. Using this one without counting boundary reactions.\n",
      "2024-03-06 19:47:06,466 - 1263953134.py[line:20] - INFO: Ala-Thr: G\n",
      "2024-03-06 19:47:06,467 - model.py[line:209] - INFO: The current solver interface glpk doesn't support setting the optimality tolerance.\n",
      "2024-03-06 19:47:06,876 - boundary_types.py[line:68] - INFO: Compartment `e` sounds like an external compartment. Using this one without counting boundary reactions.\n",
      "2024-03-06 19:47:06,877 - 3936220034.py[line:5] - INFO: add s_4045 <=> \n",
      "2024-03-06 19:47:06,879 - model.py[line:209] - INFO: The current solver interface glpk doesn't support setting the optimality tolerance.\n",
      "2024-03-06 19:47:07,309 - boundary_types.py[line:68] - INFO: Compartment `e` sounds like an external compartment. Using this one without counting boundary reactions.\n",
      "2024-03-06 19:47:07,323 - boundary_types.py[line:68] - INFO: Compartment `e` sounds like an external compartment. Using this one without counting boundary reactions.\n",
      "2024-03-06 19:47:07,765 - 1263953134.py[line:20] - INFO: thymidine 3'-monophosphate: G\n",
      "2024-03-06 19:47:07,765 - model.py[line:209] - INFO: The current solver interface glpk doesn't support setting the optimality tolerance.\n",
      "2024-03-06 19:47:08,191 - boundary_types.py[line:68] - INFO: Compartment `e` sounds like an external compartment. Using this one without counting boundary reactions.\n",
      "2024-03-06 19:47:08,193 - 3936220034.py[line:5] - INFO: add s_4047 <=> \n",
      "2024-03-06 19:47:08,194 - model.py[line:209] - INFO: The current solver interface glpk doesn't support setting the optimality tolerance.\n",
      "2024-03-06 19:47:08,623 - boundary_types.py[line:68] - INFO: Compartment `e` sounds like an external compartment. Using this one without counting boundary reactions.\n",
      "2024-03-06 19:47:08,637 - boundary_types.py[line:68] - INFO: Compartment `e` sounds like an external compartment. Using this one without counting boundary reactions.\n",
      "2024-03-06 19:47:09,100 - 1263953134.py[line:20] - INFO: thymidine 5'-monophosphate: G\n",
      "2024-03-06 19:47:09,101 - model.py[line:209] - INFO: The current solver interface glpk doesn't support setting the optimality tolerance.\n",
      "2024-03-06 19:47:09,514 - boundary_types.py[line:68] - INFO: Compartment `e` sounds like an external compartment. Using this one without counting boundary reactions.\n",
      "2024-03-06 19:47:09,516 - 3936220034.py[line:5] - INFO: add s_4049 <=> \n",
      "2024-03-06 19:47:09,517 - model.py[line:209] - INFO: The current solver interface glpk doesn't support setting the optimality tolerance.\n",
      "2024-03-06 19:47:09,949 - boundary_types.py[line:68] - INFO: Compartment `e` sounds like an external compartment. Using this one without counting boundary reactions.\n",
      "2024-03-06 19:47:09,963 - boundary_types.py[line:68] - INFO: Compartment `e` sounds like an external compartment. Using this one without counting boundary reactions.\n",
      "2024-03-06 19:47:10,443 - 1263953134.py[line:20] - INFO: glycerol 1-phosphate: G\n",
      "2024-03-06 19:47:10,445 - model.py[line:209] - INFO: The current solver interface glpk doesn't support setting the optimality tolerance.\n",
      "2024-03-06 19:47:10,859 - boundary_types.py[line:68] - INFO: Compartment `e` sounds like an external compartment. Using this one without counting boundary reactions.\n",
      "2024-03-06 19:47:10,865 - boundary_types.py[line:68] - INFO: Compartment `e` sounds like an external compartment. Using this one without counting boundary reactions.\n",
      "2024-03-06 19:47:10,866 - 3936220034.py[line:12] - INFO: add s_4052 <=> \n",
      "2024-03-06 19:47:10,867 - model.py[line:209] - INFO: The current solver interface glpk doesn't support setting the optimality tolerance.\n"
     ]
    },
    {
     "name": "stdout",
     "output_type": "stream",
     "text": [
      "s_4052\n"
     ]
    },
    {
     "name": "stderr",
     "output_type": "stream",
     "text": [
      "2024-03-06 19:47:11,296 - boundary_types.py[line:68] - INFO: Compartment `e` sounds like an external compartment. Using this one without counting boundary reactions.\n",
      "2024-03-06 19:47:11,311 - boundary_types.py[line:68] - INFO: Compartment `e` sounds like an external compartment. Using this one without counting boundary reactions.\n",
      "2024-03-06 19:47:11,837 - 1263953134.py[line:20] - INFO: Ala-His: G\n",
      "2024-03-06 19:47:11,838 - model.py[line:209] - INFO: The current solver interface glpk doesn't support setting the optimality tolerance.\n",
      "2024-03-06 19:47:12,253 - boundary_types.py[line:68] - INFO: Compartment `e` sounds like an external compartment. Using this one without counting boundary reactions.\n",
      "2024-03-06 19:47:12,258 - boundary_types.py[line:68] - INFO: Compartment `e` sounds like an external compartment. Using this one without counting boundary reactions.\n",
      "2024-03-06 19:47:12,259 - 3936220034.py[line:12] - INFO: add s_4055 <=> \n",
      "2024-03-06 19:47:12,260 - model.py[line:209] - INFO: The current solver interface glpk doesn't support setting the optimality tolerance.\n"
     ]
    },
    {
     "name": "stdout",
     "output_type": "stream",
     "text": [
      "s_4055\n"
     ]
    },
    {
     "name": "stderr",
     "output_type": "stream",
     "text": [
      "2024-03-06 19:47:12,732 - boundary_types.py[line:68] - INFO: Compartment `e` sounds like an external compartment. Using this one without counting boundary reactions.\n",
      "2024-03-06 19:47:12,745 - boundary_types.py[line:68] - INFO: Compartment `e` sounds like an external compartment. Using this one without counting boundary reactions.\n",
      "2024-03-06 19:47:13,254 - 1263953134.py[line:20] - INFO: Gly-Asn: G\n",
      "2024-03-06 19:47:13,255 - model.py[line:209] - INFO: The current solver interface glpk doesn't support setting the optimality tolerance.\n",
      "2024-03-06 19:47:13,674 - boundary_types.py[line:68] - INFO: Compartment `e` sounds like an external compartment. Using this one without counting boundary reactions.\n",
      "2024-03-06 19:47:13,674 - boundary_types.py[line:68] - INFO: Compartment `e` sounds like an external compartment. Using this one without counting boundary reactions.\n",
      "2024-03-06 19:47:13,674 - 3936220034.py[line:12] - INFO: add s_4058 <=> \n",
      "2024-03-06 19:47:13,674 - model.py[line:209] - INFO: The current solver interface glpk doesn't support setting the optimality tolerance.\n"
     ]
    },
    {
     "name": "stdout",
     "output_type": "stream",
     "text": [
      "s_4058\n"
     ]
    },
    {
     "name": "stderr",
     "output_type": "stream",
     "text": [
      "2024-03-06 19:47:14,147 - boundary_types.py[line:68] - INFO: Compartment `e` sounds like an external compartment. Using this one without counting boundary reactions.\n",
      "2024-03-06 19:47:14,161 - boundary_types.py[line:68] - INFO: Compartment `e` sounds like an external compartment. Using this one without counting boundary reactions.\n",
      "2024-03-06 19:47:14,762 - 1263953134.py[line:20] - INFO: Gly-Gln: G\n",
      "2024-03-06 19:47:14,764 - model.py[line:209] - INFO: The current solver interface glpk doesn't support setting the optimality tolerance.\n",
      "2024-03-06 19:47:17,084 - boundary_types.py[line:68] - INFO: Compartment `e` sounds like an external compartment. Using this one without counting boundary reactions.\n",
      "2024-03-06 19:47:17,089 - boundary_types.py[line:68] - INFO: Compartment `e` sounds like an external compartment. Using this one without counting boundary reactions.\n",
      "2024-03-06 19:47:17,091 - 3936220034.py[line:12] - INFO: add s_4061 <=> \n",
      "2024-03-06 19:47:17,093 - model.py[line:209] - INFO: The current solver interface glpk doesn't support setting the optimality tolerance.\n"
     ]
    },
    {
     "name": "stdout",
     "output_type": "stream",
     "text": [
      "s_4061\n"
     ]
    },
    {
     "name": "stderr",
     "output_type": "stream",
     "text": [
      "2024-03-06 19:47:17,513 - boundary_types.py[line:68] - INFO: Compartment `e` sounds like an external compartment. Using this one without counting boundary reactions.\n",
      "2024-03-06 19:47:17,527 - boundary_types.py[line:68] - INFO: Compartment `e` sounds like an external compartment. Using this one without counting boundary reactions.\n",
      "2024-03-06 19:47:18,053 - 1263953134.py[line:20] - INFO: Gly-Glu: G\n",
      "2024-03-06 19:47:18,054 - model.py[line:209] - INFO: The current solver interface glpk doesn't support setting the optimality tolerance.\n",
      "2024-03-06 19:47:18,476 - boundary_types.py[line:68] - INFO: Compartment `e` sounds like an external compartment. Using this one without counting boundary reactions.\n",
      "2024-03-06 19:47:18,477 - 3936220034.py[line:5] - INFO: add s_4063 <=> \n",
      "2024-03-06 19:47:18,478 - model.py[line:209] - INFO: The current solver interface glpk doesn't support setting the optimality tolerance.\n",
      "2024-03-06 19:47:18,892 - boundary_types.py[line:68] - INFO: Compartment `e` sounds like an external compartment. Using this one without counting boundary reactions.\n",
      "2024-03-06 19:47:18,905 - boundary_types.py[line:68] - INFO: Compartment `e` sounds like an external compartment. Using this one without counting boundary reactions.\n",
      "2024-03-06 19:47:19,440 - 1263953134.py[line:20] - INFO: glycerol 2-phosphate(2-): G\n",
      "2024-03-06 19:47:19,442 - model.py[line:209] - INFO: The current solver interface glpk doesn't support setting the optimality tolerance.\n",
      "2024-03-06 19:47:19,857 - boundary_types.py[line:68] - INFO: Compartment `e` sounds like an external compartment. Using this one without counting boundary reactions.\n",
      "2024-03-06 19:47:19,857 - 3936220034.py[line:5] - INFO: add s_4065 <=> \n",
      "2024-03-06 19:47:19,857 - model.py[line:209] - INFO: The current solver interface glpk doesn't support setting the optimality tolerance.\n",
      "2024-03-06 19:47:20,301 - boundary_types.py[line:68] - INFO: Compartment `e` sounds like an external compartment. Using this one without counting boundary reactions.\n",
      "2024-03-06 19:47:20,315 - boundary_types.py[line:68] - INFO: Compartment `e` sounds like an external compartment. Using this one without counting boundary reactions.\n",
      "2024-03-06 19:47:20,903 - 1263953134.py[line:20] - INFO: O-phospho-L-threonine: G\n",
      "2024-03-06 19:47:20,905 - model.py[line:209] - INFO: The current solver interface glpk doesn't support setting the optimality tolerance.\n",
      "2024-03-06 19:47:21,317 - boundary_types.py[line:68] - INFO: Compartment `e` sounds like an external compartment. Using this one without counting boundary reactions.\n",
      "2024-03-06 19:47:21,317 - 3936220034.py[line:5] - INFO: add s_4067 <=> \n",
      "2024-03-06 19:47:21,318 - model.py[line:209] - INFO: The current solver interface glpk doesn't support setting the optimality tolerance.\n",
      "2024-03-06 19:47:21,736 - boundary_types.py[line:68] - INFO: Compartment `e` sounds like an external compartment. Using this one without counting boundary reactions.\n",
      "2024-03-06 19:47:21,751 - boundary_types.py[line:68] - INFO: Compartment `e` sounds like an external compartment. Using this one without counting boundary reactions.\n",
      "2024-03-06 19:47:22,256 - 1263953134.py[line:20] - INFO: guanosine 2'-monophosphate: G\n",
      "2024-03-06 19:47:22,257 - model.py[line:209] - INFO: The current solver interface glpk doesn't support setting the optimality tolerance.\n",
      "2024-03-06 19:47:22,678 - boundary_types.py[line:68] - INFO: Compartment `e` sounds like an external compartment. Using this one without counting boundary reactions.\n",
      "2024-03-06 19:47:22,680 - 3936220034.py[line:5] - INFO: add s_4069 <=> \n",
      "2024-03-06 19:47:22,681 - model.py[line:209] - INFO: The current solver interface glpk doesn't support setting the optimality tolerance.\n",
      "2024-03-06 19:47:23,105 - boundary_types.py[line:68] - INFO: Compartment `e` sounds like an external compartment. Using this one without counting boundary reactions.\n",
      "2024-03-06 19:47:23,120 - boundary_types.py[line:68] - INFO: Compartment `e` sounds like an external compartment. Using this one without counting boundary reactions.\n",
      "2024-03-06 19:47:23,616 - 1263953134.py[line:20] - INFO: 3'-GMP: G\n",
      "2024-03-06 19:47:23,618 - model.py[line:209] - INFO: The current solver interface glpk doesn't support setting the optimality tolerance.\n",
      "2024-03-06 19:47:24,036 - boundary_types.py[line:68] - INFO: Compartment `e` sounds like an external compartment. Using this one without counting boundary reactions.\n",
      "2024-03-06 19:47:24,040 - boundary_types.py[line:68] - INFO: Compartment `e` sounds like an external compartment. Using this one without counting boundary reactions.\n",
      "2024-03-06 19:47:24,041 - 3936220034.py[line:12] - INFO: add s_4071 <=> \n",
      "2024-03-06 19:47:24,042 - model.py[line:209] - INFO: The current solver interface glpk doesn't support setting the optimality tolerance.\n"
     ]
    },
    {
     "name": "stdout",
     "output_type": "stream",
     "text": [
      "s_4071\n"
     ]
    },
    {
     "name": "stderr",
     "output_type": "stream",
     "text": [
      "2024-03-06 19:47:24,457 - boundary_types.py[line:68] - INFO: Compartment `e` sounds like an external compartment. Using this one without counting boundary reactions.\n",
      "2024-03-06 19:47:24,476 - boundary_types.py[line:68] - INFO: Compartment `e` sounds like an external compartment. Using this one without counting boundary reactions.\n",
      "2024-03-06 19:47:25,023 - 1263953134.py[line:20] - INFO: 2-phosphoglycolate: G\n",
      "2024-03-06 19:47:25,025 - model.py[line:209] - INFO: The current solver interface glpk doesn't support setting the optimality tolerance.\n",
      "2024-03-06 19:47:25,444 - boundary_types.py[line:68] - INFO: Compartment `e` sounds like an external compartment. Using this one without counting boundary reactions.\n",
      "2024-03-06 19:47:25,444 - 3936220034.py[line:5] - INFO: add s_4075 <=> \n",
      "2024-03-06 19:47:25,444 - model.py[line:209] - INFO: The current solver interface glpk doesn't support setting the optimality tolerance.\n",
      "2024-03-06 19:47:25,860 - boundary_types.py[line:68] - INFO: Compartment `e` sounds like an external compartment. Using this one without counting boundary reactions.\n",
      "2024-03-06 19:47:25,874 - boundary_types.py[line:68] - INFO: Compartment `e` sounds like an external compartment. Using this one without counting boundary reactions.\n",
      "2024-03-06 19:47:26,351 - 1263953134.py[line:20] - INFO: cysteamine S-phosphate: G\n",
      "2024-03-06 19:47:26,352 - model.py[line:209] - INFO: The current solver interface glpk doesn't support setting the optimality tolerance.\n",
      "2024-03-06 19:47:26,777 - boundary_types.py[line:68] - INFO: Compartment `e` sounds like an external compartment. Using this one without counting boundary reactions.\n",
      "2024-03-06 19:47:26,778 - 3936220034.py[line:5] - INFO: add s_4078 <=> \n",
      "2024-03-06 19:47:26,780 - model.py[line:209] - INFO: The current solver interface glpk doesn't support setting the optimality tolerance.\n",
      "2024-03-06 19:47:27,214 - boundary_types.py[line:68] - INFO: Compartment `e` sounds like an external compartment. Using this one without counting boundary reactions.\n",
      "2024-03-06 19:47:27,229 - boundary_types.py[line:68] - INFO: Compartment `e` sounds like an external compartment. Using this one without counting boundary reactions.\n",
      "2024-03-06 19:47:27,701 - 1263953134.py[line:20] - INFO: O-phosphonatooxy-D-serine(2-): G\n",
      "2024-03-06 19:47:27,701 - model.py[line:209] - INFO: The current solver interface glpk doesn't support setting the optimality tolerance.\n",
      "2024-03-06 19:47:30,031 - boundary_types.py[line:68] - INFO: Compartment `e` sounds like an external compartment. Using this one without counting boundary reactions.\n",
      "2024-03-06 19:47:30,033 - 3936220034.py[line:5] - INFO: add s_4080 <=> \n",
      "2024-03-06 19:47:30,034 - model.py[line:209] - INFO: The current solver interface glpk doesn't support setting the optimality tolerance.\n",
      "2024-03-06 19:47:30,447 - boundary_types.py[line:68] - INFO: Compartment `e` sounds like an external compartment. Using this one without counting boundary reactions.\n",
      "2024-03-06 19:47:30,461 - boundary_types.py[line:68] - INFO: Compartment `e` sounds like an external compartment. Using this one without counting boundary reactions.\n",
      "2024-03-06 19:47:30,946 - 1263953134.py[line:20] - INFO: 2-aminobutanoate: G\n",
      "2024-03-06 19:47:30,947 - model.py[line:209] - INFO: The current solver interface glpk doesn't support setting the optimality tolerance.\n",
      "2024-03-06 19:47:31,359 - boundary_types.py[line:68] - INFO: Compartment `e` sounds like an external compartment. Using this one without counting boundary reactions.\n",
      "2024-03-06 19:47:31,360 - 3936220034.py[line:5] - INFO: add s_4082 <=> \n",
      "2024-03-06 19:47:31,361 - model.py[line:209] - INFO: The current solver interface glpk doesn't support setting the optimality tolerance.\n",
      "2024-03-06 19:47:31,771 - boundary_types.py[line:68] - INFO: Compartment `e` sounds like an external compartment. Using this one without counting boundary reactions.\n",
      "2024-03-06 19:47:31,785 - boundary_types.py[line:68] - INFO: Compartment `e` sounds like an external compartment. Using this one without counting boundary reactions.\n",
      "2024-03-06 19:47:32,247 - 1263953134.py[line:20] - INFO: uridine 2'-phosphate: G\n",
      "2024-03-06 19:47:32,248 - model.py[line:209] - INFO: The current solver interface glpk doesn't support setting the optimality tolerance.\n",
      "2024-03-06 19:47:32,648 - boundary_types.py[line:68] - INFO: Compartment `e` sounds like an external compartment. Using this one without counting boundary reactions.\n",
      "2024-03-06 19:47:32,650 - 3936220034.py[line:5] - INFO: add s_4084 <=> \n",
      "2024-03-06 19:47:32,651 - model.py[line:209] - INFO: The current solver interface glpk doesn't support setting the optimality tolerance.\n",
      "2024-03-06 19:47:33,071 - boundary_types.py[line:68] - INFO: Compartment `e` sounds like an external compartment. Using this one without counting boundary reactions.\n",
      "2024-03-06 19:47:33,086 - boundary_types.py[line:68] - INFO: Compartment `e` sounds like an external compartment. Using this one without counting boundary reactions.\n",
      "2024-03-06 19:47:33,536 - 1263953134.py[line:20] - INFO: 3'-UMP: G\n",
      "2024-03-06 19:47:33,538 - model.py[line:209] - INFO: The current solver interface glpk doesn't support setting the optimality tolerance.\n",
      "2024-03-06 19:47:33,941 - boundary_types.py[line:68] - INFO: Compartment `e` sounds like an external compartment. Using this one without counting boundary reactions.\n",
      "2024-03-06 19:47:33,948 - boundary_types.py[line:68] - INFO: Compartment `e` sounds like an external compartment. Using this one without counting boundary reactions.\n",
      "2024-03-06 19:47:33,949 - 3936220034.py[line:12] - INFO: add s_4087 <=> \n",
      "2024-03-06 19:47:33,950 - model.py[line:209] - INFO: The current solver interface glpk doesn't support setting the optimality tolerance.\n"
     ]
    },
    {
     "name": "stdout",
     "output_type": "stream",
     "text": [
      "s_4087\n"
     ]
    },
    {
     "name": "stderr",
     "output_type": "stream",
     "text": [
      "2024-03-06 19:47:34,372 - boundary_types.py[line:68] - INFO: Compartment `e` sounds like an external compartment. Using this one without counting boundary reactions.\n",
      "2024-03-06 19:47:34,387 - boundary_types.py[line:68] - INFO: Compartment `e` sounds like an external compartment. Using this one without counting boundary reactions.\n",
      "2024-03-06 19:47:34,950 - 1263953134.py[line:20] - INFO: Gly-Met: G\n",
      "2024-03-06 19:47:34,952 - model.py[line:209] - INFO: The current solver interface glpk doesn't support setting the optimality tolerance.\n",
      "2024-03-06 19:47:35,381 - boundary_types.py[line:68] - INFO: Compartment `e` sounds like an external compartment. Using this one without counting boundary reactions.\n",
      "2024-03-06 19:47:35,386 - boundary_types.py[line:68] - INFO: Compartment `e` sounds like an external compartment. Using this one without counting boundary reactions.\n",
      "2024-03-06 19:47:35,387 - 3936220034.py[line:12] - INFO: add s_4087 <=> \n",
      "2024-03-06 19:47:35,389 - model.py[line:209] - INFO: The current solver interface glpk doesn't support setting the optimality tolerance.\n"
     ]
    },
    {
     "name": "stdout",
     "output_type": "stream",
     "text": [
      "s_4087\n"
     ]
    },
    {
     "name": "stderr",
     "output_type": "stream",
     "text": [
      "2024-03-06 19:47:35,858 - boundary_types.py[line:68] - INFO: Compartment `e` sounds like an external compartment. Using this one without counting boundary reactions.\n",
      "2024-03-06 19:47:35,873 - boundary_types.py[line:68] - INFO: Compartment `e` sounds like an external compartment. Using this one without counting boundary reactions.\n",
      "2024-03-06 19:47:36,408 - 1263953134.py[line:20] - INFO: Gly-Met: G\n",
      "2024-03-06 19:47:36,409 - model.py[line:209] - INFO: The current solver interface glpk doesn't support setting the optimality tolerance.\n",
      "2024-03-06 19:47:36,845 - boundary_types.py[line:68] - INFO: Compartment `e` sounds like an external compartment. Using this one without counting boundary reactions.\n",
      "2024-03-06 19:47:36,846 - 3936220034.py[line:5] - INFO: add s_4090 <=> \n",
      "2024-03-06 19:47:36,847 - model.py[line:209] - INFO: The current solver interface glpk doesn't support setting the optimality tolerance.\n",
      "2024-03-06 19:47:37,263 - boundary_types.py[line:68] - INFO: Compartment `e` sounds like an external compartment. Using this one without counting boundary reactions.\n",
      "2024-03-06 19:47:37,276 - boundary_types.py[line:68] - INFO: Compartment `e` sounds like an external compartment. Using this one without counting boundary reactions.\n",
      "2024-03-06 19:47:37,689 - 1263953134.py[line:20] - INFO: N-phosphocreatine: NG\n",
      "2024-03-06 19:47:37,691 - model.py[line:209] - INFO: The current solver interface glpk doesn't support setting the optimality tolerance.\n",
      "2024-03-06 19:47:38,102 - boundary_types.py[line:68] - INFO: Compartment `e` sounds like an external compartment. Using this one without counting boundary reactions.\n",
      "2024-03-06 19:47:38,104 - 3936220034.py[line:5] - INFO: add s_4093 <=> \n",
      "2024-03-06 19:47:38,104 - model.py[line:209] - INFO: The current solver interface glpk doesn't support setting the optimality tolerance.\n",
      "2024-03-06 19:47:38,510 - boundary_types.py[line:68] - INFO: Compartment `e` sounds like an external compartment. Using this one without counting boundary reactions.\n",
      "2024-03-06 19:47:38,524 - boundary_types.py[line:68] - INFO: Compartment `e` sounds like an external compartment. Using this one without counting boundary reactions.\n",
      "2024-03-06 19:47:39,027 - 1263953134.py[line:20] - INFO: N(omega)-phospho-L-arginine: G\n",
      "2024-03-06 19:47:39,028 - model.py[line:209] - INFO: The current solver interface glpk doesn't support setting the optimality tolerance.\n",
      "2024-03-06 19:47:39,443 - boundary_types.py[line:68] - INFO: Compartment `e` sounds like an external compartment. Using this one without counting boundary reactions.\n",
      "2024-03-06 19:47:39,444 - 3936220034.py[line:5] - INFO: add s_4095 <=> \n",
      "2024-03-06 19:47:39,445 - model.py[line:209] - INFO: The current solver interface glpk doesn't support setting the optimality tolerance.\n",
      "2024-03-06 19:47:39,875 - boundary_types.py[line:68] - INFO: Compartment `e` sounds like an external compartment. Using this one without counting boundary reactions.\n",
      "2024-03-06 19:47:39,888 - boundary_types.py[line:68] - INFO: Compartment `e` sounds like an external compartment. Using this one without counting boundary reactions.\n",
      "2024-03-06 19:47:40,375 - 1263953134.py[line:20] - INFO: 2',3'-cyclic GMP: G\n",
      "2024-03-06 19:47:40,377 - model.py[line:209] - INFO: The current solver interface glpk doesn't support setting the optimality tolerance.\n",
      "2024-03-06 19:47:42,690 - boundary_types.py[line:68] - INFO: Compartment `e` sounds like an external compartment. Using this one without counting boundary reactions.\n",
      "2024-03-06 19:47:42,692 - 3936220034.py[line:5] - INFO: add s_4097 <=> \n",
      "2024-03-06 19:47:42,693 - model.py[line:209] - INFO: The current solver interface glpk doesn't support setting the optimality tolerance.\n",
      "2024-03-06 19:47:43,121 - boundary_types.py[line:68] - INFO: Compartment `e` sounds like an external compartment. Using this one without counting boundary reactions.\n",
      "2024-03-06 19:47:43,138 - boundary_types.py[line:68] - INFO: Compartment `e` sounds like an external compartment. Using this one without counting boundary reactions.\n",
      "2024-03-06 19:47:43,691 - 1263953134.py[line:20] - INFO: O(4)-phospho-L-tyrosine: G\n",
      "2024-03-06 19:47:43,692 - model.py[line:209] - INFO: The current solver interface glpk doesn't support setting the optimality tolerance.\n",
      "2024-03-06 19:47:44,104 - boundary_types.py[line:68] - INFO: Compartment `e` sounds like an external compartment. Using this one without counting boundary reactions.\n",
      "2024-03-06 19:47:44,106 - 3936220034.py[line:5] - INFO: add s_4099 <=> \n",
      "2024-03-06 19:47:44,107 - model.py[line:209] - INFO: The current solver interface glpk doesn't support setting the optimality tolerance.\n",
      "2024-03-06 19:47:44,516 - boundary_types.py[line:68] - INFO: Compartment `e` sounds like an external compartment. Using this one without counting boundary reactions.\n",
      "2024-03-06 19:47:44,531 - boundary_types.py[line:68] - INFO: Compartment `e` sounds like an external compartment. Using this one without counting boundary reactions.\n",
      "2024-03-06 19:47:45,038 - 1263953134.py[line:20] - INFO: triphosphate: G\n",
      "2024-03-06 19:47:45,040 - model.py[line:209] - INFO: The current solver interface glpk doesn't support setting the optimality tolerance.\n",
      "2024-03-06 19:47:45,446 - boundary_types.py[line:68] - INFO: Compartment `e` sounds like an external compartment. Using this one without counting boundary reactions.\n",
      "2024-03-06 19:47:45,447 - 3936220034.py[line:5] - INFO: add s_4101 <=> \n",
      "2024-03-06 19:47:45,448 - model.py[line:209] - INFO: The current solver interface glpk doesn't support setting the optimality tolerance.\n",
      "2024-03-06 19:47:45,875 - boundary_types.py[line:68] - INFO: Compartment `e` sounds like an external compartment. Using this one without counting boundary reactions.\n",
      "2024-03-06 19:47:45,890 - boundary_types.py[line:68] - INFO: Compartment `e` sounds like an external compartment. Using this one without counting boundary reactions.\n",
      "2024-03-06 19:47:46,363 - 1263953134.py[line:20] - INFO: cytidine 2'-phosphate: G\n",
      "2024-03-06 19:47:46,365 - model.py[line:209] - INFO: The current solver interface glpk doesn't support setting the optimality tolerance.\n",
      "2024-03-06 19:47:46,779 - boundary_types.py[line:68] - INFO: Compartment `e` sounds like an external compartment. Using this one without counting boundary reactions.\n",
      "2024-03-06 19:47:46,780 - 3936220034.py[line:5] - INFO: add s_4103 <=> \n",
      "2024-03-06 19:47:46,782 - model.py[line:209] - INFO: The current solver interface glpk doesn't support setting the optimality tolerance.\n",
      "2024-03-06 19:47:47,220 - boundary_types.py[line:68] - INFO: Compartment `e` sounds like an external compartment. Using this one without counting boundary reactions.\n",
      "2024-03-06 19:47:47,235 - boundary_types.py[line:68] - INFO: Compartment `e` sounds like an external compartment. Using this one without counting boundary reactions.\n",
      "2024-03-06 19:47:47,737 - 1263953134.py[line:20] - INFO: 2',3'-cyclic UMP: G\n",
      "2024-03-06 19:47:47,739 - model.py[line:209] - INFO: The current solver interface glpk doesn't support setting the optimality tolerance.\n",
      "2024-03-06 19:47:48,154 - boundary_types.py[line:68] - INFO: Compartment `e` sounds like an external compartment. Using this one without counting boundary reactions.\n",
      "2024-03-06 19:47:48,156 - 3936220034.py[line:5] - INFO: add s_4105 <=> \n",
      "2024-03-06 19:47:48,158 - model.py[line:209] - INFO: The current solver interface glpk doesn't support setting the optimality tolerance.\n",
      "2024-03-06 19:47:48,596 - boundary_types.py[line:68] - INFO: Compartment `e` sounds like an external compartment. Using this one without counting boundary reactions.\n",
      "2024-03-06 19:47:48,610 - boundary_types.py[line:68] - INFO: Compartment `e` sounds like an external compartment. Using this one without counting boundary reactions.\n",
      "2024-03-06 19:47:49,090 - 1263953134.py[line:20] - INFO: 3-sulfino-L-alanine: G\n",
      "2024-03-06 19:47:49,090 - model.py[line:209] - INFO: The current solver interface glpk doesn't support setting the optimality tolerance.\n",
      "2024-03-06 19:47:49,506 - boundary_types.py[line:68] - INFO: Compartment `e` sounds like an external compartment. Using this one without counting boundary reactions.\n",
      "2024-03-06 19:47:49,506 - 3936220034.py[line:5] - INFO: add s_4107 <=> \n",
      "2024-03-06 19:47:49,506 - model.py[line:209] - INFO: The current solver interface glpk doesn't support setting the optimality tolerance.\n",
      "2024-03-06 19:47:49,940 - boundary_types.py[line:68] - INFO: Compartment `e` sounds like an external compartment. Using this one without counting boundary reactions.\n",
      "2024-03-06 19:47:49,953 - boundary_types.py[line:68] - INFO: Compartment `e` sounds like an external compartment. Using this one without counting boundary reactions.\n",
      "2024-03-06 19:47:50,476 - 1263953134.py[line:20] - INFO: 3'-AMP: G\n",
      "2024-03-06 19:47:50,477 - model.py[line:209] - INFO: The current solver interface glpk doesn't support setting the optimality tolerance.\n",
      "2024-03-06 19:47:50,886 - boundary_types.py[line:68] - INFO: Compartment `e` sounds like an external compartment. Using this one without counting boundary reactions.\n",
      "2024-03-06 19:47:50,887 - 3936220034.py[line:5] - INFO: add s_4109 <=> \n",
      "2024-03-06 19:47:50,889 - model.py[line:209] - INFO: The current solver interface glpk doesn't support setting the optimality tolerance.\n",
      "2024-03-06 19:47:51,315 - boundary_types.py[line:68] - INFO: Compartment `e` sounds like an external compartment. Using this one without counting boundary reactions.\n",
      "2024-03-06 19:47:51,329 - boundary_types.py[line:68] - INFO: Compartment `e` sounds like an external compartment. Using this one without counting boundary reactions.\n",
      "2024-03-06 19:47:51,885 - 1263953134.py[line:20] - INFO: 6-O-alpha-D-glucopyranosyl-D-fructofuranose: G\n",
      "2024-03-06 19:47:51,887 - model.py[line:209] - INFO: The current solver interface glpk doesn't support setting the optimality tolerance.\n",
      "2024-03-06 19:47:52,312 - boundary_types.py[line:68] - INFO: Compartment `e` sounds like an external compartment. Using this one without counting boundary reactions.\n",
      "2024-03-06 19:47:52,313 - 3936220034.py[line:5] - INFO: add s_4111 <=> \n",
      "2024-03-06 19:47:52,314 - model.py[line:209] - INFO: The current solver interface glpk doesn't support setting the optimality tolerance.\n",
      "2024-03-06 19:47:52,722 - boundary_types.py[line:68] - INFO: Compartment `e` sounds like an external compartment. Using this one without counting boundary reactions.\n",
      "2024-03-06 19:47:52,742 - boundary_types.py[line:68] - INFO: Compartment `e` sounds like an external compartment. Using this one without counting boundary reactions.\n",
      "2024-03-06 19:47:53,249 - 1263953134.py[line:20] - INFO: N-acetyl-L-cysteine: G\n",
      "2024-03-06 19:47:53,250 - model.py[line:209] - INFO: The current solver interface glpk doesn't support setting the optimality tolerance.\n",
      "2024-03-06 19:47:53,667 - boundary_types.py[line:68] - INFO: Compartment `e` sounds like an external compartment. Using this one without counting boundary reactions.\n",
      "2024-03-06 19:47:53,668 - 3936220034.py[line:5] - INFO: add s_4114 <=> \n",
      "2024-03-06 19:47:53,669 - model.py[line:209] - INFO: The current solver interface glpk doesn't support setting the optimality tolerance.\n",
      "2024-03-06 19:47:55,979 - boundary_types.py[line:68] - INFO: Compartment `e` sounds like an external compartment. Using this one without counting boundary reactions.\n",
      "2024-03-06 19:47:55,994 - boundary_types.py[line:68] - INFO: Compartment `e` sounds like an external compartment. Using this one without counting boundary reactions.\n",
      "2024-03-06 19:47:56,231 - 1263953134.py[line:20] - INFO: tetrathionate: NG\n",
      "2024-03-06 19:47:56,232 - model.py[line:209] - INFO: The current solver interface glpk doesn't support setting the optimality tolerance.\n",
      "2024-03-06 19:47:56,650 - boundary_types.py[line:68] - INFO: Compartment `e` sounds like an external compartment. Using this one without counting boundary reactions.\n",
      "2024-03-06 19:47:56,651 - 3936220034.py[line:5] - INFO: add s_4116 <=> \n",
      "2024-03-06 19:47:56,653 - model.py[line:209] - INFO: The current solver interface glpk doesn't support setting the optimality tolerance.\n",
      "2024-03-06 19:47:57,075 - boundary_types.py[line:68] - INFO: Compartment `e` sounds like an external compartment. Using this one without counting boundary reactions.\n",
      "2024-03-06 19:47:57,089 - boundary_types.py[line:68] - INFO: Compartment `e` sounds like an external compartment. Using this one without counting boundary reactions.\n",
      "2024-03-06 19:47:57,544 - 1263953134.py[line:20] - INFO: 2-hydroxyethane-1-sulfonate: G\n",
      "2024-03-06 19:47:57,546 - model.py[line:209] - INFO: The current solver interface glpk doesn't support setting the optimality tolerance.\n",
      "2024-03-06 19:47:57,956 - boundary_types.py[line:68] - INFO: Compartment `e` sounds like an external compartment. Using this one without counting boundary reactions.\n",
      "2024-03-06 19:47:57,958 - 3936220034.py[line:5] - INFO: add s_4118 <=> \n",
      "2024-03-06 19:47:57,959 - model.py[line:209] - INFO: The current solver interface glpk doesn't support setting the optimality tolerance.\n",
      "2024-03-06 19:47:58,379 - boundary_types.py[line:68] - INFO: Compartment `e` sounds like an external compartment. Using this one without counting boundary reactions.\n",
      "2024-03-06 19:47:58,393 - boundary_types.py[line:68] - INFO: Compartment `e` sounds like an external compartment. Using this one without counting boundary reactions.\n",
      "2024-03-06 19:47:59,017 - 1263953134.py[line:20] - INFO: 5-dehydro-D-gluconate: G\n",
      "2024-03-06 19:47:59,019 - model.py[line:209] - INFO: The current solver interface glpk doesn't support setting the optimality tolerance.\n",
      "2024-03-06 19:47:59,448 - boundary_types.py[line:68] - INFO: Compartment `e` sounds like an external compartment. Using this one without counting boundary reactions.\n",
      "2024-03-06 19:47:59,452 - boundary_types.py[line:68] - INFO: Compartment `e` sounds like an external compartment. Using this one without counting boundary reactions.\n",
      "2024-03-06 19:47:59,453 - 3936220034.py[line:12] - INFO: add s_4121 <=> \n",
      "2024-03-06 19:47:59,454 - model.py[line:209] - INFO: The current solver interface glpk doesn't support setting the optimality tolerance.\n"
     ]
    },
    {
     "name": "stdout",
     "output_type": "stream",
     "text": [
      "s_4121\n"
     ]
    },
    {
     "name": "stderr",
     "output_type": "stream",
     "text": [
      "2024-03-06 19:47:59,894 - boundary_types.py[line:68] - INFO: Compartment `e` sounds like an external compartment. Using this one without counting boundary reactions.\n",
      "2024-03-06 19:47:59,908 - boundary_types.py[line:68] - INFO: Compartment `e` sounds like an external compartment. Using this one without counting boundary reactions.\n",
      "2024-03-06 19:48:00,425 - 1263953134.py[line:20] - INFO: Ala-Asp: G\n",
      "2024-03-06 19:48:00,426 - model.py[line:209] - INFO: The current solver interface glpk doesn't support setting the optimality tolerance.\n",
      "2024-03-06 19:48:00,860 - boundary_types.py[line:68] - INFO: Compartment `e` sounds like an external compartment. Using this one without counting boundary reactions.\n",
      "2024-03-06 19:48:00,860 - 3936220034.py[line:5] - INFO: add s_4125 <=> \n",
      "2024-03-06 19:48:00,860 - model.py[line:209] - INFO: The current solver interface glpk doesn't support setting the optimality tolerance.\n",
      "2024-03-06 19:48:01,289 - boundary_types.py[line:68] - INFO: Compartment `e` sounds like an external compartment. Using this one without counting boundary reactions.\n",
      "2024-03-06 19:48:01,305 - boundary_types.py[line:68] - INFO: Compartment `e` sounds like an external compartment. Using this one without counting boundary reactions.\n",
      "2024-03-06 19:48:01,926 - 1263953134.py[line:20] - INFO: methyl alpha-D-glucopyranoside: G\n",
      "2024-03-06 19:48:01,927 - model.py[line:209] - INFO: The current solver interface glpk doesn't support setting the optimality tolerance.\n",
      "2024-03-06 19:48:02,350 - boundary_types.py[line:68] - INFO: Compartment `e` sounds like an external compartment. Using this one without counting boundary reactions.\n",
      "2024-03-06 19:48:02,351 - 3936220034.py[line:5] - INFO: add s_4127 <=> \n",
      "2024-03-06 19:48:02,352 - model.py[line:209] - INFO: The current solver interface glpk doesn't support setting the optimality tolerance.\n",
      "2024-03-06 19:48:02,781 - boundary_types.py[line:68] - INFO: Compartment `e` sounds like an external compartment. Using this one without counting boundary reactions.\n",
      "2024-03-06 19:48:02,794 - boundary_types.py[line:68] - INFO: Compartment `e` sounds like an external compartment. Using this one without counting boundary reactions.\n",
      "2024-03-06 19:48:03,316 - 1263953134.py[line:20] - INFO: 2',3'-cyclic CMP: G\n",
      "2024-03-06 19:48:03,317 - model.py[line:209] - INFO: The current solver interface glpk doesn't support setting the optimality tolerance.\n",
      "2024-03-06 19:48:03,749 - boundary_types.py[line:68] - INFO: Compartment `e` sounds like an external compartment. Using this one without counting boundary reactions.\n",
      "2024-03-06 19:48:03,751 - 3936220034.py[line:5] - INFO: add s_4130 <=> \n",
      "2024-03-06 19:48:03,751 - model.py[line:209] - INFO: The current solver interface glpk doesn't support setting the optimality tolerance.\n",
      "2024-03-06 19:48:04,213 - boundary_types.py[line:68] - INFO: Compartment `e` sounds like an external compartment. Using this one without counting boundary reactions.\n",
      "2024-03-06 19:48:04,229 - boundary_types.py[line:68] - INFO: Compartment `e` sounds like an external compartment. Using this one without counting boundary reactions.\n",
      "2024-03-06 19:48:04,722 - 1263953134.py[line:20] - INFO: D-tagatose: G\n",
      "2024-03-06 19:48:04,722 - model.py[line:209] - INFO: The current solver interface glpk doesn't support setting the optimality tolerance.\n",
      "2024-03-06 19:48:05,150 - boundary_types.py[line:68] - INFO: Compartment `e` sounds like an external compartment. Using this one without counting boundary reactions.\n",
      "2024-03-06 19:48:05,152 - 3936220034.py[line:5] - INFO: add s_4131 <=> \n",
      "2024-03-06 19:48:05,153 - model.py[line:209] - INFO: The current solver interface glpk doesn't support setting the optimality tolerance.\n",
      "2024-03-06 19:48:05,578 - boundary_types.py[line:68] - INFO: Compartment `e` sounds like an external compartment. Using this one without counting boundary reactions.\n",
      "2024-03-06 19:48:05,592 - boundary_types.py[line:68] - INFO: Compartment `e` sounds like an external compartment. Using this one without counting boundary reactions.\n",
      "2024-03-06 19:48:06,066 - 1263953134.py[line:20] - INFO: turanose: G\n",
      "2024-03-06 19:48:06,068 - model.py[line:209] - INFO: The current solver interface glpk doesn't support setting the optimality tolerance.\n",
      "2024-03-06 19:48:06,478 - boundary_types.py[line:68] - INFO: Compartment `e` sounds like an external compartment. Using this one without counting boundary reactions.\n",
      "2024-03-06 19:48:06,480 - 3936220034.py[line:5] - INFO: add s_4133 <=> \n",
      "2024-03-06 19:48:06,481 - model.py[line:209] - INFO: The current solver interface glpk doesn't support setting the optimality tolerance.\n",
      "2024-03-06 19:48:08,804 - boundary_types.py[line:68] - INFO: Compartment `e` sounds like an external compartment. Using this one without counting boundary reactions.\n",
      "2024-03-06 19:48:08,819 - boundary_types.py[line:68] - INFO: Compartment `e` sounds like an external compartment. Using this one without counting boundary reactions.\n",
      "2024-03-06 19:48:09,316 - 1263953134.py[line:20] - INFO: acetoacetate: G\n",
      "2024-03-06 19:48:09,319 - model.py[line:209] - INFO: The current solver interface glpk doesn't support setting the optimality tolerance.\n",
      "2024-03-06 19:48:09,736 - boundary_types.py[line:68] - INFO: Compartment `e` sounds like an external compartment. Using this one without counting boundary reactions.\n",
      "2024-03-06 19:48:09,738 - 3936220034.py[line:5] - INFO: add s_4135 <=> \n",
      "2024-03-06 19:48:09,739 - model.py[line:209] - INFO: The current solver interface glpk doesn't support setting the optimality tolerance.\n",
      "2024-03-06 19:48:10,161 - boundary_types.py[line:68] - INFO: Compartment `e` sounds like an external compartment. Using this one without counting boundary reactions.\n",
      "2024-03-06 19:48:10,175 - boundary_types.py[line:68] - INFO: Compartment `e` sounds like an external compartment. Using this one without counting boundary reactions.\n",
      "2024-03-06 19:48:10,822 - 1263953134.py[line:20] - INFO: N(alpha)-acetyl-L-methionine: G\n",
      "2024-03-06 19:48:10,822 - model.py[line:209] - INFO: The current solver interface glpk doesn't support setting the optimality tolerance.\n",
      "2024-03-06 19:48:11,253 - boundary_types.py[line:68] - INFO: Compartment `e` sounds like an external compartment. Using this one without counting boundary reactions.\n",
      "2024-03-06 19:48:11,254 - 3936220034.py[line:5] - INFO: add s_4137 <=> \n",
      "2024-03-06 19:48:11,255 - model.py[line:209] - INFO: The current solver interface glpk doesn't support setting the optimality tolerance.\n",
      "2024-03-06 19:48:11,685 - boundary_types.py[line:68] - INFO: Compartment `e` sounds like an external compartment. Using this one without counting boundary reactions.\n",
      "2024-03-06 19:48:11,700 - boundary_types.py[line:68] - INFO: Compartment `e` sounds like an external compartment. Using this one without counting boundary reactions.\n",
      "2024-03-06 19:48:12,146 - 1263953134.py[line:20] - INFO: 3-oxalomalate(3-): G\n",
      "2024-03-06 19:48:12,148 - model.py[line:209] - INFO: The current solver interface glpk doesn't support setting the optimality tolerance.\n",
      "2024-03-06 19:48:12,561 - boundary_types.py[line:68] - INFO: Compartment `e` sounds like an external compartment. Using this one without counting boundary reactions.\n",
      "2024-03-06 19:48:12,563 - 3936220034.py[line:5] - INFO: add s_4139 <=> \n",
      "2024-03-06 19:48:12,564 - model.py[line:209] - INFO: The current solver interface glpk doesn't support setting the optimality tolerance.\n",
      "2024-03-06 19:48:12,981 - boundary_types.py[line:68] - INFO: Compartment `e` sounds like an external compartment. Using this one without counting boundary reactions.\n",
      "2024-03-06 19:48:12,996 - boundary_types.py[line:68] - INFO: Compartment `e` sounds like an external compartment. Using this one without counting boundary reactions.\n",
      "2024-03-06 19:48:13,514 - 1263953134.py[line:20] - INFO: L-cysteate: G\n",
      "2024-03-06 19:48:13,516 - model.py[line:209] - INFO: The current solver interface glpk doesn't support setting the optimality tolerance.\n",
      "2024-03-06 19:48:13,935 - boundary_types.py[line:68] - INFO: Compartment `e` sounds like an external compartment. Using this one without counting boundary reactions.\n",
      "2024-03-06 19:48:13,937 - 3936220034.py[line:5] - INFO: add s_4140 <=> \n",
      "2024-03-06 19:48:13,938 - model.py[line:209] - INFO: The current solver interface glpk doesn't support setting the optimality tolerance.\n",
      "2024-03-06 19:48:14,353 - boundary_types.py[line:68] - INFO: Compartment `e` sounds like an external compartment. Using this one without counting boundary reactions.\n",
      "2024-03-06 19:48:14,367 - boundary_types.py[line:68] - INFO: Compartment `e` sounds like an external compartment. Using this one without counting boundary reactions.\n",
      "2024-03-06 19:48:14,893 - 1263953134.py[line:20] - INFO: alpha-maltotriose: G\n"
     ]
    }
   ],
   "source": [
    "model = cobra.io.read_sbml_model('./yeast-GEM.xml')\n",
    "exp_simu = pd.DataFrame(columns=['Name_in_Model', 'id', 'Substrate_type', 'Growth_Biolog', 'Growth_Model'])\n",
    "for m in model.metabolites:\n",
    "    for i in range(len(biolog.index)):\n",
    "        if m.name == biolog.loc[i, 'Name_in_Model']:\n",
    "        #if m.name.split(' ')[0] == biolog.loc[i, 'Name_in_Model']:\n",
    "            exp_simu.loc[i, 'id'] = m.id\n",
    "            exp_simu.loc[i, 'Substrate_type'] = biolog.loc[i, 'Substrate_type']\n",
    "            exp_simu.loc[i, 'Growth_Biolog'] = biolog.loc[i, 'Growth_Biolog']\n",
    "            exp_simu.loc[i, 'Name_in_Model'] = biolog.loc[i, 'Name_in_Model']\n",
    "\n",
    "exp_simu.index = range(len(exp_simu))\n",
    "\n",
    "\n",
    "if __name__ == '__main__':\n",
    "    for i in range(len(exp_simu.index)):\n",
    "        model_test, rxn = add_exchange(model, exp_simu.loc[i, 'id'])\n",
    "        model_final = change_medium(model_test, exp_simu.loc[i, 'Substrate_type'], rxn)\n",
    "        gng = simu(model_final)\n",
    "        logging.info('{}: {}'.format(str(exp_simu.loc[i, 'Name_in_Model']), gng))\n",
    "        exp_simu.loc[i, 'Growth_Model'] = gng\n",
    "\n",
    "    c = 0\n",
    "    for i in range(len(exp_simu.index)):\n",
    "        if exp_simu.loc[i, 'Growth_Biolog'] == exp_simu.loc[i, 'Growth_Model']:\n",
    "            c += 1\n",
    "\n",
    "    exp_simu.to_excel('./yeast9_sub_use.xlsx'.format(model.id))"
   ]
  }
 ],
 "metadata": {
  "kernelspec": {
   "display_name": "yeast9",
   "language": "python",
   "name": "python3"
  },
  "language_info": {
   "codemirror_mode": {
    "name": "ipython",
    "version": 3
   },
   "file_extension": ".py",
   "mimetype": "text/x-python",
   "name": "python",
   "nbconvert_exporter": "python",
   "pygments_lexer": "ipython3",
   "version": "3.8.8"
  }
 },
 "nbformat": 4,
 "nbformat_minor": 2
}
